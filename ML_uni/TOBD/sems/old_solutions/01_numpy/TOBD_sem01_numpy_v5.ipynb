{
 "cells": [
  {
   "cell_type": "code",
   "execution_count": 3,
   "metadata": {
    "collapsed": true
   },
   "outputs": [],
   "source": [
    "import numpy as np"
   ]
  },
  {
   "cell_type": "markdown",
   "metadata": {},
   "source": [
    "1) Создать в numpy матрицу 11 на 7 вида: [[1, 2, 3, ..., 7], [11, 12, 13, ..., 17], [21, 22, 23, ..., 27], ..., [101, 102, 103, ..., 107]]"
   ]
  },
  {
   "cell_type": "code",
   "execution_count": 27,
   "metadata": {
    "scrolled": true
   },
   "outputs": [
    {
     "data": {
      "text/plain": [
       "array([[  1,   2,   3,   4,   5,   6,   7],\n",
       "       [ 11,  12,  13,  14,  15,  16,  17],\n",
       "       [ 21,  22,  23,  24,  25,  26,  27],\n",
       "       [ 31,  32,  33,  34,  35,  36,  37],\n",
       "       [ 41,  42,  43,  44,  45,  46,  47],\n",
       "       [ 51,  52,  53,  54,  55,  56,  57],\n",
       "       [ 61,  62,  63,  64,  65,  66,  67],\n",
       "       [ 71,  72,  73,  74,  75,  76,  77],\n",
       "       [ 81,  82,  83,  84,  85,  86,  87],\n",
       "       [ 91,  92,  93,  94,  95,  96,  97],\n",
       "       [101, 102, 103, 104, 105, 106, 107]])"
      ]
     },
     "execution_count": 27,
     "metadata": {},
     "output_type": "execute_result"
    }
   ],
   "source": [
    "np.arange(0,110,10).reshape(11,1) + np.arange(1, 8)"
   ]
  },
  {
   "cell_type": "code",
   "execution_count": 37,
   "metadata": {
    "scrolled": false
   },
   "outputs": [
    {
     "data": {
      "text/plain": [
       "array([[  1,   2,   3,   4,   5,   6,   7],\n",
       "       [ 11,  12,  13,  14,  15,  16,  17],\n",
       "       [ 21,  22,  23,  24,  25,  26,  27],\n",
       "       [ 31,  32,  33,  34,  35,  36,  37],\n",
       "       [ 41,  42,  43,  44,  45,  46,  47],\n",
       "       [ 51,  52,  53,  54,  55,  56,  57],\n",
       "       [ 61,  62,  63,  64,  65,  66,  67],\n",
       "       [ 71,  72,  73,  74,  75,  76,  77],\n",
       "       [ 81,  82,  83,  84,  85,  86,  87],\n",
       "       [ 91,  92,  93,  94,  95,  96,  97],\n",
       "       [101, 102, 103, 104, 105, 106, 107]])"
      ]
     },
     "execution_count": 37,
     "metadata": {},
     "output_type": "execute_result"
    }
   ],
   "source": [
    "np.arange(1, 111).reshape(11, 10)[:, :7]"
   ]
  },
  {
   "cell_type": "code",
   "execution_count": 28,
   "metadata": {
    "collapsed": true
   },
   "outputs": [],
   "source": [
    "def f(i, j):\n",
    "    return 10 * i + j + 1"
   ]
  },
  {
   "cell_type": "code",
   "execution_count": 29,
   "metadata": {},
   "outputs": [
    {
     "data": {
      "text/plain": [
       "array([[  1,   2,   3,   4,   5,   6,   7],\n",
       "       [ 11,  12,  13,  14,  15,  16,  17],\n",
       "       [ 21,  22,  23,  24,  25,  26,  27],\n",
       "       [ 31,  32,  33,  34,  35,  36,  37],\n",
       "       [ 41,  42,  43,  44,  45,  46,  47],\n",
       "       [ 51,  52,  53,  54,  55,  56,  57],\n",
       "       [ 61,  62,  63,  64,  65,  66,  67],\n",
       "       [ 71,  72,  73,  74,  75,  76,  77],\n",
       "       [ 81,  82,  83,  84,  85,  86,  87],\n",
       "       [ 91,  92,  93,  94,  95,  96,  97],\n",
       "       [101, 102, 103, 104, 105, 106, 107]])"
      ]
     },
     "execution_count": 29,
     "metadata": {},
     "output_type": "execute_result"
    }
   ],
   "source": [
    "np.fromfunction(f, (11, 7), dtype = np.int32)"
   ]
  },
  {
   "cell_type": "markdown",
   "metadata": {},
   "source": [
    "2) Средствами numpy рассчитать произведения четных чисел от 2 до 20\n",
    "на ближайшие к ним бОльшие нечетные числа."
   ]
  },
  {
   "cell_type": "code",
   "execution_count": 3,
   "metadata": {
    "scrolled": true
   },
   "outputs": [
    {
     "data": {
      "text/plain": [
       "array([  6,  20,  42,  72, 110, 156, 210, 272, 342, 420])"
      ]
     },
     "execution_count": 3,
     "metadata": {},
     "output_type": "execute_result"
    }
   ],
   "source": [
    "(np.arange(2,21,2))*(np.arange(3,22,2))"
   ]
  },
  {
   "cell_type": "code",
   "execution_count": 5,
   "metadata": {},
   "outputs": [
    {
     "data": {
      "text/plain": [
       "array([  6,  20,  42,  72, 110, 156, 210, 272, 342, 420])"
      ]
     },
     "execution_count": 5,
     "metadata": {},
     "output_type": "execute_result"
    }
   ],
   "source": [
    "t2 = np.arange(2,21,2)\n",
    "t2 * (t2 + 1)"
   ]
  },
  {
   "cell_type": "code",
   "execution_count": 7,
   "metadata": {},
   "outputs": [
    {
     "data": {
      "text/plain": [
       "array([  6,  20,  42,  72, 110, 156, 210, 272, 342, 420])"
      ]
     },
     "execution_count": 7,
     "metadata": {},
     "output_type": "execute_result"
    }
   ],
   "source": [
    "t2 = np.arange(2,22)\n",
    "t2[t2 % 2 == 0] * t2[t2 % 2 == 1] "
   ]
  },
  {
   "cell_type": "code",
   "execution_count": 15,
   "metadata": {},
   "outputs": [
    {
     "data": {
      "text/plain": [
       "array([[ 2,  3],\n",
       "       [ 4,  5],\n",
       "       [ 6,  7],\n",
       "       [ 8,  9],\n",
       "       [10, 11],\n",
       "       [12, 13],\n",
       "       [14, 15],\n",
       "       [16, 17],\n",
       "       [18, 19],\n",
       "       [20, 21]])"
      ]
     },
     "execution_count": 15,
     "metadata": {},
     "output_type": "execute_result"
    }
   ],
   "source": [
    "t2 = np.arange(2,22).reshape(10,2)\n",
    "t2"
   ]
  },
  {
   "cell_type": "code",
   "execution_count": 17,
   "metadata": {},
   "outputs": [
    {
     "data": {
      "text/plain": [
       "array([  6,  20,  42,  72, 110, 156, 210, 272, 342, 420])"
      ]
     },
     "execution_count": 17,
     "metadata": {},
     "output_type": "execute_result"
    }
   ],
   "source": [
    "t2.prod(axis=1)"
   ]
  },
  {
   "cell_type": "markdown",
   "metadata": {},
   "source": [
    "3) Приблисзительно (с погрешностью порядка 1%) рассчитать на какой части интервала от 0 до 10 значение функции x * sin(x) больше 0.5."
   ]
  },
  {
   "cell_type": "code",
   "execution_count": 57,
   "metadata": {},
   "outputs": [
    {
     "data": {
      "text/plain": [
       "0.5241"
      ]
     },
     "execution_count": 57,
     "metadata": {},
     "output_type": "execute_result"
    }
   ],
   "source": [
    "np3 = np.linspace(0.0, 10.0, 10000, dtype=np.float)\n",
    "len(np3[np3*np.sin(np3) > 0.5])/len(np3)"
   ]
  },
  {
   "cell_type": "markdown",
   "metadata": {},
   "source": [
    "4) Создать матрицу 8 на 10 из случайных целых (используя модуль numpy.random) чисел из дапозона от 0 до 10 и найти в ней строку (ее индекс и вывести саму строку), в которой сумма значений минимальна."
   ]
  },
  {
   "cell_type": "code",
   "execution_count": 80,
   "metadata": {},
   "outputs": [
    {
     "name": "stdout",
     "output_type": "stream",
     "text": [
      "[[ 8 10  4  2  0 10  4  0  3  7]\n",
      " [ 4  6  8  0  8  5  1  6  9  3]\n",
      " [ 0  9  5  8  1  3  3  2  2  6]\n",
      " [ 1  8  3  4  3  1  5  5  0  2]\n",
      " [ 2 10  2  7  0  5  9  2  2  4]\n",
      " [ 8  9  3  4  1  6  1  2  1 10]\n",
      " [10  5  5  1  9  1  4  3  4 10]\n",
      " [ 4  5  6  5  6  6  5 10  8  6]]\n",
      "[48 50 39 32 43 45 52 61]\n",
      "3\n",
      "[1 8 3 4 3 1 5 5 0 2]\n"
     ]
    }
   ],
   "source": [
    "m1=np.random.randint(0,11,(8,10))\n",
    "print(m1)\n",
    "s=m1.sum(axis=1)\n",
    "print(s)\n",
    "i=np.argmin(s)\n",
    "print(i)\n",
    "print(m1[i])"
   ]
  },
  {
   "cell_type": "code",
   "execution_count": null,
   "metadata": {
    "collapsed": true
   },
   "outputs": [],
   "source": []
  },
  {
   "cell_type": "code",
   "execution_count": null,
   "metadata": {
    "collapsed": true
   },
   "outputs": [],
   "source": []
  },
  {
   "cell_type": "code",
   "execution_count": 4,
   "metadata": {},
   "outputs": [
    {
     "data": {
      "text/plain": [
       "2"
      ]
     },
     "execution_count": 4,
     "metadata": {},
     "output_type": "execute_result"
    }
   ],
   "source": [
    "np.random.randint(0,10,(8,10)).sum(1).argmin()+1"
   ]
  },
  {
   "cell_type": "code",
   "execution_count": 5,
   "metadata": {
    "scrolled": true
   },
   "outputs": [
    {
     "data": {
      "text/plain": [
       "array([[0, 5, 9, 6, 8, 3, 1, 9, 7, 7],\n",
       "       [2, 0, 5, 5, 0, 2, 6, 2, 9, 8],\n",
       "       [7, 4, 3, 8, 9, 4, 0, 0, 4, 1],\n",
       "       [2, 6, 7, 6, 5, 8, 3, 9, 2, 1],\n",
       "       [0, 0, 1, 5, 9, 5, 4, 2, 3, 0],\n",
       "       [1, 6, 5, 0, 9, 5, 5, 6, 8, 3],\n",
       "       [1, 4, 0, 3, 9, 2, 0, 2, 8, 3],\n",
       "       [9, 6, 0, 4, 0, 9, 6, 2, 2, 6]])"
      ]
     },
     "execution_count": 5,
     "metadata": {},
     "output_type": "execute_result"
    }
   ],
   "source": [
    "np1 = np.random.randint(0,10,(8,10))\n",
    "np1"
   ]
  },
  {
   "cell_type": "code",
   "execution_count": 7,
   "metadata": {},
   "outputs": [
    {
     "data": {
      "text/plain": [
       "array([55, 39, 40, 49, 29, 48, 32, 44])"
      ]
     },
     "execution_count": 7,
     "metadata": {},
     "output_type": "execute_result"
    }
   ],
   "source": [
    "np1.sum(1)"
   ]
  },
  {
   "cell_type": "code",
   "execution_count": 6,
   "metadata": {},
   "outputs": [
    {
     "data": {
      "text/plain": [
       "5"
      ]
     },
     "execution_count": 6,
     "metadata": {},
     "output_type": "execute_result"
    }
   ],
   "source": [
    "np1.sum(1).argmin()+1"
   ]
  },
  {
   "cell_type": "code",
   "execution_count": 10,
   "metadata": {},
   "outputs": [
    {
     "data": {
      "text/plain": [
       "array([0, 0, 1, 5, 9, 5, 4, 2, 3, 0])"
      ]
     },
     "execution_count": 10,
     "metadata": {},
     "output_type": "execute_result"
    }
   ],
   "source": [
    "np1[np1.sum(1).argmin(), : ]"
   ]
  },
  {
   "cell_type": "markdown",
   "metadata": {},
   "source": [
    "5) Создать две матрицы 30 на 3 из случайных целых чисел из диапазона от 0 до 10 и найти все значения первой матрицы, которые больше соответсвующих (по расположению) значений второй матрицы. Подсчитать сумму этих значений."
   ]
  },
  {
   "cell_type": "code",
   "execution_count": 57,
   "metadata": {},
   "outputs": [
    {
     "data": {
      "text/plain": [
       "307"
      ]
     },
     "execution_count": 57,
     "metadata": {},
     "output_type": "execute_result"
    }
   ],
   "source": [
    "m1 = np.random.randint(10, size = (30, 3))\n",
    "m2 = np.random.randint(10, size = (30, 3))\n",
    "np.sum(m1[m1 > m2])"
   ]
  },
  {
   "cell_type": "code",
   "execution_count": 58,
   "metadata": {},
   "outputs": [
    {
     "data": {
      "text/plain": [
       "array([[ True, False, False],\n",
       "       [ True,  True, False],\n",
       "       [ True,  True,  True],\n",
       "       [ True, False, False],\n",
       "       [False, False,  True],\n",
       "       [ True, False,  True],\n",
       "       [False,  True,  True],\n",
       "       [False, False,  True],\n",
       "       [ True,  True,  True],\n",
       "       [False,  True,  True],\n",
       "       [ True, False, False],\n",
       "       [ True, False, False],\n",
       "       [False, False,  True],\n",
       "       [False,  True,  True],\n",
       "       [ True,  True,  True],\n",
       "       [ True, False, False],\n",
       "       [False,  True,  True],\n",
       "       [False, False, False],\n",
       "       [ True,  True, False],\n",
       "       [ True,  True,  True],\n",
       "       [ True,  True, False],\n",
       "       [False,  True,  True],\n",
       "       [ True, False, False],\n",
       "       [ True, False, False],\n",
       "       [False,  True, False],\n",
       "       [False, False, False],\n",
       "       [ True, False, False],\n",
       "       [ True,  True, False],\n",
       "       [ True, False, False],\n",
       "       [ True, False,  True]], dtype=bool)"
      ]
     },
     "execution_count": 58,
     "metadata": {},
     "output_type": "execute_result"
    }
   ],
   "source": [
    "m1 > m2"
   ]
  },
  {
   "cell_type": "code",
   "execution_count": null,
   "metadata": {
    "collapsed": true
   },
   "outputs": [],
   "source": []
  },
  {
   "cell_type": "code",
   "execution_count": null,
   "metadata": {
    "collapsed": true
   },
   "outputs": [],
   "source": []
  },
  {
   "cell_type": "code",
   "execution_count": 12,
   "metadata": {},
   "outputs": [
    {
     "name": "stdout",
     "output_type": "stream",
     "text": [
      "[4 8 7 6 4 5 9 7 8 3 9 7 7 9 7 3 9 9 5 3 3 8 8 7 6 8 8 4 4 6 9 9 6 6 8 5 6\n",
      " 8]\n"
     ]
    },
    {
     "data": {
      "text/plain": [
       "248"
      ]
     },
     "execution_count": 12,
     "metadata": {},
     "output_type": "execute_result"
    }
   ],
   "source": [
    "m1 = np.random.randint(0, 10, (30,3))\n",
    "m2 = np.random.randint(0, 10, (30,3))\n",
    "m3 = m1[m1>m2]\n",
    "print(m3)\n",
    "sum(m3)"
   ]
  },
  {
   "cell_type": "markdown",
   "metadata": {},
   "source": [
    "6) Написать фукнцию, которая для целых значений n и m будет возвращать матрицу размера n на m, имеющую заполнение вида.\n",
    "Пример для 4 на 4:\n",
    "\n",
    "0 1 0 1\n",
    "\n",
    "2 3 2 3\n",
    "\n",
    "0 1 0 1\n",
    "\n",
    "2 3 2 3"
   ]
  },
  {
   "cell_type": "code",
   "execution_count": 59,
   "metadata": {},
   "outputs": [
    {
     "name": "stdout",
     "output_type": "stream",
     "text": [
      "Введите: 4\n",
      "Введите: 5\n"
     ]
    },
    {
     "data": {
      "text/plain": [
       "array([[0, 1, 0, 1, 0],\n",
       "       [2, 3, 2, 3, 2],\n",
       "       [0, 1, 0, 1, 0],\n",
       "       [2, 3, 2, 3, 2]])"
      ]
     },
     "execution_count": 59,
     "metadata": {},
     "output_type": "execute_result"
    }
   ],
   "source": [
    "n=int(input('Введите: '))\n",
    "m=int(input('Введите: '))\n",
    "h=np.array([[0,1],[2,3]])\n",
    "h1=np.tile(h,(n//2+1,m//2+1))\n",
    "h1[:n,:m]"
   ]
  },
  {
   "cell_type": "code",
   "execution_count": 60,
   "metadata": {},
   "outputs": [
    {
     "data": {
      "text/plain": [
       "array([[0, 1, 0, 1],\n",
       "       [2, 3, 2, 3],\n",
       "       [0, 1, 0, 1],\n",
       "       [2, 3, 2, 3]])"
      ]
     },
     "execution_count": 60,
     "metadata": {},
     "output_type": "execute_result"
    }
   ],
   "source": [
    "def change(m,n):\n",
    "    col_ind=np.arange(1,n,2)\n",
    "    row_ind=np.arange(1,m,2)\n",
    "    ar=np.zeros((m,n), dtype=int)\n",
    "    ar[:,col_ind]+=1\n",
    "    ar[row_ind,:]+=2\n",
    "    return ar\n",
    "change(4,4)"
   ]
  },
  {
   "cell_type": "code",
   "execution_count": 69,
   "metadata": {},
   "outputs": [
    {
     "data": {
      "text/plain": [
       "array([[0, 1, 0, 1],\n",
       "       [2, 3, 2, 3],\n",
       "       [0, 1, 0, 1],\n",
       "       [2, 3, 2, 3],\n",
       "       [0, 1, 0, 1]])"
      ]
     },
     "execution_count": 69,
     "metadata": {},
     "output_type": "execute_result"
    }
   ],
   "source": [
    "def change2(m,n):\n",
    "    s=np.tile([0,2], m//2+m%2)[0:m]\n",
    "    s1=np.tile([1,3], m//2+m%2)[0:m]\n",
    "    return np.tile(np.column_stack((s,s1)), n//2+n%2)[0:m,0:n]\n",
    "change2(5,4)"
   ]
  },
  {
   "cell_type": "code",
   "execution_count": 20,
   "metadata": {
    "collapsed": true
   },
   "outputs": [],
   "source": [
    "def func(n, m):\n",
    "    return np.tile(np.arange(0, 4).reshape(2,2), (n//2+1, m//2+1))[:n, :m]"
   ]
  },
  {
   "cell_type": "code",
   "execution_count": 23,
   "metadata": {},
   "outputs": [
    {
     "data": {
      "text/plain": [
       "(52, 52)"
      ]
     },
     "execution_count": 23,
     "metadata": {},
     "output_type": "execute_result"
    }
   ],
   "source": [
    "func(50, 50).shape"
   ]
  },
  {
   "cell_type": "code",
   "execution_count": 29,
   "metadata": {
    "collapsed": true
   },
   "outputs": [],
   "source": [
    "def create_matrix(n: int, m: int) -> np.ndarray:\n",
    "    matrix = np.zeros((n, m), dtype=np.int)\n",
    "    # matrix[::2, ::2] = 0\n",
    "    matrix[::2, 1::2] = 1\n",
    "    matrix[1::2, ::2] = 2\n",
    "    matrix[1::2, 1::2] = 3\n",
    "    return matrix"
   ]
  },
  {
   "cell_type": "code",
   "execution_count": 30,
   "metadata": {},
   "outputs": [
    {
     "data": {
      "text/plain": [
       "array([[0, 1, 0, 1, 0],\n",
       "       [2, 3, 2, 3, 2],\n",
       "       [0, 1, 0, 1, 0],\n",
       "       [2, 3, 2, 3, 2],\n",
       "       [0, 1, 0, 1, 0]])"
      ]
     },
     "execution_count": 30,
     "metadata": {},
     "output_type": "execute_result"
    }
   ],
   "source": [
    "create_matrix(5, 5)"
   ]
  },
  {
   "cell_type": "code",
   "execution_count": null,
   "metadata": {
    "collapsed": true
   },
   "outputs": [],
   "source": []
  },
  {
   "cell_type": "markdown",
   "metadata": {},
   "source": [
    "7) Найти все простые числа в пределах ста. (Для решения предлагается использовать Решето Эратосфена) Использовать не более 1 цикла (желательно)."
   ]
  },
  {
   "cell_type": "code",
   "execution_count": 34,
   "metadata": {},
   "outputs": [
    {
     "name": "stdout",
     "output_type": "stream",
     "text": [
      "[ 1  2  3  5  7 11 13 17 19 23 29 31 37 41 43 47 53 59 61 67 71 73 79 83 89\n",
      " 97]\n"
     ]
    }
   ],
   "source": [
    "def eratosfen(n):\n",
    "    sieve = np.arange(0,n+1,1, dtype = np.int)\n",
    "    for i in sieve:\n",
    "        if i > 1:\n",
    "            sieve[i+i:sieve.size:i] = 0\n",
    "    return sieve\n",
    "data = eratosfen(100)\n",
    "print(data[data.nonzero()])"
   ]
  },
  {
   "cell_type": "code",
   "execution_count": 71,
   "metadata": {},
   "outputs": [
    {
     "name": "stdout",
     "output_type": "stream",
     "text": [
      "[ 2  3  5  7 11 13 17 19 23 29 31 37 41 43 47 53 59 61 67 71 73 79 83 89 97]\n"
     ]
    }
   ],
   "source": [
    "def eratosfen_2(n):\n",
    "    arr = np.arange(2,n)\n",
    "    for i in range(2, n //4):\n",
    "        elon_mask = np.logical_not((arr % i == 0) & (arr !=i))\n",
    "        arr = arr[elon_mask]\n",
    "    print(arr)\n",
    "eratosfen_2(100)"
   ]
  },
  {
   "cell_type": "code",
   "execution_count": 79,
   "metadata": {},
   "outputs": [
    {
     "data": {
      "text/plain": [
       "array([ 0,  1,  2,  3,  5,  7, 11, 13, 17, 19, 23, 29, 31, 37, 41, 43, 47,\n",
       "       53, 59, 61, 67, 71, 73, 79, 83, 89, 97])"
      ]
     },
     "execution_count": 79,
     "metadata": {},
     "output_type": "execute_result"
    }
   ],
   "source": [
    "n = 101\n",
    "flags = np.ones(n, dtype=bool)\n",
    "\n",
    "for i in range(2, n //5):\n",
    "    if flags[i]:\n",
    "        flags[2*i::i] = False\n",
    "b = np.arange(n)\n",
    "b[flags]"
   ]
  },
  {
   "cell_type": "code",
   "execution_count": 35,
   "metadata": {},
   "outputs": [
    {
     "data": {
      "text/plain": [
       "array([ 2,  3,  5,  7, 11, 13, 17, 19, 23, 29, 31, 37, 41, 43, 47, 53, 59,\n",
       "       61, 67, 71, 73, 79, 83, 89, 97], dtype=int64)"
      ]
     },
     "execution_count": 35,
     "metadata": {},
     "output_type": "execute_result"
    }
   ],
   "source": [
    "def func(n):\n",
    "    flags = np.ones(n, dtype=bool)\n",
    "    flags[0] = flags[1] = False\n",
    "    for i in range(2, n):\n",
    "        if flags[i]:\n",
    "            flags[i*i::i] = False\n",
    "    return np.flatnonzero(flags)\n",
    "\n",
    "func(100)"
   ]
  },
  {
   "cell_type": "code",
   "execution_count": 50,
   "metadata": {
    "collapsed": true
   },
   "outputs": [],
   "source": [
    "import math"
   ]
  },
  {
   "cell_type": "code",
   "execution_count": 51,
   "metadata": {
    "collapsed": true
   },
   "outputs": [],
   "source": [
    "def isPrime(n):\n",
    "    if n % 2 == 0 and n > 2 or n == 1:\n",
    "        return False;\n",
    "    return all(n % np.arange(3, int(math.sqrt(n)) + 1, 2))"
   ]
  },
  {
   "cell_type": "code",
   "execution_count": 53,
   "metadata": {},
   "outputs": [
    {
     "data": {
      "text/plain": [
       "array([ 2,  3,  5,  7, 11, 13, 17, 19, 23, 29, 31, 37, 41, 43, 47, 53, 59,\n",
       "       61, 67, 71, 73, 79, 83, 89, 97])"
      ]
     },
     "execution_count": 53,
     "metadata": {},
     "output_type": "execute_result"
    }
   ],
   "source": [
    "a = np.arange(1, 100)\n",
    "foo = np.vectorize(isPrime)\n",
    "pbools = foo(a)\n",
    "primes = np.extract(pbools, a)\n",
    "primes"
   ]
  },
  {
   "cell_type": "code",
   "execution_count": 55,
   "metadata": {},
   "outputs": [
    {
     "name": "stdout",
     "output_type": "stream",
     "text": [
      "2 [ 4  6  8 10 12 14 16 18 20 22 24 26 28 30 32 34 36 38 40 42 44 46 48 50 52\n",
      " 54 56 58 60 62 64 66 68 70 72 74 76 78 80 82 84 86 88 90 92 94 96 98]\n",
      "3 [ 6  9 12 15 18 21 24 27 30 33 36 39 42 45 48 51 54 57 60 63 66 69 72 75 78\n",
      " 81 84 87 90 93 96]\n",
      "5 [10 15 20 25 30 35 40 45 50 55 60 65 70 75 80 85 90 95]\n",
      "7 [14 21 28 35 42 49 56 63 70 77 84 91]\n",
      "11 [22 33 44 55 66 77 88]\n",
      "13 [26 39 52 65 78]\n",
      "17 [34 51 68]\n",
      "19 [38 57 76]\n",
      "23 [46 69]\n",
      "29 [58]\n",
      "31 [62]\n",
      "37 []\n",
      "41 []\n",
      "43 []\n",
      "47 []\n",
      "53 []\n",
      "59 []\n",
      "61 []\n",
      "67 []\n",
      "71 []\n",
      "73 []\n",
      "79 []\n",
      "83 []\n",
      "89 []\n",
      "97 []\n",
      "99 []\n"
     ]
    },
    {
     "data": {
      "text/plain": [
       "array([ 2,  3,  5,  7, 11, 13, 17, 19, 23, 29, 31, 37, 41, 43, 47, 53, 59,\n",
       "       61, 67, 71, 73, 79, 83, 89, 97, 99], dtype=int64)"
      ]
     },
     "execution_count": 55,
     "metadata": {},
     "output_type": "execute_result"
    }
   ],
   "source": [
    "def func(n):\n",
    "    flags = np.ones(n, dtype=bool)\n",
    "    flags[0] = flags[1] = False\n",
    "    for i in range(2, n):\n",
    "        if flags[i]:\n",
    "            print(f'{i} {i*np.arange(2,n//i)}')\n",
    "            flags[i*np.arange(2, n//i)] = False\n",
    "    return np.flatnonzero(flags)\n",
    "\n",
    "func(100)"
   ]
  },
  {
   "cell_type": "markdown",
   "metadata": {},
   "source": [
    "8) Задан произвольный массив numpy (например массив из 100 случайных числе от 0 до 1). Необходимо найти в нем число наиболее близкое к заданному."
   ]
  },
  {
   "cell_type": "code",
   "execution_count": 1,
   "metadata": {
    "collapsed": true
   },
   "outputs": [],
   "source": [
    "def pribliz(array, x):\n",
    "    idx = np.abs(array-x).argmin()\n",
    "    return array[idx]"
   ]
  },
  {
   "cell_type": "code",
   "execution_count": 6,
   "metadata": {},
   "outputs": [
    {
     "data": {
      "text/plain": [
       "(0.49951381835890252,\n",
       " array([  7.21832575e-01,   8.89875562e-01,   9.29193067e-01,\n",
       "          2.63304164e-01,   4.63322950e-01,   2.52681690e-02,\n",
       "          1.13399743e-01,   9.78251910e-02,   4.18233590e-01,\n",
       "          1.25690075e-01,   9.47411873e-01,   5.14700156e-01,\n",
       "          6.50101344e-01,   6.93444251e-01,   3.33746933e-01,\n",
       "          2.49820651e-01,   7.94776832e-03,   2.77638710e-01,\n",
       "          8.85488936e-01,   4.81933912e-02,   4.81281019e-01,\n",
       "          5.28831800e-01,   5.63577655e-01,   6.75715481e-01,\n",
       "          3.67892890e-01,   9.24446595e-01,   6.64630211e-01,\n",
       "          5.57748589e-04,   2.00568902e-01,   9.04593132e-01,\n",
       "          3.44705680e-01,   4.77655406e-01,   2.97623135e-01,\n",
       "          4.85805706e-01,   5.14396239e-01,   5.91345647e-01,\n",
       "          8.39963819e-01,   2.25745640e-01,   2.97001305e-02,\n",
       "          7.08748314e-01,   3.17454681e-02,   7.28274222e-01,\n",
       "          7.50297866e-01,   4.99513818e-01,   6.09872489e-01,\n",
       "          4.17475839e-01,   2.47870313e-01,   6.50321942e-01,\n",
       "          6.11009105e-02,   6.99661058e-01,   2.62949561e-01,\n",
       "          3.52618535e-01,   6.42561268e-01,   7.33509527e-01,\n",
       "          7.90548432e-01,   8.34073697e-01,   1.01991891e-01,\n",
       "          5.58690201e-03,   3.08058244e-02,   4.77723861e-01,\n",
       "          7.27044002e-01,   1.66779737e-01,   9.82278177e-01,\n",
       "          5.27349331e-01,   4.97629656e-01,   5.57505120e-02,\n",
       "          8.11990286e-01,   3.76392451e-01,   5.53971080e-01,\n",
       "          1.96757589e-01,   6.24905386e-01,   5.36992053e-01,\n",
       "          1.87059850e-01,   5.92263315e-01,   9.46251228e-02,\n",
       "          8.46242566e-01,   3.06593290e-01,   1.05312448e-01,\n",
       "          6.26897804e-01,   8.42592828e-01,   9.02222048e-01,\n",
       "          4.99396435e-01,   2.49613021e-01,   9.13880507e-01,\n",
       "          7.19908180e-01,   3.51937234e-01,   5.61844772e-01,\n",
       "          4.55184759e-01,   2.32020044e-01,   1.94557421e-01,\n",
       "          8.95930296e-01,   3.88613307e-01,   2.22619879e-01,\n",
       "          7.01451113e-01,   7.80202376e-01,   1.15715712e-01,\n",
       "          1.71517391e-01,   2.01147410e-01,   2.78589975e-02,\n",
       "          5.89271111e-01]))"
      ]
     },
     "execution_count": 6,
     "metadata": {},
     "output_type": "execute_result"
    }
   ],
   "source": [
    "mat = np.random.uniform(0, 1, 100)\n",
    "pribliz(mat , 0.5), mat\n"
   ]
  },
  {
   "cell_type": "markdown",
   "metadata": {},
   "source": [
    "9) При помощи прихотливого индексирования для двухмерного массива размерности (20, 20), состоящего из случайных целых чисел в пределах от 0 до 10 получить массив элементов находящихся на диагонали, проходящей над основной диагональю."
   ]
  },
  {
   "cell_type": "code",
   "execution_count": 7,
   "metadata": {},
   "outputs": [
    {
     "data": {
      "text/plain": [
       "array([ 0.57283116,  0.42273149,  0.35115666,  0.46924101,  0.51512922,\n",
       "        0.62608106,  0.88976968,  0.19372873,  0.33486106,  0.44012362,\n",
       "        0.18352723,  0.89848521,  0.60893363,  0.01251114,  0.61158604,\n",
       "        0.79603372,  0.64823309,  0.41437495,  0.80762438])"
      ]
     },
     "execution_count": 7,
     "metadata": {},
     "output_type": "execute_result"
    }
   ],
   "source": [
    "matrix = np.random.random((20, 20))\n",
    "i = np.arange(0, 19)\n",
    "matrix[i, i + 1]"
   ]
  },
  {
   "cell_type": "code",
   "execution_count": 8,
   "metadata": {},
   "outputs": [
    {
     "name": "stdout",
     "output_type": "stream",
     "text": [
      "['Саратов' 'Красноярск' 'Екатиринбург' 'Омск' 'Кемерово' 'Курс' 'Москва'\n",
      " 'Краснодар' 'Курс' 'Красноярск' 'Саратов' 'Краснодар' 'Челябинск'\n",
      " 'Челябинск' 'Екатиринбург' 'Тюмень' 'Москва' 'Красноярск' 'Екатиринбург'\n",
      " 'Краснодар' 'Омск' 'Саратов' 'Саратов' 'Красноярск' 'Курс' 'Москва'\n",
      " 'Красноярск' 'Челябинск' 'Саратов' 'Краснодар' 'Москва' 'Краснодар'\n",
      " 'Краснодар' 'Омск' 'Курс' 'Тюмень' 'Екатиринбург' 'Челябинск' 'Курс'\n",
      " 'Кемерово' 'Курс' 'Кемерово' 'Курс' 'Москва' 'Омск' 'Саратов' 'Челябинск'\n",
      " 'Екатиринбург' 'Саратов' 'Красноярск' 'Кемерово' 'Екатиринбург' 'Омск'\n",
      " 'Омск' 'Краснодар' 'Москва' 'Краснодар' 'Кемерово' 'Краснодар'\n",
      " 'Красноярск' 'Москва' 'Краснодар' 'Екатиринбург' 'Кемерово' 'Курс' 'Омск'\n",
      " 'Краснодар' 'Омск' 'Тюмень' 'Кемерово' 'Краснодар' 'Омск' 'Кемерово'\n",
      " 'Омск' 'Кемерово' 'Курс' 'Омск' 'Екатиринбург' 'Кемерово' 'Челябинск'\n",
      " 'Екатиринбург' 'Курс' 'Москва' 'Краснодар' 'Тюмень' 'Саратов' 'Кемерово'\n",
      " 'Екатиринбург' 'Краснодар' 'Москва' 'Курс' 'Москва' 'Омск' 'Омск' 'Курс'\n",
      " 'Краснодар' 'Омск' 'Кемерово' 'Краснодар' 'Екатиринбург']\n"
     ]
    }
   ],
   "source": [
    "array = np.asarray([\"Москва\", \"Тюмень\", \"Омск\", \"Кемерово\", \"Красноярск\", \"Краснодар\", \"Курс\", \"Саратов\", \"Челябинск\", \"Екатиринбург\"])\n",
    "index_array = np.random.randint(0,10,100)\n",
    "print(array[index_array])"
   ]
  },
  {
   "cell_type": "markdown",
   "metadata": {
    "collapsed": true
   },
   "source": [
    "10) Решить матричное уравнение `A*X*B=-C` - найти матрицу X. Где `A = [[-1, 2, 4], [-3, 1, 2], [-3, 0, 1]]`, `B=[[3, -1], [2, 1]]`, `C=[[7, 21], [11, 8], [8, 4]]`."
   ]
  },
  {
   "cell_type": "markdown",
   "metadata": {
    "collapsed": true
   },
   "source": [
    "11) Проверить, является ли система векторов a1 = (3; −3; 0; 7),\n",
    "a2 = (2; 2; 4; 7), a3 = (1; 2; 3; 4), a4 = (5; −4; 1; 3) линейно зависимой?"
   ]
  },
  {
   "cell_type": "markdown",
   "metadata": {
    "collapsed": true
   },
   "source": [
    "12) Задать два двухмерных массива ar1 и ar2 размерности (4, 7), состоящих из случайных целых чисел в пределах от 0 до 10. Построить двухмерный массив размерности (4, 7), каждый элемент которого представляет собой максиум из двух значений, находящихся на аналогичной позиции в массивах ar1, ar2."
   ]
  },
  {
   "cell_type": "markdown",
   "metadata": {
    "collapsed": true
   },
   "source": [
    "13) Задать два двухмерных массива ar1 и ar2 размерности (5, 10), состоящих из случайных целых чисел в пределах от 0 до 10. Удовить все значения ar1 которые совпадают со значениями ar2, расположенными на аналогичных позициях."
   ]
  },
  {
   "cell_type": "markdown",
   "metadata": {
    "collapsed": true
   },
   "source": [
    "14) Заданы три двухмерных массива ar1,ar2 и ar3 размерности (4, 7), состоящих из случайных целых чисел в пределах от 0 до 10. Обнулить все элемены ar1 которые больше соответствующих (находящихся в соответствующих позициях) элементов ar2 и меньше соответствующих элементов ar3."
   ]
  },
  {
   "cell_type": "markdown",
   "metadata": {},
   "source": [
    "15) Задан двухмерный массив ar1 размерности (4, 7) состоящий из случайных  чисел в пределах от 0 до 1. Обнулить все значения в массиве, расположенные строго правее и ниже максимального элемента массива. "
   ]
  },
  {
   "cell_type": "markdown",
   "metadata": {},
   "source": []
  },
  {
   "cell_type": "markdown",
   "metadata": {
    "collapsed": true
   },
   "source": [
    "Generate a 10 x 3 array of random numbers (in range [0,1]). For each row, pick the number closest to 0.5."
   ]
  },
  {
   "cell_type": "code",
   "execution_count": null,
   "metadata": {
    "collapsed": true
   },
   "outputs": [],
   "source": []
  },
  {
   "cell_type": "code",
   "execution_count": null,
   "metadata": {
    "collapsed": true
   },
   "outputs": [],
   "source": []
  },
  {
   "cell_type": "code",
   "execution_count": 4,
   "metadata": {},
   "outputs": [
    {
     "data": {
      "text/plain": [
       "array([[9, 4, 2, 5, 8, 0, 9, 7, 9, 9, 1, 0, 3, 2, 6, 0, 4, 3, 7, 4],\n",
       "       [8, 8, 1, 7, 8, 1, 6, 4, 7, 8, 3, 6, 7, 1, 5, 0, 3, 9, 6, 0],\n",
       "       [7, 9, 8, 5, 5, 8, 4, 9, 6, 6, 2, 8, 9, 0, 5, 3, 5, 0, 8, 0],\n",
       "       [8, 4, 4, 2, 4, 9, 7, 8, 4, 6, 1, 4, 7, 0, 0, 7, 5, 8, 4, 7],\n",
       "       [9, 2, 4, 0, 8, 2, 7, 4, 6, 9, 1, 1, 2, 0, 1, 1, 5, 5, 5, 9],\n",
       "       [0, 6, 8, 4, 5, 3, 4, 7, 8, 2, 1, 3, 8, 8, 1, 1, 6, 4, 5, 0],\n",
       "       [3, 4, 1, 5, 0, 9, 3, 8, 1, 5, 8, 6, 2, 6, 8, 0, 6, 3, 0, 3],\n",
       "       [8, 4, 2, 8, 3, 9, 6, 9, 1, 6, 1, 9, 2, 6, 6, 1, 3, 8, 3, 0],\n",
       "       [3, 1, 9, 0, 4, 0, 9, 7, 7, 2, 6, 4, 8, 6, 1, 1, 8, 0, 4, 8],\n",
       "       [6, 2, 2, 6, 5, 4, 9, 3, 6, 5, 8, 3, 4, 2, 6, 5, 5, 7, 9, 1],\n",
       "       [8, 1, 7, 9, 9, 6, 0, 8, 6, 1, 5, 2, 1, 0, 0, 1, 3, 9, 0, 8],\n",
       "       [6, 5, 2, 8, 1, 1, 2, 7, 2, 5, 1, 7, 1, 2, 8, 0, 4, 8, 9, 9],\n",
       "       [3, 6, 5, 8, 9, 3, 2, 6, 0, 4, 5, 3, 7, 2, 5, 8, 8, 4, 8, 8],\n",
       "       [0, 0, 3, 0, 2, 7, 9, 7, 9, 8, 4, 8, 2, 3, 5, 2, 6, 7, 5, 3],\n",
       "       [1, 7, 9, 7, 5, 8, 8, 1, 4, 2, 8, 5, 5, 4, 4, 2, 3, 4, 0, 7],\n",
       "       [7, 4, 8, 9, 3, 3, 9, 8, 8, 0, 3, 8, 3, 0, 2, 8, 3, 2, 5, 7],\n",
       "       [8, 9, 6, 8, 3, 6, 0, 0, 4, 2, 6, 8, 6, 5, 9, 4, 3, 6, 6, 7],\n",
       "       [7, 5, 2, 2, 3, 4, 2, 6, 6, 8, 0, 2, 4, 6, 8, 4, 4, 8, 2, 2],\n",
       "       [4, 6, 1, 2, 6, 4, 4, 5, 5, 9, 5, 8, 7, 1, 2, 1, 8, 9, 6, 7],\n",
       "       [1, 3, 7, 5, 3, 2, 1, 7, 2, 8, 3, 4, 5, 6, 6, 8, 6, 7, 6, 5]])"
      ]
     },
     "execution_count": 4,
     "metadata": {},
     "output_type": "execute_result"
    }
   ],
   "source": [
    "m9 = np.random.randint(0, 10, 20*20).reshape(20, 20)\n",
    "m9"
   ]
  },
  {
   "cell_type": "code",
   "execution_count": 5,
   "metadata": {},
   "outputs": [
    {
     "data": {
      "text/plain": [
       "array([ 0,  1,  2,  3,  4,  5,  6,  7,  8,  9, 10, 11, 12, 13, 14, 15, 16,\n",
       "       17, 18, 19])"
      ]
     },
     "execution_count": 5,
     "metadata": {},
     "output_type": "execute_result"
    }
   ],
   "source": [
    "ind9 = np.arange(20, dtype=np.int)\n",
    "ind9"
   ]
  },
  {
   "cell_type": "code",
   "execution_count": 7,
   "metadata": {},
   "outputs": [
    {
     "data": {
      "text/plain": [
       "array([4, 1, 5, 4, 2, 4, 8, 1, 2, 8, 2, 1, 2, 5, 2, 3, 6, 2, 7])"
      ]
     },
     "execution_count": 7,
     "metadata": {},
     "output_type": "execute_result"
    }
   ],
   "source": [
    "m9[ind9[:-1], ind9[1:]]"
   ]
  },
  {
   "cell_type": "markdown",
   "metadata": {},
   "source": [
    "10) Имеется массив из 10 названий городов. При помощи прихотливой индексации сгенерировать последовательность из 100 элементов представляющих случайный выбор из названий городов."
   ]
  },
  {
   "cell_type": "code",
   "execution_count": 9,
   "metadata": {},
   "outputs": [
    {
     "data": {
      "text/plain": [
       "array(['d', 'f', 'a', 'b', 'b', 'a', 'c', 'j', 'f', 'a', 'e', 'i', 'a',\n",
       "       'c', 'h', 'c', 'i', 'a', 'e', 'h', 'b', 'h', 'b', 'j', 'h', 'd',\n",
       "       'g', 'i', 'd', 'd', 'c', 'b', 'c', 'j', 'a', 'g', 'h', 'f', 'h',\n",
       "       'h', 'h', 'g', 'f', 'a', 'f', 'a', 'a', 'c', 'h', 'g', 'c', 'd',\n",
       "       'b', 'f', 'b', 'b', 'f', 'd', 'i', 'b', 'g', 'i', 'h', 'f', 'f',\n",
       "       'g', 'i', 'a', 'h', 'a', 'h', 'h', 'j', 'h', 'h', 'e', 'i', 'j',\n",
       "       'd', 'c', 'a', 'h', 'j', 'e', 'd', 'i', 'e', 'e', 'a', 'h', 'a',\n",
       "       'e', 'a', 'g', 'e', 'h', 'c', 'c', 'j', 'g'], dtype='<U1')"
      ]
     },
     "execution_count": 9,
     "metadata": {},
     "output_type": "execute_result"
    }
   ],
   "source": [
    "m10 = np.array(['a', 'b', 'c', 'd', 'e', 'f', 'g', 'h', 'i', 'j'])\n",
    "m10r = m10[np.random.randint(0, len(m10), 100)]\n",
    "m10r"
   ]
  },
  {
   "cell_type": "code",
   "execution_count": null,
   "metadata": {
    "collapsed": true
   },
   "outputs": [],
   "source": []
  },
  {
   "cell_type": "code",
   "execution_count": null,
   "metadata": {
    "collapsed": true
   },
   "outputs": [],
   "source": []
  },
  {
   "cell_type": "code",
   "execution_count": null,
   "metadata": {
    "collapsed": true
   },
   "outputs": [],
   "source": []
  },
  {
   "cell_type": "markdown",
   "metadata": {},
   "source": [
    "CSV (comma-separated values) - текстовый формат, предназначенный для представления табличных данных.\n",
    "\n",
    "Каждая строка файла - это одна строка таблицы, разделителем (delimiter) значений колонок является символ запятой (,). Однако на практике часто используются другие разделители (в русской и других локалях запятая по умолчанию зарезервирована под десятичный разделитель, поэтому как разделитель используется точка с запятой или табуляция).\n",
    "\n",
    "Каждая строка (строка таблицы) должна содержать одинаковое количество полей следующих в одинаковом порядке.\n",
    "\n",
    "Значения, содержащие зарезервированные символы (двойная кавычка, запятая, точка с запятой, новая строка) обрамляются двойными кавычками (\"). Если в значении встречаются кавычки — они представляются в файле в виде двух кавычек подряд."
   ]
  },
  {
   "cell_type": "markdown",
   "metadata": {},
   "source": [
    "Функция numpy.genfromtxt :\n",
    "\n",
    "https://docs.scipy.org/doc/numpy/reference/generated/numpy.genfromtxt.html\n",
    "\n",
    "https://www.numpy.org/devdocs/user/basics.io.genfromtxt.html"
   ]
  },
  {
   "cell_type": "markdown",
   "metadata": {},
   "source": [
    "Примеры наборов данных:\n",
    "\n",
    "https://www.stats.govt.nz/large-datasets/csv-files-for-download/"
   ]
  },
  {
   "cell_type": "code",
   "execution_count": null,
   "metadata": {
    "collapsed": true
   },
   "outputs": [],
   "source": []
  },
  {
   "cell_type": "code",
   "execution_count": null,
   "metadata": {
    "collapsed": true
   },
   "outputs": [],
   "source": []
  },
  {
   "cell_type": "code",
   "execution_count": null,
   "metadata": {
    "collapsed": true
   },
   "outputs": [],
   "source": []
  },
  {
   "cell_type": "code",
   "execution_count": null,
   "metadata": {
    "collapsed": true
   },
   "outputs": [],
   "source": []
  },
  {
   "cell_type": "markdown",
   "metadata": {},
   "source": [
    "Rules typical of these and other \"CSV\" specifications and implementations are as follows:\n",
    "\n",
    "CSV is a delimited data format that has fields/columns separated by the comma character and records/rows terminated by newlines.\n",
    "\n",
    "A CSV file does not require a specific character encoding, byte order, or line terminator format (some software does not support all line-end variations).\n",
    "\n",
    "A record ends at a line terminator. However, line-terminators can be embedded as data within fields, so software must recognize quoted line-separators (see below) in order to correctly assemble an entire record from perhaps multiple lines.\n",
    "\n",
    "All records should have the same number of fields, in the same order.\n",
    "\n",
    "Data within fields is interpreted as a sequence of characters, not as a sequence of bits or bytes (see RFC 2046, section 4.1). For example, the numeric quantity 65535 may be represented as the 5 ASCII characters \"65535\" (or perhaps other forms such as \"0xFFFF\", \"000065535.000E+00\", etc.); but not as a sequence of 2 bytes intended to be treated as a single binary integer rather than as two characters (e.g. the numbers 11264-11307 have a comma as their high order byte: ord(',')*256..ord(',')*257-1). If this \"plain text\" convention is not followed, then the CSV file no longer contains sufficient information to interpret it correctly, the CSV file will not likely survive transmission across differing computer architectures, and will not conform to the text/csv MIME type.\n",
    "\n",
    "Adjacent fields must be separated by a single comma. However, \"CSV\" formats vary greatly in this choice of separator character. In particular, in locales where the comma is used as a decimal separator, semicolon, TAB, or other characters are used instead."
   ]
  },
  {
   "cell_type": "code",
   "execution_count": null,
   "metadata": {
    "collapsed": true
   },
   "outputs": [],
   "source": []
  },
  {
   "cell_type": "code",
   "execution_count": null,
   "metadata": {
    "collapsed": true
   },
   "outputs": [],
   "source": []
  },
  {
   "cell_type": "markdown",
   "metadata": {},
   "source": [
    "2.1) Создать целочисленную невырожденную матрицу 8 на 4 (M) и целочисленный столбец 4 на 1 (a) с суммой значений больше 10 (проверить) и найти y = M * a"
   ]
  },
  {
   "cell_type": "markdown",
   "metadata": {},
   "source": [
    "2.2) По значению y и M найти а"
   ]
  },
  {
   "cell_type": "markdown",
   "metadata": {},
   "source": [
    "2.1) Средствами numpy рассчитать произведения четных чисел на ближайшие к ним большие нечетные числа в пределах от 2 до 20."
   ]
  },
  {
   "cell_type": "markdown",
   "metadata": {},
   "source": [
    "2.2) Приблисзительно рассчитать на какой части интервала от 0 до 10 значение функции x * sin(x) больше 0.5."
   ]
  },
  {
   "cell_type": "markdown",
   "metadata": {},
   "source": [
    "2.3) Найти все простые числа в пределах ста. (Для решения предлагается использовать Решето Эратосфена) Использовать не более 1 цикла (желательно)."
   ]
  },
  {
   "cell_type": "markdown",
   "metadata": {},
   "source": [
    "3) Создать две матрицы 30 на 3 из случайных целых чисел из диапазона от 0 до 10 и найти все значения первой матрицы, которые больше соответсвующих (по расположению) значений второй матрицы. Подсчитать сумму этих значений."
   ]
  },
  {
   "cell_type": "markdown",
   "metadata": {},
   "source": [
    "4) Написать фукнцию, которая для целых значений n и m будет возвращать матрицу размера n на m, имеющую заполнение вида.\n",
    "Пример для 4 на 4:\n",
    "\n",
    "0 1 0 1\n",
    "\n",
    "2 3 2 3\n",
    "\n",
    "0 1 0 1\n",
    "\n",
    "2 3 2 3"
   ]
  },
  {
   "cell_type": "markdown",
   "metadata": {},
   "source": []
  },
  {
   "cell_type": "markdown",
   "metadata": {},
   "source": [
    "3) Создать две матрицы 30 на 3 из случайных целых чисел из диапозона от 0 до 10 и найти все значения из первой матрицы, которые больше соответсвующих (по расположению) значений из второй матрицы. Подсчитать сумму этих значений."
   ]
  },
  {
   "cell_type": "markdown",
   "metadata": {},
   "source": []
  },
  {
   "cell_type": "code",
   "execution_count": null,
   "metadata": {
    "collapsed": true
   },
   "outputs": [],
   "source": []
  },
  {
   "cell_type": "code",
   "execution_count": null,
   "metadata": {
    "collapsed": true
   },
   "outputs": [],
   "source": []
  }
 ],
 "metadata": {
  "kernelspec": {
   "display_name": "Python 3",
   "language": "python",
   "name": "python3"
  },
  "language_info": {
   "codemirror_mode": {
    "name": "ipython",
    "version": 3
   },
   "file_extension": ".py",
   "mimetype": "text/x-python",
   "name": "python",
   "nbconvert_exporter": "python",
   "pygments_lexer": "ipython3",
   "version": "3.7.6"
  }
 },
 "nbformat": 4,
 "nbformat_minor": 2
}
