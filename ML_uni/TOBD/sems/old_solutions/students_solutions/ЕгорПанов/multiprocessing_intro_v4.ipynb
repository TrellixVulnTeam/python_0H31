{
 "cells": [
  {
   "cell_type": "markdown",
   "metadata": {},
   "source": [
    "# Parallel processing via the `multiprocessing` module"
   ]
  },
  {
   "cell_type": "markdown",
   "metadata": {},
   "source": [
    "CPUs with multiple cores have become the standard in the recent development of modern computer architectures and we can not only find them in supercomputer facilities but also in our desktop machines at home, and our laptops; even Apple's iPhone 5S got a 1.3 Ghz Dual-core processor in 2013.\n",
    "\n",
    "However, the default Python interpreter was designed with simplicity in mind and has a thread-safe mechanism, the so-called \"GIL\" (Global Interpreter Lock). In order to prevent conflicts between threads, it executes only one statement at a time (so-called serial processing, or single-threading).\n",
    "\n",
    "In this introduction to Python's `multiprocessing` module, we will see how we can spawn multiple subprocesses to avoid some of the GIL's disadvantages."
   ]
  },
  {
   "cell_type": "markdown",
   "metadata": {},
   "source": [
    "<br>\n",
    "<br>"
   ]
  },
  {
   "cell_type": "markdown",
   "metadata": {},
   "source": [
    "## Sections"
   ]
  },
  {
   "cell_type": "markdown",
   "metadata": {},
   "source": [
    "- [An introduction to parallel programming using Python's `multiprocessing` module](#An-introduction-to-parallel-programming-using-Python's-`multiprocessing`-module)\n",
    "    - [Multi-Threading vs. Multi-Processing](#Multi-Threading-vs.-Multi-Processing)\n",
    "- [Introduction to the `multiprocessing` module](#Introduction-to-the-multiprocessing-module)\n",
    "    - [The `Process` class](#The-Process-class)\n",
    "        - [How to retrieve results in a particular order](#How-to-retrieve-results-in-a-particular-order)\n",
    "    - [The `Pool` class](#The-Pool-class)\n",
    "- [Kernel density estimation as benchmarking function](#Kernel-density-estimation-as-benchmarking-function)\n",
    "    - [The Parzen-window method in a nutshell](#The-Parzen-window-method-in-a-nutshell)\n",
    "    - [Sample data and `timeit` benchmarks](#Sample-data-and-timeit-benchmarks)\n",
    "    - [Benchmarking functions](#Benchmarking-functions)\n",
    "    - [Preparing the plotting of the results](#Preparing-the-plotting-of-the-results)\n",
    "- [Results](#Results)\n",
    "- [Conclusion](#Conclusion)"
   ]
  },
  {
   "cell_type": "markdown",
   "metadata": {},
   "source": [
    "<br>\n",
    "<br>"
   ]
  },
  {
   "cell_type": "markdown",
   "metadata": {},
   "source": [
    "###  Multi-Threading vs. Multi-Processing"
   ]
  },
  {
   "cell_type": "markdown",
   "metadata": {},
   "source": [
    "Depending on the application, two common approaches in parallel programming are either to run code via threads or multiple processes, respectively. If we submit \"jobs\" to different threads, those jobs can be pictured as \"sub-tasks\" of a single process and those threads will usually have access to the same memory areas (i.e., shared memory). This approach can easily lead to conflicts in case of improper  synchronization, for example, if processes are writing to the same memory location at the same time.  \n",
    "\n",
    "A safer approach (although it comes with an additional overhead due to the communication overhead between separate processes) is to submit multiple processes to completely separate memory locations (i.e., distributed memory): Every process will run completely independent from each other.\n",
    "\n",
    "Here, we will take a look at Python's [`multiprocessing`](https://docs.python.org/dev/library/multiprocessing.html) module and how we can use it to submit multiple processes that can run independently from each other in order to make best use of our CPU cores."
   ]
  },
  {
   "cell_type": "markdown",
   "metadata": {},
   "source": [
    "![](https://raw.githubusercontent.com/rasbt/python_reference/master/Images/multiprocessing_scheme.png)"
   ]
  },
  {
   "cell_type": "markdown",
   "metadata": {},
   "source": [
    "<br>\n",
    "<br>"
   ]
  },
  {
   "cell_type": "markdown",
   "metadata": {},
   "source": [
    "# Introduction to the `multiprocessing` module"
   ]
  },
  {
   "cell_type": "markdown",
   "metadata": {},
   "source": [
    "[[back to top](#Sections)]"
   ]
  },
  {
   "cell_type": "markdown",
   "metadata": {},
   "source": [
    "The [multiprocessing](https://docs.python.org/dev/library/multiprocessing.html) module in Python's Standard Library has a lot of powerful features. If you want to read about all the nitty-gritty tips, tricks, and details, I would recommend to use the [official documentation](https://docs.python.org/dev/library/multiprocessing.html) as an entry point.  \n",
    "\n",
    "In the following sections, I want to provide a brief overview of different approaches to show how the `multiprocessing` module can be used for parallel programming."
   ]
  },
  {
   "cell_type": "markdown",
   "metadata": {},
   "source": [
    "<br>\n",
    "<br>"
   ]
  },
  {
   "cell_type": "markdown",
   "metadata": {},
   "source": [
    "### The `Process` class"
   ]
  },
  {
   "cell_type": "markdown",
   "metadata": {},
   "source": [
    "[[back to top](#Sections)]"
   ]
  },
  {
   "cell_type": "markdown",
   "metadata": {},
   "source": [
    "The most basic approach is probably to use the `Process` class from the `multiprocessing` module.  \n",
    "Here, we will use a simple queue function to generate four random strings in parallel."
   ]
  },
  {
   "cell_type": "code",
   "execution_count": 1,
   "metadata": {},
   "outputs": [
    {
     "name": "stdout",
     "output_type": "stream",
     "text": [
      "Overwriting rand_string_.py\n"
     ]
    }
   ],
   "source": [
    "%%file rand_string_.py\n",
    "\n",
    "import random\n",
    "import string\n",
    "import os\n",
    "\n",
    "def rand_string(length, output):\n",
    "    \"\"\" Generates a random string of numbers, lower- and uppercase chars. \"\"\"\n",
    "    print('parent process:', os.getppid())\n",
    "    print('process id:', os.getpid())\n",
    "    rand_str = ''.join(random.choice(\n",
    "                        string.ascii_lowercase \n",
    "                        + string.ascii_uppercase \n",
    "                        + string.digits)\n",
    "                   for i in range(length))\n",
    "    output.put(rand_str)"
   ]
  },
  {
   "cell_type": "code",
   "execution_count": 2,
   "metadata": {},
   "outputs": [],
   "source": [
    "import rand_string_"
   ]
  },
  {
   "cell_type": "code",
   "execution_count": 3,
   "metadata": {},
   "outputs": [
    {
     "name": "stdout",
     "output_type": "stream",
     "text": [
      "['Y3S9B', '8IAV3', 'TpKIu', 'B5A7y']\n"
     ]
    }
   ],
   "source": [
    "import multiprocessing as mp\n",
    "import random\n",
    "import string\n",
    "\n",
    "random.seed(123)\n",
    "\n",
    "# Define an output queue\n",
    "output = mp.Queue()\n",
    "\n",
    "\n",
    "# Setup a list of processes that we want to run\n",
    "processes = [mp.Process(target=rand_string_.rand_string, args=(5, output)) \\\n",
    "             for x in range(4)]\n",
    "\n",
    "# Run processes\n",
    "for p in processes:\n",
    "    p.start()\n",
    "\n",
    "# Exit the completed processes\n",
    "for p in processes:\n",
    "    p.join()\n",
    "\n",
    "# Get process results from the output queue\n",
    "results = [output.get() for p in processes]\n",
    "\n",
    "print(results)"
   ]
  },
  {
   "cell_type": "markdown",
   "metadata": {},
   "source": [
    "1) Подсчитать, сколько раз встречается каждая из русских букв в текстовом файле (заглавные и строчные символы не различаются). Применить функцию к файлу 'Tolstoy Lev. Voyna i mir. Kniga 1 - BooksCafe.Net.txt' "
   ]
  },
  {
   "cell_type": "code",
   "execution_count": 36,
   "metadata": {},
   "outputs": [],
   "source": [
    "rus_symb = set(chr(symb) for symb in range(ord('а'), ord('я')+1))\n",
    "# rus_symb"
   ]
  },
  {
   "cell_type": "code",
   "execution_count": 35,
   "metadata": {},
   "outputs": [
    {
     "data": {
      "text/plain": [
       "Counter({'а': 97839,\n",
       "         'б': 20531,\n",
       "         'в': 52779,\n",
       "         'г': 23341,\n",
       "         'д': 35378,\n",
       "         'е': 95018,\n",
       "         'ж': 12046,\n",
       "         'з': 20113,\n",
       "         'и': 75749,\n",
       "         'й': 13403,\n",
       "         'к': 39920,\n",
       "         'л': 58155,\n",
       "         'м': 34933,\n",
       "         'н': 75573,\n",
       "         'о': 131184,\n",
       "         'п': 29287,\n",
       "         'р': 51223,\n",
       "         'с': 61050,\n",
       "         'т': 66898,\n",
       "         'у': 32184,\n",
       "         'ф': 2227,\n",
       "         'х': 9985,\n",
       "         'ц': 4090,\n",
       "         'ч': 16468,\n",
       "         'ш': 11266,\n",
       "         'щ': 3336,\n",
       "         'ъ': 521,\n",
       "         'ы': 22020,\n",
       "         'ь': 23191,\n",
       "         'э': 3600,\n",
       "         'ю': 7581,\n",
       "         'я': 26303})"
      ]
     },
     "execution_count": 35,
     "metadata": {},
     "output_type": "execute_result"
    }
   ],
   "source": [
    "from collections import Counter\n",
    "with open(\"Tolstoy Lev. Voyna i mir. Kniga 1 - BooksCafe.Net.txt\") as f:\n",
    "    c = Counter()\n",
    "    for i in f:\n",
    "        c += Counter(s for s in i.lower() if s in rus_symb)\n",
    "c"
   ]
  },
  {
   "cell_type": "code",
   "execution_count": 12,
   "metadata": {},
   "outputs": [],
   "source": [
    "from collections import Counter\n",
    "import re\n",
    "import itertools as itt"
   ]
  },
  {
   "cell_type": "code",
   "execution_count": 2,
   "metadata": {},
   "outputs": [],
   "source": [
    "def count_letters(file_name):\n",
    "    with open(file_name) as file:\n",
    "        text = file.read().lower()\n",
    "    txts = re.findall(\"[а-яА-ЯёЁ]\", text)\n",
    "    return Counter(txts)"
   ]
  },
  {
   "cell_type": "code",
   "execution_count": 10,
   "metadata": {},
   "outputs": [],
   "source": [
    "def count_letters2(file_name):\n",
    "    rus_symb = set(chr(symb) for symb in range(ord('а'), ord('я') + 1))\n",
    "    with open(file_name, encoding='cp1251') as file:\n",
    "        cnt = Counter(itt.chain.from_iterable((c for c in line.lower() if c in rus_symb) for line in file))\n",
    "    return cnt"
   ]
  },
  {
   "cell_type": "code",
   "execution_count": 38,
   "metadata": {},
   "outputs": [
    {
     "name": "stdout",
     "output_type": "stream",
     "text": [
      "Wall time: 398 ms\n"
     ]
    },
    {
     "data": {
      "text/plain": [
       "Counter({'с': 61050,\n",
       "         'п': 29287,\n",
       "         'а': 97839,\n",
       "         'и': 75749,\n",
       "         'б': 20531,\n",
       "         'о': 131184,\n",
       "         'ч': 16468,\n",
       "         'т': 66898,\n",
       "         'к': 39920,\n",
       "         'л': 58155,\n",
       "         'н': 75573,\n",
       "         'г': 23341,\n",
       "         'у': 32184,\n",
       "         'в': 52779,\n",
       "         'е': 95018,\n",
       "         'й': 13403,\n",
       "         'э': 3600,\n",
       "         'р': 51223,\n",
       "         'ж': 12046,\n",
       "         'д': 35378,\n",
       "         'х': 9985,\n",
       "         'ф': 2227,\n",
       "         'м': 34933,\n",
       "         'я': 26303,\n",
       "         'ы': 22020,\n",
       "         'ь': 23191,\n",
       "         'з': 20113,\n",
       "         'ю': 7581,\n",
       "         'щ': 3336,\n",
       "         'ш': 11266,\n",
       "         'ц': 4090,\n",
       "         'ъ': 521})"
      ]
     },
     "execution_count": 38,
     "metadata": {},
     "output_type": "execute_result"
    }
   ],
   "source": [
    "%%time\n",
    "count_letters2(\"text//\" + 'Tolstoy Lev. Voyna i mir. Kniga 1 - BooksCafe.Net.txt')"
   ]
  },
  {
   "cell_type": "markdown",
   "metadata": {},
   "source": [
    "2) Подсчитать, сколько раз встречается каждая из русских букв во всех  текстовых файлах, лежащих в папке 'text'. При реализации выделить фукнцию, которая суммирует результаты обработки отдельных файлов. Определить за каое время решается задача для всех файлов из папки 'text'."
   ]
  },
  {
   "cell_type": "code",
   "execution_count": 13,
   "metadata": {},
   "outputs": [
    {
     "name": "stdout",
     "output_type": "stream",
     "text": [
      "3.22 s ± 45.9 ms per loop (mean ± std. dev. of 7 runs, 1 loop each)\n"
     ]
    }
   ],
   "source": [
    "%%timeit -n1\n",
    "\n",
    "path = 'text//'\n",
    "onlyfiles = [f for f in listdir(path) if isfile(join(path, f))]\n",
    "count_lst = [count_letters2(join(path, filename)) for filename in onlyfiles]\n",
    "b = reduce(op.add, count_lst)\n"
   ]
  },
  {
   "cell_type": "markdown",
   "metadata": {},
   "source": [
    "3) Решить задачу 2, распараллелив вычисления с помощью модуля multiprocessing. Для обарботки каждого файла создать свой собственный процес. Определить за каое время решается задача для всех файлов из папки 'text'."
   ]
  },
  {
   "cell_type": "code",
   "execution_count": 8,
   "metadata": {},
   "outputs": [
    {
     "name": "stdout",
     "output_type": "stream",
     "text": [
      "Overwriting counter.py\n"
     ]
    }
   ],
   "source": [
    "%%file counter.py\n",
    "from collections import Counter\n",
    "from itertools import chain\n",
    "\n",
    "def counting(file_name, output):\n",
    "    rus = set(chr(symb) for symb in range(ord('а'), ord('я') + 1))\n",
    "    with open(file_name, encoding='cp1251') as file:\n",
    "        cnt = Counter(chain.from_iterable((c for c in line.lower() if c in rus) for line in file))\n",
    "    output.put(cnt)\n"
   ]
  },
  {
   "cell_type": "code",
   "execution_count": 9,
   "metadata": {},
   "outputs": [],
   "source": [
    "from functools import reduce\n",
    "import operator as op\n",
    "from os import listdir\n",
    "from os.path import isfile, join"
   ]
  },
  {
   "cell_type": "code",
   "execution_count": 10,
   "metadata": {},
   "outputs": [],
   "source": [
    "import counter\n",
    "import multiprocessing as mp\n",
    "onlyfiles = [join('text/', f) for f in listdir('text/') if isfile( join('text/', f))]"
   ]
  },
  {
   "cell_type": "code",
   "execution_count": 11,
   "metadata": {},
   "outputs": [
    {
     "name": "stdout",
     "output_type": "stream",
     "text": [
      "Counter({'о': 1117484, 'е': 856915, 'а': 784852, 'и': 659252, 'н': 643029, 'т': 610901, 'с': 528249, 'в': 468208, 'л': 461034, 'р': 414101, 'к': 322315, 'м': 305385, 'д': 299571, 'у': 269110, 'п': 261291, 'я': 212182, 'ь': 197395, 'г': 183767, 'ы': 174732, 'б': 169798, 'ч': 166946, 'з': 159415, 'ж': 107274, 'й': 103544, 'ш': 85560, 'х': 79354, 'ю': 61580, 'ц': 32633, 'э': 32590, 'щ': 29041, 'ф': 18419, 'ъ': 2961})\n",
      "Wall time: 1.48 s\n"
     ]
    }
   ],
   "source": [
    "%%time\n",
    "\n",
    "output = mp.Queue()\n",
    "\n",
    "processes = [mp.Process(target=counter.counting, args=(onlyfiles[i], output)) \\\n",
    "             for i in range(len(onlyfiles))]\n",
    "\n",
    "for p in processes:\n",
    "    #print('Kek')\n",
    "    p.start()\n",
    "    \n",
    "for p in processes:\n",
    "    #print('lol')\n",
    "    p.join()\n",
    "\n",
    "results = reduce(op.add, [output.get() for p in processes])\n",
    "\n",
    "print(results)\n"
   ]
  },
  {
   "cell_type": "markdown",
   "metadata": {},
   "source": [
    "4) Решить задачу 2, распараллелив вычисления с помощью модуля multiprocessing. Создать фиксированное количество процессов (равное количеству ядер на компьютере). При помощи очереди передать задачи процессам и при помощи другой очереди забрать от них ответы. Определить за каое время решается задача для всех файлов из папки 'text'."
   ]
  },
  {
   "cell_type": "code",
   "execution_count": 12,
   "metadata": {},
   "outputs": [
    {
     "name": "stdout",
     "output_type": "stream",
     "text": [
      "Overwriting counter.py\n"
     ]
    }
   ],
   "source": [
    "%%file counter.py\n",
    "from collections import Counter\n",
    "from itertools import chain\n",
    "\n",
    "def counting(queue, output):\n",
    "    \n",
    "    while True:\n",
    "        job = queue.get()\n",
    "        if job == None:\n",
    "            break\n",
    "        \n",
    "        rus = set(chr(symb) for symb in range(ord('а'), ord('я') + 1))\n",
    "        with open(job, encoding='cp1251') as file:\n",
    "            cnt = Counter(chain.from_iterable((c for c in line.lower() if c in rus) for line in file))\n",
    "        output.put(cnt)\n"
   ]
  },
  {
   "cell_type": "code",
   "execution_count": 64,
   "metadata": {},
   "outputs": [],
   "source": [
    "from functools import reduce\n",
    "import operator as op\n",
    "from os import listdir\n",
    "from os.path import isfile, join\n",
    "import counter\n",
    "import multiprocessing as mp\n",
    "onlyfiles = [join('text/', f) for f in listdir('text/') if isfile( join('text/', f))]"
   ]
  },
  {
   "cell_type": "code",
   "execution_count": 14,
   "metadata": {},
   "outputs": [
    {
     "name": "stdout",
     "output_type": "stream",
     "text": [
      "Counter({'о': 358930, 'е': 281373, 'а': 252289, 'н': 209288, 'и': 207716, 'т': 202585, 'с': 169671, 'в': 151952, 'л': 145688, 'р': 131793, 'к': 102011, 'м': 100570, 'д': 97678, 'у': 87975, 'п': 87166, 'я': 70697, 'ь': 68091, 'ч': 58455, 'г': 57277, 'ы': 54443, 'б': 54019, 'з': 51424, 'ж': 35736, 'й': 32223, 'ш': 26357, 'х': 24943, 'ю': 19122, 'э': 10849, 'ц': 9465, 'щ': 9421, 'ф': 6015, 'ъ': 790})\n",
      "Wall time: 1.41 s\n"
     ]
    }
   ],
   "source": [
    "%%time\n",
    "output = mp.Queue()   #ответы\n",
    "queue = mp.Queue() #задания \n",
    "CPU = mp.cpu_count()\n",
    "\n",
    "for i in onlyfiles:\n",
    "    queue.put(i)\n",
    "for i in range(CPU):\n",
    "    queue.put(None)\n",
    "    \n",
    "processes = [mp.Process(target=counter.counting, args=(queue, output)) \\\n",
    "             for i in range(CPU)]\n",
    "\n",
    "for p in processes:\n",
    "    p.start()\n",
    "    \n",
    "for p in processes:\n",
    "    p.join()\n",
    "\n",
    "results = reduce(op.add, [output.get() for p in processes])\n",
    "\n",
    "print(results)\n"
   ]
  },
  {
   "cell_type": "markdown",
   "metadata": {},
   "source": [
    "5) Решить задачу 2, распараллелив вычисления с помощью модуля multiprocessing. Решить задачу при помощи Pool. Определить за каое время решается задача для всех файлов из папки 'text'."
   ]
  },
  {
   "cell_type": "code",
   "execution_count": 61,
   "metadata": {},
   "outputs": [
    {
     "name": "stdout",
     "output_type": "stream",
     "text": [
      "Overwriting counter.py\n"
     ]
    }
   ],
   "source": [
    "%%file counter.py\n",
    "from collections import Counter\n",
    "from itertools import chain\n",
    "\n",
    "def counting(file_name):\n",
    "    rus = set(chr(symb) for symb in range(ord('а'), ord('я') + 1))\n",
    "    with open(file_name, encoding='cp1251') as file:\n",
    "        cnt = Counter(chain.from_iterable((c for c in line.lower() if c in rus) for line in file))\n",
    "    return cnt\n"
   ]
  },
  {
   "cell_type": "code",
   "execution_count": 63,
   "metadata": {},
   "outputs": [],
   "source": [
    "import counter"
   ]
  },
  {
   "cell_type": "code",
   "execution_count": 65,
   "metadata": {},
   "outputs": [],
   "source": [
    "onlyfiles = [join('text/', f) for f in listdir('text/') if isfile( join('text/', f))]"
   ]
  },
  {
   "cell_type": "code",
   "execution_count": 67,
   "metadata": {},
   "outputs": [
    {
     "name": "stdout",
     "output_type": "stream",
     "text": [
      "Counter({'о': 1117484, 'е': 856915, 'а': 784852, 'и': 659252, 'н': 643029, 'т': 610901, 'с': 528249, 'в': 468208, 'л': 461034, 'р': 414101, 'к': 322315, 'м': 305385, 'д': 299571, 'у': 269110, 'п': 261291, 'я': 212182, 'ь': 197395, 'г': 183767, 'ы': 174732, 'б': 169798, 'ч': 166946, 'з': 159415, 'ж': 107274, 'й': 103544, 'ш': 85560, 'х': 79354, 'ю': 61580, 'ц': 32633, 'э': 32590, 'щ': 29041, 'ф': 18419, 'ъ': 2961})\n",
      "Wall time: 3.14 s\n"
     ]
    }
   ],
   "source": [
    "%%time\n",
    "pool = mp.Pool(mp.cpu_count())\n",
    "result = [pool.apply_async(counter.counting, args=(i,)) for i in onlyfiles ]\n",
    "pool.close()\n",
    "pool.join()\n",
    "result = reduce(op.add, [i.get() for i in result])\n",
    "print(result)\n",
    "\n"
   ]
  },
  {
   "cell_type": "code",
   "execution_count": 10,
   "metadata": {},
   "outputs": [
    {
     "name": "stdout",
     "output_type": "stream",
     "text": [
      "[1, 8, 27, 64, 125, 216]\n"
     ]
    }
   ],
   "source": [
    "pool = mp.Pool(processes=4)\n",
    "results = [pool.apply(cube_.cube, args=(x,)) for x in range(1,7)]\n",
    "print(results)"
   ]
  },
  {
   "cell_type": "markdown",
   "metadata": {},
   "source": [
    "6) Распараллелиьть задачу один при помощи Pool. Сравнить время параллельного и последовательного решения задачи. "
   ]
  },
  {
   "cell_type": "code",
   "execution_count": 28,
   "metadata": {},
   "outputs": [
    {
     "name": "stdout",
     "output_type": "stream",
     "text": [
      "Overwriting counter.py\n"
     ]
    }
   ],
   "source": [
    "%%file counter.py\n",
    "from collections import Counter\n",
    "from itertools import chain\n",
    "\n",
    "def counting(slices):\n",
    "    rus = set(chr(symb) for symb in range(ord('а'), ord('я') + 1))\n",
    "    cnt = Counter((c for c in slices if c in rus))\n",
    "    return cnt"
   ]
  },
  {
   "cell_type": "code",
   "execution_count": 49,
   "metadata": {},
   "outputs": [
    {
     "data": {
      "text/plain": [
       "Counter({'а': 8, 'б': 9, 'ф': 7, 'ы': 7})"
      ]
     },
     "execution_count": 49,
     "metadata": {},
     "output_type": "execute_result"
    }
   ],
   "source": [
    "from collections import Counter\n",
    "\n",
    "def counting(slices):\n",
    "    rus = set(chr(symb) for symb in range(ord('а'), ord('я') + 1))\n",
    "    cnt = Counter((c for c in slices if c in rus))\n",
    "    return cnt\n",
    "                  \n",
    "counting(\"абфбыафыбафыбабфыабфыабфыабфыба\")"
   ]
  },
  {
   "cell_type": "code",
   "execution_count": 55,
   "metadata": {},
   "outputs": [
    {
     "name": "stdout",
     "output_type": "stream",
     "text": [
      "Wall time: 91 ms\n"
     ]
    },
    {
     "data": {
      "text/plain": [
       "Counter({'е': 24598,\n",
       "         'р': 12346,\n",
       "         'а': 26541,\n",
       "         'н': 19490,\n",
       "         'с': 15184,\n",
       "         'к': 9919,\n",
       "         'и': 18708,\n",
       "         'й': 3583,\n",
       "         'з': 5067,\n",
       "         'л': 14560,\n",
       "         'о': 32668,\n",
       "         'в': 12761,\n",
       "         'т': 17341,\n",
       "         'г': 5694,\n",
       "         'д': 8923,\n",
       "         'я': 6749,\n",
       "         'ш': 3227,\n",
       "         'у': 7790,\n",
       "         'п': 7104,\n",
       "         'х': 2495,\n",
       "         'м': 9167,\n",
       "         'э': 966,\n",
       "         'ч': 4414,\n",
       "         'ж': 3194,\n",
       "         'ц': 810,\n",
       "         'ь': 6079,\n",
       "         'б': 5385,\n",
       "         'ы': 5484,\n",
       "         'ю': 2100,\n",
       "         'щ': 798,\n",
       "         'ф': 483,\n",
       "         'ъ': 116})"
      ]
     },
     "execution_count": 55,
     "metadata": {},
     "output_type": "execute_result"
    }
   ],
   "source": [
    "%%time\n",
    "counting(file[b*3 : b*4])"
   ]
  },
  {
   "cell_type": "code",
   "execution_count": 29,
   "metadata": {},
   "outputs": [],
   "source": [
    "import counter"
   ]
  },
  {
   "cell_type": "code",
   "execution_count": 30,
   "metadata": {},
   "outputs": [],
   "source": [
    "import multiprocessing as mp"
   ]
  },
  {
   "cell_type": "code",
   "execution_count": 31,
   "metadata": {},
   "outputs": [],
   "source": [
    "file_name = \"text//Tolstoy Lev. Voyna i mir. Kniga 1 - BooksCafe.Net.txt\"\n",
    "file = open(file_name, 'r', encoding='cp1251').read().lower()\n"
   ]
  },
  {
   "cell_type": "code",
   "execution_count": 58,
   "metadata": {},
   "outputs": [
    {
     "name": "stdout",
     "output_type": "stream",
     "text": [
      "Counter({'о': 131184, 'а': 97839, 'е': 95018, 'и': 75749, 'н': 75573, 'т': 66898, 'с': 61050, 'л': 58155, 'в': 52779, 'р': 51223, 'к': 39920, 'д': 35378, 'м': 34933, 'у': 32184, 'п': 29287, 'я': 26303, 'г': 23341, 'ь': 23191, 'ы': 22020, 'б': 20531, 'з': 20113, 'ч': 16468, 'й': 13403, 'ж': 12046, 'ш': 11266, 'х': 9985, 'ю': 7581, 'ц': 4090, 'э': 3600, 'щ': 3336, 'ф': 2227, 'ъ': 521})\n",
      "Wall time: 106 ms\n"
     ]
    }
   ],
   "source": [
    "%%time\n",
    "cpu = mp.cpu_count()\n",
    "pool = mp.Pool(cpu)\n",
    "b = len(file) // cpu\n",
    "\n",
    "\n",
    "for i in range(cpu):\n",
    "    pool.apply_async(counter.counting, args =(file[ (b * i) : (b * (i + 1))],))\n",
    "\n",
    "#results = reduce(op.add, [i.get() for i in results])\n",
    "print(reduce(op.add,results))"
   ]
  },
  {
   "cell_type": "code",
   "execution_count": null,
   "metadata": {},
   "outputs": [],
   "source": [
    "%%file counter.py\n",
    "from collections import Counter\n",
    "from itertools import chain\n",
    "\n",
    "def counting(slices, output):\n",
    "    rus = set(chr(symb) for symb in range(ord('а'), ord('я') + 1))\n",
    "    cnt = Counter(chain.from_iterable((c for c in slices if c in rus)))\n",
    "    output.put(cnt)"
   ]
  },
  {
   "cell_type": "code",
   "execution_count": null,
   "metadata": {},
   "outputs": [],
   "source": [
    "import counter"
   ]
  },
  {
   "cell_type": "code",
   "execution_count": null,
   "metadata": {},
   "outputs": [],
   "source": []
  },
  {
   "cell_type": "markdown",
   "metadata": {},
   "source": [
    "<br>\n",
    "<br>"
   ]
  },
  {
   "cell_type": "markdown",
   "metadata": {},
   "source": [
    "### How to retrieve results in a particular order "
   ]
  },
  {
   "cell_type": "markdown",
   "metadata": {},
   "source": [
    "[[back to top](#Sections)]"
   ]
  },
  {
   "cell_type": "markdown",
   "metadata": {},
   "source": [
    "The order of the obtained results does not necessarily have to match the order of the processes (in the `processes` list). Since we eventually use the `.get()` method to retrieve the results from the `Queue` sequentially, the order in which the processes finished determines the order of our results.  \n",
    "E.g., if the second process has finished just before the first process, the order of the strings in the `results` list could have also been\n",
    "`['PQpqM', 'yzQfA', 'SHZYV', 'PSNkD']` instead of `['yzQfA', 'PQpqM', 'SHZYV', 'PSNkD']`\n",
    "\n",
    "If our application required us to retrieve results in a particular order, one possibility would be to refer to the processes' `._identity` attribute. In this case, we could also simply use the values from our `range` object as position argument. The modified code would be:"
   ]
  },
  {
   "cell_type": "code",
   "execution_count": 4,
   "metadata": {},
   "outputs": [
    {
     "name": "stdout",
     "output_type": "stream",
     "text": [
      "Writing rand_string_2.py\n"
     ]
    }
   ],
   "source": [
    "%%file rand_string_2.py\n",
    "\n",
    "import random\n",
    "import string\n",
    "\n",
    "def rand_string(length, pos, output):\n",
    "    \"\"\" Generates a random string of numbers, lower- and uppercase chars. \"\"\"\n",
    "    rand_str = ''.join(random.choice(\n",
    "                        string.ascii_lowercase \n",
    "                        + string.ascii_uppercase \n",
    "                        + string.digits)\n",
    "                   for i in range(length))\n",
    "    output.put((pos, rand_str))"
   ]
  },
  {
   "cell_type": "code",
   "execution_count": 5,
   "metadata": {
    "collapsed": true
   },
   "outputs": [],
   "source": [
    "import rand_string_2"
   ]
  },
  {
   "cell_type": "code",
   "execution_count": 6,
   "metadata": {},
   "outputs": [
    {
     "name": "stdout",
     "output_type": "stream",
     "text": [
      "[(0, 'uCIwk'), (2, 'ELkQg'), (1, 'wAM9T'), (3, 'uRmzN')]\n"
     ]
    }
   ],
   "source": [
    "# Define an output queue\n",
    "output = mp.Queue()\n",
    "\n",
    "# define a example function\n",
    "# def rand_string(length, pos, output):\n",
    "#     \"\"\" Generates a random string of numbers, lower- and uppercase chars. \"\"\"\n",
    "#     rand_str = ''.join(random.choice(\n",
    "#                         string.ascii_lowercase \n",
    "#                         + string.ascii_uppercase \n",
    "#                         + string.digits)\n",
    "#                    for i in range(length))\n",
    "#     output.put((pos, rand_str))\n",
    "\n",
    "# Setup a list of processes that we want to run\n",
    "processes = [mp.Process(target=rand_string_2.rand_string, args=(5, x, output)) for x in range(4)]\n",
    "\n",
    "# Run processes\n",
    "for p in processes:\n",
    "    p.start()\n",
    "\n",
    "# Exit the completed processes\n",
    "for p in processes:\n",
    "    p.join()\n",
    "\n",
    "# Get process results from the output queue\n",
    "results = [output.get() for p in processes]\n",
    "\n",
    "print(results)"
   ]
  },
  {
   "cell_type": "markdown",
   "metadata": {},
   "source": [
    "And the retrieved results would be tuples, for example, `[(0, 'KAQo6'), (1, '5lUya'), (2, 'nj6Q0'), (3, 'QQvLr')]`   \n",
    "or `[(1, '5lUya'), (3, 'QQvLr'), (0, 'KAQo6'), (2, 'nj6Q0')]`\n",
    "\n",
    "To make sure that we retrieved the results in order, we could simply sort the results and optionally get rid of the position argument:"
   ]
  },
  {
   "cell_type": "code",
   "execution_count": 7,
   "metadata": {},
   "outputs": [
    {
     "name": "stdout",
     "output_type": "stream",
     "text": [
      "['uCIwk', 'wAM9T', 'ELkQg', 'uRmzN']\n"
     ]
    }
   ],
   "source": [
    "results.sort()\n",
    "results = [r[1] for r in results]\n",
    "print(results)"
   ]
  },
  {
   "cell_type": "markdown",
   "metadata": {},
   "source": [
    "**A simpler way to maintain an ordered list of results is to use the `Pool.apply` and `Pool.map` functions which we will discuss in the next section.**"
   ]
  },
  {
   "cell_type": "markdown",
   "metadata": {},
   "source": [
    "<br>\n",
    "<br>"
   ]
  },
  {
   "cell_type": "markdown",
   "metadata": {},
   "source": [
    "### The `Pool` class"
   ]
  },
  {
   "cell_type": "markdown",
   "metadata": {},
   "source": [
    "[[back to top](#Sections)]"
   ]
  },
  {
   "cell_type": "markdown",
   "metadata": {},
   "source": [
    "Another and more convenient approach for simple parallel processing tasks is provided by the `Pool` class.  \n",
    "\n",
    "There are four methods that are particularly interesting:\n",
    "\n",
    "    - Pool.apply\n",
    "    \n",
    "    - Pool.map\n",
    "    \n",
    "    - Pool.apply_async\n",
    "    \n",
    "    - Pool.map_async\n",
    "    \n",
    "The `Pool.apply` and `Pool.map` methods are basically equivalents to Python's in-built [`apply`](https://docs.python.org/2/library/functions.html#apply) and [`map`](https://docs.python.org/2/library/functions.html#map) functions."
   ]
  },
  {
   "cell_type": "markdown",
   "metadata": {},
   "source": [
    "Before we come to the `async` variants of the `Pool` methods, let us take a look at a simple example using `Pool.apply` and `Pool.map`. Here, we will set the number of processes to 4, which means that the `Pool` class will only allow 4 processes running at the same time."
   ]
  },
  {
   "cell_type": "code",
   "execution_count": 8,
   "metadata": {},
   "outputs": [
    {
     "name": "stdout",
     "output_type": "stream",
     "text": [
      "Writing cube_.py\n"
     ]
    }
   ],
   "source": [
    "%%file cube_.py\n",
    "\n",
    "def cube(x):\n",
    "    return x**3"
   ]
  },
  {
   "cell_type": "code",
   "execution_count": 9,
   "metadata": {
    "collapsed": true
   },
   "outputs": [],
   "source": [
    "import cube_"
   ]
  },
  {
   "cell_type": "code",
   "execution_count": 11,
   "metadata": {},
   "outputs": [
    {
     "name": "stdout",
     "output_type": "stream",
     "text": [
      "[1, 8, 27, 64, 125, 216]\n"
     ]
    }
   ],
   "source": [
    "pool = mp.Pool(processes=4)\n",
    "results = pool.map(cube_.cube, range(1,7))\n",
    "print(results)"
   ]
  },
  {
   "cell_type": "markdown",
   "metadata": {},
   "source": [
    "The `Pool.map` and `Pool.apply` will lock the main program until all processes are finished, which is quite useful if we want to obtain results in a particular order for certain applications.   \n",
    "In contrast, the `async` variants will submit all processes at once and retrieve the results as soon as they are finished. \n",
    "One more difference is that we need to use the `get` method after the `apply_async()` call in order to obtain the `return` values of the finished processes."
   ]
  },
  {
   "cell_type": "code",
   "execution_count": 12,
   "metadata": {},
   "outputs": [
    {
     "name": "stdout",
     "output_type": "stream",
     "text": [
      "[1, 8, 27, 64, 125, 216]\n"
     ]
    }
   ],
   "source": [
    "pool = mp.Pool(processes=4)\n",
    "results = [pool.apply_async(cube_.cube, args=(x,)) for x in range(1,7)]\n",
    "output = [p.get() for p in results]\n",
    "print(output)"
   ]
  },
  {
   "cell_type": "markdown",
   "metadata": {},
   "source": [
    "<br>\n",
    "<br>"
   ]
  },
  {
   "cell_type": "markdown",
   "metadata": {},
   "source": [
    "1) Реализовать параллельную версию операции умножения двух матриц, хранящихся в массивах numpy. При реализации использовать multiprocesing Pool. Для повышения эффективности операции можно предварительно преобразовать способ хранения информации. Определить длительность выполнения операции для размера матрицы $N = 2^7, 2^8, 2^9$. Проверить равенство результата с результатами `numpy.matmul`. "
   ]
  }
 ],
 "metadata": {
  "kernelspec": {
   "display_name": "Python 3",
   "language": "python",
   "name": "python3"
  },
  "language_info": {
   "codemirror_mode": {
    "name": "ipython",
    "version": 3
   },
   "file_extension": ".py",
   "mimetype": "text/x-python",
   "name": "python",
   "nbconvert_exporter": "python",
   "pygments_lexer": "ipython3",
   "version": "3.6.5"
  }
 },
 "nbformat": 4,
 "nbformat_minor": 1
}
