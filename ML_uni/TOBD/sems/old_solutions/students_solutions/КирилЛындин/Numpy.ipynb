{
 "cells": [
  {
   "cell_type": "code",
   "execution_count": 1,
   "metadata": {},
   "outputs": [],
   "source": [
    "import numpy as np"
   ]
  },
  {
   "cell_type": "markdown",
   "metadata": {},
   "source": [
    "Создание массива, где идёт увеличение 1 по столбцу и 10 по строке"
   ]
  },
  {
   "cell_type": "code",
   "execution_count": 40,
   "metadata": {},
   "outputs": [
    {
     "data": {
      "text/plain": [
       "array([[  1,   2,   3,   4,   5,   6,   7],\n",
       "       [ 11,  12,  13,  14,  15,  16,  17],\n",
       "       [ 21,  22,  23,  24,  25,  26,  27],\n",
       "       [ 31,  32,  33,  34,  35,  36,  37],\n",
       "       [ 41,  42,  43,  44,  45,  46,  47],\n",
       "       [ 51,  52,  53,  54,  55,  56,  57],\n",
       "       [ 61,  62,  63,  64,  65,  66,  67],\n",
       "       [ 71,  72,  73,  74,  75,  76,  77],\n",
       "       [ 81,  82,  83,  84,  85,  86,  87],\n",
       "       [ 91,  92,  93,  94,  95,  96,  97],\n",
       "       [101, 102, 103, 104, 105, 106, 107]])"
      ]
     },
     "execution_count": 40,
     "metadata": {},
     "output_type": "execute_result"
    }
   ],
   "source": [
    "#вар 1\n",
    "mtrx = np.array( [np.array(range(1,8))+n for n in range(0,110,10)])\n",
    "mtrx"
   ]
  },
  {
   "cell_type": "code",
   "execution_count": 54,
   "metadata": {},
   "outputs": [
    {
     "data": {
      "text/plain": [
       "array([[  1,   2,   3,   4,   5,   6,   7],\n",
       "       [ 11,  12,  13,  14,  15,  16,  17],\n",
       "       [ 21,  22,  23,  24,  25,  26,  27],\n",
       "       [ 31,  32,  33,  34,  35,  36,  37],\n",
       "       [ 41,  42,  43,  44,  45,  46,  47],\n",
       "       [ 51,  52,  53,  54,  55,  56,  57],\n",
       "       [ 61,  62,  63,  64,  65,  66,  67],\n",
       "       [ 71,  72,  73,  74,  75,  76,  77],\n",
       "       [ 81,  82,  83,  84,  85,  86,  87],\n",
       "       [ 91,  92,  93,  94,  95,  96,  97],\n",
       "       [101, 102, 103, 104, 105, 106, 107]])"
      ]
     },
     "execution_count": 54,
     "metadata": {},
     "output_type": "execute_result"
    }
   ],
   "source": [
    "#вар 2\n",
    "np.arange(1,8)+np.arange(0,101,10).reshape(11,1)"
   ]
  },
  {
   "cell_type": "markdown",
   "metadata": {},
   "source": [
    "Выборка элементов из массива маской True - False"
   ]
  },
  {
   "cell_type": "code",
   "execution_count": 34,
   "metadata": {},
   "outputs": [
    {
     "data": {
      "text/plain": [
       "array([ 2,  3,  4,  5,  6,  7,  8,  9, 10, 11, 12, 13, 14, 15, 16, 17, 18,\n",
       "       19, 20, 21, 22])"
      ]
     },
     "execution_count": 34,
     "metadata": {},
     "output_type": "execute_result"
    }
   ],
   "source": [
    "arr=np.arange(2,23)\n",
    "arr"
   ]
  },
  {
   "cell_type": "code",
   "execution_count": 57,
   "metadata": {},
   "outputs": [
    {
     "data": {
      "text/plain": [
       "array([ 2,  4,  6,  8, 10, 12, 14, 16, 18, 20])"
      ]
     },
     "execution_count": 57,
     "metadata": {},
     "output_type": "execute_result"
    }
   ],
   "source": [
    "arr[:20][arr[:20] % 2==0]"
   ]
  },
  {
   "cell_type": "code",
   "execution_count": 63,
   "metadata": {},
   "outputs": [
    {
     "data": {
      "text/plain": [
       "array([ 3,  5,  7,  9, 11, 13, 15, 17, 19, 21])"
      ]
     },
     "execution_count": 63,
     "metadata": {},
     "output_type": "execute_result"
    }
   ],
   "source": [
    "arr[1:][arr[1:] % 2!=0]"
   ]
  },
  {
   "cell_type": "code",
   "execution_count": 64,
   "metadata": {},
   "outputs": [
    {
     "data": {
      "text/plain": [
       "array([  6,  20,  42,  72, 110, 156, 210, 272, 342, 420])"
      ]
     },
     "execution_count": 64,
     "metadata": {},
     "output_type": "execute_result"
    }
   ],
   "source": [
    "arr[:20][arr[:20] % 2==0]*arr[1:][arr[1:] % 2!=0]"
   ]
  },
  {
   "cell_type": "markdown",
   "metadata": {},
   "source": [
    "Умножение массивов"
   ]
  },
  {
   "cell_type": "code",
   "execution_count": 68,
   "metadata": {},
   "outputs": [
    {
     "data": {
      "text/plain": [
       "array([  6,  20,  42,  72, 110, 156, 210, 272, 342, 420])"
      ]
     },
     "execution_count": 68,
     "metadata": {},
     "output_type": "execute_result"
    }
   ],
   "source": [
    "np.arange(2,21,2)*np.arange(3,22,2)"
   ]
  },
  {
   "cell_type": "code",
   "execution_count": 80,
   "metadata": {},
   "outputs": [
    {
     "data": {
      "text/plain": [
       "0.5242"
      ]
     },
     "execution_count": 80,
     "metadata": {},
     "output_type": "execute_result"
    }
   ],
   "source": [
    "x = np.arange(0,10,0.001)\n",
    "arr = x * np.sin(x)\n",
    "len(arr[arr>0.5])/len(arr)"
   ]
  },
  {
   "cell_type": "markdown",
   "metadata": {},
   "source": [
    "Нахождение минимального"
   ]
  },
  {
   "cell_type": "code",
   "execution_count": 116,
   "metadata": {},
   "outputs": [
    {
     "data": {
      "text/plain": [
       "array([[1, 7, 5, 2, 9, 1, 3, 7, 6, 7],\n",
       "       [6, 8, 2, 9, 4, 2, 7, 3, 4, 7],\n",
       "       [8, 6, 0, 0, 1, 2, 5, 4, 0, 3],\n",
       "       [4, 7, 1, 2, 0, 8, 6, 3, 7, 2],\n",
       "       [0, 5, 5, 1, 5, 5, 8, 5, 1, 9],\n",
       "       [0, 1, 7, 8, 5, 5, 0, 5, 4, 7],\n",
       "       [4, 3, 6, 6, 8, 8, 9, 3, 1, 2],\n",
       "       [5, 3, 5, 6, 9, 1, 1, 4, 4, 8]])"
      ]
     },
     "execution_count": 116,
     "metadata": {},
     "output_type": "execute_result"
    }
   ],
   "source": [
    "arr4=np.random.randint(0,10,80).reshape(8,10)\n",
    "arr4"
   ]
  },
  {
   "cell_type": "code",
   "execution_count": 113,
   "metadata": {},
   "outputs": [
    {
     "data": {
      "text/plain": [
       "(array([0], dtype=int64),)"
      ]
     },
     "execution_count": 113,
     "metadata": {},
     "output_type": "execute_result"
    }
   ],
   "source": [
    "np.where(arr4.sum(axis=1).argmin())"
   ]
  },
  {
   "cell_type": "code",
   "execution_count": 117,
   "metadata": {},
   "outputs": [
    {
     "data": {
      "text/plain": [
       "array([0, 2, 2, 4, 0, 0, 8, 5], dtype=int64)"
      ]
     },
     "execution_count": 117,
     "metadata": {},
     "output_type": "execute_result"
    }
   ],
   "source": [
    "np.argmin(arr4, axis=1)"
   ]
  }
 ],
 "metadata": {
  "kernelspec": {
   "display_name": "Python 3",
   "language": "python",
   "name": "python3"
  },
  "language_info": {
   "codemirror_mode": {
    "name": "ipython",
    "version": 3
   },
   "file_extension": ".py",
   "mimetype": "text/x-python",
   "name": "python",
   "nbconvert_exporter": "python",
   "pygments_lexer": "ipython3",
   "version": "3.6.5"
  }
 },
 "nbformat": 4,
 "nbformat_minor": 2
}
