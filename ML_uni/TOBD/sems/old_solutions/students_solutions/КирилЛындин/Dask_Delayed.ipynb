{
 "cells": [
  {
   "cell_type": "markdown",
   "metadata": {},
   "source": [
    "1) Реализовать алгоритм слияния n(n =2**k) отсортированных списков(произвольной длины) в один отсортированный список"
   ]
  },
  {
   "cell_type": "code",
   "execution_count": 1,
   "metadata": {},
   "outputs": [],
   "source": [
    "import random\n",
    "import math\n",
    "import dask\n",
    "import dask.array as da\n",
    "import numpy as np\n",
    "from dask import delayed\n",
    "import pandas as pd"
   ]
  },
  {
   "cell_type": "code",
   "execution_count": 2,
   "metadata": {},
   "outputs": [
    {
     "name": "stdout",
     "output_type": "stream",
     "text": [
      "[[10, 20, 37, 69], [10, 30, 32, 40, 53, 68, 69, 86, 100], [0, 2, 7, 11, 16, 27, 35, 40, 64, 65, 70, 82], [0, 0, 16, 23, 23, 27, 54, 60, 71, 75, 79, 86, 86, 91], [4, 5, 28, 30, 39, 39, 56, 62, 64, 69, 80, 81, 98], [9, 21, 31, 42, 44, 56, 58, 73, 74, 83, 89], [6, 34, 48, 62, 84], [5, 9, 17, 23, 42, 46, 49, 53, 54, 55, 77, 80, 81, 85, 90, 95]]\n"
     ]
    }
   ],
   "source": [
    "n=3\n",
    "lenn = [random.randint(1,16) for i in range(2**n)] # генерирую список, сост из длинн будущих списков в кол-ве n\n",
    "lst = []\n",
    "for i in lenn:\n",
    "    lst.append(sorted([random.randint(0,100) for j in range(i)])) # генерация рандломных числе от 0 до 100 длинной i\n",
    "print(lst)"
   ]
  },
  {
   "cell_type": "code",
   "execution_count": 3,
   "metadata": {},
   "outputs": [],
   "source": [
    "def mrg(l1,l2):\n",
    "    res = []\n",
    "    itrs = iter(l1), iter(l2)\n",
    "    vals = [next(itrs[0]),next(itrs[1])]\n",
    "    while vals != [None, None]:\n",
    "        cur_i = 0 if vals[0] is not None and (vals[1] is None or vals[0] < vals[1]) else 1\n",
    "        res.append(vals[cur_i])\n",
    "        try:\n",
    "            vals[cur_i] = next(itrs[cur_i])\n",
    "        except StopIteration:\n",
    "            vals[cur_i] = None\n",
    "    return res"
   ]
  },
  {
   "cell_type": "code",
   "execution_count": 4,
   "metadata": {},
   "outputs": [],
   "source": [
    "def merge(args):\n",
    "    for i in range(int(math.log(len(args),2))):\n",
    "        args = [mrg(x, y) for x, y in zip(args[:len(args)//2], args[len(args)//2:])]\n",
    "    return args"
   ]
  },
  {
   "cell_type": "code",
   "execution_count": 5,
   "metadata": {},
   "outputs": [
    {
     "name": "stdout",
     "output_type": "stream",
     "text": [
      "[[0, 0, 0, 2, 4, 5, 5, 6, 7, 9, 9, 10, 10, 11, 16, 16, 17, 20, 21, 23, 23, 23, 27, 27, 28, 30, 30, 31, 32, 34, 35, 37, 39, 39, 40, 40, 42, 42, 44, 46, 48, 49, 53, 53, 54, 54, 55, 56, 56, 58, 60, 62, 62, 64, 64, 65, 68, 69, 69, 69, 70, 71, 73, 74, 75, 77, 79, 80, 80, 81, 81, 82, 83, 84, 85, 86, 86, 86, 89, 90, 91, 95, 98, 100]]\n"
     ]
    }
   ],
   "source": [
    "print(merge(lst))"
   ]
  },
  {
   "cell_type": "markdown",
   "metadata": {},
   "source": [
    "2) С помощью Dask реализовать генерацию n отсортированных списков целых значений (для каждого списка задается собственная длина)\n",
    "и сохранение каждого списка в отдельный файл (в файле хранится 3 столбц: номерпо_порядку, значение)"
   ]
  },
  {
   "cell_type": "code",
   "execution_count": 6,
   "metadata": {},
   "outputs": [],
   "source": [
    "def generate_rand(n):\n",
    "        sett = [da.linspace(np.random.randint(0,10), np.random.randint(20, 50), np.random.randint(10, 20), dtype = 'int', chunks = 1).compute() for i in range(n)]\n",
    "        return sett"
   ]
  },
  {
   "cell_type": "code",
   "execution_count": 7,
   "metadata": {},
   "outputs": [
    {
     "name": "stdout",
     "output_type": "stream",
     "text": [
      "[array([ 0,  2,  5,  8, 11, 13, 16, 19, 22, 24, 27, 30, 33]), array([ 5,  6,  8, 10, 12, 13, 15, 17, 19, 20, 22, 24, 26]), array([ 0,  2,  5,  8, 10, 13, 15, 18, 21, 24, 26, 29, 32]), array([ 1,  2,  3,  5,  6,  8,  9, 11, 12, 14, 15, 16, 18, 19, 21, 22, 24,\n",
      "       25, 26]), array([ 4,  5,  7,  9, 11, 12, 14, 16, 18, 20]), array([ 2,  5,  8, 11, 14, 17, 20, 23, 26, 29, 33]), array([ 0,  2,  5,  7, 10, 12, 15, 17, 20, 23, 25, 28, 30, 33, 35, 38, 40,\n",
      "       43, 46]), array([ 3,  6,  9, 13, 16, 20, 23, 27, 30, 34, 37, 41, 44, 47])]\n"
     ]
    }
   ],
   "source": [
    "arrays = generate_rand(8)\n",
    "print(arrays)"
   ]
  },
  {
   "cell_type": "markdown",
   "metadata": {},
   "source": [
    "3) Применить решение задачи 1 для сортировки данных, сгенерированных в задаче 2"
   ]
  },
  {
   "cell_type": "code",
   "execution_count": 8,
   "metadata": {},
   "outputs": [
    {
     "name": "stdout",
     "output_type": "stream",
     "text": [
      "[[0, 0, 0, 1, 2, 2, 2, 2, 2, 3, 3, 4, 5, 5, 5, 5, 5, 5, 5, 6, 6, 6, 7, 7, 8, 8, 8, 8, 8, 9, 9, 9, 10, 10, 10, 11, 11, 11, 11, 12, 12, 12, 12, 13, 13, 13, 13, 14, 14, 14, 15, 15, 15, 15, 16, 16, 16, 16, 17, 17, 17, 18, 18, 18, 19, 19, 19, 20, 20, 20, 20, 20, 21, 21, 22, 22, 22, 23, 23, 23, 24, 24, 24, 24, 25, 25, 26, 26, 26, 26, 27, 27, 28, 29, 29, 30, 30, 30, 32, 33, 33, 33, 34, 35, 37, 38, 40, 41, 43, 44, 46, 47]]\n"
     ]
    }
   ],
   "source": [
    "print(merge(arrays))"
   ]
  },
  {
   "cell_type": "markdown",
   "metadata": {},
   "source": [
    "4) При помощи dask.delayed распаралелить решение задачи 1 и применить к данным, сгенерированным в задаче 2"
   ]
  },
  {
   "cell_type": "code",
   "execution_count": 9,
   "metadata": {},
   "outputs": [],
   "source": [
    "def merge_async(args):\n",
    "    for i in range(int(math.log(len(args),2))):\n",
    "        args = [delayed(mrg)(x, y) for x, y in zip(args[:len(args)//2], args[len(args)//2:])]\n",
    "        args = dask.compute(args)[0]\n",
    "    return args"
   ]
  },
  {
   "cell_type": "code",
   "execution_count": 10,
   "metadata": {},
   "outputs": [
    {
     "name": "stdout",
     "output_type": "stream",
     "text": [
      "[[0, 0, 0, 1, 2, 2, 2, 2, 2, 3, 3, 4, 5, 5, 5, 5, 5, 5, 5, 6, 6, 6, 7, 7, 8, 8, 8, 8, 8, 9, 9, 9, 10, 10, 10, 11, 11, 11, 11, 12, 12, 12, 12, 13, 13, 13, 13, 14, 14, 14, 15, 15, 15, 15, 16, 16, 16, 16, 17, 17, 17, 18, 18, 18, 19, 19, 19, 20, 20, 20, 20, 20, 21, 21, 22, 22, 22, 23, 23, 23, 24, 24, 24, 24, 25, 25, 26, 26, 26, 26, 27, 27, 28, 29, 29, 30, 30, 30, 32, 33, 33, 33, 34, 35, 37, 38, 40, 41, 43, 44, 46, 47]]\n"
     ]
    }
   ],
   "source": [
    "print(merge_async(arrays))"
   ]
  },
  {
   "cell_type": "markdown",
   "metadata": {},
   "source": [
    "5) Модифицировать 4 - обрабатывать данные тем же алгоритмом с помощью pandas.DataFrame"
   ]
  },
  {
   "cell_type": "code",
   "execution_count": 11,
   "metadata": {},
   "outputs": [],
   "source": [
    "def generate_dataframe(n):\n",
    "    datalist = []\n",
    "    for _ in range(2**n):\n",
    "        datalist.append(pd.DataFrame.from_dict({'just_sum_column' : np.linspace(np.random.randint(0,10), np.random.randint(20, 50), np.random.randint(10, 20), dtype = 'int') }))\n",
    "    return datalist"
   ]
  },
  {
   "cell_type": "code",
   "execution_count": 12,
   "metadata": {},
   "outputs": [
    {
     "name": "stdout",
     "output_type": "stream",
     "text": [
      "[    just_sum_column\n",
      "0                 5\n",
      "1                 7\n",
      "2                 9\n",
      "3                12\n",
      "4                14\n",
      "5                17\n",
      "6                19\n",
      "7                22\n",
      "8                24\n",
      "9                27\n",
      "10               29\n",
      "11               32\n",
      "12               34\n",
      "13               37\n",
      "14               39\n",
      "15               42\n",
      "16               44\n",
      "17               47,     just_sum_column\n",
      "0                 6\n",
      "1                 9\n",
      "2                13\n",
      "3                17\n",
      "4                20\n",
      "5                24\n",
      "6                28\n",
      "7                31\n",
      "8                35\n",
      "9                39\n",
      "10               43,     just_sum_column\n",
      "0                 4\n",
      "1                 6\n",
      "2                 8\n",
      "3                10\n",
      "4                12\n",
      "5                15\n",
      "6                17\n",
      "7                19\n",
      "8                21\n",
      "9                23\n",
      "10               26,     just_sum_column\n",
      "0                 9\n",
      "1                13\n",
      "2                17\n",
      "3                21\n",
      "4                25\n",
      "5                29\n",
      "6                33\n",
      "7                37\n",
      "8                41\n",
      "9                45\n",
      "10               49,     just_sum_column\n",
      "0                 7\n",
      "1                 9\n",
      "2                11\n",
      "3                13\n",
      "4                15\n",
      "5                17\n",
      "6                19\n",
      "7                21\n",
      "8                23\n",
      "9                25\n",
      "10               27\n",
      "11               29\n",
      "12               31\n",
      "13               33,     just_sum_column\n",
      "0                 5\n",
      "1                 8\n",
      "2                11\n",
      "3                14\n",
      "4                17\n",
      "5                20\n",
      "6                23\n",
      "7                26\n",
      "8                29\n",
      "9                32\n",
      "10               35\n",
      "11               38\n",
      "12               41\n",
      "13               44\n",
      "14               48,     just_sum_column\n",
      "0                 4\n",
      "1                 6\n",
      "2                 9\n",
      "3                12\n",
      "4                15\n",
      "5                18\n",
      "6                21\n",
      "7                24\n",
      "8                27\n",
      "9                30\n",
      "10               33\n",
      "11               36\n",
      "12               39\n",
      "13               42,    just_sum_column\n",
      "0                9\n",
      "1               13\n",
      "2               17\n",
      "3               21\n",
      "4               25\n",
      "5               30\n",
      "6               34\n",
      "7               38\n",
      "8               42\n",
      "9               47,     just_sum_column\n",
      "0                 5\n",
      "1                 7\n",
      "2                10\n",
      "3                13\n",
      "4                15\n",
      "5                18\n",
      "6                21\n",
      "7                23\n",
      "8                26\n",
      "9                29\n",
      "10               31\n",
      "11               34\n",
      "12               37\n",
      "13               39\n",
      "14               42\n",
      "15               45\n",
      "16               48,     just_sum_column\n",
      "0                 8\n",
      "1                10\n",
      "2                12\n",
      "3                14\n",
      "4                16\n",
      "5                18\n",
      "6                20\n",
      "7                22\n",
      "8                25\n",
      "9                27\n",
      "10               29\n",
      "11               31\n",
      "12               33\n",
      "13               35\n",
      "14               37\n",
      "15               39\n",
      "16               42,     just_sum_column\n",
      "0                 0\n",
      "1                 3\n",
      "2                 7\n",
      "3                11\n",
      "4                14\n",
      "5                18\n",
      "6                22\n",
      "7                25\n",
      "8                29\n",
      "9                33\n",
      "10               37,     just_sum_column\n",
      "0                 5\n",
      "1                 6\n",
      "2                 7\n",
      "3                 8\n",
      "4                 9\n",
      "5                10\n",
      "6                11\n",
      "7                12\n",
      "8                13\n",
      "9                14\n",
      "10               15\n",
      "11               16\n",
      "12               17\n",
      "13               18\n",
      "14               19\n",
      "15               20\n",
      "16               22,    just_sum_column\n",
      "0                5\n",
      "1                7\n",
      "2                9\n",
      "3               11\n",
      "4               13\n",
      "5               16\n",
      "6               18\n",
      "7               20\n",
      "8               22\n",
      "9               25,    just_sum_column\n",
      "0                7\n",
      "1                8\n",
      "2               10\n",
      "3               11\n",
      "4               13\n",
      "5               14\n",
      "6               16\n",
      "7               17\n",
      "8               19\n",
      "9               21,     just_sum_column\n",
      "0                 1\n",
      "1                 3\n",
      "2                 5\n",
      "3                 7\n",
      "4                10\n",
      "5                12\n",
      "6                14\n",
      "7                16\n",
      "8                19\n",
      "9                21\n",
      "10               23\n",
      "11               25\n",
      "12               28\n",
      "13               30\n",
      "14               32\n",
      "15               35,     just_sum_column\n",
      "0                 7\n",
      "1                 7\n",
      "2                 8\n",
      "3                 9\n",
      "4                10\n",
      "5                11\n",
      "6                12\n",
      "7                13\n",
      "8                13\n",
      "9                14\n",
      "10               15\n",
      "11               16\n",
      "12               17\n",
      "13               18\n",
      "14               19\n",
      "15               20]\n"
     ]
    }
   ],
   "source": [
    "data = generate_dataframe(4)\n",
    "print(data)"
   ]
  },
  {
   "cell_type": "markdown",
   "metadata": {},
   "source": [
    "6) C помощью разработанного алгоритма и возможностей Dask.DataFrame отсортировать данные, которые обрабатывались на сминаере по Dask.DataFrame (столбцы: ,id,names,amount,new) по столбцу amount."
   ]
  }
 ],
 "metadata": {
  "kernelspec": {
   "display_name": "Python 3",
   "language": "python",
   "name": "python3"
  },
  "language_info": {
   "codemirror_mode": {
    "name": "ipython",
    "version": 3
   },
   "file_extension": ".py",
   "mimetype": "text/x-python",
   "name": "python",
   "nbconvert_exporter": "python",
   "pygments_lexer": "ipython3",
   "version": "3.6.4"
  }
 },
 "nbformat": 4,
 "nbformat_minor": 2
}
