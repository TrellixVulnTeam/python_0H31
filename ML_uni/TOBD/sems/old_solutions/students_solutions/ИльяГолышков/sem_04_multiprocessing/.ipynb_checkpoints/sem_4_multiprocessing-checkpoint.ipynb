{
 "cells": [
  {
   "cell_type": "code",
   "execution_count": 1,
   "metadata": {},
   "outputs": [],
   "source": [
    "import multiprocessing as mp\n",
    "from collections import Counter\n",
    "import re\n",
    "import os"
   ]
  },
  {
   "cell_type": "markdown",
   "metadata": {},
   "source": [
    "1) Подсчитать, сколько раз встречается каждая из русских букв в текстовом файле. Применить функцию к файлу 'Tolstoy Lev. Voyna i mir. Kniga 1 - BooksCafe.Net.txt' "
   ]
  },
  {
   "cell_type": "code",
   "execution_count": 4,
   "metadata": {
    "scrolled": true
   },
   "outputs": [],
   "source": [
    "def count_chars_file(file):\n",
    "    with open(\"../data/text/{0}\".format(file), \"r\") as txt:\n",
    "        result = Counter()\n",
    "        for line in txt:\n",
    "            line = line.lower()\n",
    "            a = [i for i in line if re.match(\"[а-я]+\", i)]\n",
    "            result += Counter(a)\n",
    "    return result"
   ]
  },
  {
   "cell_type": "code",
   "execution_count": 5,
   "metadata": {},
   "outputs": [
    {
     "data": {
      "text/plain": [
       "Counter({'с': 61050,\n",
       "         'п': 29287,\n",
       "         'а': 97839,\n",
       "         'и': 75749,\n",
       "         'б': 20531,\n",
       "         'о': 131184,\n",
       "         'ч': 16468,\n",
       "         'т': 66898,\n",
       "         'к': 39920,\n",
       "         'л': 58155,\n",
       "         'н': 75573,\n",
       "         'г': 23341,\n",
       "         'у': 32184,\n",
       "         'в': 52779,\n",
       "         'е': 95018,\n",
       "         'й': 13403,\n",
       "         'э': 3600,\n",
       "         'р': 51223,\n",
       "         'ж': 12046,\n",
       "         'д': 35378,\n",
       "         'х': 9985,\n",
       "         'ф': 2227,\n",
       "         'м': 34933,\n",
       "         'я': 26303,\n",
       "         'ы': 22020,\n",
       "         'ь': 23191,\n",
       "         'з': 20113,\n",
       "         'ю': 7581,\n",
       "         'щ': 3336,\n",
       "         'ш': 11266,\n",
       "         'ц': 4090,\n",
       "         'ъ': 521})"
      ]
     },
     "execution_count": 5,
     "metadata": {},
     "output_type": "execute_result"
    }
   ],
   "source": [
    "count_chars_file(\"../data/text/Tolstoy Lev. Voyna i mir. Kniga 1 - BooksCafe.Net.txt\")"
   ]
  },
  {
   "cell_type": "code",
   "execution_count": 8,
   "metadata": {
    "scrolled": true
   },
   "outputs": [
    {
     "name": "stdout",
     "output_type": "stream",
     "text": [
      "4.08 s ± 29.1 ms per loop (mean ± std. dev. of 7 runs, 1 loop each)\n"
     ]
    }
   ],
   "source": [
    "%%timeit\n",
    "count_chars_file(\"../data/text/Tolstoy Lev. Voyna i mir. Kniga 1 - BooksCafe.Net.txt\")"
   ]
  },
  {
   "cell_type": "markdown",
   "metadata": {},
   "source": [
    "2) Подсчитать, сколько раз встречается каждая из русских букв во всех  текстовых файлах, лежащих в папке 'text'. При реализации выделить фукнцию, которая суммирует результаты обработки отдельных файлов. Определить за каое время решается задача для всех файлов из папки 'text'."
   ]
  },
  {
   "cell_type": "code",
   "execution_count": 11,
   "metadata": {},
   "outputs": [],
   "source": [
    "files = os.listdir(\"../data/text/\")"
   ]
  },
  {
   "cell_type": "code",
   "execution_count": 14,
   "metadata": {},
   "outputs": [
    {
     "name": "stdout",
     "output_type": "stream",
     "text": [
      "33.8 s ± 565 ms per loop (mean ± std. dev. of 7 runs, 1 loop each)\n"
     ]
    }
   ],
   "source": [
    "%%timeit\n",
    "result_all = Counter()\n",
    "for i in files:\n",
    "    result_all += count_chars_file(i)"
   ]
  },
  {
   "cell_type": "code",
   "execution_count": 13,
   "metadata": {
    "scrolled": true
   },
   "outputs": [
    {
     "data": {
      "text/plain": [
       "Counter({'с': 528249,\n",
       "         'п': 261291,\n",
       "         'а': 784852,\n",
       "         'и': 659252,\n",
       "         'б': 169798,\n",
       "         'о': 1117484,\n",
       "         'ч': 166946,\n",
       "         'т': 610901,\n",
       "         'к': 322315,\n",
       "         'л': 461034,\n",
       "         'н': 643029,\n",
       "         'г': 183767,\n",
       "         'у': 269110,\n",
       "         'в': 468208,\n",
       "         'е': 856915,\n",
       "         'й': 103544,\n",
       "         'э': 32590,\n",
       "         'р': 414101,\n",
       "         'ж': 107274,\n",
       "         'д': 299571,\n",
       "         'х': 79354,\n",
       "         'ф': 18419,\n",
       "         'м': 305385,\n",
       "         'з': 159415,\n",
       "         'я': 212182,\n",
       "         'ь': 197395,\n",
       "         'ы': 174732,\n",
       "         'ю': 61580,\n",
       "         'ш': 85560,\n",
       "         'щ': 29041,\n",
       "         'ц': 32633,\n",
       "         'ъ': 2961})"
      ]
     },
     "execution_count": 13,
     "metadata": {},
     "output_type": "execute_result"
    }
   ],
   "source": [
    "result_all"
   ]
  },
  {
   "cell_type": "markdown",
   "metadata": {},
   "source": [
    "3) Решить задачу 2, распараллелив вычисления с помощью модуля multiprocessing. Для обарботки каждого файла создать свой собственный процес. Определить за каое время решается задача для всех файлов из папки 'text'."
   ]
  },
  {
   "cell_type": "code",
   "execution_count": 22,
   "metadata": {},
   "outputs": [
    {
     "name": "stdout",
     "output_type": "stream",
     "text": [
      "Overwriting count_char_.py\n"
     ]
    }
   ],
   "source": [
    "%%file count_char_.py\n",
    "\n",
    "from collections import Counter\n",
    "\n",
    "def count_chars_file(file, output):\n",
    "    with open(\"../data/text/{0}\".format(file), \"r\") as txt:\n",
    "        result = Counter()\n",
    "        for line in txt:\n",
    "            line = line.lower()\n",
    "            a = [i for i in line if re.match(\"[а-я]+\", i)]\n",
    "            result += Counter(a)\n",
    "    output.put(result)"
   ]
  },
  {
   "cell_type": "code",
   "execution_count": 18,
   "metadata": {},
   "outputs": [],
   "source": [
    "import count_char_"
   ]
  },
  {
   "cell_type": "code",
   "execution_count": 23,
   "metadata": {},
   "outputs": [],
   "source": [
    "output = mp.Queue()\n",
    "processes = [mp.Process(target=count_char_.count_chars_file, args=(file, output)) for file in files]"
   ]
  },
  {
   "cell_type": "code",
   "execution_count": 24,
   "metadata": {},
   "outputs": [],
   "source": [
    "for p in processes:\n",
    "    p.start()"
   ]
  },
  {
   "cell_type": "code",
   "execution_count": 25,
   "metadata": {},
   "outputs": [],
   "source": [
    "for p in processes:\n",
    "    p.join()"
   ]
  }
 ],
 "metadata": {
  "kernelspec": {
   "display_name": "Python 3",
   "language": "python",
   "name": "python3"
  },
  "language_info": {
   "codemirror_mode": {
    "name": "ipython",
    "version": 3
   },
   "file_extension": ".py",
   "mimetype": "text/x-python",
   "name": "python",
   "nbconvert_exporter": "python",
   "pygments_lexer": "ipython3",
   "version": "3.6.5"
  }
 },
 "nbformat": 4,
 "nbformat_minor": 2
}
