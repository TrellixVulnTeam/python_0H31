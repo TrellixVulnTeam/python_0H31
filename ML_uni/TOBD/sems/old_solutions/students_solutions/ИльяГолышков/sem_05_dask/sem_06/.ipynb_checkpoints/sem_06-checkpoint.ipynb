{
 "cells": [
  {
   "cell_type": "code",
   "execution_count": 416,
   "metadata": {},
   "outputs": [],
   "source": [
    "import dask\n",
    "import dask.dataframe as ddf\n",
    "from dask import delayed\n",
    "import numpy as np\n",
    "import dask.array as da\n",
    "import pandas as pd"
   ]
  },
  {
   "cell_type": "markdown",
   "metadata": {},
   "source": [
    "1) Реализовать алгоритм слияния n(n=2**k) отсортированных списков (произвольной длины) в один отсортированный список"
   ]
  },
  {
   "cell_type": "code",
   "execution_count": 407,
   "metadata": {},
   "outputs": [],
   "source": [
    "a = [2, 2, 2, 10, 50]\n",
    "b = [0, 0, 10]\n",
    "c = [1, 2]\n",
    "f = [0, 5]\n",
    "d = [0, 100, 101]"
   ]
  },
  {
   "cell_type": "code",
   "execution_count": 412,
   "metadata": {},
   "outputs": [],
   "source": [
    "def merge_list(lists):\n",
    "    \n",
    "    list_1 = lists.pop(0)\n",
    "    list_2 = lists.pop(0)\n",
    "    result = list()\n",
    "    flag = True\n",
    "    \n",
    "    y = list_2.pop(0)\n",
    "            \n",
    "    for x in list_1:\n",
    "        while x > y and flag == True:\n",
    "            result.append(y)\n",
    "            if len(list_2) == 0:\n",
    "                flag = False\n",
    "                break\n",
    "            y = list_2.pop(0)\n",
    "        result.append(x)\n",
    "        \n",
    "    \n",
    "    if y >= result[-1]:\n",
    "        result.append(y)\n",
    "        for j in list_2:\n",
    "            result.append(j)\n",
    "            \n",
    "    if len(lists) == 0:\n",
    "        return result\n",
    "    else:\n",
    "        a = lists\n",
    "        a.insert(0, result)\n",
    "        return merge_list(a)"
   ]
  },
  {
   "cell_type": "code",
   "execution_count": 409,
   "metadata": {},
   "outputs": [
    {
     "data": {
      "text/plain": [
       "[0, 0, 2, 2, 2, 5, 10, 50, 100, 101]"
      ]
     },
     "execution_count": 409,
     "metadata": {},
     "output_type": "execute_result"
    }
   ],
   "source": [
    "merge_list([a, d, f])"
   ]
  },
  {
   "cell_type": "markdown",
   "metadata": {},
   "source": [
    "2) С помощью Dask реализовать генерацию n отсортированных списков целых значений (для каждого списка задается собственная длина) и сохранение каждого списка в отдельный файл (в файле хранится 3 столбца: номер_спска, номер_по_порядку, значение. "
   ]
  },
  {
   "cell_type": "code",
   "execution_count": 433,
   "metadata": {},
   "outputs": [],
   "source": [
    "def get_array(lenght):\n",
    "    arr = da.random.randint(0, 100 , size=lenght, chunks=(100))\n",
    "    return list(np.sort(arr))\n",
    "\n",
    "def get_n_arrays(n, lenghts):\n",
    "    output = []\n",
    "    for i in range(n):\n",
    "        output.append(get_array(lenght=lenghts[i]))\n",
    "    return output"
   ]
  },
  {
   "cell_type": "code",
   "execution_count": 378,
   "metadata": {},
   "outputs": [],
   "source": [
    "def get_table(n, lenghts):\n",
    "    table = []\n",
    "    for i in range(n):\n",
    "        arr = get_array(lenght=lenghts[i])\n",
    "        for j in range(len(arr)):\n",
    "            table.append([i, j, arr[j]])\n",
    "    return table"
   ]
  },
  {
   "cell_type": "code",
   "execution_count": 379,
   "metadata": {},
   "outputs": [],
   "source": [
    "def save_arr(n, lenghts):\n",
    "    headers = ['list_id', 'element_id', 'element_value']\n",
    "    table = []\n",
    "    for i in range(n):\n",
    "        arr = get_array(lenght=lenghts[i])\n",
    "        for j in range(len(arr)):\n",
    "            table.append([i, j, arr[j]])\n",
    "        dframe = pd.DataFrame(table, columns=headers)\n",
    "        dframe.to_csv('arr_{}.csv'.format(i), index = False)\n",
    "        table = da.array([])"
   ]
  },
  {
   "cell_type": "code",
   "execution_count": 376,
   "metadata": {},
   "outputs": [],
   "source": [
    "save_arr(3, [5, 7, 8])"
   ]
  },
  {
   "cell_type": "code",
   "execution_count": 365,
   "metadata": {
    "collapsed": true
   },
   "outputs": [
    {
     "data": {
      "text/plain": [
       "[[0, 0, 0],\n",
       " [0, 1, 18],\n",
       " [0, 2, 32],\n",
       " [0, 3, 35],\n",
       " [0, 4, 86],\n",
       " [1, 0, 1],\n",
       " [1, 1, 1],\n",
       " [1, 2, 10],\n",
       " [1, 3, 36],\n",
       " [1, 4, 37],\n",
       " [1, 5, 58],\n",
       " [1, 6, 62],\n",
       " [2, 0, 37],\n",
       " [2, 1, 40],\n",
       " [2, 2, 42],\n",
       " [2, 3, 45],\n",
       " [2, 4, 48],\n",
       " [2, 5, 48],\n",
       " [2, 6, 84],\n",
       " [2, 7, 92]]"
      ]
     },
     "execution_count": 365,
     "metadata": {},
     "output_type": "execute_result"
    }
   ],
   "source": [
    "get_table(3, [5, 7, 8])"
   ]
  },
  {
   "cell_type": "markdown",
   "metadata": {},
   "source": [
    "3) Применить решение задачи 1 для сортировки данных, сгенерированных в задаче 2"
   ]
  },
  {
   "cell_type": "code",
   "execution_count": 385,
   "metadata": {},
   "outputs": [
    {
     "data": {
      "text/plain": [
       "[0, 11, 19, 28, 33, 33, 41, 46, 52, 54, 62, 96, 97, 99]"
      ]
     },
     "execution_count": 385,
     "metadata": {},
     "output_type": "execute_result"
    }
   ],
   "source": [
    "merge_list(get_n_arrays(2, [4, 10]))"
   ]
  },
  {
   "cell_type": "markdown",
   "metadata": {},
   "source": [
    "4) При помощи dask.delayed распараллелить решение задачи 1 и применить к данным, сгенерированным в задаче 2"
   ]
  },
  {
   "cell_type": "code",
   "execution_count": 431,
   "metadata": {},
   "outputs": [],
   "source": [
    "@delayed\n",
    "def merge_list_4(lists):\n",
    "    \n",
    "    list_1 = lists.pop(0)\n",
    "    list_2 = lists.pop(0)\n",
    "    result = list()\n",
    "    flag = True\n",
    "    \n",
    "    y = list_2.pop(0)\n",
    "            \n",
    "    for x in list_1:\n",
    "        while x > y and flag == True:\n",
    "            result.append(y)\n",
    "            if len(list_2) == 0:\n",
    "                flag = False\n",
    "                break\n",
    "            y = list_2.pop(0)\n",
    "        result.append(x)\n",
    "        \n",
    "    \n",
    "    if y >= result[-1]:\n",
    "        result.append(y)\n",
    "        for j in list_2:\n",
    "            result.append(j)\n",
    "            \n",
    "    return result"
   ]
  },
  {
   "cell_type": "code",
   "execution_count": 435,
   "metadata": {},
   "outputs": [],
   "source": [
    "z = delayed(merge_list_4)(get_n_arrays(2, [4, 10]))"
   ]
  },
  {
   "cell_type": "code",
   "execution_count": 436,
   "metadata": {},
   "outputs": [
    {
     "data": {
      "text/plain": [
       "[2, 10, 21, 53, 68, 72, 75, 75, 78, 83, 85, 87, 89, 97]"
      ]
     },
     "execution_count": 436,
     "metadata": {},
     "output_type": "execute_result"
    }
   ],
   "source": [
    "z.compute()"
   ]
  },
  {
   "cell_type": "code",
   "execution_count": 437,
   "metadata": {},
   "outputs": [],
   "source": [
    "n = 4\n",
    "out = get_n_arrays(n, [4, 10])\n",
    "results = []\n",
    "for i in range(n//2):\n",
    "    y = dask.delayed(merge_list_4)(out)\n",
    "    results.append(y)\n",
    "    \n",
    "result = dask.compute(*results)"
   ]
  },
  {
   "cell_type": "code",
   "execution_count": 439,
   "metadata": {},
   "outputs": [
    {
     "data": {
      "text/plain": [
       "[3, 4, 11, 15, 29, 30, 41, 44, 46, 55, 60, 61, 82, 84]"
      ]
     },
     "execution_count": 439,
     "metadata": {},
     "output_type": "execute_result"
    }
   ],
   "source": [
    "result[0]"
   ]
  },
  {
   "cell_type": "markdown",
   "metadata": {},
   "source": [
    "5) Модифицировать 4 - обрабатывать данные тем же алгоритмом с помощью pandas.DataFrame"
   ]
  },
  {
   "cell_type": "code",
   "execution_count": null,
   "metadata": {},
   "outputs": [],
   "source": []
  },
  {
   "cell_type": "markdown",
   "metadata": {},
   "source": [
    "6) C помощью разработанного алгоритма и возможностей Dask.DataFrame отсортировать данные, которые обрабатывались на сминаере по Dask.DataFrame (столбцы: ,id,names,amount,new) по столбцу amount."
   ]
  },
  {
   "cell_type": "code",
   "execution_count": null,
   "metadata": {},
   "outputs": [],
   "source": []
  }
 ],
 "metadata": {
  "kernelspec": {
   "display_name": "Python 3",
   "language": "python",
   "name": "python3"
  },
  "language_info": {
   "codemirror_mode": {
    "name": "ipython",
    "version": 3
   },
   "file_extension": ".py",
   "mimetype": "text/x-python",
   "name": "python",
   "nbconvert_exporter": "python",
   "pygments_lexer": "ipython3",
   "version": "3.6.5"
  }
 },
 "nbformat": 4,
 "nbformat_minor": 2
}
