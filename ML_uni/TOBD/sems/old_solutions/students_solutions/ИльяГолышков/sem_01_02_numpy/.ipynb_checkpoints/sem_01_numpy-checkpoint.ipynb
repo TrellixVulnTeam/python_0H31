{
 "cells": [
  {
   "cell_type": "code",
   "execution_count": 1,
   "metadata": {},
   "outputs": [],
   "source": [
    "import numpy as np"
   ]
  },
  {
   "cell_type": "markdown",
   "metadata": {},
   "source": [
    "1) Создать в numpy матрицу 11 на 7 вида: [[1, 2, 3, ..., 7], [11, 12, 13, ..., 17], [21, 22, 23, ..., 27], ..., [101, 102, 103, ..., 107]]"
   ]
  },
  {
   "cell_type": "code",
   "execution_count": 2,
   "metadata": {
    "scrolled": true
   },
   "outputs": [
    {
     "data": {
      "text/plain": [
       "array([[  1,   2,   3,   4,   5,   6,   7],\n",
       "       [ 11,  12,  13,  14,  15,  16,  17],\n",
       "       [ 21,  22,  23,  24,  25,  26,  27],\n",
       "       [ 31,  32,  33,  34,  35,  36,  37],\n",
       "       [ 41,  42,  43,  44,  45,  46,  47],\n",
       "       [ 51,  52,  53,  54,  55,  56,  57],\n",
       "       [ 61,  62,  63,  64,  65,  66,  67],\n",
       "       [ 71,  72,  73,  74,  75,  76,  77],\n",
       "       [ 81,  82,  83,  84,  85,  86,  87],\n",
       "       [ 91,  92,  93,  94,  95,  96,  97],\n",
       "       [101, 102, 103, 104, 105, 106, 107]])"
      ]
     },
     "execution_count": 2,
     "metadata": {},
     "output_type": "execute_result"
    }
   ],
   "source": [
    "a = np.arange(1, 111).reshape(11, 10)[:, :7]\n",
    "a "
   ]
  },
  {
   "cell_type": "code",
   "execution_count": 3,
   "metadata": {
    "scrolled": false
   },
   "outputs": [
    {
     "data": {
      "text/plain": [
       "array([[0, 0, 0, 0, 0, 0, 0],\n",
       "       [0, 0, 0, 0, 0, 0, 0],\n",
       "       [0, 0, 0, 0, 0, 0, 0],\n",
       "       [0, 0, 0, 0, 0, 0, 0],\n",
       "       [0, 0, 0, 0, 0, 0, 0],\n",
       "       [0, 0, 0, 0, 0, 0, 0],\n",
       "       [0, 0, 0, 0, 0, 0, 0],\n",
       "       [0, 0, 0, 0, 0, 0, 0],\n",
       "       [0, 0, 0, 0, 0, 0, 0],\n",
       "       [0, 0, 0, 0, 0, 0, 0],\n",
       "       [0, 0, 0, 0, 0, 0, 0]])"
      ]
     },
     "execution_count": 3,
     "metadata": {},
     "output_type": "execute_result"
    }
   ],
   "source": [
    "a = np.arange(1,8)\n",
    "b = np.arange(11,18)\n",
    "a, b\n",
    "x = np.zeros((11,7), dtype=np.int)\n",
    "x"
   ]
  },
  {
   "cell_type": "code",
   "execution_count": 4,
   "metadata": {
    "scrolled": true
   },
   "outputs": [
    {
     "data": {
      "text/plain": [
       "array([[1, 2, 3, 4, 5, 6, 7],\n",
       "       [1, 2, 3, 4, 5, 6, 7],\n",
       "       [1, 2, 3, 4, 5, 6, 7],\n",
       "       [1, 2, 3, 4, 5, 6, 7],\n",
       "       [1, 2, 3, 4, 5, 6, 7],\n",
       "       [1, 2, 3, 4, 5, 6, 7],\n",
       "       [1, 2, 3, 4, 5, 6, 7],\n",
       "       [1, 2, 3, 4, 5, 6, 7],\n",
       "       [1, 2, 3, 4, 5, 6, 7],\n",
       "       [1, 2, 3, 4, 5, 6, 7],\n",
       "       [1, 2, 3, 4, 5, 6, 7]])"
      ]
     },
     "execution_count": 4,
     "metadata": {},
     "output_type": "execute_result"
    }
   ],
   "source": [
    "x + a"
   ]
  },
  {
   "cell_type": "code",
   "execution_count": 5,
   "metadata": {},
   "outputs": [],
   "source": [
    "a = np.arange(0, 110, 10).reshape(11,1) + np.arange(1,8)"
   ]
  },
  {
   "cell_type": "markdown",
   "metadata": {},
   "source": [
    "Задание 2"
   ]
  },
  {
   "cell_type": "code",
   "execution_count": 6,
   "metadata": {},
   "outputs": [
    {
     "data": {
      "text/plain": [
       "array([  6,  20,  42,  72, 110, 156, 210, 272, 342])"
      ]
     },
     "execution_count": 6,
     "metadata": {},
     "output_type": "execute_result"
    }
   ],
   "source": [
    "a2 = np.arange(2, 20)\n",
    "a2[a2 % 2 == 0] * a2[a2 % 2 != 0]  "
   ]
  },
  {
   "cell_type": "markdown",
   "metadata": {},
   "source": [
    "3) Приблисзительно рассчитать на какой части интервала от 0 до 10 значение функции x * sin(x) больше 0.5."
   ]
  },
  {
   "cell_type": "code",
   "execution_count": 7,
   "metadata": {},
   "outputs": [],
   "source": [
    "def xsin(x):\n",
    "    return x * np.sin(x)"
   ]
  },
  {
   "cell_type": "code",
   "execution_count": 8,
   "metadata": {},
   "outputs": [
    {
     "data": {
      "text/plain": [
       "0.5"
      ]
     },
     "execution_count": 8,
     "metadata": {},
     "output_type": "execute_result"
    }
   ],
   "source": [
    "a3 = np.arange(0,10)\n",
    "a3[xsin(a3) > 0.5].size / a3.size"
   ]
  },
  {
   "cell_type": "markdown",
   "metadata": {},
   "source": [
    "4) Создать матрицу 8 на 10 из случайных целых (используя модуль numpy.random) чисел из дапозона от 0 до 10 и найти в ней строку, в которой сумма значений минимальна."
   ]
  },
  {
   "cell_type": "code",
   "execution_count": 9,
   "metadata": {},
   "outputs": [
    {
     "name": "stdout",
     "output_type": "stream",
     "text": [
      "[[1 6 8 0 6 8 9 3 7 3]\n",
      " [8 0 7 9 2 7 9 6 5 3]\n",
      " [5 4 7 5 7 7 3 6 1 3]\n",
      " [4 0 6 6 6 0 7 6 0 2]\n",
      " [8 9 8 1 8 0 8 2 3 1]\n",
      " [7 3 7 3 8 8 2 1 6 1]\n",
      " [0 6 1 2 2 9 2 8 6 0]\n",
      " [7 5 6 3 0 6 7 2 1 2]]\n",
      "\n",
      "[0 6 1 2 2 9 2 8 6 0]\n"
     ]
    }
   ],
   "source": [
    "a4 = np.random.randint(0, 10, size = 80).reshape(8,10)\n",
    "print(a4)\n",
    "print()\n",
    "print(a4[a4.sum(axis=1).argmin()])"
   ]
  },
  {
   "cell_type": "markdown",
   "metadata": {},
   "source": [
    "5) Создать две матрицы 30 на 3 из случайных целых чисел из диапазона от 0 до 10 и найти все значения первой матрицы, которые больше соответсвующих (по расположению) значений второй матрицы. Подсчитать сумму этих значений."
   ]
  },
  {
   "cell_type": "code",
   "execution_count": 10,
   "metadata": {},
   "outputs": [
    {
     "data": {
      "text/plain": [
       "248"
      ]
     },
     "execution_count": 10,
     "metadata": {},
     "output_type": "execute_result"
    }
   ],
   "source": [
    "a51 = np.random.randint(0, 10, size = 90).reshape(30, 3)\n",
    "a52 = np.random.randint(0, 10, size = 90).reshape(30, 3)\n",
    "sum(a51[a51 > a52])"
   ]
  },
  {
   "cell_type": "markdown",
   "metadata": {},
   "source": [
    "6) Написать фукнцию, которая для целых значений n и m будет возвращать матрицу размера n на m, имеющую заполнение вида.\n",
    "Пример для 4 на 4:\n",
    "\n",
    "0 1 0 1\n",
    "\n",
    "2 3 2 3\n",
    "\n",
    "0 1 0 1\n",
    "\n",
    "2 3 2 3"
   ]
  },
  {
   "cell_type": "code",
   "execution_count": 11,
   "metadata": {},
   "outputs": [
    {
     "data": {
      "text/plain": [
       "array([[0, 1, 0],\n",
       "       [2, 3, 2],\n",
       "       [0, 1, 0]])"
      ]
     },
     "execution_count": 11,
     "metadata": {},
     "output_type": "execute_result"
    }
   ],
   "source": [
    "def func6(n, m):\n",
    "    n_1 = int(np.ceil(n/2))\n",
    "    m_1 = int(np.ceil(m/2))\n",
    "    a = np.arange(0,4).reshape(2,2)\n",
    "    a = np.tile(a, (n_1,m_1))\n",
    "    return a[:n, :m]\n",
    "\n",
    "func6(3,3)"
   ]
  },
  {
   "cell_type": "markdown",
   "metadata": {},
   "source": [
    "7) Найти все простые числа в пределах ста. (Для решения предлагается использовать Решето Эратосфена) Использовать не более 1 цикла (желательно)."
   ]
  },
  {
   "cell_type": "markdown",
   "metadata": {},
   "source": [
    "Вариант 1"
   ]
  },
  {
   "cell_type": "code",
   "execution_count": 12,
   "metadata": {},
   "outputs": [],
   "source": [
    "from math import sqrt"
   ]
  },
  {
   "cell_type": "code",
   "execution_count": 13,
   "metadata": {},
   "outputs": [],
   "source": [
    "def prime(a7, end, p):\n",
    "    a7 = a7[2:]\n",
    "    while p<int(sqrt(end)):\n",
    "        a7_1 = a7[a7 < 2*p]\n",
    "        a7_2 = a7[a7 >= 2*p] \n",
    "        a7_2 = a7_2[a7_2 % p != 0]\n",
    "        a7 = np.append(a7_1, a7_2)\n",
    "        p = a7[a7 > p][0]\n",
    "    return a7"
   ]
  },
  {
   "cell_type": "code",
   "execution_count": 14,
   "metadata": {},
   "outputs": [
    {
     "data": {
      "text/plain": [
       "array([     0,      1,      2, ..., 999997, 999998, 999999])"
      ]
     },
     "execution_count": 14,
     "metadata": {},
     "output_type": "execute_result"
    }
   ],
   "source": [
    "a7 = np.arange(1000000)\n",
    "a7"
   ]
  },
  {
   "cell_type": "code",
   "execution_count": 15,
   "metadata": {
    "scrolled": true
   },
   "outputs": [
    {
     "name": "stdout",
     "output_type": "stream",
     "text": [
      "Wall time: 200 ms\n"
     ]
    },
    {
     "data": {
      "text/plain": [
       "array([     2,      3,      5, ..., 999961, 999979, 999983])"
      ]
     },
     "execution_count": 15,
     "metadata": {},
     "output_type": "execute_result"
    }
   ],
   "source": [
    "%time prime(a7, len(a7), 2)"
   ]
  },
  {
   "cell_type": "markdown",
   "metadata": {},
   "source": [
    "Вариант 2"
   ]
  },
  {
   "cell_type": "code",
   "execution_count": 16,
   "metadata": {},
   "outputs": [],
   "source": [
    "def sieve(n):\n",
    "    flags = np.ones(n, dtype = bool)\n",
    "    flags[0] = flags[1] = False\n",
    "    for i in range(2, n):\n",
    "        if flags[i]:\n",
    "            flags[i*i::i] = False\n",
    "    return np.flatnonzero(flags)"
   ]
  },
  {
   "cell_type": "code",
   "execution_count": 17,
   "metadata": {},
   "outputs": [
    {
     "name": "stdout",
     "output_type": "stream",
     "text": [
      "99 ms ± 867 µs per loop (mean ± std. dev. of 7 runs, 10 loops each)\n"
     ]
    }
   ],
   "source": [
    "%timeit sieve(1000000)"
   ]
  },
  {
   "cell_type": "markdown",
   "metadata": {},
   "source": [
    "8) Задан произвольный массив numpy (например массив из 100 случайных числе от 0 до 1). Необходимо найти в нем число наиболее близкое к заданному."
   ]
  },
  {
   "cell_type": "code",
   "execution_count": 18,
   "metadata": {},
   "outputs": [],
   "source": [
    "import math"
   ]
  },
  {
   "cell_type": "code",
   "execution_count": 19,
   "metadata": {},
   "outputs": [],
   "source": [
    "def search_near(n):\n",
    "    arr8 = np.random.randint(0, 100, size=100)\n",
    "    print(arr8)\n",
    "    ind = 0\n",
    "    p = abs(n - abs(arr8[0]))\n",
    "    for i in range(len(arr8)):\n",
    "        if p > abs(n - abs(arr8[i])):\n",
    "            p = abs(n - abs(arr8[i]))\n",
    "            ind = i\n",
    "        if p == 0:\n",
    "            break\n",
    "    return ind, arr8[ind]"
   ]
  },
  {
   "cell_type": "code",
   "execution_count": 20,
   "metadata": {},
   "outputs": [],
   "source": [
    "# Еще можно использовать argmin()"
   ]
  },
  {
   "cell_type": "code",
   "execution_count": 21,
   "metadata": {},
   "outputs": [
    {
     "name": "stdout",
     "output_type": "stream",
     "text": [
      "[59 64 90 66 99 26 68 61 47 15 83 84 43 10 33  6 40  9 64 90 31 66 46 19\n",
      " 63 82  1 75 77 70 30 15 10 52 68 34 17 82 18  1 70 30 38 15 75 60 94  2\n",
      " 29 84 58  9 68 90 75 93 54 71 92  2 63 31 34 93 96 44 70 97 62 82  5 50\n",
      " 74 24 63 73 78 16 47 51 76 16 98 99 64 28 68 73 44 43  9 91 58 46 46 37\n",
      " 32 47 54 23]\n"
     ]
    },
    {
     "data": {
      "text/plain": [
       "(25, 82)"
      ]
     },
     "execution_count": 21,
     "metadata": {},
     "output_type": "execute_result"
    }
   ],
   "source": [
    "search_near(81)"
   ]
  },
  {
   "cell_type": "markdown",
   "metadata": {},
   "source": [
    "9) При помощи прихотливого индексирования для двухмерного массива размерности (20, 20), состоящего из случайных целых чисел в пределах от 0 до 10 получить массив элементов находящихся на диагонали, проходящей над основной диагональю."
   ]
  },
  {
   "cell_type": "code",
   "execution_count": 22,
   "metadata": {
    "scrolled": true
   },
   "outputs": [
    {
     "data": {
      "text/plain": [
       "array([[6, 3, 0, 8, 5, 5, 9, 0, 2, 7, 5, 0, 3, 5, 3, 4, 5, 2, 4, 0],\n",
       "       [2, 3, 2, 1, 5, 4, 5, 2, 0, 2, 7, 2, 8, 2, 7, 6, 0, 2, 0, 2],\n",
       "       [4, 0, 7, 0, 2, 6, 8, 7, 1, 5, 1, 1, 5, 1, 4, 1, 4, 1, 2, 8],\n",
       "       [3, 5, 8, 3, 7, 0, 7, 5, 2, 0, 2, 8, 9, 4, 4, 4, 7, 6, 5, 2],\n",
       "       [9, 6, 5, 4, 4, 5, 3, 5, 0, 8, 0, 7, 2, 2, 1, 9, 6, 4, 0, 2],\n",
       "       [3, 2, 9, 9, 7, 3, 6, 9, 2, 6, 9, 5, 1, 7, 3, 3, 2, 9, 7, 2],\n",
       "       [1, 6, 8, 0, 2, 4, 3, 2, 5, 0, 3, 5, 8, 0, 2, 9, 3, 4, 9, 4],\n",
       "       [2, 4, 4, 0, 9, 2, 4, 9, 9, 0, 2, 2, 9, 2, 5, 0, 8, 5, 7, 6],\n",
       "       [3, 2, 9, 5, 7, 0, 0, 9, 8, 2, 5, 1, 6, 6, 2, 9, 4, 5, 0, 1],\n",
       "       [9, 7, 4, 1, 3, 3, 6, 4, 4, 0, 4, 4, 2, 3, 2, 1, 5, 0, 0, 5],\n",
       "       [5, 0, 1, 6, 5, 7, 3, 1, 0, 9, 3, 8, 5, 5, 2, 9, 4, 0, 8, 5],\n",
       "       [7, 7, 9, 6, 7, 1, 9, 8, 5, 7, 1, 8, 1, 1, 5, 9, 4, 3, 9, 4],\n",
       "       [5, 7, 8, 9, 8, 0, 6, 4, 9, 9, 9, 1, 9, 0, 5, 0, 6, 1, 9, 1],\n",
       "       [0, 5, 9, 1, 6, 8, 0, 0, 2, 2, 8, 6, 7, 6, 5, 1, 0, 9, 3, 3],\n",
       "       [9, 7, 7, 0, 0, 3, 5, 4, 5, 3, 7, 7, 4, 1, 8, 7, 6, 6, 2, 1],\n",
       "       [3, 5, 3, 7, 9, 6, 4, 1, 2, 6, 1, 9, 6, 2, 8, 0, 4, 5, 6, 6],\n",
       "       [9, 1, 2, 0, 5, 5, 5, 8, 0, 4, 9, 5, 3, 4, 2, 2, 2, 2, 9, 5],\n",
       "       [7, 1, 3, 7, 3, 6, 6, 6, 3, 8, 0, 6, 8, 7, 2, 4, 1, 7, 0, 5],\n",
       "       [1, 8, 0, 5, 8, 3, 8, 7, 0, 0, 0, 0, 8, 6, 4, 5, 4, 3, 1, 1],\n",
       "       [2, 7, 3, 8, 7, 4, 9, 0, 9, 0, 3, 1, 1, 7, 1, 7, 1, 9, 4, 2]])"
      ]
     },
     "execution_count": 22,
     "metadata": {},
     "output_type": "execute_result"
    }
   ],
   "source": [
    "arr9 = np.random.randint(0, 10, size=400).reshape(20,20)\n",
    "arr9"
   ]
  },
  {
   "cell_type": "code",
   "execution_count": 23,
   "metadata": {},
   "outputs": [
    {
     "data": {
      "text/plain": [
       "([1, 2, 3, 4, 5, 6, 7, 8, 9, 10, 11, 12, 13, 14, 15, 16, 17, 18, 19],\n",
       " [0, 1, 2, 3, 4, 5, 6, 7, 8, 9, 10, 11, 12, 13, 14, 15, 16, 17, 18])"
      ]
     },
     "execution_count": 23,
     "metadata": {},
     "output_type": "execute_result"
    }
   ],
   "source": [
    "mass_ind = []\n",
    "row = [i for i in range(1,20)]\n",
    "col = [i for i in range(0,19)]\n",
    "row, col"
   ]
  },
  {
   "cell_type": "code",
   "execution_count": 24,
   "metadata": {},
   "outputs": [
    {
     "data": {
      "text/plain": [
       "array([2, 0, 8, 4, 7, 4, 4, 9, 4, 9, 1, 1, 7, 1, 8, 2, 1, 3, 4])"
      ]
     },
     "execution_count": 24,
     "metadata": {},
     "output_type": "execute_result"
    }
   ],
   "source": [
    "arr9[row,col]"
   ]
  },
  {
   "cell_type": "markdown",
   "metadata": {},
   "source": [
    "10) Имеется массив из 10 названий городов. При помощи прихотливой индексации сгенерировать последовательность из 100 элементов представляющих случайный выбор из названий городов."
   ]
  },
  {
   "cell_type": "code",
   "execution_count": 25,
   "metadata": {},
   "outputs": [],
   "source": [
    "arr10 = np.array([\"Химки\", \"Москва\", \"Рязань\", \"Воронеж\", \n",
    "                  \"Санкт-Петербург\", \"Зеленоград\", \"Долгопрудный\", \"Казань\", \"Клин\", \"Тверь\"])"
   ]
  },
  {
   "cell_type": "code",
   "execution_count": 26,
   "metadata": {},
   "outputs": [
    {
     "data": {
      "text/plain": [
       "array([0, 4, 0, 6, 1, 0, 1, 8, 8, 1, 0, 3, 6, 9, 9, 5, 4, 3, 2, 3, 5, 7,\n",
       "       7, 2, 8, 7, 2, 8, 5, 8, 9, 5, 4, 6, 0, 7, 7, 5, 8, 2, 4, 6, 5, 2,\n",
       "       6, 7, 0, 4, 0, 3, 5, 6, 6, 3, 6, 9, 1, 3, 5, 8, 3, 8, 2, 8, 4, 6,\n",
       "       7, 8, 6, 1, 7, 6, 2, 5, 6, 3, 8, 1, 1, 0, 9, 1, 3, 4, 4, 4, 9, 9,\n",
       "       3, 7, 1, 6, 1, 5, 4, 1, 0, 3, 9, 9])"
      ]
     },
     "execution_count": 26,
     "metadata": {},
     "output_type": "execute_result"
    }
   ],
   "source": [
    "arr10_1 = np.random.randint(0, 10, size=100)\n",
    "arr10_1"
   ]
  },
  {
   "cell_type": "code",
   "execution_count": 27,
   "metadata": {},
   "outputs": [
    {
     "data": {
      "text/plain": [
       "array(['Химки', 'Санкт-Петербург', 'Химки', 'Долгопрудный', 'Москва',\n",
       "       'Химки', 'Москва', 'Клин', 'Клин', 'Москва', 'Химки', 'Воронеж',\n",
       "       'Долгопрудный', 'Тверь', 'Тверь', 'Зеленоград', 'Санкт-Петербург',\n",
       "       'Воронеж', 'Рязань', 'Воронеж', 'Зеленоград', 'Казань', 'Казань',\n",
       "       'Рязань', 'Клин', 'Казань', 'Рязань', 'Клин', 'Зеленоград', 'Клин',\n",
       "       'Тверь', 'Зеленоград', 'Санкт-Петербург', 'Долгопрудный', 'Химки',\n",
       "       'Казань', 'Казань', 'Зеленоград', 'Клин', 'Рязань',\n",
       "       'Санкт-Петербург', 'Долгопрудный', 'Зеленоград', 'Рязань',\n",
       "       'Долгопрудный', 'Казань', 'Химки', 'Санкт-Петербург', 'Химки',\n",
       "       'Воронеж', 'Зеленоград', 'Долгопрудный', 'Долгопрудный', 'Воронеж',\n",
       "       'Долгопрудный', 'Тверь', 'Москва', 'Воронеж', 'Зеленоград', 'Клин',\n",
       "       'Воронеж', 'Клин', 'Рязань', 'Клин', 'Санкт-Петербург',\n",
       "       'Долгопрудный', 'Казань', 'Клин', 'Долгопрудный', 'Москва',\n",
       "       'Казань', 'Долгопрудный', 'Рязань', 'Зеленоград', 'Долгопрудный',\n",
       "       'Воронеж', 'Клин', 'Москва', 'Москва', 'Химки', 'Тверь', 'Москва',\n",
       "       'Воронеж', 'Санкт-Петербург', 'Санкт-Петербург', 'Санкт-Петербург',\n",
       "       'Тверь', 'Тверь', 'Воронеж', 'Казань', 'Москва', 'Долгопрудный',\n",
       "       'Москва', 'Зеленоград', 'Санкт-Петербург', 'Москва', 'Химки',\n",
       "       'Воронеж', 'Тверь', 'Тверь'], dtype='<U15')"
      ]
     },
     "execution_count": 27,
     "metadata": {},
     "output_type": "execute_result"
    }
   ],
   "source": [
    "arr10[arr10_1]"
   ]
  }
 ],
 "metadata": {
  "kernelspec": {
   "display_name": "Python 3",
   "language": "python",
   "name": "python3"
  },
  "language_info": {
   "codemirror_mode": {
    "name": "ipython",
    "version": 3
   },
   "file_extension": ".py",
   "mimetype": "text/x-python",
   "name": "python",
   "nbconvert_exporter": "python",
   "pygments_lexer": "ipython3",
   "version": "3.6.5"
  }
 },
 "nbformat": 4,
 "nbformat_minor": 2
}
