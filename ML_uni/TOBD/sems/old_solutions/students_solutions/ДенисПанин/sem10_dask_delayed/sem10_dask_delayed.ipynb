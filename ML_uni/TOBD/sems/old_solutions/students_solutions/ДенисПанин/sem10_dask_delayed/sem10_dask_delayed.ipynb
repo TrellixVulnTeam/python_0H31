{
 "cells": [
  {
   "cell_type": "code",
   "execution_count": 1,
   "metadata": {},
   "outputs": [],
   "source": [
    "import numpy as np\n",
    "import pandas as pd\n",
    "import dask\n",
    "import dask.dataframe as dd\n",
    "from copy import deepcopy"
   ]
  },
  {
   "cell_type": "markdown",
   "metadata": {},
   "source": [
    "1) Реализовать алгоритм слияния n (n=2**k) отсортированных списков (произвольной длины) в один отсортированный список."
   ]
  },
  {
   "cell_type": "code",
   "execution_count": 2,
   "metadata": {},
   "outputs": [],
   "source": [
    "def merge_lists(lists):\n",
    "    min_values = []\n",
    "    merged_list = []\n",
    "    lists = list(deepcopy(lists))\n",
    "    \n",
    "    for l in lists:\n",
    "        min_values.append(l.pop(0))\n",
    "\n",
    "    while len(lists) != 0:\n",
    "        min_val = min(min_values)\n",
    "        min_val_idx = min_values.index(min_val)\n",
    "        merged_list.append(min_values.pop(min_val_idx))\n",
    "\n",
    "        if len(lists[min_val_idx]) == 0:\n",
    "            lists.pop(min_val_idx)\n",
    "        else:\n",
    "            val_to_insert = lists[min_val_idx].pop(0)\n",
    "            min_values.insert(min_val_idx, val_to_insert)\n",
    "\n",
    "    return merged_list"
   ]
  },
  {
   "cell_type": "code",
   "execution_count": 3,
   "metadata": {},
   "outputs": [],
   "source": [
    "a = [2, 4, 11]\n",
    "b = [6, 8, 10]"
   ]
  },
  {
   "cell_type": "code",
   "execution_count": 4,
   "metadata": {},
   "outputs": [
    {
     "data": {
      "text/plain": [
       "[2, 4, 6, 8, 10, 11]"
      ]
     },
     "execution_count": 4,
     "metadata": {},
     "output_type": "execute_result"
    }
   ],
   "source": [
    "merge_lists([a, b])"
   ]
  },
  {
   "cell_type": "markdown",
   "metadata": {},
   "source": [
    "2) С помощью Dask реализовать генерацию n отсортированных списков целых значений (для каждого списка задается собственная длина) и сохранение каждого списка в отдельный файл (в файле хранятся 3 столбца: номерспска, номерпо_порядку, значение)."
   ]
  },
  {
   "cell_type": "code",
   "execution_count": 5,
   "metadata": {},
   "outputs": [],
   "source": [
    "def get_sorted_array(length):\n",
    "    a = np.random.randint(100000, size=length)\n",
    "    return np.cumsum(a)"
   ]
  },
  {
   "cell_type": "code",
   "execution_count": 6,
   "metadata": {},
   "outputs": [
    {
     "data": {
      "text/plain": [
       "array([ 64755, 100554, 197043, 251897, 292356, 298413, 315186, 337719,\n",
       "       437185, 459672])"
      ]
     },
     "execution_count": 6,
     "metadata": {},
     "output_type": "execute_result"
    }
   ],
   "source": [
    "get_sorted_array(10)"
   ]
  },
  {
   "cell_type": "code",
   "execution_count": 7,
   "metadata": {},
   "outputs": [],
   "source": [
    "@dask.delayed\n",
    "def get_random_array(size):\n",
    "    return np.random.randint(100000, size=size)\n",
    "\n",
    "@dask.delayed\n",
    "def add(x, y):\n",
    "    return x+y\n",
    "\n",
    "def get_sorted_array(size):\n",
    "    a = get_random_array(size)\n",
    "    output = []\n",
    "    output.append(a[0])\n",
    "    for i in range(1, size):\n",
    "        output.append(add(output[i-1], a[i]))\n",
    "    return output\n",
    "\n",
    "\n",
    "def get_n_sorted_arrays(array_sizes):\n",
    "    output = []\n",
    "    for size in array_sizes:\n",
    "        output.append(get_sorted_array(size))\n",
    "    return output"
   ]
  },
  {
   "cell_type": "code",
   "execution_count": 8,
   "metadata": {},
   "outputs": [],
   "source": [
    "out = get_n_sorted_arrays([3,4,5])\n",
    "result = dask.compute(*out)"
   ]
  },
  {
   "cell_type": "code",
   "execution_count": 9,
   "metadata": {},
   "outputs": [
    {
     "data": {
      "text/plain": [
       "([90116, 153459, 220982],\n",
       " [74668, 121438, 131297, 148755],\n",
       " [81478, 152511, 251706, 251787, 281870])"
      ]
     },
     "execution_count": 9,
     "metadata": {},
     "output_type": "execute_result"
    }
   ],
   "source": [
    "result"
   ]
  },
  {
   "cell_type": "code",
   "execution_count": 77,
   "metadata": {},
   "outputs": [],
   "source": [
    "@dask.delayed\n",
    "def transform_lists(lst, lst_id):\n",
    "    out = []\n",
    "    for i in range(len(lst)):\n",
    "        out.append([lst_id, i, lst[i]])\n",
    "    return out\n",
    "\n",
    "table = []\n",
    "for lst_id in range(0, len(result)):\n",
    "    rows = transform_lists(result[lst_id], lst_id)\n",
    "    table = table + rows"
   ]
  },
  {
   "cell_type": "code",
   "execution_count": 78,
   "metadata": {},
   "outputs": [
    {
     "data": {
      "text/plain": [
       "[[0, 0, 35518],\n",
       " [0, 1, 70055],\n",
       " [0, 2, 134325],\n",
       " [1, 0, 58651],\n",
       " [1, 1, 124895],\n",
       " [1, 2, 132549],\n",
       " [1, 3, 130046],\n",
       " [2, 0, 58539],\n",
       " [2, 1, 142731],\n",
       " [2, 2, 125848],\n",
       " [2, 3, 128686],\n",
       " [2, 4, 142594]]"
      ]
     },
     "execution_count": 78,
     "metadata": {},
     "output_type": "execute_result"
    }
   ],
   "source": [
    "table.compute()"
   ]
  },
  {
   "cell_type": "code",
   "execution_count": 87,
   "metadata": {},
   "outputs": [],
   "source": [
    "headers = ['list_id', 'element_id', 'element_value']\n",
    "dframe = pd.DataFrame(table.compute(), columns=headers)\n",
    "dframe.to_csv('sol_2.csv')"
   ]
  },
  {
   "cell_type": "markdown",
   "metadata": {},
   "source": [
    "3) Применить решение задачи 1 для сортировки данных, сгенерированных в задаче 2"
   ]
  },
  {
   "cell_type": "code",
   "execution_count": 10,
   "metadata": {},
   "outputs": [
    {
     "data": {
      "text/plain": [
       "([90116, 153459, 220982],\n",
       " [74668, 121438, 131297, 148755],\n",
       " [81478, 152511, 251706, 251787, 281870])"
      ]
     },
     "execution_count": 10,
     "metadata": {},
     "output_type": "execute_result"
    }
   ],
   "source": [
    "result"
   ]
  },
  {
   "cell_type": "code",
   "execution_count": 11,
   "metadata": {},
   "outputs": [
    {
     "data": {
      "text/plain": [
       "[74668,\n",
       " 81478,\n",
       " 90116,\n",
       " 121438,\n",
       " 131297,\n",
       " 148755,\n",
       " 152511,\n",
       " 153459,\n",
       " 220982,\n",
       " 251706,\n",
       " 251787,\n",
       " 281870]"
      ]
     },
     "execution_count": 11,
     "metadata": {},
     "output_type": "execute_result"
    }
   ],
   "source": [
    "merge_lists(result)"
   ]
  },
  {
   "cell_type": "markdown",
   "metadata": {},
   "source": [
    "4) При помощи dask.delayed распараллелить решение задачи 1 и применить к данным, сгенерированным в задаче 2"
   ]
  },
  {
   "cell_type": "code",
   "execution_count": null,
   "metadata": {},
   "outputs": [],
   "source": []
  },
  {
   "cell_type": "markdown",
   "metadata": {},
   "source": [
    "5) Модифицировать 4 - обрабатывать данные тем же алгоритмом с помощью pandas.DataFrame"
   ]
  },
  {
   "cell_type": "markdown",
   "metadata": {},
   "source": [
    "6) C помощью разработанного алгоритма и возможностей Dask.DataFrame отсортировать данные, которые обрабатывались на сминаере по Dask.DataFrame (столбцы: ,id,names,amount,new) по столбцу amount."
   ]
  },
  {
   "cell_type": "code",
   "execution_count": null,
   "metadata": {},
   "outputs": [],
   "source": []
  }
 ],
 "metadata": {
  "kernelspec": {
   "display_name": "Python 3",
   "language": "python",
   "name": "python3"
  },
  "language_info": {
   "codemirror_mode": {
    "name": "ipython",
    "version": 3
   },
   "file_extension": ".py",
   "mimetype": "text/x-python",
   "name": "python",
   "nbconvert_exporter": "python",
   "pygments_lexer": "ipython3",
   "version": "3.6.5"
  }
 },
 "nbformat": 4,
 "nbformat_minor": 2
}
