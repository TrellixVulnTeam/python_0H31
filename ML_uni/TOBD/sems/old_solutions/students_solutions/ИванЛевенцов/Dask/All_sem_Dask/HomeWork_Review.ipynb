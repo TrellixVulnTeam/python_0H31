{
 "cells": [
  {
   "cell_type": "markdown",
   "metadata": {},
   "source": [
    "Для одного из файлов с отзывами из https://yadi.sk/d/OUpjPvLX0i1Ipw подсчитать частоту слов в отзывах с оценкой \"5\""
   ]
  },
  {
   "cell_type": "code",
   "execution_count": 3,
   "metadata": {},
   "outputs": [],
   "source": [
    "import dask.bag as db\n",
    "import json\n",
    "import re\n",
    "import operator"
   ]
  },
  {
   "cell_type": "code",
   "execution_count": 5,
   "metadata": {
    "scrolled": true
   },
   "outputs": [],
   "source": [
    "rev_games = db.read_text('C:\\\\Users\\\\161193\\\\Downloads\\\\reviews_Video_Games_5.json.gz')\n",
    "js = rev_games.map(json.loads)"
   ]
  },
  {
   "cell_type": "markdown",
   "metadata": {},
   "source": [
    "Для одного из файлов с отзывами из https://yadi.sk/d/OUpjPvLX0i1Ipw подсчитать частоту (!) слов для отзывов с оценкой \"5\" и для отзывов с оценкой \"2\" и найти 50 распространенных слов (встречающихся в каждой из групп более 10 раз), частота которых максимально увеличивается и уменьшается при переходе от плохих отзывов к хорошим."
   ]
  },
  {
   "cell_type": "code",
   "execution_count": 6,
   "metadata": {},
   "outputs": [
    {
     "name": "stdout",
     "output_type": "stream",
     "text": [
      "Wall time: 1min 3s\n"
     ]
    }
   ],
   "source": [
    "%%time\n",
    "result_5 = js.filter(lambda record: record['overall'] == 5.0).\\\n",
    "            map(lambda x: re.sub('[!@#$.?:;()\"]',\"\",x['reviewText'].lower().strip()).split()).\\\n",
    "            flatten().frequencies(sorted == True) #flatten = concat\n",
    "\n",
    "result_2 = js.filter(lambda record: record['overall'] == 2.0).\\\n",
    "            map(lambda x: re.sub('[!@#$.?:;()\"]',\"\",x['reviewText'].lower().strip()).split()).\\\n",
    "            flatten().frequencies(sorted == True) #flatten = concat\n",
    "\n",
    "count_5 = 0\n",
    "bag_for_count_5 = result_5.filter(lambda x: x[1] > 10).compute()\n",
    "for i in bag_for_count_5:\n",
    "    count_5 += i[1]\n",
    "\n",
    "count_2 = 0\n",
    "bag_for_count_2 = result_2.filter(lambda x: x[1] > 10).compute()\n",
    "for i in bag_for_count_2:\n",
    "    count_2 += i[1]\n",
    "\n",
    "\n",
    "result_5 = dict(result_5.filter(lambda x: x[1] > 10).map(lambda x: (x[0], x[1]/count_5)).compute())\n",
    "result_2 = dict(result_2.filter(lambda x: x[1] > 10).map(lambda x: (x[0], x[1]/count_2)).compute())"
   ]
  },
  {
   "cell_type": "code",
   "execution_count": 7,
   "metadata": {
    "scrolled": false
   },
   "outputs": [
    {
     "name": "stdout",
     "output_type": "stream",
     "text": [
      "Wall time: 25.4 ms\n"
     ]
    }
   ],
   "source": [
    "%%time\n",
    "help_dict = {}\n",
    "log_list = []\n",
    "for key, value in result_5.items():\n",
    "    try:\n",
    "        help_dict[key] = result_5[key] - result_2[key]\n",
    "    except:\n",
    "        #log_list.append(str(result_5) + \" не воходит во второй словарь\")\n",
    "        pass"
   ]
  },
  {
   "cell_type": "code",
   "execution_count": 14,
   "metadata": {
    "scrolled": true
   },
   "outputs": [
    {
     "data": {
      "text/plain": [
       "[(\"i've\", 0.00022413373339569493),\n",
       " ('music', 0.00022701728489535436),\n",
       " ('world', 0.00022955765882394345),\n",
       " ('super', 0.00023762047072225725),\n",
       " ('still', 0.0002478289774779047),\n",
       " ('excellent', 0.00025369252987066),\n",
       " ('easy', 0.0002565661847742849),\n",
       " ('more', 0.0002650402907017758),\n",
       " ('definitely', 0.00026561717792536254),\n",
       " ('works', 0.0002659482633810904),\n",
       " ('now', 0.00026721906258613773),\n",
       " ('perfect', 0.0002729216674014131),\n",
       " ('a', 0.0002850797125233395),\n",
       " ('ever', 0.00029033445210640847),\n",
       " ('highly', 0.0003025060490205591),\n",
       " ('each', 0.0003063861224865866),\n",
       " ('xbox', 0.0003070984598867127),\n",
       " ('for', 0.00030804962460168235),\n",
       " ('recommend', 0.0003081830353624593),\n",
       " ('favorite', 0.0003105650545357828),\n",
       " ('ps3', 0.0003120775068040445),\n",
       " ('own', 0.00032021175649740827),\n",
       " ('played', 0.00032580151688673276),\n",
       " ('wii', 0.00032885597865098964),\n",
       " ('must', 0.00032949673477506634),\n",
       " ('different', 0.00035516356413101277),\n",
       " ('of', 0.0003748234113412456),\n",
       " ('mario', 0.0003972768753096606),\n",
       " ('awesome', 0.0004481164600597686),\n",
       " ('amazing', 0.0004574684299234069),\n",
       " ('your', 0.0004849433589456456),\n",
       " ('one', 0.0005192645277330224),\n",
       " ('play', 0.0005507652972726383),\n",
       " ('this', 0.0005607084952739504),\n",
       " ('fun', 0.0005788653384988347),\n",
       " ('my', 0.0005875675822412385),\n",
       " ('new', 0.0005890890156163894),\n",
       " ('with', 0.0005927047297137264),\n",
       " ('will', 0.0006316733088254762),\n",
       " ('well', 0.0006359053863787319),\n",
       " ('has', 0.0006927441723495876),\n",
       " ('also', 0.0007184784568746055),\n",
       " ('as', 0.0008307672878514359),\n",
       " ('love', 0.0009177145618910839),\n",
       " ('games', 0.001111335066984845),\n",
       " ('best', 0.0011420788493028142),\n",
       " ('you', 0.0013782467299208387),\n",
       " ('can', 0.0017121850912141688),\n",
       " ('is', 0.001747884561695466),\n",
       " ('great', 0.001876942765176447),\n",
       " ('and', 0.002566420542222926)]"
      ]
     },
     "execution_count": 14,
     "metadata": {},
     "output_type": "execute_result"
    }
   ],
   "source": [
    "sorted(help_dict.items(), key=lambda x: x[1])[-51: ]"
   ]
  },
  {
   "cell_type": "code",
   "execution_count": 15,
   "metadata": {},
   "outputs": [
    {
     "data": {
      "text/plain": [
       "[('to', -0.002610278720636801),\n",
       " ('not', -0.0019275316289587199),\n",
       " ('was', -0.0017607255922598023),\n",
       " ('i', -0.001669578558686529),\n",
       " ('just', -0.0016038698048378205),\n",
       " ('no', -0.0014174483253905903),\n",
       " ('but', -0.0013177924750231475),\n",
       " ('they', -0.0012845959857145897),\n",
       " ('the', -0.0012829449344409702),\n",
       " ('that', -0.001278914984363026),\n",
       " ('would', -0.0008101157604848955),\n",
       " ('at', -0.000807356163568097),\n",
       " ('it', -0.000805111052924485),\n",
       " ('or', -0.0007765267996796311),\n",
       " ('bad', -0.0007158036808189924),\n",
       " ('even', -0.0006735526465545807),\n",
       " ('same', -0.000662593462904739),\n",
       " (\"don't\", -0.0005804318082668846),\n",
       " ('only', -0.0005800570547589666),\n",
       " ('were', -0.0005749718273635243),\n",
       " ('boring', -0.0005678268510331617),\n",
       " ('me', -0.0005430957859406489),\n",
       " ('because', -0.0005402537952844176),\n",
       " ('be', -0.000531667749877696),\n",
       " ('after', -0.0005306295009892331),\n",
       " ('what', -0.0005298976906882315),\n",
       " ('too', -0.0005100967303167832),\n",
       " ('could', -0.0005087275398317961),\n",
       " ('why', -0.0004963204352378288),\n",
       " ('nothing', -0.0004911730929084749),\n",
       " ('do', -0.00047665353561735955),\n",
       " ('over', -0.00046503870152290344),\n",
       " ('like', -0.0004648657175678403),\n",
       " ('then', -0.0004630266477050778),\n",
       " (\"doesn't\", -0.00044254978049205877),\n",
       " ('had', -0.0004404789215893294),\n",
       " (\"can't\", -0.0004351483341678604),\n",
       " (\"didn't\", -0.00041158109338557364),\n",
       " ('when', -0.00036570460226211486),\n",
       " ('point', -0.00035132256921620834),\n",
       " ('way', -0.0003470309586306253),\n",
       " ('where', -0.0003367248990724706),\n",
       " ('money', -0.0003162580497170229),\n",
       " ('make', -0.00031243390192988926),\n",
       " ('there', -0.00031131483797119247),\n",
       " (\"isn't\", -0.0003107497118402271),\n",
       " ('problem', -0.0003053494850292117),\n",
       " ('something', -0.0003010897593728366),\n",
       " ('pretty', -0.0002914289132575599),\n",
       " ('-', -0.0002903078079920826)]"
      ]
     },
     "execution_count": 15,
     "metadata": {},
     "output_type": "execute_result"
    }
   ],
   "source": [
    "sorted(help_dict.items(), key=lambda x: x[1])[:50]"
   ]
  },
  {
   "cell_type": "code",
   "execution_count": null,
   "metadata": {},
   "outputs": [],
   "source": []
  }
 ],
 "metadata": {
  "kernelspec": {
   "display_name": "Python 3",
   "language": "python",
   "name": "python3"
  },
  "language_info": {
   "codemirror_mode": {
    "name": "ipython",
    "version": 3
   },
   "file_extension": ".py",
   "mimetype": "text/x-python",
   "name": "python",
   "nbconvert_exporter": "python",
   "pygments_lexer": "ipython3",
   "version": "3.6.5"
  }
 },
 "nbformat": 4,
 "nbformat_minor": 2
}
