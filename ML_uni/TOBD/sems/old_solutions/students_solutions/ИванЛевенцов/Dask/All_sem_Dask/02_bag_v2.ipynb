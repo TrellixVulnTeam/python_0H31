{
 "cells": [
  {
   "cell_type": "markdown",
   "metadata": {},
   "source": [
    "<img src=\"images/dask_horizontal.svg\" align=\"right\" width=\"30%\">"
   ]
  },
  {
   "cell_type": "markdown",
   "metadata": {},
   "source": [
    "# Bag: Parallel Lists for semi-structured data"
   ]
  },
  {
   "cell_type": "markdown",
   "metadata": {},
   "source": [
    "Dask-bag excels in processing data that can be represented as a sequence of arbitrary inputs. We'll refer to this as \"messy\" data, because it can contain complex nested structures, missing fields, mixtures of data types, etc. The *functional* programming style fits very nicely with standard Python iteration, such as can be found in the `itertools` module.\n",
    "\n",
    "Messy data is often encountered at the beginning of data processing pipelines when large volumes of raw data are first consumed. The initial set of data might be JSON, CSV, XML, or any other format that does not enforce strict structure and datatypes.\n",
    "For this reason, the initial data massaging and processing is often done with Python `list`s, `dict`s, and `set`s.\n",
    "\n",
    "These core data structures are optimized for general-purpose storage and processing.  Adding streaming computation with iterators/generator expressions or libraries like `itertools` or [`toolz`](https://toolz.readthedocs.io/en/latest/) let us process large volumes in a small space.  If we combine this with parallel processing then we can churn through a fair amount of data.\n",
    "\n",
    "Dask.bag is a high level Dask collection to automate common workloads of this form.  In a nutshell\n",
    "\n",
    "    dask.bag = map, filter, toolz + parallel execution\n",
    "    \n",
    "**Related Documentation**\n",
    "\n",
    "*  [Bag Documenation](http://dask.pydata.org/en/latest/bag.html)\n",
    "*  [Bag API](http://dask.pydata.org/en/latest/bag-api.html)"
   ]
  },
  {
   "cell_type": "markdown",
   "metadata": {},
   "source": [
    "## Creation"
   ]
  },
  {
   "cell_type": "markdown",
   "metadata": {},
   "source": [
    "You can create a `Bag` from a Python sequence, from files, from data on S3, etc.\n",
    "We demonstrate using `.take()` to show elements of the data. (Doing `.take(1)` results in a tuple with one element)\n",
    "\n",
    "Note that the data are partitioned into blocks, and there are many items per block. In the first example, the two partitions contain five elements each, and in the following two, each file is partitioned into one or more bytes blocks."
   ]
  },
  {
   "cell_type": "code",
   "execution_count": 2,
   "metadata": {},
   "outputs": [
    {
     "data": {
      "text/plain": [
       "(1, 2, 3)"
      ]
     },
     "execution_count": 2,
     "metadata": {},
     "output_type": "execute_result"
    }
   ],
   "source": [
    "# each element is an integer\n",
    "import dask.bag as db\n",
    "b = db.from_sequence([1, 2, 3, 4, 5, 6, 7, 8, 9, 10], npartitions=2)\n",
    "b.take(3)"
   ]
  },
  {
   "cell_type": "code",
   "execution_count": 3,
   "metadata": {},
   "outputs": [
    {
     "data": {
      "text/plain": [
       "('{\"id\": 0, \"name\": \"Dan\", \"transactions\": [{\"transaction-id\": 258, \"amount\": 4738}, {\"transaction-id\": 1115, \"amount\": 4916}, {\"transaction-id\": 1132, \"amount\": 4806}, {\"transaction-id\": 1486, \"amount\": 4295}, {\"transaction-id\": 1516, \"amount\": 4559}, {\"transaction-id\": 1626, \"amount\": 4389}, {\"transaction-id\": 2153, \"amount\": 5204}, {\"transaction-id\": 2429, \"amount\": 4487}, {\"transaction-id\": 2571, \"amount\": 4964}, {\"transaction-id\": 2592, \"amount\": 4019}, {\"transaction-id\": 3087, \"amount\": 4695}, {\"transaction-id\": 3166, \"amount\": 4499}, {\"transaction-id\": 3274, \"amount\": 5061}, {\"transaction-id\": 3615, \"amount\": 4431}, {\"transaction-id\": 4047, \"amount\": 4367}, {\"transaction-id\": 4527, \"amount\": 4630}, {\"transaction-id\": 4757, \"amount\": 4789}, {\"transaction-id\": 5191, \"amount\": 4619}, {\"transaction-id\": 6138, \"amount\": 4447}, {\"transaction-id\": 6908, \"amount\": 4834}, {\"transaction-id\": 7288, \"amount\": 4330}, {\"transaction-id\": 8532, \"amount\": 4632}, {\"transaction-id\": 9423, \"amount\": 4586}, {\"transaction-id\": 9712, \"amount\": 4430}, {\"transaction-id\": 11378, \"amount\": 4551}, {\"transaction-id\": 12049, \"amount\": 4903}, {\"transaction-id\": 12244, \"amount\": 4109}, {\"transaction-id\": 12622, \"amount\": 4531}, {\"transaction-id\": 12865, \"amount\": 4617}, {\"transaction-id\": 14022, \"amount\": 4898}, {\"transaction-id\": 14776, \"amount\": 4607}, {\"transaction-id\": 15271, \"amount\": 4693}, {\"transaction-id\": 16763, \"amount\": 4577}, {\"transaction-id\": 16817, \"amount\": 4766}, {\"transaction-id\": 17021, \"amount\": 4426}, {\"transaction-id\": 17350, \"amount\": 4763}, {\"transaction-id\": 17549, \"amount\": 4502}, {\"transaction-id\": 17909, \"amount\": 4790}, {\"transaction-id\": 18193, \"amount\": 4688}, {\"transaction-id\": 18636, \"amount\": 4773}, {\"transaction-id\": 18647, \"amount\": 4526}, {\"transaction-id\": 18649, \"amount\": 4465}, {\"transaction-id\": 18964, \"amount\": 4706}, {\"transaction-id\": 19200, \"amount\": 4509}, {\"transaction-id\": 19492, \"amount\": 4523}, {\"transaction-id\": 20395, \"amount\": 4956}, {\"transaction-id\": 20452, \"amount\": 4706}, {\"transaction-id\": 20828, \"amount\": 4659}, {\"transaction-id\": 20907, \"amount\": 4572}, {\"transaction-id\": 21501, \"amount\": 4739}, {\"transaction-id\": 21679, \"amount\": 4735}, {\"transaction-id\": 21798, \"amount\": 4911}, {\"transaction-id\": 21872, \"amount\": 4612}, {\"transaction-id\": 22084, \"amount\": 4164}, {\"transaction-id\": 22204, \"amount\": 5099}, {\"transaction-id\": 22829, \"amount\": 4740}, {\"transaction-id\": 23231, \"amount\": 4684}, {\"transaction-id\": 24965, \"amount\": 4479}, {\"transaction-id\": 25265, \"amount\": 4470}, {\"transaction-id\": 25365, \"amount\": 4482}, {\"transaction-id\": 25985, \"amount\": 4394}, {\"transaction-id\": 26031, \"amount\": 4859}, {\"transaction-id\": 26120, \"amount\": 4718}, {\"transaction-id\": 26243, \"amount\": 5189}, {\"transaction-id\": 26563, \"amount\": 4890}, {\"transaction-id\": 28747, \"amount\": 4968}, {\"transaction-id\": 30302, \"amount\": 5037}, {\"transaction-id\": 30320, \"amount\": 4412}, {\"transaction-id\": 31454, \"amount\": 5038}, {\"transaction-id\": 31482, \"amount\": 4667}, {\"transaction-id\": 31697, \"amount\": 4386}, {\"transaction-id\": 31774, \"amount\": 5003}, {\"transaction-id\": 31916, \"amount\": 4837}, {\"transaction-id\": 33712, \"amount\": 4522}, {\"transaction-id\": 33814, \"amount\": 4832}, {\"transaction-id\": 34608, \"amount\": 4900}, {\"transaction-id\": 36487, \"amount\": 4490}, {\"transaction-id\": 36726, \"amount\": 5219}, {\"transaction-id\": 37685, \"amount\": 4637}, {\"transaction-id\": 37768, \"amount\": 4717}, {\"transaction-id\": 38370, \"amount\": 4587}, {\"transaction-id\": 38593, \"amount\": 4623}, {\"transaction-id\": 38661, \"amount\": 4262}, {\"transaction-id\": 39636, \"amount\": 5014}, {\"transaction-id\": 39870, \"amount\": 4284}, {\"transaction-id\": 39912, \"amount\": 4889}, {\"transaction-id\": 40092, \"amount\": 4778}, {\"transaction-id\": 40306, \"amount\": 4837}, {\"transaction-id\": 40469, \"amount\": 5236}, {\"transaction-id\": 40477, \"amount\": 4644}, {\"transaction-id\": 40750, \"amount\": 4526}, {\"transaction-id\": 40756, \"amount\": 3896}, {\"transaction-id\": 41180, \"amount\": 4398}, {\"transaction-id\": 42015, \"amount\": 4402}, {\"transaction-id\": 43372, \"amount\": 4837}, {\"transaction-id\": 43430, \"amount\": 4791}, {\"transaction-id\": 43477, \"amount\": 4887}, {\"transaction-id\": 43919, \"amount\": 4839}, {\"transaction-id\": 44466, \"amount\": 4723}, {\"transaction-id\": 44673, \"amount\": 4897}, {\"transaction-id\": 44923, \"amount\": 4811}, {\"transaction-id\": 44931, \"amount\": 4680}, {\"transaction-id\": 45534, \"amount\": 4361}, {\"transaction-id\": 45605, \"amount\": 4484}, {\"transaction-id\": 45890, \"amount\": 4165}, {\"transaction-id\": 45981, \"amount\": 4327}, {\"transaction-id\": 46896, \"amount\": 4855}, {\"transaction-id\": 47693, \"amount\": 4772}, {\"transaction-id\": 48755, \"amount\": 4426}, {\"transaction-id\": 48899, \"amount\": 4417}, {\"transaction-id\": 49161, \"amount\": 4746}, {\"transaction-id\": 49221, \"amount\": 5091}, {\"transaction-id\": 50311, \"amount\": 4595}, {\"transaction-id\": 50351, \"amount\": 4811}, {\"transaction-id\": 50612, \"amount\": 4640}, {\"transaction-id\": 50765, \"amount\": 4402}, {\"transaction-id\": 50984, \"amount\": 4766}, {\"transaction-id\": 51211, \"amount\": 4748}, {\"transaction-id\": 51536, \"amount\": 4383}, {\"transaction-id\": 52024, \"amount\": 4642}, {\"transaction-id\": 52065, \"amount\": 3998}, {\"transaction-id\": 53743, \"amount\": 4960}, {\"transaction-id\": 54542, \"amount\": 4310}, {\"transaction-id\": 55842, \"amount\": 4263}, {\"transaction-id\": 56814, \"amount\": 4810}, {\"transaction-id\": 56840, \"amount\": 4564}, {\"transaction-id\": 57031, \"amount\": 4886}, {\"transaction-id\": 58139, \"amount\": 4359}, {\"transaction-id\": 58214, \"amount\": 4150}, {\"transaction-id\": 58379, \"amount\": 4132}, {\"transaction-id\": 58490, \"amount\": 4933}, {\"transaction-id\": 58505, \"amount\": 4504}, {\"transaction-id\": 58689, \"amount\": 4179}, {\"transaction-id\": 58705, \"amount\": 4326}, {\"transaction-id\": 59149, \"amount\": 4892}, {\"transaction-id\": 59741, \"amount\": 5030}, {\"transaction-id\": 60174, \"amount\": 4430}, {\"transaction-id\": 60993, \"amount\": 4658}, {\"transaction-id\": 61988, \"amount\": 5254}, {\"transaction-id\": 62638, \"amount\": 4288}, {\"transaction-id\": 62716, \"amount\": 4777}, {\"transaction-id\": 63031, \"amount\": 4592}, {\"transaction-id\": 63100, \"amount\": 4448}, {\"transaction-id\": 63416, \"amount\": 4754}, {\"transaction-id\": 63836, \"amount\": 4282}, {\"transaction-id\": 63894, \"amount\": 4100}, {\"transaction-id\": 63926, \"amount\": 4658}, {\"transaction-id\": 64030, \"amount\": 4213}, {\"transaction-id\": 64774, \"amount\": 4566}, {\"transaction-id\": 64878, \"amount\": 4554}, {\"transaction-id\": 65531, \"amount\": 4889}, {\"transaction-id\": 65922, \"amount\": 4396}, {\"transaction-id\": 66660, \"amount\": 4626}, {\"transaction-id\": 67372, \"amount\": 4232}, {\"transaction-id\": 67902, \"amount\": 4614}, {\"transaction-id\": 68920, \"amount\": 4333}, {\"transaction-id\": 70076, \"amount\": 4852}, {\"transaction-id\": 70649, \"amount\": 5271}, {\"transaction-id\": 70978, \"amount\": 4869}, {\"transaction-id\": 71085, \"amount\": 4642}, {\"transaction-id\": 71238, \"amount\": 4709}, {\"transaction-id\": 71255, \"amount\": 4922}, {\"transaction-id\": 71550, \"amount\": 4381}, {\"transaction-id\": 71972, \"amount\": 4310}, {\"transaction-id\": 72526, \"amount\": 4535}, {\"transaction-id\": 72595, \"amount\": 4351}, {\"transaction-id\": 73287, \"amount\": 5070}, {\"transaction-id\": 74130, \"amount\": 4355}, {\"transaction-id\": 74313, \"amount\": 4641}, {\"transaction-id\": 74378, \"amount\": 4617}, {\"transaction-id\": 74457, \"amount\": 5245}, {\"transaction-id\": 74856, \"amount\": 4063}, {\"transaction-id\": 75090, \"amount\": 4698}, {\"transaction-id\": 75420, \"amount\": 4864}, {\"transaction-id\": 75593, \"amount\": 4957}, {\"transaction-id\": 76244, \"amount\": 4650}, {\"transaction-id\": 77037, \"amount\": 4944}, {\"transaction-id\": 77751, \"amount\": 4743}, {\"transaction-id\": 79662, \"amount\": 5150}, {\"transaction-id\": 79690, \"amount\": 4739}, {\"transaction-id\": 80523, \"amount\": 4866}, {\"transaction-id\": 80526, \"amount\": 4649}, {\"transaction-id\": 81059, \"amount\": 5028}, {\"transaction-id\": 81618, \"amount\": 5101}, {\"transaction-id\": 81678, \"amount\": 4269}, {\"transaction-id\": 82376, \"amount\": 4576}, {\"transaction-id\": 82452, \"amount\": 4426}, {\"transaction-id\": 83793, \"amount\": 4589}, {\"transaction-id\": 84649, \"amount\": 4451}, {\"transaction-id\": 85284, \"amount\": 4575}, {\"transaction-id\": 85348, \"amount\": 4843}, {\"transaction-id\": 85494, \"amount\": 5207}, {\"transaction-id\": 86334, \"amount\": 5027}, {\"transaction-id\": 86338, \"amount\": 4679}, {\"transaction-id\": 87027, \"amount\": 4661}, {\"transaction-id\": 87196, \"amount\": 4556}, {\"transaction-id\": 87424, \"amount\": 4899}, {\"transaction-id\": 88715, \"amount\": 4547}, {\"transaction-id\": 89353, \"amount\": 5291}, {\"transaction-id\": 92071, \"amount\": 4853}, {\"transaction-id\": 92892, \"amount\": 4314}, {\"transaction-id\": 93175, \"amount\": 4869}, {\"transaction-id\": 93378, \"amount\": 4533}, {\"transaction-id\": 93678, \"amount\": 4861}, {\"transaction-id\": 94225, \"amount\": 4771}, {\"transaction-id\": 94557, \"amount\": 4255}, {\"transaction-id\": 95132, \"amount\": 4563}, {\"transaction-id\": 95398, \"amount\": 4035}, {\"transaction-id\": 95519, \"amount\": 4736}, {\"transaction-id\": 95812, \"amount\": 4623}, {\"transaction-id\": 96039, \"amount\": 4909}, {\"transaction-id\": 96708, \"amount\": 4758}, {\"transaction-id\": 97371, \"amount\": 4914}, {\"transaction-id\": 97783, \"amount\": 5094}, {\"transaction-id\": 99062, \"amount\": 4540}]}\\n',)"
      ]
     },
     "execution_count": 3,
     "metadata": {},
     "output_type": "execute_result"
    }
   ],
   "source": [
    "# each element is a text file, where each line is a JSON object\n",
    "# note that the compression is handles automatically\n",
    "data_path = 'E:\\\\data\\\\dask-tutorial-master\\\\data'\n",
    "import os\n",
    "b = db.read_text(os.path.join(data_path, 'accounts.*.json.gz'))\n",
    "b.take(1)"
   ]
  },
  {
   "cell_type": "code",
   "execution_count": null,
   "metadata": {},
   "outputs": [],
   "source": [
    "# Requires `s3fs` library\n",
    "# each partition is a remote CSV text file\n",
    "b = db.read_text('s3://dask-data/nyc-taxi/2015/yellow_tripdata_2015-01.csv')\n",
    "b.take(1)"
   ]
  },
  {
   "cell_type": "markdown",
   "metadata": {},
   "source": [
    "## Manipulation"
   ]
  },
  {
   "cell_type": "markdown",
   "metadata": {},
   "source": [
    "`Bag` objects hold the standard functional API found in projects like the Python standard library, `toolz`, or `pyspark`, including `map`, `filter`, `groupby`, etc..\n",
    "\n",
    "Operations on `Bag` objects create new bags.  Call the `.compute()` method to trigger execution, as we saw for `Delayed` objects.  "
   ]
  },
  {
   "cell_type": "code",
   "execution_count": 3,
   "metadata": {},
   "outputs": [
    {
     "data": {
      "text/plain": [
       "dask.bag<map-lam..., npartitions=10>"
      ]
     },
     "execution_count": 3,
     "metadata": {},
     "output_type": "execute_result"
    }
   ],
   "source": [
    "def is_even(n):\n",
    "    return n % 2 == 0\n",
    "\n",
    "b = db.from_sequence([1, 2, 3, 4, 5, 6, 7, 8, 9, 10])\n",
    "c = b.filter(is_even).map(lambda x: x ** 2)\n",
    "c"
   ]
  },
  {
   "cell_type": "code",
   "execution_count": 4,
   "metadata": {},
   "outputs": [
    {
     "data": {
      "text/plain": [
       "[4, 16, 36, 64, 100]"
      ]
     },
     "execution_count": 4,
     "metadata": {},
     "output_type": "execute_result"
    }
   ],
   "source": [
    "# blocking form: wait for completion (which is very fast in this case)\n",
    "c.compute()"
   ]
  },
  {
   "cell_type": "markdown",
   "metadata": {},
   "source": [
    "### Example: Accounts JSON data"
   ]
  },
  {
   "cell_type": "markdown",
   "metadata": {},
   "source": [
    "We've created a fake dataset of gzipped JSON data in your data directory.  This is like the example used in the `DataFrame` example we will see later, except that it has bundled up all of the entires for each individual `id` into a single record.  This is similar to data that you might collect off of a document store database or a web API.\n",
    "\n",
    "Each line is a JSON encoded dictionary with the following keys\n",
    "\n",
    "*  id: Unique identifier of the customer\n",
    "*  name: Name of the customer\n",
    "*  transactions: List of `transaction-id`, `amount` pairs, one for each transaction for the customer in that file"
   ]
  },
  {
   "cell_type": "code",
   "execution_count": null,
   "metadata": {},
   "outputs": [],
   "source": [
    "filename = os.path.join('data', 'accounts.*.json.gz')\n",
    "lines = db.read_text(filename)\n",
    "lines.take(3)"
   ]
  },
  {
   "cell_type": "markdown",
   "metadata": {},
   "source": [
    "Our data comes out of the file as lines of text. Notice that file decompression happened automatically. We can make this data look more reasonable by mapping the `json.loads` function onto our bag."
   ]
  },
  {
   "cell_type": "code",
   "execution_count": null,
   "metadata": {},
   "outputs": [],
   "source": [
    "import json\n",
    "js = lines.map(json.loads)\n",
    "# take: inspect first few elements\n",
    "js.take(3)"
   ]
  },
  {
   "cell_type": "markdown",
   "metadata": {},
   "source": [
    "### Basic Queries"
   ]
  },
  {
   "cell_type": "markdown",
   "metadata": {},
   "source": [
    "Once we parse our JSON data into proper Python objects (`dict`s, `list`s, etc.) we can perform more interesting queries by creating small Python functions to run on our data."
   ]
  },
  {
   "cell_type": "code",
   "execution_count": null,
   "metadata": {},
   "outputs": [],
   "source": [
    "# filter: keep only some elements of the sequence\n",
    "js.filter(lambda record: record['name'] == 'Alice').take(5)"
   ]
  },
  {
   "cell_type": "code",
   "execution_count": null,
   "metadata": {},
   "outputs": [],
   "source": [
    "def count_transactions(d):\n",
    "    return {'name': d['name'], 'count': len(d['transactions'])}\n",
    "\n",
    "# map: apply a function to each element\n",
    "(js.filter(lambda record: record['name'] == 'Alice')\n",
    "   .map(count_transactions)\n",
    "   .take(5))"
   ]
  },
  {
   "cell_type": "code",
   "execution_count": null,
   "metadata": {},
   "outputs": [],
   "source": [
    "# pluck: select a field, as from a dictionary, element[field]\n",
    "(js.filter(lambda record: record['name'] == 'Alice')\n",
    "   .map(count_transactions)\n",
    "   .pluck('count')\n",
    "   .take(5))"
   ]
  },
  {
   "cell_type": "code",
   "execution_count": null,
   "metadata": {},
   "outputs": [],
   "source": [
    "# Average number of transactions for all of the Alice entries\n",
    "(js.filter(lambda record: record['name'] == 'Alice')\n",
    "   .map(count_transactions)\n",
    "   .pluck('count')\n",
    "   .mean()\n",
    "   .compute())"
   ]
  },
  {
   "cell_type": "markdown",
   "metadata": {},
   "source": [
    "### Use `flatten` to de-nest"
   ]
  },
  {
   "cell_type": "markdown",
   "metadata": {},
   "source": [
    "In the example below we see the use of `.flatten()` to flatten results.  We compute the average amount for all transactions for all Alices."
   ]
  },
  {
   "cell_type": "code",
   "execution_count": null,
   "metadata": {},
   "outputs": [],
   "source": [
    "js.filter(lambda record: record['name'] == 'Alice').pluck('transactions').take(3)"
   ]
  },
  {
   "cell_type": "code",
   "execution_count": null,
   "metadata": {},
   "outputs": [],
   "source": [
    "(js.filter(lambda record: record['name'] == 'Alice')\n",
    "   .pluck('transactions')\n",
    "   .flatten()\n",
    "   .take(3))"
   ]
  },
  {
   "cell_type": "code",
   "execution_count": null,
   "metadata": {},
   "outputs": [],
   "source": [
    "(js.filter(lambda record: record['name'] == 'Alice')\n",
    "   .pluck('transactions')\n",
    "   .flatten()\n",
    "   .pluck('amount')\n",
    "   .take(3))"
   ]
  },
  {
   "cell_type": "code",
   "execution_count": null,
   "metadata": {},
   "outputs": [],
   "source": [
    "(js.filter(lambda record: record['name'] == 'Alice')\n",
    "   .pluck('transactions')\n",
    "   .flatten()\n",
    "   .pluck('amount')\n",
    "   .mean()\n",
    "   .compute())"
   ]
  },
  {
   "cell_type": "markdown",
   "metadata": {},
   "source": [
    "### Groupby and Foldby"
   ]
  },
  {
   "cell_type": "markdown",
   "metadata": {},
   "source": [
    "Often we want to group data by some function or key.  We can do this either with the `.groupby` method, which is straightforward but forces a full shuffle of the data (expensive) or with the harder-to-use but faster `.foldby` method, which does a streaming combined groupby and reduction.\n",
    "\n",
    "*  `groupby`:  Shuffles data so that all items with the same key are in the same key-value pair\n",
    "*  `foldby`:  Walks through the data accumulating a result per key\n",
    "\n",
    "*Note: the full groupby is particularly bad. In actual workloads you would do well to use `foldby` or switch to `DataFrame`s if possible.*"
   ]
  },
  {
   "cell_type": "markdown",
   "metadata": {},
   "source": [
    "### `groupby`"
   ]
  },
  {
   "cell_type": "markdown",
   "metadata": {},
   "source": [
    "Groupby collects items in your collection so that all items with the same value under some function are collected together into a key-value pair."
   ]
  },
  {
   "cell_type": "code",
   "execution_count": null,
   "metadata": {},
   "outputs": [],
   "source": [
    "b = db.from_sequence(['Alice', 'Bob', 'Charlie', 'Dan', 'Edith', 'Frank'])\n",
    "b.groupby(len).compute()  # names grouped by length"
   ]
  },
  {
   "cell_type": "code",
   "execution_count": null,
   "metadata": {},
   "outputs": [],
   "source": [
    "b = db.from_sequence(list(range(10)))\n",
    "b.groupby(lambda x: x % 2).compute()"
   ]
  },
  {
   "cell_type": "code",
   "execution_count": null,
   "metadata": {},
   "outputs": [],
   "source": [
    "b.groupby(lambda x: x % 2).starmap(lambda k, v: (k, max(v))).compute()"
   ]
  },
  {
   "cell_type": "markdown",
   "metadata": {},
   "source": [
    "### `foldby`"
   ]
  },
  {
   "cell_type": "markdown",
   "metadata": {},
   "source": [
    "Foldby can be quite odd at first.  It is similar to the following functions from other libraries:\n",
    "\n",
    "*  [`toolz.reduceby`](http://toolz.readthedocs.io/en/latest/streaming-analytics.html#streaming-split-apply-combine)\n",
    "*  [`pyspark.RDD.combineByKey`](http://abshinn.github.io/python/apache-spark/2014/10/11/using-combinebykey-in-apache-spark/)\n",
    "\n",
    "When using `foldby` you provide \n",
    "\n",
    "1.  A key function on which to group elements\n",
    "2.  A binary operator such as you would pass to `reduce` that you use to perform reduction per each group\n",
    "3.  A combine binary operator that can combine the results of two `reduce` calls on different parts of your dataset.\n",
    "\n",
    "Your reduction must be associative.  It will happen in parallel in each of the partitions of your dataset.  Then all of these intermediate results will be combined by the `combine` binary operator."
   ]
  },
  {
   "cell_type": "code",
   "execution_count": null,
   "metadata": {},
   "outputs": [],
   "source": [
    "is_even = lambda x: x % 2\n",
    "b.foldby(is_even, binop=max, combine=max).compute()"
   ]
  },
  {
   "cell_type": "markdown",
   "metadata": {},
   "source": [
    "### Example with account data"
   ]
  },
  {
   "cell_type": "markdown",
   "metadata": {},
   "source": [
    "We find the number of people with the same name."
   ]
  },
  {
   "cell_type": "code",
   "execution_count": null,
   "metadata": {
    "scrolled": true
   },
   "outputs": [],
   "source": [
    "%%time\n",
    "# Warning, this one takes a while...\n",
    "result = js.groupby(lambda item: item['name']).starmap(lambda k, v: (k, len(v))).compute()\n",
    "print(sorted(result))"
   ]
  },
  {
   "cell_type": "code",
   "execution_count": null,
   "metadata": {},
   "outputs": [],
   "source": [
    "%%time\n",
    "# This one is comparatively fast and produces the same result.\n",
    "from operator import add\n",
    "def incr(tot, _):\n",
    "    return tot+1\n",
    "\n",
    "result = js.foldby(key='name', \n",
    "                   binop=incr, \n",
    "                   initial=0, \n",
    "                   combine=add, \n",
    "                   combine_initial=0).compute()\n",
    "print(sorted(result))"
   ]
  },
  {
   "cell_type": "markdown",
   "metadata": {},
   "source": [
    "### Exercise: compute total amount per name"
   ]
  },
  {
   "cell_type": "markdown",
   "metadata": {},
   "source": [
    "We want to groupby (or foldby) the `name` key, then add up the all of the amounts for each name.\n",
    "\n",
    "Steps\n",
    "\n",
    "1.  Create a small function that, given a dictionary like \n",
    "\n",
    "        {'name': 'Alice', 'transactions': [{'amount': 1, 'id': 123}, {'amount': 2, 'id': 456}]}\n",
    "        \n",
    "    produces the sum of the amounts, e.g. `3`\n",
    "    \n",
    "2.  Slightly change the binary operator of the `foldby` example above so that the binary operator doesn't count the number of entries, but instead accumulates the sum of the amounts."
   ]
  },
  {
   "cell_type": "code",
   "execution_count": null,
   "metadata": {},
   "outputs": [],
   "source": [
    "# Your code here..."
   ]
  },
  {
   "cell_type": "markdown",
   "metadata": {},
   "source": [
    "## DataFrames"
   ]
  },
  {
   "cell_type": "markdown",
   "metadata": {},
   "source": [
    "For the same reasons that Pandas is often faster than pure Python, `dask.dataframe` can be faster than `dask.bag`.  We will work more with DataFrames later, but from for the bag point of view, they are frequently the end-point of the \"messy\" part of data ingestion—once the data can be made into a data-frame, then complex split-apply-combine logic will become much more straight-forward and efficient.\n",
    "\n",
    "You can transform a bag with a simple tuple or flat dictionary structure into a `dask.dataframe` with the `to_dataframe` method."
   ]
  },
  {
   "cell_type": "code",
   "execution_count": null,
   "metadata": {},
   "outputs": [],
   "source": [
    "df1 = js.to_dataframe()\n",
    "df1.head()"
   ]
  },
  {
   "cell_type": "markdown",
   "metadata": {},
   "source": [
    "This now looks like a well-defined DataFrame, and we can apply Pandas-like computations to it efficiently."
   ]
  },
  {
   "cell_type": "markdown",
   "metadata": {},
   "source": [
    "Using a Dask DataFrame, how long does it take to do our prior computation of numbers of people with the same name?  It turns out that `dask.dataframe.groupby()` beats `dask.bag.groupby()` more than an order of magnitude; but it still cannot match `dask.bag.foldby()` for this case."
   ]
  },
  {
   "cell_type": "code",
   "execution_count": null,
   "metadata": {},
   "outputs": [],
   "source": [
    "%time df1.groupby('name').id.count().compute().head()"
   ]
  },
  {
   "cell_type": "markdown",
   "metadata": {},
   "source": [
    "### Denormalization"
   ]
  },
  {
   "cell_type": "markdown",
   "metadata": {},
   "source": [
    "This DataFrame format is less-than-optimal because the `transactions` column is filled with nested data so Pandas has to revert to `object` dtype, which is quite slow in Pandas.  Ideally we want to transform to a dataframe only after we have flattened our data so that each record is a single `int`, `string`, `float`, etc.."
   ]
  },
  {
   "cell_type": "code",
   "execution_count": null,
   "metadata": {
    "scrolled": true
   },
   "outputs": [],
   "source": [
    "def denormalize(record):\n",
    "    # returns a list for every nested item, each transaction of each person\n",
    "    return [{'id': record['id'], \n",
    "             'name': record['name'], \n",
    "             'amount': transaction['amount'], \n",
    "             'transaction-id': transaction['transaction-id']}\n",
    "            for transaction in record['transactions']]\n",
    "\n",
    "transactions = js.map(denormalize).flatten()\n",
    "transactions.take(3)"
   ]
  },
  {
   "cell_type": "code",
   "execution_count": null,
   "metadata": {},
   "outputs": [],
   "source": [
    "df = transactions.to_dataframe()\n",
    "df.head()"
   ]
  },
  {
   "cell_type": "code",
   "execution_count": null,
   "metadata": {},
   "outputs": [],
   "source": [
    "%%time\n",
    "# number of transactions per name\n",
    "# note that the time here includes the data load and ingestion\n",
    "df.groupby('name')['transaction-id'].count().compute()"
   ]
  },
  {
   "cell_type": "markdown",
   "metadata": {},
   "source": [
    "## Limitations"
   ]
  },
  {
   "cell_type": "markdown",
   "metadata": {},
   "source": [
    "Bags provide very general computation (any Python function.)  This generality\n",
    "comes at cost.  Bags have the following known limitations\n",
    "\n",
    "1.  Bag operations tend to be slower than array/dataframe computations in the\n",
    "    same way that Python tends to be slower than NumPy/Pandas\n",
    "2.  ``Bag.groupby`` is slow.  You should try to use ``Bag.foldby`` if possible.\n",
    "    Using ``Bag.foldby`` requires more thought. Even better, consider creating\n",
    "    a normalised dataframe."
   ]
  },
  {
   "cell_type": "markdown",
   "metadata": {},
   "source": [
    "### See also\n",
    "\n",
    "\n",
    "*  [Blogpost analyzing github data on EC2](https://www.continuum.io/content/dask-distributed-and-anaconda-cluster)"
   ]
  },
  {
   "cell_type": "code",
   "execution_count": null,
   "metadata": {},
   "outputs": [],
   "source": []
  }
 ],
 "metadata": {
  "anaconda-cloud": {},
  "kernelspec": {
   "display_name": "Python 3",
   "language": "python",
   "name": "python3"
  },
  "language_info": {
   "codemirror_mode": {
    "name": "ipython",
    "version": 3
   },
   "file_extension": ".py",
   "mimetype": "text/x-python",
   "name": "python",
   "nbconvert_exporter": "python",
   "pygments_lexer": "ipython3",
   "version": "3.6.5"
  }
 },
 "nbformat": 4,
 "nbformat_minor": 1
}
