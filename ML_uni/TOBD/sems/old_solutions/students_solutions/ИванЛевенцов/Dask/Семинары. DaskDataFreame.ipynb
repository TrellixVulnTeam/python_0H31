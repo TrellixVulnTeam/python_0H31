{
 "cells": [
  {
   "cell_type": "markdown",
   "metadata": {},
   "source": [
    "Подсчитать, сколько раз встречается каждая из русских букв в текстовых файлах (заглавные и строчные символы не различаются), лежащих в папке. Выполнить задание с использованием Dask.Bag."
   ]
  },
  {
   "cell_type": "code",
   "execution_count": null,
   "metadata": {},
   "outputs": [],
   "source": [
    "def concat_db_files(files):\n",
    "    result_beg = db.from_sequence([])\n",
    "    for file in files:\n",
    "        result_beg = db.concat([result_beg, db.read_text(file, encoding='cp1251')])\n",
    "    return result_beg\n",
    "\n",
    "def isrus(x):\n",
    "    return re.match(\"[а-яА-Я]\", x)"
   ]
  },
  {
   "cell_type": "code",
   "execution_count": null,
   "metadata": {},
   "outputs": [],
   "source": [
    "files = list(map(lambda x: 'book\\\\' + x, os.listdir('book')))\n",
    "set_book = concat_db_files(files)"
   ]
  },
  {
   "cell_type": "code",
   "execution_count": null,
   "metadata": {},
   "outputs": [],
   "source": [
    "result = set_book.map(lambda x: x.lower().strip()).flatten().filter(isrus).frequencies().compute()"
   ]
  },
  {
   "cell_type": "markdown",
   "metadata": {},
   "source": [
    "Подсчитать, сколько раз встречается каждое из русских слов (слов, состоящих только из русских букв и знака \"-\") в текстовых файлах (заглавные и строчные символы не различаются, слова перенесенные через строки не рассматриваются), лежащих в папке."
   ]
  },
  {
   "cell_type": "code",
   "execution_count": null,
   "metadata": {},
   "outputs": [],
   "source": [
    "result = b.map(lambda x: re.sub('[!@#$.?:;\"]',\"\",\n",
    "                                x.lower().strip()).split()).flatten().filter(isrus).frequencies().compute()"
   ]
  },
  {
   "cell_type": "markdown",
   "metadata": {},
   "source": [
    "Для одного из файлов с отзывами из https://yadi.sk/d/OUpjPvLX0i1Ipw подсчитать частоту (!) слов для отзывов с оценкой \"5\" и для отзывов с оценкой \"2\" и найти 50 распространенных слов (встречающихся в каждой из групп более 10 раз), частота которых максимально увеличивается и уменьшается при переходе от плохих отзывов к хорошим."
   ]
  },
  {
   "cell_type": "code",
   "execution_count": null,
   "metadata": {},
   "outputs": [],
   "source": [
    "rev_games = db.read_text('..\\data\\amazon-reviews\\reviews_Video_Games_5.json.gz')\n",
    "js = rev_games.map(json.loads)"
   ]
  },
  {
   "cell_type": "code",
   "execution_count": null,
   "metadata": {},
   "outputs": [],
   "source": [
    "%%time\n",
    "result_5 = js.filter(lambda record: record['overall'] == 5.0).\\\n",
    "            map(lambda x: re.sub('[!@#$.?:;()\"]',\"\",x['reviewText'].lower().strip()).split()).\\\n",
    "            flatten().frequencies(sorted == True) #flatten = concat\n",
    "\n",
    "result_2 = js.filter(lambda record: record['overall'] == 2.0).\\\n",
    "            map(lambda x: re.sub('[!@#$.?:;()\"]',\"\",x['reviewText'].lower().strip()).split()).\\\n",
    "            flatten().frequencies(sorted == True) #flatten = concat\n",
    "\n",
    "count_5 = 0\n",
    "bag_for_count_5 = result_5.filter(lambda x: x[1] > 10).compute()\n",
    "for i in bag_for_count_5:\n",
    "    count_5 += i[1]\n",
    "\n",
    "count_2 = 0\n",
    "bag_for_count_2 = result_2.filter(lambda x: x[1] > 10).compute()\n",
    "for i in bag_for_count_2:\n",
    "    count_2 += i[1]\n",
    "\n",
    "\n",
    "result_5 = dict(result_5.filter(lambda x: x[1] > 10).map(lambda x: (x[0], x[1]/count_5)).compute())\n",
    "result_2 = dict(result_2.filter(lambda x: x[1] > 10).map(lambda x: (x[0], x[1]/count_2)).compute())"
   ]
  },
  {
   "cell_type": "code",
   "execution_count": null,
   "metadata": {},
   "outputs": [],
   "source": [
    "%%time\n",
    "help_dict = {}\n",
    "log_list = []\n",
    "for key, value in result_5.items():\n",
    "    try:\n",
    "        help_dict[key] = result_5[key] - result_2[key]\n",
    "    except:\n",
    "        #log_list.append(str(result_5) + \" не воходит во второй словарь\")\n",
    "        pass\n",
    "\n",
    "sorted(help_dict.items(), key=lambda x: x[1])[-51:]\n",
    "sorted(help_dict.items(), key=lambda x: x[1])[:50]"
   ]
  },
  {
   "cell_type": "markdown",
   "metadata": {},
   "source": [
    "Найти и вывести на экран наименьший элемент в массиве."
   ]
  },
  {
   "cell_type": "code",
   "execution_count": null,
   "metadata": {},
   "outputs": [],
   "source": [
    "x.min().compute()"
   ]
  },
  {
   "cell_type": "markdown",
   "metadata": {},
   "source": [
    "В accounts.*.csv найти имя, для которого встречается наибольшее количество положительных значений в столбце amount."
   ]
  },
  {
   "cell_type": "code",
   "execution_count": null,
   "metadata": {},
   "outputs": [],
   "source": [
    "filename = os.path.join('..\\data\\accounts', 'accounts.*.csv')\n",
    "filename\n",
    "\n",
    "df = dd.read_csv(filename, dtype={'id': int, 'names': str, 'amount': int})"
   ]
  },
  {
   "cell_type": "code",
   "execution_count": null,
   "metadata": {},
   "outputs": [],
   "source": [
    "res = df[df.amount > 0].groupby('names').amount.count().idxmax().compute()\n",
    "df[df.amount>0].groupby('names').amount.count().idxmax().compute()"
   ]
  },
  {
   "cell_type": "markdown",
   "metadata": {},
   "source": [
    "Эффективно создать csv файлы, содержащие данные из файлов accounts.*.csv к которым добавлен столбец, в котором содержится количество сотен из положительного значения amount и 0, если значение в amount отрицательное"
   ]
  },
  {
   "cell_type": "code",
   "execution_count": null,
   "metadata": {},
   "outputs": [],
   "source": [
    "df['new'] = df['amount'] // 100\n",
    "df['new'] = df['new'].where(df['new'] > 0, 0)"
   ]
  },
  {
   "cell_type": "code",
   "execution_count": null,
   "metadata": {},
   "outputs": [],
   "source": [
    "os.mkdir('data_new')\n",
    "to = os.path.join(\"data_new\", \"accounts_new.*.csv\")\n",
    "df.to_csv(to)"
   ]
  },
  {
   "cell_type": "markdown",
   "metadata": {},
   "source": [
    "Эффективно найти все 10 децилей для распределения значения amount"
   ]
  },
  {
   "cell_type": "code",
   "execution_count": null,
   "metadata": {},
   "outputs": [],
   "source": [
    "da.percentile(df['amount'].values, q=list(range(10, 101, 10))).compute()"
   ]
  },
  {
   "cell_type": "markdown",
   "metadata": {},
   "source": [
    "Нати 2 последовательно идующие транзакции имеющие наибольшую по модулю разность между значениями amount"
   ]
  },
  {
   "cell_type": "code",
   "execution_count": null,
   "metadata": {},
   "outputs": [],
   "source": [
    "def diff_between_window(df, periods=1):\n",
    "         before, after = (periods, 0) if periods > 0 else (0, -periods)\n",
    "         return df.map_overlap(lambda df, periods=1: df.diff(periods),\n",
    "                           periods, 0, periods=periods)"
   ]
  },
  {
   "cell_type": "code",
   "execution_count": null,
   "metadata": {},
   "outputs": [],
   "source": [
    "tr2 = diff_between_window(df['amount'], 1).abs().idxmax()\n",
    "tr1 = tr2 - 1"
   ]
  },
  {
   "cell_type": "code",
   "execution_count": null,
   "metadata": {},
   "outputs": [],
   "source": [
    "dask.compute(tr1, tr2)"
   ]
  },
  {
   "cell_type": "markdown",
   "metadata": {},
   "source": [
    "Для файлов json с отзывами с Amazon подсчиатать количество отзывов для каждой из оценок. Для подсчета количества отзывов использовать Dask.DataFrame"
   ]
  },
  {
   "cell_type": "code",
   "execution_count": null,
   "metadata": {},
   "outputs": [],
   "source": [
    "reviews_json.groupby('overall').overall.count().compute()"
   ]
  },
  {
   "cell_type": "code",
   "execution_count": null,
   "metadata": {},
   "outputs": [],
   "source": []
  }
 ],
 "metadata": {
  "kernelspec": {
   "display_name": "Python 3",
   "language": "python",
   "name": "python3"
  },
  "language_info": {
   "codemirror_mode": {
    "name": "ipython",
    "version": 3
   },
   "file_extension": ".py",
   "mimetype": "text/x-python",
   "name": "python",
   "nbconvert_exporter": "python",
   "pygments_lexer": "ipython3",
   "version": "3.6.5"
  }
 },
 "nbformat": 4,
 "nbformat_minor": 2
}
