{
 "cells": [
  {
   "cell_type": "markdown",
   "metadata": {},
   "source": [
    "Задачи по Numpy\n",
    "\n",
    "V 0.2 03.09.2020"
   ]
  },
  {
   "cell_type": "markdown",
   "metadata": {},
   "source": [
    "---"
   ]
  },
  {
   "cell_type": "markdown",
   "metadata": {},
   "source": [
    "1.1 Создать в numpy матрицу 11 на 7 вида: [[1, 2, 3, ..., 7], [11, 12, 13, ..., 17], [21, 22, 23, ..., 27], ..., [101, 102, 103, ..., 107]]"
   ]
  },
  {
   "cell_type": "markdown",
   "metadata": {},
   "source": [
    "1.2 Средствами numpy рассчитать произведения четных чисел от 2 до 20 на ближайшие к ним бОльшие нечетные числа."
   ]
  },
  {
   "cell_type": "markdown",
   "metadata": {},
   "source": [
    "1.3 Приблизительно (с погрешностью порядка 1%) рассчитать на какой части интервала от 0 до 10 значение функции x * sin(x) больше 0.5."
   ]
  },
  {
   "cell_type": "markdown",
   "metadata": {},
   "source": [
    "1.4 Создать матрицу 8 на 10 из случайных целых (используя модуль numpy.random) чисел из дапозона от 0 до 10 и найти в ней строку (ее индекс и вывести саму строку), в которой сумма значений минимальна."
   ]
  },
  {
   "cell_type": "code",
   "execution_count": 2,
   "metadata": {},
   "outputs": [],
   "source": [
    "import numpy as np"
   ]
  },
  {
   "cell_type": "code",
   "execution_count": 3,
   "metadata": {},
   "outputs": [
    {
     "data": {
      "text/plain": [
       "(3, array([3, 3, 5, 0, 4, 3, 9, 1, 0, 2]))"
      ]
     },
     "execution_count": 3,
     "metadata": {},
     "output_type": "execute_result"
    }
   ],
   "source": [
    "a4 =np.random.randint(0,10,(8,10))\n",
    "stroki = a4.sum(axis=1)\n",
    "\n",
    "stroki.argmin(), a4[stroki.argmin()]"
   ]
  },
  {
   "cell_type": "code",
   "execution_count": 4,
   "metadata": {},
   "outputs": [
    {
     "data": {
      "text/plain": [
       "array([[0, 8, 5, 4, 5, 7, 6, 2, 6, 3],\n",
       "       [4, 7, 2, 7, 7, 3, 4, 2, 0, 0],\n",
       "       [0, 7, 5, 4, 7, 1, 0, 0, 3, 7],\n",
       "       [3, 3, 5, 0, 4, 3, 9, 1, 0, 2],\n",
       "       [8, 9, 7, 8, 0, 6, 4, 9, 2, 9],\n",
       "       [9, 2, 7, 0, 1, 1, 0, 7, 0, 4],\n",
       "       [2, 5, 6, 3, 3, 4, 0, 6, 6, 5],\n",
       "       [8, 2, 7, 7, 9, 9, 3, 1, 2, 0]])"
      ]
     },
     "execution_count": 4,
     "metadata": {},
     "output_type": "execute_result"
    }
   ],
   "source": [
    "a4"
   ]
  },
  {
   "cell_type": "markdown",
   "metadata": {},
   "source": [
    "1.5 Создать две матрицы 30 на 3 из случайных целых чисел из диапазона от 0 до 10 и найти все значения первой матрицы, которые больше соответсвующих (по расположению) значений второй матрицы. Подсчитать сумму этих значений."
   ]
  },
  {
   "cell_type": "code",
   "execution_count": 5,
   "metadata": {},
   "outputs": [],
   "source": [
    "a = np.array(np.random.randint(0, 10, (30, 3)))\n",
    "b = np.array(np.random.randint(0, 10, (30, 3)))"
   ]
  },
  {
   "cell_type": "code",
   "execution_count": 8,
   "metadata": {},
   "outputs": [],
   "source": [
    "# np.where(a>b, a, 0)"
   ]
  },
  {
   "cell_type": "code",
   "execution_count": 6,
   "metadata": {},
   "outputs": [
    {
     "data": {
      "text/plain": [
       "253"
      ]
     },
     "execution_count": 6,
     "metadata": {},
     "output_type": "execute_result"
    }
   ],
   "source": [
    "np.sum(np.where(a>b, a, 0))"
   ]
  },
  {
   "cell_type": "code",
   "execution_count": 9,
   "metadata": {},
   "outputs": [
    {
     "data": {
      "text/plain": [
       "253"
      ]
     },
     "execution_count": 9,
     "metadata": {},
     "output_type": "execute_result"
    }
   ],
   "source": [
    "a[a>b].sum()"
   ]
  },
  {
   "cell_type": "markdown",
   "metadata": {},
   "source": [
    "1.6 Написать фукнцию, которая для целых значений n и m будет возвращать матрицу размера n на m, имеющую заполнение вида.\n",
    "Пример для 4 на 4:\n",
    "\n",
    "0 1 0 1\n",
    "\n",
    "2 3 2 3\n",
    "\n",
    "0 1 0 1\n",
    "\n",
    "2 3 2 3"
   ]
  },
  {
   "cell_type": "markdown",
   "metadata": {},
   "source": [
    "1.7 Найти все простые числа в пределах ста. (Для решения предлагается использовать Решето Эратосфена) Использовать не более 1 цикла (желательно)."
   ]
  },
  {
   "cell_type": "code",
   "execution_count": 11,
   "metadata": {},
   "outputs": [
    {
     "name": "stdout",
     "output_type": "stream",
     "text": [
      "[ 2  3  5  7 11 13 17 19 23 29 31 37 41 43 47 53 59 61 67 71 73 79 83 89\n",
      " 97]\n"
     ]
    }
   ],
   "source": [
    "a=np.arange(2,101,1)\n",
    "for i in range (len(a)):\n",
    "    np.place(a,a%a[i]==0,a[i])\n",
    "    d=np.delete(np.where(a==a[i])[0],0)\n",
    "    if d.size ==0:\n",
    "        print(a)\n",
    "        break\n",
    "    a=np.delete(a,d)"
   ]
  },
  {
   "cell_type": "code",
   "execution_count": 12,
   "metadata": {},
   "outputs": [
    {
     "data": {
      "text/plain": [
       "array([ 2,  3,  5,  7, 11, 13, 17, 19, 23, 29, 31, 37, 41, 43, 47, 53, 59,\n",
       "       61, 67, 71, 73, 79, 83, 89, 97], dtype=int64)"
      ]
     },
     "execution_count": 12,
     "metadata": {},
     "output_type": "execute_result"
    }
   ],
   "source": [
    "f = np.ones(100)\n",
    "f[0] = f[1] = False\n",
    "\n",
    "for i in range(2, 100):\n",
    "    if f[i]:\n",
    "        f[i*i::i] = False\n",
    "        \n",
    "np.flatnonzero(f)"
   ]
  },
  {
   "cell_type": "markdown",
   "metadata": {},
   "source": [
    "1.8 Задан произвольный массив numpy (например массив из 100 случайных числе от 0 до 1). Необходимо найти в нем число наиболее близкое к заданному."
   ]
  },
  {
   "cell_type": "markdown",
   "metadata": {},
   "source": [
    "1.9 При помощи прихотливого индексирования для двухмерного массива размерности (20, 20), состоящего из случайных целых чисел в пределах от 0 до 10 получить массив элементов находящихся на диагонали, проходящей над основной диагональю."
   ]
  },
  {
   "cell_type": "markdown",
   "metadata": {},
   "source": [
    "1.10 Имеется массив из 10 названий городов. При помощи прихотливой индексации сгенерировать последовательность из 100 элементов представляющих случайный выбор из названий городов."
   ]
  },
  {
   "cell_type": "markdown",
   "metadata": {},
   "source": [
    "1.11 Решить матричное уравнение `A*X*B=-C` - найти матрицу X. Где `A = [[-1, 2, 4], [-3, 1, 2], [-3, 0, 1]]`, `B=[[3, -1], [2, 1]]`, `C=[[7, 21], [11, 8], [8, 4]]`."
   ]
  },
  {
   "cell_type": "markdown",
   "metadata": {},
   "source": [
    "1.12 Проверить, является ли система векторов a1 = (3; −3; 0; 7),\n",
    "a2 = (2; 2; 4; 7), a3 = (1; 2; 3; 4), a4 = (5; −4; 1; 3) линейно зависимой?"
   ]
  },
  {
   "cell_type": "markdown",
   "metadata": {},
   "source": [
    "1.13 Задать два двухмерных массива ar1 и ar2 размерности (4, 7), состоящих из случайных целых чисел в пределах от 0 до 10. Построить двухмерный массив размерности (4, 7), каждый элемент которого представляет собой максиум из двух значений, находящихся на аналогичной позиции в массивах ar1, ar2."
   ]
  },
  {
   "cell_type": "markdown",
   "metadata": {},
   "source": [
    "1.14 Задать два двухмерных массива ar1 и ar2 размерности (5, 10), состоящих из случайных целых чисел в пределах от 0 до 10. Удовить все значения ar1 которые совпадают со значениями ar2, расположенными на аналогичных позициях."
   ]
  },
  {
   "cell_type": "markdown",
   "metadata": {},
   "source": [
    "1.15 Заданы три двухмерных массива ar1,ar2 и ar3 размерности (4, 7), состоящих из случайных целых чисел в пределах от 0 до 10. Обнулить все элемены ar1 которые больше соответствующих (находящихся в соответствующих позициях) элементов ar2 и меньше соответствующих элементов ar3."
   ]
  },
  {
   "cell_type": "markdown",
   "metadata": {},
   "source": [
    "1.16 Задан двухмерный массив ar1 размерности (4, 7) состоящий из случайных  чисел в пределах от 0 до 1. Обнулить все значения в массиве, расположенные строго правее и ниже максимального элемента массива. "
   ]
  },
  {
   "cell_type": "code",
   "execution_count": null,
   "metadata": {},
   "outputs": [],
   "source": []
  }
 ],
 "metadata": {
  "kernelspec": {
   "display_name": "Python 3",
   "language": "python",
   "name": "python3"
  },
  "language_info": {
   "codemirror_mode": {
    "name": "ipython",
    "version": 3
   },
   "file_extension": ".py",
   "mimetype": "text/x-python",
   "name": "python",
   "nbconvert_exporter": "python",
   "pygments_lexer": "ipython3",
   "version": "3.7.4"
  }
 },
 "nbformat": 4,
 "nbformat_minor": 2
}
