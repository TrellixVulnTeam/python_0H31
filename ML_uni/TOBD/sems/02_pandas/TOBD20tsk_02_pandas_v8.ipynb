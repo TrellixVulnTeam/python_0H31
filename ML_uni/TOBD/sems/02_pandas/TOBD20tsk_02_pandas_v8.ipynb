{
 "cells": [
  {
   "cell_type": "markdown",
   "metadata": {},
   "source": [
    "Задачи по Pandas\n",
    "\n",
    "V 0.8 14.09.2020\n",
    "\n",
    "Датасеты:\n",
    "* sp_data2.csv \n",
    "* sp500hst.txt \n",
    "* kings.csv \n",
    "* titanic.csv "
   ]
  },
  {
   "cell_type": "code",
   "execution_count": 2,
   "metadata": {
    "collapsed": true
   },
   "outputs": [],
   "source": [
    "import pandas as pd\n",
    "import numpy as np"
   ]
  },
  {
   "cell_type": "markdown",
   "metadata": {},
   "source": [
    "---"
   ]
  },
  {
   "cell_type": "markdown",
   "metadata": {},
   "source": [
    "2.1 Задание: загрузить данные из файлов (приложены к письму):\n",
    "* excel-comp-data.xlsx\n",
    "* sp500hst.txt "
   ]
  },
  {
   "cell_type": "markdown",
   "metadata": {},
   "source": [
    "2.2 Загрузить данные из файла sp500hst.txt, обозначить столбцы (в соответствии с содержимым). "
   ]
  },
  {
   "cell_type": "markdown",
   "metadata": {},
   "source": [
    "2.3.1 Создать столбец со значеними средними, между значением дневного минимума и максимума."
   ]
  },
  {
   "cell_type": "markdown",
   "metadata": {},
   "source": [
    "2.3.2 Рассчитать среднее значение показателей для каждого из столбцов 3-6."
   ]
  },
  {
   "cell_type": "markdown",
   "metadata": {},
   "source": [
    "2.4.1 Создать DataFrame состоящий из строк относящихся только к 13 августа 2010 года. "
   ]
  },
  {
   "cell_type": "markdown",
   "metadata": {},
   "source": [
    "2.4.1.2 Из DataFrame, созданного в 2.4.1, cоздать серию из 30 первых имен "
   ]
  },
  {
   "cell_type": "markdown",
   "metadata": {},
   "source": [
    "2.4.2 Из DataFrame, созданного в 2.4.1, создать новый DataFrame индексом в котором являются имена тикеров."
   ]
  },
  {
   "cell_type": "markdown",
   "metadata": {},
   "source": [
    "2.4.3 Создать DataFrame состоящий из строк относящихся только тикеру ALTR."
   ]
  },
  {
   "cell_type": "markdown",
   "metadata": {},
   "source": [
    "2.4.5.1 Создать DataFrame состоящий из строк относящихся только тикеру WAT и объединить его с DataFrame для ALTR. "
   ]
  },
  {
   "cell_type": "markdown",
   "metadata": {},
   "source": [
    "2.4.5.2 Создать DataFrame в котором присутствует столбец, отражающий разницу в объемах торгов по WAT и ALTR в одинаковые дни и содержит исходные данны об объеме трогов этими акциями."
   ]
  },
  {
   "cell_type": "markdown",
   "metadata": {},
   "source": []
  },
  {
   "cell_type": "markdown",
   "metadata": {},
   "source": [
    "2.4 Выяввиь столбцы содержащие минимальные и максимальные значения (если такие столбцы есть). (Проверить, есть ли среди столбцов, столбец с минимальным значением курса акций.)"
   ]
  },
  {
   "cell_type": "markdown",
   "metadata": {},
   "source": [
    "2.5 По данным из 'sp500hst.txt' при помощи Pandas расчитать максимальные значения в 3-6 столбца для дат после 20100801\n",
    "\n",
    "2.6 По данным из 'sp500hst.txt' при помощи Pandas расчитать средний объем торгов (обеъм торгов - в последнем столбце) при значениях 3го столбца больше 50."
   ]
  },
  {
   "cell_type": "markdown",
   "metadata": {},
   "source": [
    "## Даты\n",
    "\n",
    "* Группа функций pandas.Series.dt.<Имя функции>\n",
    "* Например, см.: https://pandas.pydata.org/pandas-docs/stable/reference/api/pandas.Series.dt.day.html"
   ]
  },
  {
   "cell_type": "markdown",
   "metadata": {},
   "source": [
    "2.4.4 Из DataFrame, созданного в 4.3, создать DataFrame индексом в котором являются даты."
   ]
  },
  {
   "cell_type": "markdown",
   "metadata": {},
   "source": [
    "2.4.5 В DataFrame, созданном в 4.3, добавить столбец, содержащий только число месяца, к которому относится дата."
   ]
  },
  {
   "cell_type": "markdown",
   "metadata": {},
   "source": [
    "2.4.6 В DataFrame добавить столбец, содержащий только число месяца, к которому относится дата."
   ]
  },
  {
   "cell_type": "markdown",
   "metadata": {},
   "source": [
    "2.4.7 Из DataFrame выбрать только строки, относящиеся к 13 числу месяца."
   ]
  },
  {
   "cell_type": "markdown",
   "metadata": {},
   "source": [
    "20.x.8 Для тикера AAPL подсчитать, сколько дней прошло между максимальным и минимальным значением цены акции на закрытии рынка."
   ]
  },
  {
   "cell_type": "markdown",
   "metadata": {},
   "source": [
    "20.x.9 Для каждого тикера подсчитать, максимальную цену акции и определить, в какой день недели чаще всего достигается максимум цены акции."
   ]
  },
  {
   "cell_type": "markdown",
   "metadata": {},
   "source": []
  },
  {
   "cell_type": "markdown",
   "metadata": {},
   "source": [
    "## Работа со строковыми значениями в Pandas\n",
    "\n",
    "* Группа функций pandas.Series.str.<Имя функции>\n",
    "* Например, см.: https://pandas.pydata.org/pandas-docs/stable/reference/api/pandas.Series.str.capitalize.html"
   ]
  },
  {
   "cell_type": "markdown",
   "metadata": {},
   "source": [
    "20.xx.1 Загрузить датасет kings.csv в датафрэйм и добавить в него столбец Name, в котором содержатся имена королей (без порядковых номеров) "
   ]
  },
  {
   "cell_type": "markdown",
   "metadata": {},
   "source": [
    "20.xx.1.2 Для датафрэйма kings загрузить порядоковые нормера королей и отфильторвать строки соответствующие королям с номерами \"I\"."
   ]
  },
  {
   "cell_type": "markdown",
   "metadata": {},
   "source": [
    "20.xx.1.3 Для датафрэйма kings, для столбца King получить значения максимума и минимума для чисел, являющихся последним токеном в строке."
   ]
  },
  {
   "cell_type": "markdown",
   "metadata": {},
   "source": [
    "20.xx.1.3* Для датафрэйма kings, для столбца King с помощью регулярного выражения извелечь значения начала и конца правления королей, записанные в формате (год-год)."
   ]
  },
  {
   "cell_type": "markdown",
   "metadata": {},
   "source": [
    "## Работ с пропущенными значениями"
   ]
  },
  {
   "cell_type": "markdown",
   "metadata": {},
   "source": [
    "20.xxx.1 Подсчитать количество пропущенных значений для всех столбцов датасета titanic.csv"
   ]
  },
  {
   "cell_type": "markdown",
   "metadata": {},
   "source": [
    "20.xxx.2 Удалить из датафрейма полученного из titanic.csv все строки, в которых есть хотя бы один пропуск."
   ]
  },
  {
   "cell_type": "markdown",
   "metadata": {},
   "source": [
    "20.xxx.3 Удалить из датафрейма полученного из titanic.csv все строки, в которых есть два и более пропуска."
   ]
  },
  {
   "cell_type": "markdown",
   "metadata": {},
   "source": [
    "20.xxx.4 В датафрейме, полученном из titanic.csv, заменить все пропущенные числовые значения на значения равне среднему от аналогичного значения в предыдущей и последующей строках."
   ]
  },
  {
   "cell_type": "markdown",
   "metadata": {},
   "source": [
    "20.xxx.5 В датафрейме, полученном из titanic.csv, заменить все пропущенные числовые значения возраста на значения равне среднему значению для представителей этого пола (не выполнять операцию, если неизвестен и пол и возраст)."
   ]
  },
  {
   "cell_type": "markdown",
   "metadata": {},
   "source": [
    "## Сводные таблицы в Pandas\n",
    "* см.: https://pandas.pydata.org/pandas-docs/stable/reference/api/pandas.pivot_table.html"
   ]
  },
  {
   "cell_type": "markdown",
   "metadata": {},
   "source": [
    "20.xxx.1 С помощью сводных таблиц определить какая доля выживших в разных классах для мужчин и женщин была на Титанике (датасет titanic.csv)"
   ]
  },
  {
   "cell_type": "markdown",
   "metadata": {},
   "source": [
    "20.xxx.2 С использованием сводных таблиц подсчитать количество мужчин и женщин плывших в разных классов на Титанике (датасет titanic.csv)"
   ]
  },
  {
   "cell_type": "markdown",
   "metadata": {},
   "source": [
    "20.xxx.3 С использованием сводных таблиц определить какая доля выживших была на Титанике для мужчин и женщин, разных классов и разных категорий возрастов (Категории возрастов: (0, 10), (10, 30), (30, 60), (60, 80)) (датасет titanic.csv)"
   ]
  },
  {
   "cell_type": "markdown",
   "metadata": {},
   "source": [
    "## Объединение наборов данных"
   ]
  },
  {
   "cell_type": "markdown",
   "metadata": {},
   "source": [
    "2.7 Добавить столбец с расшифровкой названия тикера используя данные из файла sp_data2.csv . В случае нехватки данных об именах тикеров корректно обработать их."
   ]
  },
  {
   "cell_type": "markdown",
   "metadata": {},
   "source": [
    "2.8 Вывести тикеры, для которых не были найдены рсшифровки. "
   ]
  },
  {
   "cell_type": "markdown",
   "metadata": {},
   "source": [
    "9 Отранжировать штаты по численности населения меньше 18 лет в 1990 году. В качестве индекса таблицы использовать название штата"
   ]
  },
  {
   "cell_type": "markdown",
   "metadata": {},
   "source": [
    "10 Объединить данные о торговле из /e-commerce в один датафрейм, добавив столбец 'Country', в котором указано название страны"
   ]
  },
  {
   "cell_type": "markdown",
   "metadata": {},
   "source": [
    "__11__\n",
    "1. Загрузить датасет avocado. \n",
    "2. Преобразовать столбец Date в формате datetime\n",
    "3. При помощи метода join создать новый датафрейм, в котором столбцами являются скользящие средние цен за 10 дней, а индексом - даты\n",
    "4. Изобразить на одной фигуре графики полученных временных рядом"
   ]
  },
  {
   "cell_type": "markdown",
   "metadata": {},
   "source": []
  },
  {
   "cell_type": "markdown",
   "metadata": {},
   "source": [
    "## GroupBy"
   ]
  },
  {
   "cell_type": "markdown",
   "metadata": {},
   "source": [
    "2.9 Рассчитать суммарный объем торгов (столбец 7) для для одинаковых значений (тикеров) из столбца 2 \n",
    "\n",
    "2.9.2 Для каждого тикера подсчитать, сколько раз он встречается.\n",
    "\n",
    "2.10 Расчитать среднее значение показателей для каждого из столбцов 3-6 для одинаковых значений (тикеров) из столбца 2 и сохранить в новом DataFrame\n",
    "\n",
    "2.11 Добавить в DataFrame новый столбец, содержащий объем торгов (столбец 7), нормированный по среднему значению объема торгов для данного тикера.\n",
    "\n"
   ]
  },
  {
   "cell_type": "markdown",
   "metadata": {},
   "source": [
    ".13 Для каждой из стран в датафрейме, полученном в Объединение.10 найти 3 самых дорогих проданных товара"
   ]
  },
  {
   "cell_type": "markdown",
   "metadata": {},
   "source": [
    "2.12 Разбить датафрейм, полученный в Объединение.10, на 4 файла, в зависимости от принадлежности значения столбца 'UnitPrice' интервалам:\n",
    "\n",
    "1) $ UnitPrice \\in (q_0, q_1] $\n",
    "\n",
    "2) $ UnitPrice \\in (q_1, q_2] $\n",
    "\n",
    "3) $ UnitPrice \\in (q_2, q_3] $\n",
    "\n",
    "4) $ UnitPrice \\in (q_3, q_4] $"
   ]
  },
  {
   "cell_type": "markdown",
   "metadata": {},
   "source": [
    "Создать новый столбец UnitPriceWithMean, значения которого совпадают с UnitPrice, если UnitPrice >= 2 и равны среднему значению цен товаров, больших двух, в этой стране, в противном случае"
   ]
  },
  {
   "cell_type": "markdown",
   "metadata": {},
   "source": [
    "Для каждого описания товара найти список стран, в которых этот товар был продан. Описание товара считаем корректным, если в нем все символы строки, поддерживающие приведение к регистру, приведены к верхнем"
   ]
  },
  {
   "cell_type": "markdown",
   "metadata": {},
   "source": []
  },
  {
   "cell_type": "markdown",
   "metadata": {},
   "source": []
  }
 ],
 "metadata": {
  "kernelspec": {
   "display_name": "Python 3",
   "language": "python",
   "name": "python3"
  },
  "language_info": {
   "codemirror_mode": {
    "name": "ipython",
    "version": 3
   },
   "file_extension": ".py",
   "mimetype": "text/x-python",
   "name": "python",
   "nbconvert_exporter": "python",
   "pygments_lexer": "ipython3",
   "version": "3.7.6"
  }
 },
 "nbformat": 4,
 "nbformat_minor": 2
}
