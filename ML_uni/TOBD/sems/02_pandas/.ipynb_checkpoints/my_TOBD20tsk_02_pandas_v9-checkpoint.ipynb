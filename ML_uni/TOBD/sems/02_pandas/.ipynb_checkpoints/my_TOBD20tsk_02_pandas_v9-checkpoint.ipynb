{
 "cells": [
  {
   "cell_type": "markdown",
   "metadata": {},
   "source": [
    "Задачи по Pandas\n",
    "\n",
    "V 0.8 14.09.2020\n",
    "\n",
    "Датасеты:\n",
    "* sp_data2.csv \n",
    "* sp500hst.txt \n",
    "* kings.csv \n",
    "* titanic.csv \n",
    "* e-commerce/*\n",
    "* avocado_v1\n",
    "* us-state-population\n",
    "* us-state-shortcode"
   ]
  },
  {
   "cell_type": "code",
   "execution_count": 1,
   "metadata": {},
   "outputs": [],
   "source": [
    "import pandas as pd\n",
    "import numpy as np"
   ]
  },
  {
   "cell_type": "markdown",
   "metadata": {},
   "source": [
    "---"
   ]
  },
  {
   "cell_type": "markdown",
   "metadata": {},
   "source": [
    "## 1. Введение"
   ]
  },
  {
   "cell_type": "markdown",
   "metadata": {},
   "source": [
    "### Датасеты:\n",
    "* sp_data2.csv\n",
    "* sp500hst.txt"
   ]
  },
  {
   "cell_type": "markdown",
   "metadata": {},
   "source": [
    "1.1 Задание: загрузить данные из файлов (приложены к письму):\n",
    "* excel-comp-data.xlsx\n",
    "* sp500hst.txt "
   ]
  },
  {
   "cell_type": "code",
   "execution_count": 2,
   "metadata": {},
   "outputs": [
    {
     "name": "stdout",
     "output_type": "stream",
     "text": [
      "         0                1     2\n",
      "0     AAPL            Apple  3.6%\n",
      "1     AMZN       Amazon.com  3.2%\n",
      "2    GOOGL         Alphabet  3.1%\n",
      "3     GOOG         Alphabet  3.1%\n",
      "4     MSFT        Microsoft  3.0%\n",
      "..     ...              ...   ...\n",
      "500    SCG            SCANA  0.0%\n",
      "501    AIZ         Assurant  0.0%\n",
      "502    AYI    Acuity Brands  0.0%\n",
      "503    HRB        H&R Block  0.0%\n",
      "504    RRC  Range Resources  0.0%\n",
      "\n",
      "[505 rows x 3 columns]                0    1      2        3       4      5      6\n",
      "0       20090821    A  25.60  25.6100  25.220  25.55  34758\n",
      "1       20090824    A  25.64  25.7400  25.330  25.50  22247\n",
      "2       20090825    A  25.50  25.7000  25.225  25.34  30891\n",
      "3       20090826    A  25.32  25.6425  25.145  25.48  33334\n",
      "4       20090827    A  25.50  25.5700  25.230  25.54  70176\n",
      "...          ...  ...    ...      ...     ...    ...    ...\n",
      "122569  20100813  ZMH  51.72  51.9000  51.380  51.44  14561\n",
      "122570  20100816  ZMH  51.13  51.4700  50.600  51.00  13489\n",
      "122571  20100817  ZMH  51.14  51.6000  50.890  51.21  20498\n",
      "122572  20100819  ZMH  51.63  51.6300  50.170  50.22  18259\n",
      "122573  20100820  ZMH  50.03  50.5500  49.480  49.82  17792\n",
      "\n",
      "[122574 rows x 7 columns]\n"
     ]
    }
   ],
   "source": [
    "dt1 = pd.read_csv('sp_data2.csv', sep=';', header=None)\n",
    "dt2 = pd.read_csv('sp500hst.txt', header=None)\n",
    "print(dt1, dt2)"
   ]
  },
  {
   "cell_type": "markdown",
   "metadata": {},
   "source": [
    "1.2 Загрузить данные из файла sp500hst.txt, обозначить столбцы (в соответствии с содержимым).\n",
    "    * \"date\", \"ticker\", \"open\", \"high\", \"low\", \"close\", \"volume\""
   ]
  },
  {
   "cell_type": "code",
   "execution_count": 3,
   "metadata": {},
   "outputs": [
    {
     "data": {
      "text/html": [
       "<div>\n",
       "<style scoped>\n",
       "    .dataframe tbody tr th:only-of-type {\n",
       "        vertical-align: middle;\n",
       "    }\n",
       "\n",
       "    .dataframe tbody tr th {\n",
       "        vertical-align: top;\n",
       "    }\n",
       "\n",
       "    .dataframe thead th {\n",
       "        text-align: right;\n",
       "    }\n",
       "</style>\n",
       "<table border=\"1\" class=\"dataframe\">\n",
       "  <thead>\n",
       "    <tr style=\"text-align: right;\">\n",
       "      <th></th>\n",
       "      <th>date</th>\n",
       "      <th>ticker</th>\n",
       "      <th>open</th>\n",
       "      <th>high</th>\n",
       "      <th>low</th>\n",
       "      <th>close</th>\n",
       "      <th>volume</th>\n",
       "    </tr>\n",
       "  </thead>\n",
       "  <tbody>\n",
       "    <tr>\n",
       "      <th>0</th>\n",
       "      <td>20090821</td>\n",
       "      <td>A</td>\n",
       "      <td>25.60</td>\n",
       "      <td>25.6100</td>\n",
       "      <td>25.220</td>\n",
       "      <td>25.55</td>\n",
       "      <td>34758</td>\n",
       "    </tr>\n",
       "    <tr>\n",
       "      <th>1</th>\n",
       "      <td>20090824</td>\n",
       "      <td>A</td>\n",
       "      <td>25.64</td>\n",
       "      <td>25.7400</td>\n",
       "      <td>25.330</td>\n",
       "      <td>25.50</td>\n",
       "      <td>22247</td>\n",
       "    </tr>\n",
       "    <tr>\n",
       "      <th>2</th>\n",
       "      <td>20090825</td>\n",
       "      <td>A</td>\n",
       "      <td>25.50</td>\n",
       "      <td>25.7000</td>\n",
       "      <td>25.225</td>\n",
       "      <td>25.34</td>\n",
       "      <td>30891</td>\n",
       "    </tr>\n",
       "    <tr>\n",
       "      <th>3</th>\n",
       "      <td>20090826</td>\n",
       "      <td>A</td>\n",
       "      <td>25.32</td>\n",
       "      <td>25.6425</td>\n",
       "      <td>25.145</td>\n",
       "      <td>25.48</td>\n",
       "      <td>33334</td>\n",
       "    </tr>\n",
       "    <tr>\n",
       "      <th>4</th>\n",
       "      <td>20090827</td>\n",
       "      <td>A</td>\n",
       "      <td>25.50</td>\n",
       "      <td>25.5700</td>\n",
       "      <td>25.230</td>\n",
       "      <td>25.54</td>\n",
       "      <td>70176</td>\n",
       "    </tr>\n",
       "    <tr>\n",
       "      <th>...</th>\n",
       "      <td>...</td>\n",
       "      <td>...</td>\n",
       "      <td>...</td>\n",
       "      <td>...</td>\n",
       "      <td>...</td>\n",
       "      <td>...</td>\n",
       "      <td>...</td>\n",
       "    </tr>\n",
       "    <tr>\n",
       "      <th>122569</th>\n",
       "      <td>20100813</td>\n",
       "      <td>ZMH</td>\n",
       "      <td>51.72</td>\n",
       "      <td>51.9000</td>\n",
       "      <td>51.380</td>\n",
       "      <td>51.44</td>\n",
       "      <td>14561</td>\n",
       "    </tr>\n",
       "    <tr>\n",
       "      <th>122570</th>\n",
       "      <td>20100816</td>\n",
       "      <td>ZMH</td>\n",
       "      <td>51.13</td>\n",
       "      <td>51.4700</td>\n",
       "      <td>50.600</td>\n",
       "      <td>51.00</td>\n",
       "      <td>13489</td>\n",
       "    </tr>\n",
       "    <tr>\n",
       "      <th>122571</th>\n",
       "      <td>20100817</td>\n",
       "      <td>ZMH</td>\n",
       "      <td>51.14</td>\n",
       "      <td>51.6000</td>\n",
       "      <td>50.890</td>\n",
       "      <td>51.21</td>\n",
       "      <td>20498</td>\n",
       "    </tr>\n",
       "    <tr>\n",
       "      <th>122572</th>\n",
       "      <td>20100819</td>\n",
       "      <td>ZMH</td>\n",
       "      <td>51.63</td>\n",
       "      <td>51.6300</td>\n",
       "      <td>50.170</td>\n",
       "      <td>50.22</td>\n",
       "      <td>18259</td>\n",
       "    </tr>\n",
       "    <tr>\n",
       "      <th>122573</th>\n",
       "      <td>20100820</td>\n",
       "      <td>ZMH</td>\n",
       "      <td>50.03</td>\n",
       "      <td>50.5500</td>\n",
       "      <td>49.480</td>\n",
       "      <td>49.82</td>\n",
       "      <td>17792</td>\n",
       "    </tr>\n",
       "  </tbody>\n",
       "</table>\n",
       "<p>122574 rows × 7 columns</p>\n",
       "</div>"
      ],
      "text/plain": [
       "            date ticker   open     high     low  close  volume\n",
       "0       20090821      A  25.60  25.6100  25.220  25.55   34758\n",
       "1       20090824      A  25.64  25.7400  25.330  25.50   22247\n",
       "2       20090825      A  25.50  25.7000  25.225  25.34   30891\n",
       "3       20090826      A  25.32  25.6425  25.145  25.48   33334\n",
       "4       20090827      A  25.50  25.5700  25.230  25.54   70176\n",
       "...          ...    ...    ...      ...     ...    ...     ...\n",
       "122569  20100813    ZMH  51.72  51.9000  51.380  51.44   14561\n",
       "122570  20100816    ZMH  51.13  51.4700  50.600  51.00   13489\n",
       "122571  20100817    ZMH  51.14  51.6000  50.890  51.21   20498\n",
       "122572  20100819    ZMH  51.63  51.6300  50.170  50.22   18259\n",
       "122573  20100820    ZMH  50.03  50.5500  49.480  49.82   17792\n",
       "\n",
       "[122574 rows x 7 columns]"
      ]
     },
     "execution_count": 3,
     "metadata": {},
     "output_type": "execute_result"
    }
   ],
   "source": [
    "dt2.columns=[\"date\", \"ticker\", \"open\", \"high\", \"low\", \"close\", \"volume\"]\n",
    "dt2"
   ]
  },
  {
   "cell_type": "markdown",
   "metadata": {},
   "source": [
    "1.3"
   ]
  },
  {
   "cell_type": "markdown",
   "metadata": {},
   "source": [
    "1.3.1 Создать столбец со значеними средними, между значением дневного минимума и максимума."
   ]
  },
  {
   "cell_type": "code",
   "execution_count": 4,
   "metadata": {},
   "outputs": [
    {
     "data": {
      "text/html": [
       "<div>\n",
       "<style scoped>\n",
       "    .dataframe tbody tr th:only-of-type {\n",
       "        vertical-align: middle;\n",
       "    }\n",
       "\n",
       "    .dataframe tbody tr th {\n",
       "        vertical-align: top;\n",
       "    }\n",
       "\n",
       "    .dataframe thead th {\n",
       "        text-align: right;\n",
       "    }\n",
       "</style>\n",
       "<table border=\"1\" class=\"dataframe\">\n",
       "  <thead>\n",
       "    <tr style=\"text-align: right;\">\n",
       "      <th></th>\n",
       "      <th>date</th>\n",
       "      <th>ticker</th>\n",
       "      <th>open</th>\n",
       "      <th>high</th>\n",
       "      <th>low</th>\n",
       "      <th>close</th>\n",
       "      <th>volume</th>\n",
       "      <th>avg</th>\n",
       "    </tr>\n",
       "  </thead>\n",
       "  <tbody>\n",
       "    <tr>\n",
       "      <th>0</th>\n",
       "      <td>20090821</td>\n",
       "      <td>A</td>\n",
       "      <td>25.60</td>\n",
       "      <td>25.6100</td>\n",
       "      <td>25.220</td>\n",
       "      <td>25.55</td>\n",
       "      <td>34758</td>\n",
       "      <td>25.41500</td>\n",
       "    </tr>\n",
       "    <tr>\n",
       "      <th>1</th>\n",
       "      <td>20090824</td>\n",
       "      <td>A</td>\n",
       "      <td>25.64</td>\n",
       "      <td>25.7400</td>\n",
       "      <td>25.330</td>\n",
       "      <td>25.50</td>\n",
       "      <td>22247</td>\n",
       "      <td>25.53500</td>\n",
       "    </tr>\n",
       "    <tr>\n",
       "      <th>2</th>\n",
       "      <td>20090825</td>\n",
       "      <td>A</td>\n",
       "      <td>25.50</td>\n",
       "      <td>25.7000</td>\n",
       "      <td>25.225</td>\n",
       "      <td>25.34</td>\n",
       "      <td>30891</td>\n",
       "      <td>25.46250</td>\n",
       "    </tr>\n",
       "    <tr>\n",
       "      <th>3</th>\n",
       "      <td>20090826</td>\n",
       "      <td>A</td>\n",
       "      <td>25.32</td>\n",
       "      <td>25.6425</td>\n",
       "      <td>25.145</td>\n",
       "      <td>25.48</td>\n",
       "      <td>33334</td>\n",
       "      <td>25.39375</td>\n",
       "    </tr>\n",
       "    <tr>\n",
       "      <th>4</th>\n",
       "      <td>20090827</td>\n",
       "      <td>A</td>\n",
       "      <td>25.50</td>\n",
       "      <td>25.5700</td>\n",
       "      <td>25.230</td>\n",
       "      <td>25.54</td>\n",
       "      <td>70176</td>\n",
       "      <td>25.40000</td>\n",
       "    </tr>\n",
       "    <tr>\n",
       "      <th>...</th>\n",
       "      <td>...</td>\n",
       "      <td>...</td>\n",
       "      <td>...</td>\n",
       "      <td>...</td>\n",
       "      <td>...</td>\n",
       "      <td>...</td>\n",
       "      <td>...</td>\n",
       "      <td>...</td>\n",
       "    </tr>\n",
       "    <tr>\n",
       "      <th>122569</th>\n",
       "      <td>20100813</td>\n",
       "      <td>ZMH</td>\n",
       "      <td>51.72</td>\n",
       "      <td>51.9000</td>\n",
       "      <td>51.380</td>\n",
       "      <td>51.44</td>\n",
       "      <td>14561</td>\n",
       "      <td>51.64000</td>\n",
       "    </tr>\n",
       "    <tr>\n",
       "      <th>122570</th>\n",
       "      <td>20100816</td>\n",
       "      <td>ZMH</td>\n",
       "      <td>51.13</td>\n",
       "      <td>51.4700</td>\n",
       "      <td>50.600</td>\n",
       "      <td>51.00</td>\n",
       "      <td>13489</td>\n",
       "      <td>51.03500</td>\n",
       "    </tr>\n",
       "    <tr>\n",
       "      <th>122571</th>\n",
       "      <td>20100817</td>\n",
       "      <td>ZMH</td>\n",
       "      <td>51.14</td>\n",
       "      <td>51.6000</td>\n",
       "      <td>50.890</td>\n",
       "      <td>51.21</td>\n",
       "      <td>20498</td>\n",
       "      <td>51.24500</td>\n",
       "    </tr>\n",
       "    <tr>\n",
       "      <th>122572</th>\n",
       "      <td>20100819</td>\n",
       "      <td>ZMH</td>\n",
       "      <td>51.63</td>\n",
       "      <td>51.6300</td>\n",
       "      <td>50.170</td>\n",
       "      <td>50.22</td>\n",
       "      <td>18259</td>\n",
       "      <td>50.90000</td>\n",
       "    </tr>\n",
       "    <tr>\n",
       "      <th>122573</th>\n",
       "      <td>20100820</td>\n",
       "      <td>ZMH</td>\n",
       "      <td>50.03</td>\n",
       "      <td>50.5500</td>\n",
       "      <td>49.480</td>\n",
       "      <td>49.82</td>\n",
       "      <td>17792</td>\n",
       "      <td>50.01500</td>\n",
       "    </tr>\n",
       "  </tbody>\n",
       "</table>\n",
       "<p>122574 rows × 8 columns</p>\n",
       "</div>"
      ],
      "text/plain": [
       "            date ticker   open     high     low  close  volume       avg\n",
       "0       20090821      A  25.60  25.6100  25.220  25.55   34758  25.41500\n",
       "1       20090824      A  25.64  25.7400  25.330  25.50   22247  25.53500\n",
       "2       20090825      A  25.50  25.7000  25.225  25.34   30891  25.46250\n",
       "3       20090826      A  25.32  25.6425  25.145  25.48   33334  25.39375\n",
       "4       20090827      A  25.50  25.5700  25.230  25.54   70176  25.40000\n",
       "...          ...    ...    ...      ...     ...    ...     ...       ...\n",
       "122569  20100813    ZMH  51.72  51.9000  51.380  51.44   14561  51.64000\n",
       "122570  20100816    ZMH  51.13  51.4700  50.600  51.00   13489  51.03500\n",
       "122571  20100817    ZMH  51.14  51.6000  50.890  51.21   20498  51.24500\n",
       "122572  20100819    ZMH  51.63  51.6300  50.170  50.22   18259  50.90000\n",
       "122573  20100820    ZMH  50.03  50.5500  49.480  49.82   17792  50.01500\n",
       "\n",
       "[122574 rows x 8 columns]"
      ]
     },
     "execution_count": 4,
     "metadata": {},
     "output_type": "execute_result"
    }
   ],
   "source": [
    "dt2['avg'] = (dt2[\"high\"]+dt2[\"low\"])/2\n",
    "dt2"
   ]
  },
  {
   "cell_type": "markdown",
   "metadata": {},
   "source": [
    "1.3.2 Рассчитать среднее значение показателей для каждого из столбцов 3-6."
   ]
  },
  {
   "cell_type": "code",
   "execution_count": 24,
   "metadata": {},
   "outputs": [
    {
     "name": "stdout",
     "output_type": "stream",
     "text": [
      "mean of the column:  open    42.5954576590471\n",
      "mean of the column:  high    43.10224338767034\n",
      "mean of the column:  low    42.054463665213184\n",
      "mean of the column:  close    42.60186484817329\n"
     ]
    }
   ],
   "source": [
    "names = dt2.columns[2:6].to_list()\n",
    "for i in names:\n",
    "    print('mean of the column: ', i,'  ', np.mean(dt2[i]))"
   ]
  },
  {
   "cell_type": "markdown",
   "metadata": {},
   "source": [
    "1.4"
   ]
  },
  {
   "cell_type": "markdown",
   "metadata": {},
   "source": [
    "1.4.1 Создать DataFrame состоящий из строк относящихся только к 13 августа 2010 года. "
   ]
  },
  {
   "cell_type": "code",
   "execution_count": 37,
   "metadata": {},
   "outputs": [
    {
     "data": {
      "text/html": [
       "<div>\n",
       "<style scoped>\n",
       "    .dataframe tbody tr th:only-of-type {\n",
       "        vertical-align: middle;\n",
       "    }\n",
       "\n",
       "    .dataframe tbody tr th {\n",
       "        vertical-align: top;\n",
       "    }\n",
       "\n",
       "    .dataframe thead th {\n",
       "        text-align: right;\n",
       "    }\n",
       "</style>\n",
       "<table border=\"1\" class=\"dataframe\">\n",
       "  <thead>\n",
       "    <tr style=\"text-align: right;\">\n",
       "      <th></th>\n",
       "      <th>date</th>\n",
       "      <th>ticker</th>\n",
       "      <th>open</th>\n",
       "      <th>high</th>\n",
       "      <th>low</th>\n",
       "      <th>close</th>\n",
       "      <th>volume</th>\n",
       "      <th>avg</th>\n",
       "      <th>20100813</th>\n",
       "    </tr>\n",
       "  </thead>\n",
       "  <tbody>\n",
       "    <tr>\n",
       "      <th>237</th>\n",
       "      <td>2010-08-10</td>\n",
       "      <td>A</td>\n",
       "      <td>29.44</td>\n",
       "      <td>29.680</td>\n",
       "      <td>29.13</td>\n",
       "      <td>29.46</td>\n",
       "      <td>34866</td>\n",
       "      <td>29.4050</td>\n",
       "      <td>20100813</td>\n",
       "    </tr>\n",
       "    <tr>\n",
       "      <th>482</th>\n",
       "      <td>2010-08-10</td>\n",
       "      <td>AA</td>\n",
       "      <td>11.43</td>\n",
       "      <td>11.490</td>\n",
       "      <td>11.18</td>\n",
       "      <td>11.35</td>\n",
       "      <td>264545</td>\n",
       "      <td>11.3350</td>\n",
       "      <td>20100813</td>\n",
       "    </tr>\n",
       "    <tr>\n",
       "      <th>723</th>\n",
       "      <td>2010-08-10</td>\n",
       "      <td>AAPL</td>\n",
       "      <td>259.85</td>\n",
       "      <td>260.450</td>\n",
       "      <td>257.55</td>\n",
       "      <td>259.41</td>\n",
       "      <td>161399</td>\n",
       "      <td>259.0000</td>\n",
       "      <td>20100813</td>\n",
       "    </tr>\n",
       "    <tr>\n",
       "      <th>968</th>\n",
       "      <td>2010-08-10</td>\n",
       "      <td>ABC</td>\n",
       "      <td>29.82</td>\n",
       "      <td>30.085</td>\n",
       "      <td>29.65</td>\n",
       "      <td>29.97</td>\n",
       "      <td>28542</td>\n",
       "      <td>29.8675</td>\n",
       "      <td>20100813</td>\n",
       "    </tr>\n",
       "    <tr>\n",
       "      <th>1213</th>\n",
       "      <td>2010-08-10</td>\n",
       "      <td>ABT</td>\n",
       "      <td>50.67</td>\n",
       "      <td>51.700</td>\n",
       "      <td>50.59</td>\n",
       "      <td>51.47</td>\n",
       "      <td>89666</td>\n",
       "      <td>51.1450</td>\n",
       "      <td>20100813</td>\n",
       "    </tr>\n",
       "    <tr>\n",
       "      <th>...</th>\n",
       "      <td>...</td>\n",
       "      <td>...</td>\n",
       "      <td>...</td>\n",
       "      <td>...</td>\n",
       "      <td>...</td>\n",
       "      <td>...</td>\n",
       "      <td>...</td>\n",
       "      <td>...</td>\n",
       "      <td>...</td>\n",
       "    </tr>\n",
       "    <tr>\n",
       "      <th>121382</th>\n",
       "      <td>2010-08-10</td>\n",
       "      <td>XRX</td>\n",
       "      <td>9.66</td>\n",
       "      <td>9.720</td>\n",
       "      <td>9.38</td>\n",
       "      <td>9.62</td>\n",
       "      <td>147205</td>\n",
       "      <td>9.5500</td>\n",
       "      <td>20100813</td>\n",
       "    </tr>\n",
       "    <tr>\n",
       "      <th>121832</th>\n",
       "      <td>2010-08-10</td>\n",
       "      <td>YHOO</td>\n",
       "      <td>14.34</td>\n",
       "      <td>14.460</td>\n",
       "      <td>14.20</td>\n",
       "      <td>14.35</td>\n",
       "      <td>96579</td>\n",
       "      <td>14.3300</td>\n",
       "      <td>20100813</td>\n",
       "    </tr>\n",
       "    <tr>\n",
       "      <th>122077</th>\n",
       "      <td>2010-08-10</td>\n",
       "      <td>YUM</td>\n",
       "      <td>42.43</td>\n",
       "      <td>42.720</td>\n",
       "      <td>42.00</td>\n",
       "      <td>42.39</td>\n",
       "      <td>33834</td>\n",
       "      <td>42.3600</td>\n",
       "      <td>20100813</td>\n",
       "    </tr>\n",
       "    <tr>\n",
       "      <th>122321</th>\n",
       "      <td>2010-08-10</td>\n",
       "      <td>ZION</td>\n",
       "      <td>21.43</td>\n",
       "      <td>21.720</td>\n",
       "      <td>21.07</td>\n",
       "      <td>21.46</td>\n",
       "      <td>32541</td>\n",
       "      <td>21.3950</td>\n",
       "      <td>20100813</td>\n",
       "    </tr>\n",
       "    <tr>\n",
       "      <th>122566</th>\n",
       "      <td>2010-08-10</td>\n",
       "      <td>ZMH</td>\n",
       "      <td>53.61</td>\n",
       "      <td>54.400</td>\n",
       "      <td>53.29</td>\n",
       "      <td>53.90</td>\n",
       "      <td>21266</td>\n",
       "      <td>53.8450</td>\n",
       "      <td>20100813</td>\n",
       "    </tr>\n",
       "  </tbody>\n",
       "</table>\n",
       "<p>498 rows × 9 columns</p>\n",
       "</div>"
      ],
      "text/plain": [
       "             date ticker    open     high     low   close  volume       avg  \\\n",
       "237    2010-08-10      A   29.44   29.680   29.13   29.46   34866   29.4050   \n",
       "482    2010-08-10     AA   11.43   11.490   11.18   11.35  264545   11.3350   \n",
       "723    2010-08-10   AAPL  259.85  260.450  257.55  259.41  161399  259.0000   \n",
       "968    2010-08-10    ABC   29.82   30.085   29.65   29.97   28542   29.8675   \n",
       "1213   2010-08-10    ABT   50.67   51.700   50.59   51.47   89666   51.1450   \n",
       "...           ...    ...     ...      ...     ...     ...     ...       ...   \n",
       "121382 2010-08-10    XRX    9.66    9.720    9.38    9.62  147205    9.5500   \n",
       "121832 2010-08-10   YHOO   14.34   14.460   14.20   14.35   96579   14.3300   \n",
       "122077 2010-08-10    YUM   42.43   42.720   42.00   42.39   33834   42.3600   \n",
       "122321 2010-08-10   ZION   21.43   21.720   21.07   21.46   32541   21.3950   \n",
       "122566 2010-08-10    ZMH   53.61   54.400   53.29   53.90   21266   53.8450   \n",
       "\n",
       "        20100813  \n",
       "237     20100813  \n",
       "482     20100813  \n",
       "723     20100813  \n",
       "968     20100813  \n",
       "1213    20100813  \n",
       "...          ...  \n",
       "121382  20100813  \n",
       "121832  20100813  \n",
       "122077  20100813  \n",
       "122321  20100813  \n",
       "122566  20100813  \n",
       "\n",
       "[498 rows x 9 columns]"
      ]
     },
     "execution_count": 37,
     "metadata": {},
     "output_type": "execute_result"
    }
   ],
   "source": [
    "dt2['date'] = pd.to_datetime(dt2['date'], format='%Y%m%d')\n",
    "dt_141 = dt2[dt2['date'] == '2010-08-10']\n",
    "dt_141"
   ]
  },
  {
   "cell_type": "markdown",
   "metadata": {},
   "source": [
    "1.4.1.1 Из DataFrame, созданного в 1.4.1, cоздать серию из 30 первых имен "
   ]
  },
  {
   "cell_type": "code",
   "execution_count": 42,
   "metadata": {},
   "outputs": [
    {
     "data": {
      "text/plain": [
       "237        A\n",
       "482       AA\n",
       "723     AAPL\n",
       "968      ABC\n",
       "1213     ABT\n",
       "1270     ACE\n",
       "1623    ADBE\n",
       "1868     ADI\n",
       "2113     ADM\n",
       "2356     ADP\n",
       "2598    ADSK\n",
       "2843     AEE\n",
       "3088     AEP\n",
       "3333     AES\n",
       "3578     AET\n",
       "3823     AFL\n",
       "4068     AGN\n",
       "4313     AIG\n",
       "4558     AIV\n",
       "4803     AIZ\n",
       "5046    AKAM\n",
       "5291     AKS\n",
       "5536     ALL\n",
       "5779    ALTR\n",
       "6022    AMAT\n",
       "6267     AMD\n",
       "6511    AMGN\n",
       "6755     AMP\n",
       "7000     AMT\n",
       "7243    AMZN\n",
       "Name: ticker, dtype: object"
      ]
     },
     "execution_count": 42,
     "metadata": {},
     "output_type": "execute_result"
    }
   ],
   "source": [
    "dt_141.iloc[:30]['ticker']"
   ]
  },
  {
   "cell_type": "markdown",
   "metadata": {},
   "source": [
    "1.4.2 Из DataFrame, созданного в 1.4.1, создать новый DataFrame, индексом в котором являются имена тикеров."
   ]
  },
  {
   "cell_type": "code",
   "execution_count": 45,
   "metadata": {},
   "outputs": [
    {
     "data": {
      "text/html": [
       "<div>\n",
       "<style scoped>\n",
       "    .dataframe tbody tr th:only-of-type {\n",
       "        vertical-align: middle;\n",
       "    }\n",
       "\n",
       "    .dataframe tbody tr th {\n",
       "        vertical-align: top;\n",
       "    }\n",
       "\n",
       "    .dataframe thead th {\n",
       "        text-align: right;\n",
       "    }\n",
       "</style>\n",
       "<table border=\"1\" class=\"dataframe\">\n",
       "  <thead>\n",
       "    <tr style=\"text-align: right;\">\n",
       "      <th></th>\n",
       "      <th>date</th>\n",
       "      <th>open</th>\n",
       "      <th>high</th>\n",
       "      <th>low</th>\n",
       "      <th>close</th>\n",
       "      <th>volume</th>\n",
       "      <th>avg</th>\n",
       "      <th>20100813</th>\n",
       "    </tr>\n",
       "    <tr>\n",
       "      <th>ticker</th>\n",
       "      <th></th>\n",
       "      <th></th>\n",
       "      <th></th>\n",
       "      <th></th>\n",
       "      <th></th>\n",
       "      <th></th>\n",
       "      <th></th>\n",
       "      <th></th>\n",
       "    </tr>\n",
       "  </thead>\n",
       "  <tbody>\n",
       "    <tr>\n",
       "      <th>A</th>\n",
       "      <td>2010-08-10</td>\n",
       "      <td>29.44</td>\n",
       "      <td>29.680</td>\n",
       "      <td>29.13</td>\n",
       "      <td>29.46</td>\n",
       "      <td>34866</td>\n",
       "      <td>29.4050</td>\n",
       "      <td>20100813</td>\n",
       "    </tr>\n",
       "    <tr>\n",
       "      <th>AA</th>\n",
       "      <td>2010-08-10</td>\n",
       "      <td>11.43</td>\n",
       "      <td>11.490</td>\n",
       "      <td>11.18</td>\n",
       "      <td>11.35</td>\n",
       "      <td>264545</td>\n",
       "      <td>11.3350</td>\n",
       "      <td>20100813</td>\n",
       "    </tr>\n",
       "    <tr>\n",
       "      <th>AAPL</th>\n",
       "      <td>2010-08-10</td>\n",
       "      <td>259.85</td>\n",
       "      <td>260.450</td>\n",
       "      <td>257.55</td>\n",
       "      <td>259.41</td>\n",
       "      <td>161399</td>\n",
       "      <td>259.0000</td>\n",
       "      <td>20100813</td>\n",
       "    </tr>\n",
       "    <tr>\n",
       "      <th>ABC</th>\n",
       "      <td>2010-08-10</td>\n",
       "      <td>29.82</td>\n",
       "      <td>30.085</td>\n",
       "      <td>29.65</td>\n",
       "      <td>29.97</td>\n",
       "      <td>28542</td>\n",
       "      <td>29.8675</td>\n",
       "      <td>20100813</td>\n",
       "    </tr>\n",
       "    <tr>\n",
       "      <th>ABT</th>\n",
       "      <td>2010-08-10</td>\n",
       "      <td>50.67</td>\n",
       "      <td>51.700</td>\n",
       "      <td>50.59</td>\n",
       "      <td>51.47</td>\n",
       "      <td>89666</td>\n",
       "      <td>51.1450</td>\n",
       "      <td>20100813</td>\n",
       "    </tr>\n",
       "    <tr>\n",
       "      <th>...</th>\n",
       "      <td>...</td>\n",
       "      <td>...</td>\n",
       "      <td>...</td>\n",
       "      <td>...</td>\n",
       "      <td>...</td>\n",
       "      <td>...</td>\n",
       "      <td>...</td>\n",
       "      <td>...</td>\n",
       "    </tr>\n",
       "    <tr>\n",
       "      <th>XRX</th>\n",
       "      <td>2010-08-10</td>\n",
       "      <td>9.66</td>\n",
       "      <td>9.720</td>\n",
       "      <td>9.38</td>\n",
       "      <td>9.62</td>\n",
       "      <td>147205</td>\n",
       "      <td>9.5500</td>\n",
       "      <td>20100813</td>\n",
       "    </tr>\n",
       "    <tr>\n",
       "      <th>YHOO</th>\n",
       "      <td>2010-08-10</td>\n",
       "      <td>14.34</td>\n",
       "      <td>14.460</td>\n",
       "      <td>14.20</td>\n",
       "      <td>14.35</td>\n",
       "      <td>96579</td>\n",
       "      <td>14.3300</td>\n",
       "      <td>20100813</td>\n",
       "    </tr>\n",
       "    <tr>\n",
       "      <th>YUM</th>\n",
       "      <td>2010-08-10</td>\n",
       "      <td>42.43</td>\n",
       "      <td>42.720</td>\n",
       "      <td>42.00</td>\n",
       "      <td>42.39</td>\n",
       "      <td>33834</td>\n",
       "      <td>42.3600</td>\n",
       "      <td>20100813</td>\n",
       "    </tr>\n",
       "    <tr>\n",
       "      <th>ZION</th>\n",
       "      <td>2010-08-10</td>\n",
       "      <td>21.43</td>\n",
       "      <td>21.720</td>\n",
       "      <td>21.07</td>\n",
       "      <td>21.46</td>\n",
       "      <td>32541</td>\n",
       "      <td>21.3950</td>\n",
       "      <td>20100813</td>\n",
       "    </tr>\n",
       "    <tr>\n",
       "      <th>ZMH</th>\n",
       "      <td>2010-08-10</td>\n",
       "      <td>53.61</td>\n",
       "      <td>54.400</td>\n",
       "      <td>53.29</td>\n",
       "      <td>53.90</td>\n",
       "      <td>21266</td>\n",
       "      <td>53.8450</td>\n",
       "      <td>20100813</td>\n",
       "    </tr>\n",
       "  </tbody>\n",
       "</table>\n",
       "<p>498 rows × 8 columns</p>\n",
       "</div>"
      ],
      "text/plain": [
       "             date    open     high     low   close  volume       avg  20100813\n",
       "ticker                                                                        \n",
       "A      2010-08-10   29.44   29.680   29.13   29.46   34866   29.4050  20100813\n",
       "AA     2010-08-10   11.43   11.490   11.18   11.35  264545   11.3350  20100813\n",
       "AAPL   2010-08-10  259.85  260.450  257.55  259.41  161399  259.0000  20100813\n",
       "ABC    2010-08-10   29.82   30.085   29.65   29.97   28542   29.8675  20100813\n",
       "ABT    2010-08-10   50.67   51.700   50.59   51.47   89666   51.1450  20100813\n",
       "...           ...     ...      ...     ...     ...     ...       ...       ...\n",
       "XRX    2010-08-10    9.66    9.720    9.38    9.62  147205    9.5500  20100813\n",
       "YHOO   2010-08-10   14.34   14.460   14.20   14.35   96579   14.3300  20100813\n",
       "YUM    2010-08-10   42.43   42.720   42.00   42.39   33834   42.3600  20100813\n",
       "ZION   2010-08-10   21.43   21.720   21.07   21.46   32541   21.3950  20100813\n",
       "ZMH    2010-08-10   53.61   54.400   53.29   53.90   21266   53.8450  20100813\n",
       "\n",
       "[498 rows x 8 columns]"
      ]
     },
     "execution_count": 45,
     "metadata": {},
     "output_type": "execute_result"
    }
   ],
   "source": [
    "dt_142 = dt_141.set_index('ticker')\n",
    "dt_142"
   ]
  },
  {
   "cell_type": "markdown",
   "metadata": {},
   "source": [
    "1.4.3 Создать DataFrame состоящий из строк относящихся только тикеру ALTR."
   ]
  },
  {
   "cell_type": "code",
   "execution_count": 47,
   "metadata": {},
   "outputs": [
    {
     "data": {
      "text/html": [
       "<div>\n",
       "<style scoped>\n",
       "    .dataframe tbody tr th:only-of-type {\n",
       "        vertical-align: middle;\n",
       "    }\n",
       "\n",
       "    .dataframe tbody tr th {\n",
       "        vertical-align: top;\n",
       "    }\n",
       "\n",
       "    .dataframe thead th {\n",
       "        text-align: right;\n",
       "    }\n",
       "</style>\n",
       "<table border=\"1\" class=\"dataframe\">\n",
       "  <thead>\n",
       "    <tr style=\"text-align: right;\">\n",
       "      <th></th>\n",
       "      <th>date</th>\n",
       "      <th>ticker</th>\n",
       "      <th>open</th>\n",
       "      <th>high</th>\n",
       "      <th>low</th>\n",
       "      <th>close</th>\n",
       "      <th>volume</th>\n",
       "      <th>avg</th>\n",
       "      <th>20100813</th>\n",
       "    </tr>\n",
       "  </thead>\n",
       "  <tbody>\n",
       "    <tr>\n",
       "      <th>5544</th>\n",
       "      <td>2009-08-21</td>\n",
       "      <td>ALTR</td>\n",
       "      <td>19.36</td>\n",
       "      <td>19.50</td>\n",
       "      <td>19.15</td>\n",
       "      <td>19.48</td>\n",
       "      <td>54580</td>\n",
       "      <td>19.325</td>\n",
       "      <td>20100813</td>\n",
       "    </tr>\n",
       "    <tr>\n",
       "      <th>5545</th>\n",
       "      <td>2009-08-24</td>\n",
       "      <td>ALTR</td>\n",
       "      <td>19.51</td>\n",
       "      <td>19.72</td>\n",
       "      <td>19.04</td>\n",
       "      <td>19.13</td>\n",
       "      <td>42059</td>\n",
       "      <td>19.380</td>\n",
       "      <td>20100813</td>\n",
       "    </tr>\n",
       "    <tr>\n",
       "      <th>5546</th>\n",
       "      <td>2009-08-25</td>\n",
       "      <td>ALTR</td>\n",
       "      <td>19.13</td>\n",
       "      <td>19.39</td>\n",
       "      <td>18.95</td>\n",
       "      <td>19.05</td>\n",
       "      <td>48539</td>\n",
       "      <td>19.170</td>\n",
       "      <td>20100813</td>\n",
       "    </tr>\n",
       "    <tr>\n",
       "      <th>5547</th>\n",
       "      <td>2009-08-26</td>\n",
       "      <td>ALTR</td>\n",
       "      <td>19.11</td>\n",
       "      <td>19.41</td>\n",
       "      <td>18.99</td>\n",
       "      <td>19.28</td>\n",
       "      <td>42058</td>\n",
       "      <td>19.200</td>\n",
       "      <td>20100813</td>\n",
       "    </tr>\n",
       "    <tr>\n",
       "      <th>5548</th>\n",
       "      <td>2009-08-27</td>\n",
       "      <td>ALTR</td>\n",
       "      <td>19.23</td>\n",
       "      <td>19.32</td>\n",
       "      <td>18.88</td>\n",
       "      <td>19.08</td>\n",
       "      <td>63271</td>\n",
       "      <td>19.100</td>\n",
       "      <td>20100813</td>\n",
       "    </tr>\n",
       "    <tr>\n",
       "      <th>...</th>\n",
       "      <td>...</td>\n",
       "      <td>...</td>\n",
       "      <td>...</td>\n",
       "      <td>...</td>\n",
       "      <td>...</td>\n",
       "      <td>...</td>\n",
       "      <td>...</td>\n",
       "      <td>...</td>\n",
       "      <td>...</td>\n",
       "    </tr>\n",
       "    <tr>\n",
       "      <th>5782</th>\n",
       "      <td>2010-08-13</td>\n",
       "      <td>ALTR</td>\n",
       "      <td>25.30</td>\n",
       "      <td>25.50</td>\n",
       "      <td>24.94</td>\n",
       "      <td>24.94</td>\n",
       "      <td>69416</td>\n",
       "      <td>25.220</td>\n",
       "      <td>20100813</td>\n",
       "    </tr>\n",
       "    <tr>\n",
       "      <th>5783</th>\n",
       "      <td>2010-08-16</td>\n",
       "      <td>ALTR</td>\n",
       "      <td>24.82</td>\n",
       "      <td>25.31</td>\n",
       "      <td>24.53</td>\n",
       "      <td>25.11</td>\n",
       "      <td>60276</td>\n",
       "      <td>24.920</td>\n",
       "      <td>20100813</td>\n",
       "    </tr>\n",
       "    <tr>\n",
       "      <th>5784</th>\n",
       "      <td>2010-08-17</td>\n",
       "      <td>ALTR</td>\n",
       "      <td>25.22</td>\n",
       "      <td>25.88</td>\n",
       "      <td>25.04</td>\n",
       "      <td>25.54</td>\n",
       "      <td>89329</td>\n",
       "      <td>25.460</td>\n",
       "      <td>20100813</td>\n",
       "    </tr>\n",
       "    <tr>\n",
       "      <th>5785</th>\n",
       "      <td>2010-08-19</td>\n",
       "      <td>ALTR</td>\n",
       "      <td>25.61</td>\n",
       "      <td>25.96</td>\n",
       "      <td>25.24</td>\n",
       "      <td>25.50</td>\n",
       "      <td>61815</td>\n",
       "      <td>25.600</td>\n",
       "      <td>20100813</td>\n",
       "    </tr>\n",
       "    <tr>\n",
       "      <th>5786</th>\n",
       "      <td>2010-08-20</td>\n",
       "      <td>ALTR</td>\n",
       "      <td>25.44</td>\n",
       "      <td>25.83</td>\n",
       "      <td>25.32</td>\n",
       "      <td>25.60</td>\n",
       "      <td>54383</td>\n",
       "      <td>25.575</td>\n",
       "      <td>20100813</td>\n",
       "    </tr>\n",
       "  </tbody>\n",
       "</table>\n",
       "<p>243 rows × 9 columns</p>\n",
       "</div>"
      ],
      "text/plain": [
       "           date ticker   open   high    low  close  volume     avg  20100813\n",
       "5544 2009-08-21   ALTR  19.36  19.50  19.15  19.48   54580  19.325  20100813\n",
       "5545 2009-08-24   ALTR  19.51  19.72  19.04  19.13   42059  19.380  20100813\n",
       "5546 2009-08-25   ALTR  19.13  19.39  18.95  19.05   48539  19.170  20100813\n",
       "5547 2009-08-26   ALTR  19.11  19.41  18.99  19.28   42058  19.200  20100813\n",
       "5548 2009-08-27   ALTR  19.23  19.32  18.88  19.08   63271  19.100  20100813\n",
       "...         ...    ...    ...    ...    ...    ...     ...     ...       ...\n",
       "5782 2010-08-13   ALTR  25.30  25.50  24.94  24.94   69416  25.220  20100813\n",
       "5783 2010-08-16   ALTR  24.82  25.31  24.53  25.11   60276  24.920  20100813\n",
       "5784 2010-08-17   ALTR  25.22  25.88  25.04  25.54   89329  25.460  20100813\n",
       "5785 2010-08-19   ALTR  25.61  25.96  25.24  25.50   61815  25.600  20100813\n",
       "5786 2010-08-20   ALTR  25.44  25.83  25.32  25.60   54383  25.575  20100813\n",
       "\n",
       "[243 rows x 9 columns]"
      ]
     },
     "execution_count": 47,
     "metadata": {},
     "output_type": "execute_result"
    }
   ],
   "source": [
    "dt_143 = dt2[dt2['ticker'] == 'ALTR']\n",
    "dt_143"
   ]
  },
  {
   "cell_type": "markdown",
   "metadata": {},
   "source": [
    "1.5"
   ]
  },
  {
   "cell_type": "markdown",
   "metadata": {},
   "source": [
    "1.5.1 Создать DataFrame состоящий из строк относящихся только тикеру WAT и объединить его с DataFrame для ALTR. "
   ]
  },
  {
   "cell_type": "markdown",
   "metadata": {},
   "source": [
    "1.5.2 Создать DataFrame в котором присутствует столбец, отражающий разницу в объемах торгов по WAT и ALTR в одинаковые дни и содержит исходные данны об объеме трогов этими акциями."
   ]
  },
  {
   "cell_type": "markdown",
   "metadata": {},
   "source": []
  },
  {
   "cell_type": "markdown",
   "metadata": {},
   "source": [
    "1.6 Выяввиь столбцы содержащие минимальные и максимальные значения (если такие столбцы есть). (Проверить, есть ли среди столбцов, столбец с минимальным значением курса акций.)"
   ]
  },
  {
   "cell_type": "markdown",
   "metadata": {},
   "source": [
    "1.7 По данным из 'sp500hst.txt' при помощи Pandas расчитать максимальные значения в 3-6 столбца для дат после 20100801"
   ]
  },
  {
   "cell_type": "code",
   "execution_count": 43,
   "metadata": {},
   "outputs": [
    {
     "data": {
      "text/plain": [
       "open          505.850\n",
       "high          508.600\n",
       "low           503.559\n",
       "close         508.100\n",
       "volume    5741998.000\n",
       "dtype: float64"
      ]
     },
     "execution_count": 43,
     "metadata": {},
     "output_type": "execute_result"
    }
   ],
   "source": [
    "dt2[dt2['date'] > '2010-08-01'].iloc[:,2:7].max(axis=0)"
   ]
  },
  {
   "cell_type": "markdown",
   "metadata": {},
   "source": [
    "1.8 По данным из 'sp500hst.txt' при помощи Pandas расчитать средний объем торгов (обеъм торгов - в последнем столбце) при значениях 3го столбца больше 50."
   ]
  },
  {
   "cell_type": "code",
   "execution_count": null,
   "metadata": {},
   "outputs": [],
   "source": []
  },
  {
   "cell_type": "markdown",
   "metadata": {},
   "source": [
    "## 2.Даты\n",
    "\n",
    "* Группа функций pandas.Series.dt.<Имя функции>\n",
    "* Например, см.: https://pandas.pydata.org/pandas-docs/stable/reference/api/pandas.Series.dt.day.html"
   ]
  },
  {
   "cell_type": "markdown",
   "metadata": {},
   "source": [
    "### Датасеты:\n",
    "* sp_data2.csv\n",
    "* sp500hst.txt"
   ]
  },
  {
   "cell_type": "markdown",
   "metadata": {},
   "source": [
    "2.1 Из DataFrame, созданного в 1.4.3, создать DataFrame индексом в котором являются даты."
   ]
  },
  {
   "cell_type": "markdown",
   "metadata": {},
   "source": [
    "2.2 В DataFrame, созданном в 1.4.3, добавить столбец, содержащий только число месяца, к которому относится дата."
   ]
  },
  {
   "cell_type": "code",
   "execution_count": 55,
   "metadata": {
    "scrolled": true
   },
   "outputs": [
    {
     "name": "stderr",
     "output_type": "stream",
     "text": [
      "C:\\ProgramData\\Anaconda3\\lib\\site-packages\\ipykernel_launcher.py:2: SettingWithCopyWarning: \n",
      "A value is trying to be set on a copy of a slice from a DataFrame.\n",
      "Try using .loc[row_indexer,col_indexer] = value instead\n",
      "\n",
      "See the caveats in the documentation: https://pandas.pydata.org/pandas-docs/stable/user_guide/indexing.html#returning-a-view-versus-a-copy\n",
      "  \n"
     ]
    },
    {
     "data": {
      "text/html": [
       "<div>\n",
       "<style scoped>\n",
       "    .dataframe tbody tr th:only-of-type {\n",
       "        vertical-align: middle;\n",
       "    }\n",
       "\n",
       "    .dataframe tbody tr th {\n",
       "        vertical-align: top;\n",
       "    }\n",
       "\n",
       "    .dataframe thead th {\n",
       "        text-align: right;\n",
       "    }\n",
       "</style>\n",
       "<table border=\"1\" class=\"dataframe\">\n",
       "  <thead>\n",
       "    <tr style=\"text-align: right;\">\n",
       "      <th></th>\n",
       "      <th>date</th>\n",
       "      <th>ticker</th>\n",
       "      <th>open</th>\n",
       "      <th>high</th>\n",
       "      <th>low</th>\n",
       "      <th>close</th>\n",
       "      <th>volume</th>\n",
       "      <th>avg</th>\n",
       "      <th>20100813</th>\n",
       "      <th>m</th>\n",
       "    </tr>\n",
       "  </thead>\n",
       "  <tbody>\n",
       "    <tr>\n",
       "      <th>5544</th>\n",
       "      <td>2009-08-21</td>\n",
       "      <td>ALTR</td>\n",
       "      <td>19.36</td>\n",
       "      <td>19.50</td>\n",
       "      <td>19.15</td>\n",
       "      <td>19.48</td>\n",
       "      <td>54580</td>\n",
       "      <td>19.325</td>\n",
       "      <td>20100813</td>\n",
       "      <td>8</td>\n",
       "    </tr>\n",
       "    <tr>\n",
       "      <th>5545</th>\n",
       "      <td>2009-08-24</td>\n",
       "      <td>ALTR</td>\n",
       "      <td>19.51</td>\n",
       "      <td>19.72</td>\n",
       "      <td>19.04</td>\n",
       "      <td>19.13</td>\n",
       "      <td>42059</td>\n",
       "      <td>19.380</td>\n",
       "      <td>20100813</td>\n",
       "      <td>8</td>\n",
       "    </tr>\n",
       "    <tr>\n",
       "      <th>5546</th>\n",
       "      <td>2009-08-25</td>\n",
       "      <td>ALTR</td>\n",
       "      <td>19.13</td>\n",
       "      <td>19.39</td>\n",
       "      <td>18.95</td>\n",
       "      <td>19.05</td>\n",
       "      <td>48539</td>\n",
       "      <td>19.170</td>\n",
       "      <td>20100813</td>\n",
       "      <td>8</td>\n",
       "    </tr>\n",
       "    <tr>\n",
       "      <th>5547</th>\n",
       "      <td>2009-08-26</td>\n",
       "      <td>ALTR</td>\n",
       "      <td>19.11</td>\n",
       "      <td>19.41</td>\n",
       "      <td>18.99</td>\n",
       "      <td>19.28</td>\n",
       "      <td>42058</td>\n",
       "      <td>19.200</td>\n",
       "      <td>20100813</td>\n",
       "      <td>8</td>\n",
       "    </tr>\n",
       "    <tr>\n",
       "      <th>5548</th>\n",
       "      <td>2009-08-27</td>\n",
       "      <td>ALTR</td>\n",
       "      <td>19.23</td>\n",
       "      <td>19.32</td>\n",
       "      <td>18.88</td>\n",
       "      <td>19.08</td>\n",
       "      <td>63271</td>\n",
       "      <td>19.100</td>\n",
       "      <td>20100813</td>\n",
       "      <td>8</td>\n",
       "    </tr>\n",
       "    <tr>\n",
       "      <th>...</th>\n",
       "      <td>...</td>\n",
       "      <td>...</td>\n",
       "      <td>...</td>\n",
       "      <td>...</td>\n",
       "      <td>...</td>\n",
       "      <td>...</td>\n",
       "      <td>...</td>\n",
       "      <td>...</td>\n",
       "      <td>...</td>\n",
       "      <td>...</td>\n",
       "    </tr>\n",
       "    <tr>\n",
       "      <th>5782</th>\n",
       "      <td>2010-08-13</td>\n",
       "      <td>ALTR</td>\n",
       "      <td>25.30</td>\n",
       "      <td>25.50</td>\n",
       "      <td>24.94</td>\n",
       "      <td>24.94</td>\n",
       "      <td>69416</td>\n",
       "      <td>25.220</td>\n",
       "      <td>20100813</td>\n",
       "      <td>8</td>\n",
       "    </tr>\n",
       "    <tr>\n",
       "      <th>5783</th>\n",
       "      <td>2010-08-16</td>\n",
       "      <td>ALTR</td>\n",
       "      <td>24.82</td>\n",
       "      <td>25.31</td>\n",
       "      <td>24.53</td>\n",
       "      <td>25.11</td>\n",
       "      <td>60276</td>\n",
       "      <td>24.920</td>\n",
       "      <td>20100813</td>\n",
       "      <td>8</td>\n",
       "    </tr>\n",
       "    <tr>\n",
       "      <th>5784</th>\n",
       "      <td>2010-08-17</td>\n",
       "      <td>ALTR</td>\n",
       "      <td>25.22</td>\n",
       "      <td>25.88</td>\n",
       "      <td>25.04</td>\n",
       "      <td>25.54</td>\n",
       "      <td>89329</td>\n",
       "      <td>25.460</td>\n",
       "      <td>20100813</td>\n",
       "      <td>8</td>\n",
       "    </tr>\n",
       "    <tr>\n",
       "      <th>5785</th>\n",
       "      <td>2010-08-19</td>\n",
       "      <td>ALTR</td>\n",
       "      <td>25.61</td>\n",
       "      <td>25.96</td>\n",
       "      <td>25.24</td>\n",
       "      <td>25.50</td>\n",
       "      <td>61815</td>\n",
       "      <td>25.600</td>\n",
       "      <td>20100813</td>\n",
       "      <td>8</td>\n",
       "    </tr>\n",
       "    <tr>\n",
       "      <th>5786</th>\n",
       "      <td>2010-08-20</td>\n",
       "      <td>ALTR</td>\n",
       "      <td>25.44</td>\n",
       "      <td>25.83</td>\n",
       "      <td>25.32</td>\n",
       "      <td>25.60</td>\n",
       "      <td>54383</td>\n",
       "      <td>25.575</td>\n",
       "      <td>20100813</td>\n",
       "      <td>8</td>\n",
       "    </tr>\n",
       "  </tbody>\n",
       "</table>\n",
       "<p>243 rows × 10 columns</p>\n",
       "</div>"
      ],
      "text/plain": [
       "           date ticker   open   high    low  close  volume     avg  20100813  \\\n",
       "5544 2009-08-21   ALTR  19.36  19.50  19.15  19.48   54580  19.325  20100813   \n",
       "5545 2009-08-24   ALTR  19.51  19.72  19.04  19.13   42059  19.380  20100813   \n",
       "5546 2009-08-25   ALTR  19.13  19.39  18.95  19.05   48539  19.170  20100813   \n",
       "5547 2009-08-26   ALTR  19.11  19.41  18.99  19.28   42058  19.200  20100813   \n",
       "5548 2009-08-27   ALTR  19.23  19.32  18.88  19.08   63271  19.100  20100813   \n",
       "...         ...    ...    ...    ...    ...    ...     ...     ...       ...   \n",
       "5782 2010-08-13   ALTR  25.30  25.50  24.94  24.94   69416  25.220  20100813   \n",
       "5783 2010-08-16   ALTR  24.82  25.31  24.53  25.11   60276  24.920  20100813   \n",
       "5784 2010-08-17   ALTR  25.22  25.88  25.04  25.54   89329  25.460  20100813   \n",
       "5785 2010-08-19   ALTR  25.61  25.96  25.24  25.50   61815  25.600  20100813   \n",
       "5786 2010-08-20   ALTR  25.44  25.83  25.32  25.60   54383  25.575  20100813   \n",
       "\n",
       "      m  \n",
       "5544  8  \n",
       "5545  8  \n",
       "5546  8  \n",
       "5547  8  \n",
       "5548  8  \n",
       "...  ..  \n",
       "5782  8  \n",
       "5783  8  \n",
       "5784  8  \n",
       "5785  8  \n",
       "5786  8  \n",
       "\n",
       "[243 rows x 10 columns]"
      ]
     },
     "execution_count": 55,
     "metadata": {},
     "output_type": "execute_result"
    }
   ],
   "source": [
    "import datetime as dt\n",
    "dt_143['m'] = dt_143['date'].dt.month\n",
    "dt_143"
   ]
  },
  {
   "cell_type": "markdown",
   "metadata": {},
   "source": [
    "2.3 Из DataFrame выбрать только строки, относящиеся к 13 числу месяца."
   ]
  },
  {
   "cell_type": "markdown",
   "metadata": {},
   "source": [
    "2.4 Для тикера AAPL подсчитать, сколько дней прошло между максимальным и минимальным значением цены акции на закрытии рынка."
   ]
  },
  {
   "cell_type": "markdown",
   "metadata": {},
   "source": [
    "2.5 Для каждого тикера подсчитать, максимальную цену акции и определить, в какой день недели чаще всего достигается максимум цены акции."
   ]
  },
  {
   "cell_type": "markdown",
   "metadata": {},
   "source": []
  },
  {
   "cell_type": "markdown",
   "metadata": {},
   "source": [
    "## 3. Работа со строковыми значениями в Pandas\n",
    "\n",
    "* Группа функций pandas.Series.str.<Имя функции>\n",
    "* Например, см.: https://pandas.pydata.org/pandas-docs/stable/reference/api/pandas.Series.str.capitalize.html"
   ]
  },
  {
   "cell_type": "markdown",
   "metadata": {},
   "source": [
    "### Датасеты:\n",
    "* kings.csv"
   ]
  },
  {
   "cell_type": "code",
   "execution_count": 58,
   "metadata": {},
   "outputs": [
    {
     "data": {
      "text/html": [
       "<div>\n",
       "<style scoped>\n",
       "    .dataframe tbody tr th:only-of-type {\n",
       "        vertical-align: middle;\n",
       "    }\n",
       "\n",
       "    .dataframe tbody tr th {\n",
       "        vertical-align: top;\n",
       "    }\n",
       "\n",
       "    .dataframe thead th {\n",
       "        text-align: right;\n",
       "    }\n",
       "</style>\n",
       "<table border=\"1\" class=\"dataframe\">\n",
       "  <thead>\n",
       "    <tr style=\"text-align: right;\">\n",
       "      <th></th>\n",
       "      <th>N</th>\n",
       "      <th>King</th>\n",
       "    </tr>\n",
       "  </thead>\n",
       "  <tbody>\n",
       "    <tr>\n",
       "      <th>0</th>\n",
       "      <td>1</td>\n",
       "      <td>Карл II Лысый (843—877), император с 875</td>\n",
       "    </tr>\n",
       "    <tr>\n",
       "      <th>1</th>\n",
       "      <td>2</td>\n",
       "      <td>\\tЛюдовик II Заика (877—879)</td>\n",
       "    </tr>\n",
       "    <tr>\n",
       "      <th>2</th>\n",
       "      <td>3</td>\n",
       "      <td>Людовик III (879—882)</td>\n",
       "    </tr>\n",
       "    <tr>\n",
       "      <th>3</th>\n",
       "      <td>4</td>\n",
       "      <td>Карломан II (879—884), соправитель Людовика III</td>\n",
       "    </tr>\n",
       "    <tr>\n",
       "      <th>4</th>\n",
       "      <td>5</td>\n",
       "      <td>Карл III Толстый (884—888), король Восточно-Фр...</td>\n",
       "    </tr>\n",
       "    <tr>\n",
       "      <th>5</th>\n",
       "      <td>6</td>\n",
       "      <td>Эд I (888—898), из династии Робертинов, граф П...</td>\n",
       "    </tr>\n",
       "    <tr>\n",
       "      <th>6</th>\n",
       "      <td>7</td>\n",
       "      <td>\\tГвидо Сполетский (888—888), титулярный коро...</td>\n",
       "    </tr>\n",
       "    <tr>\n",
       "      <th>7</th>\n",
       "      <td>8</td>\n",
       "      <td>Карл III Простоватый (898—922)</td>\n",
       "    </tr>\n",
       "    <tr>\n",
       "      <th>8</th>\n",
       "      <td>9</td>\n",
       "      <td>\\tРоберт I (922—923), из династии Робертинов</td>\n",
       "    </tr>\n",
       "    <tr>\n",
       "      <th>9</th>\n",
       "      <td>10</td>\n",
       "      <td>Рауль I (923—936), из династии Бозонидов</td>\n",
       "    </tr>\n",
       "    <tr>\n",
       "      <th>10</th>\n",
       "      <td>11</td>\n",
       "      <td>Людовик IV (936—954)</td>\n",
       "    </tr>\n",
       "    <tr>\n",
       "      <th>11</th>\n",
       "      <td>12</td>\n",
       "      <td>Лотарь (954—986)</td>\n",
       "    </tr>\n",
       "    <tr>\n",
       "      <th>12</th>\n",
       "      <td>13</td>\n",
       "      <td>Карл Нижнелотарингский (978—978), коронован ...</td>\n",
       "    </tr>\n",
       "    <tr>\n",
       "      <th>13</th>\n",
       "      <td>14</td>\n",
       "      <td>Людовик V Ленивый (986—987)</td>\n",
       "    </tr>\n",
       "  </tbody>\n",
       "</table>\n",
       "</div>"
      ],
      "text/plain": [
       "     N                                               King\n",
       "0    1           Карл II Лысый (843—877), император с 875\n",
       "1    2                       \\tЛюдовик II Заика (877—879)\n",
       "2    3                              Людовик III (879—882)\n",
       "3    4    Карломан II (879—884), соправитель Людовика III\n",
       "4    5  Карл III Толстый (884—888), король Восточно-Фр...\n",
       "5    6  Эд I (888—898), из династии Робертинов, граф П...\n",
       "6    7   \\tГвидо Сполетский (888—888), титулярный коро...\n",
       "7    8                     Карл III Простоватый (898—922)\n",
       "8    9       \\tРоберт I (922—923), из династии Робертинов\n",
       "9   10           Рауль I (923—936), из династии Бозонидов\n",
       "10  11                               Людовик IV (936—954)\n",
       "11  12                                   Лотарь (954—986)\n",
       "12  13    Карл Нижнелотарингский (978—978), коронован ...\n",
       "13  14                        Людовик V Ленивый (986—987)"
      ]
     },
     "execution_count": 58,
     "metadata": {},
     "output_type": "execute_result"
    }
   ],
   "source": [
    "k = pd.read_csv('kings_v2.csv', sep=';')\n",
    "k"
   ]
  },
  {
   "cell_type": "markdown",
   "metadata": {},
   "source": [
    "3.1 Загрузить датасет kings.csv в датафрэйм и добавить в него столбец Name, в котором содержатся имена королей (без порядковых номеров) "
   ]
  },
  {
   "cell_type": "code",
   "execution_count": 59,
   "metadata": {},
   "outputs": [
    {
     "data": {
      "text/html": [
       "<div>\n",
       "<style scoped>\n",
       "    .dataframe tbody tr th:only-of-type {\n",
       "        vertical-align: middle;\n",
       "    }\n",
       "\n",
       "    .dataframe tbody tr th {\n",
       "        vertical-align: top;\n",
       "    }\n",
       "\n",
       "    .dataframe thead th {\n",
       "        text-align: right;\n",
       "    }\n",
       "</style>\n",
       "<table border=\"1\" class=\"dataframe\">\n",
       "  <thead>\n",
       "    <tr style=\"text-align: right;\">\n",
       "      <th></th>\n",
       "      <th>N</th>\n",
       "      <th>King</th>\n",
       "      <th>Name</th>\n",
       "    </tr>\n",
       "  </thead>\n",
       "  <tbody>\n",
       "    <tr>\n",
       "      <th>0</th>\n",
       "      <td>1</td>\n",
       "      <td>Карл II Лысый (843—877), император с 875</td>\n",
       "      <td>Карл II Лысый</td>\n",
       "    </tr>\n",
       "    <tr>\n",
       "      <th>1</th>\n",
       "      <td>2</td>\n",
       "      <td>\\tЛюдовик II Заика (877—879)</td>\n",
       "      <td>Людовик II Заика</td>\n",
       "    </tr>\n",
       "    <tr>\n",
       "      <th>2</th>\n",
       "      <td>3</td>\n",
       "      <td>Людовик III (879—882)</td>\n",
       "      <td>Людовик III</td>\n",
       "    </tr>\n",
       "    <tr>\n",
       "      <th>3</th>\n",
       "      <td>4</td>\n",
       "      <td>Карломан II (879—884), соправитель Людовика III</td>\n",
       "      <td>Карломан II</td>\n",
       "    </tr>\n",
       "    <tr>\n",
       "      <th>4</th>\n",
       "      <td>5</td>\n",
       "      <td>Карл III Толстый (884—888), король Восточно-Фр...</td>\n",
       "      <td>Карл III Толстый</td>\n",
       "    </tr>\n",
       "    <tr>\n",
       "      <th>5</th>\n",
       "      <td>6</td>\n",
       "      <td>Эд I (888—898), из династии Робертинов, граф П...</td>\n",
       "      <td>Эд I</td>\n",
       "    </tr>\n",
       "    <tr>\n",
       "      <th>6</th>\n",
       "      <td>7</td>\n",
       "      <td>\\tГвидо Сполетский (888—888), титулярный коро...</td>\n",
       "      <td>Гвидо Сполетский</td>\n",
       "    </tr>\n",
       "    <tr>\n",
       "      <th>7</th>\n",
       "      <td>8</td>\n",
       "      <td>Карл III Простоватый (898—922)</td>\n",
       "      <td>Карл III Простоватый</td>\n",
       "    </tr>\n",
       "    <tr>\n",
       "      <th>8</th>\n",
       "      <td>9</td>\n",
       "      <td>\\tРоберт I (922—923), из династии Робертинов</td>\n",
       "      <td>Роберт I</td>\n",
       "    </tr>\n",
       "    <tr>\n",
       "      <th>9</th>\n",
       "      <td>10</td>\n",
       "      <td>Рауль I (923—936), из династии Бозонидов</td>\n",
       "      <td>Рауль I</td>\n",
       "    </tr>\n",
       "    <tr>\n",
       "      <th>10</th>\n",
       "      <td>11</td>\n",
       "      <td>Людовик IV (936—954)</td>\n",
       "      <td>Людовик IV</td>\n",
       "    </tr>\n",
       "    <tr>\n",
       "      <th>11</th>\n",
       "      <td>12</td>\n",
       "      <td>Лотарь (954—986)</td>\n",
       "      <td>Лотарь</td>\n",
       "    </tr>\n",
       "    <tr>\n",
       "      <th>12</th>\n",
       "      <td>13</td>\n",
       "      <td>Карл Нижнелотарингский (978—978), коронован ...</td>\n",
       "      <td>Карл Нижнелотарингский</td>\n",
       "    </tr>\n",
       "    <tr>\n",
       "      <th>13</th>\n",
       "      <td>14</td>\n",
       "      <td>Людовик V Ленивый (986—987)</td>\n",
       "      <td>Людовик V Ленивый</td>\n",
       "    </tr>\n",
       "  </tbody>\n",
       "</table>\n",
       "</div>"
      ],
      "text/plain": [
       "     N                                               King  \\\n",
       "0    1           Карл II Лысый (843—877), император с 875   \n",
       "1    2                       \\tЛюдовик II Заика (877—879)   \n",
       "2    3                              Людовик III (879—882)   \n",
       "3    4    Карломан II (879—884), соправитель Людовика III   \n",
       "4    5  Карл III Толстый (884—888), король Восточно-Фр...   \n",
       "5    6  Эд I (888—898), из династии Робертинов, граф П...   \n",
       "6    7   \\tГвидо Сполетский (888—888), титулярный коро...   \n",
       "7    8                     Карл III Простоватый (898—922)   \n",
       "8    9       \\tРоберт I (922—923), из династии Робертинов   \n",
       "9   10           Рауль I (923—936), из династии Бозонидов   \n",
       "10  11                               Людовик IV (936—954)   \n",
       "11  12                                   Лотарь (954—986)   \n",
       "12  13    Карл Нижнелотарингский (978—978), коронован ...   \n",
       "13  14                        Людовик V Ленивый (986—987)   \n",
       "\n",
       "                      Name  \n",
       "0            Карл II Лысый  \n",
       "1         Людовик II Заика  \n",
       "2              Людовик III  \n",
       "3              Карломан II  \n",
       "4         Карл III Толстый  \n",
       "5                     Эд I  \n",
       "6         Гвидо Сполетский  \n",
       "7     Карл III Простоватый  \n",
       "8                 Роберт I  \n",
       "9                  Рауль I  \n",
       "10              Людовик IV  \n",
       "11                  Лотарь  \n",
       "12  Карл Нижнелотарингский  \n",
       "13       Людовик V Ленивый  "
      ]
     },
     "execution_count": 59,
     "metadata": {},
     "output_type": "execute_result"
    }
   ],
   "source": [
    "k['Name'] = k['King'].apply(lambda x: str(x).split('(')[0].strip())\n",
    "k"
   ]
  },
  {
   "cell_type": "markdown",
   "metadata": {},
   "source": [
    "3.2 Для датафрэйма kings загрузить порядоковые нормера королей и отфильторвать строки соответствующие королям с номерами \"I\"."
   ]
  },
  {
   "cell_type": "markdown",
   "metadata": {},
   "source": [
    "3.3 Для датафрэйма kings, для столбца King получить значения максимума и минимума для чисел, являющихся последним токеном в строке."
   ]
  },
  {
   "cell_type": "markdown",
   "metadata": {},
   "source": [
    "3.4* Для датафрэйма kings, для столбца King с помощью регулярного выражения извелечь значения начала и конца правления королей, записанные в формате (год-год)."
   ]
  },
  {
   "cell_type": "markdown",
   "metadata": {},
   "source": [
    "## 4. Работа с пропущенными значениями"
   ]
  },
  {
   "cell_type": "markdown",
   "metadata": {},
   "source": [
    "### Датасеты:\n",
    "* titanic.csv"
   ]
  },
  {
   "cell_type": "markdown",
   "metadata": {},
   "source": [
    "4.1 Подсчитать количество пропущенных значений для всех столбцов датасета titanic.csv"
   ]
  },
  {
   "cell_type": "markdown",
   "metadata": {},
   "source": [
    "4.2 Удалить из датафрейма полученного из titanic.csv все строки, в которых есть хотя бы один пропуск."
   ]
  },
  {
   "cell_type": "markdown",
   "metadata": {},
   "source": [
    "4.3 Удалить из датафрейма полученного из titanic.csv все строки, в которых есть два и более пропуска."
   ]
  },
  {
   "cell_type": "markdown",
   "metadata": {},
   "source": [
    "4.4 В датафрейме, полученном из titanic.csv, заменить все пропущенные числовые значения на значения равне среднему от аналогичного значения в предыдущей и последующей строках."
   ]
  },
  {
   "cell_type": "markdown",
   "metadata": {},
   "source": [
    "4.5 В датафрейме, полученном из titanic.csv, заменить все пропущенные числовые значения возраста на значения равне среднему значению для представителей этого пола (не выполнять операцию, если неизвестен и пол и возраст)."
   ]
  },
  {
   "cell_type": "markdown",
   "metadata": {},
   "source": [
    "## 5.Сводные таблицы в Pandas\n",
    "* см.: https://pandas.pydata.org/pandas-docs/stable/reference/api/pandas.pivot_table.html"
   ]
  },
  {
   "cell_type": "markdown",
   "metadata": {},
   "source": [
    "### Датасеты:\n",
    "* titanic.csv"
   ]
  },
  {
   "cell_type": "markdown",
   "metadata": {},
   "source": [
    "5.1 С помощью сводных таблиц определить какая доля выживших в разных классах для мужчин и женщин была на Титанике (датасет titanic.csv)"
   ]
  },
  {
   "cell_type": "markdown",
   "metadata": {},
   "source": [
    "5.2 С использованием сводных таблиц подсчитать количество мужчин и женщин плывших в разных классов на Титанике (датасет titanic.csv)"
   ]
  },
  {
   "cell_type": "markdown",
   "metadata": {},
   "source": [
    "5.3 С использованием сводных таблиц определить какая доля выживших была на Титанике для мужчин и женщин, разных классов и разных категорий возрастов (Категории возрастов: (0, 10), (10, 30), (30, 60), (60, 80)) (датасет titanic.csv)"
   ]
  },
  {
   "cell_type": "markdown",
   "metadata": {},
   "source": [
    "## 6.Объединение наборов данных"
   ]
  },
  {
   "cell_type": "markdown",
   "metadata": {},
   "source": [
    "### Датасеты:\n",
    "* sp_data2.csv\n",
    "* sp500hst.txt\n",
    "* us-state-population\n",
    "* us-state-shortcode\n",
    "* e-commerce/*\n",
    "* avocado_v1"
   ]
  },
  {
   "cell_type": "markdown",
   "metadata": {},
   "source": [
    "6.1 Добавить столбец с расшифровкой названия тикера используя данные из файла sp_data2.csv . В случае нехватки данных об именах тикеров корректно обработать их."
   ]
  },
  {
   "cell_type": "markdown",
   "metadata": {},
   "source": [
    "6.2 Вывести тикеры, для которых не были найдены рсшифровки. "
   ]
  },
  {
   "cell_type": "markdown",
   "metadata": {},
   "source": [
    "6.3 Отранжировать штаты по численности населения меньше 18 лет в 1990 году. В качестве индекса таблицы использовать название штата"
   ]
  },
  {
   "cell_type": "markdown",
   "metadata": {},
   "source": [
    "6.4 Объединить данные о торговле из /e-commerce в один датафрейм, добавив столбец 'Country', в котором указано название страны"
   ]
  },
  {
   "cell_type": "markdown",
   "metadata": {},
   "source": [
    "6.5"
   ]
  },
  {
   "cell_type": "markdown",
   "metadata": {},
   "source": [
    "6.5.1. Загрузить датасет avocado. "
   ]
  },
  {
   "cell_type": "markdown",
   "metadata": {},
   "source": [
    "6.5.2. Преобразовать столбец Date в формате datetime"
   ]
  },
  {
   "cell_type": "markdown",
   "metadata": {},
   "source": [
    "6.5.3. При помощи метода join создать новый датафрейм, в котором столбцами являются скользящие средние цен за 10 дней, а индексом - даты"
   ]
  },
  {
   "cell_type": "markdown",
   "metadata": {},
   "source": [
    "6.5.4. Изобразить на одной фигуре графики полученных временных рядом"
   ]
  },
  {
   "cell_type": "markdown",
   "metadata": {},
   "source": []
  },
  {
   "cell_type": "markdown",
   "metadata": {},
   "source": [
    "## 7. GroupBy"
   ]
  },
  {
   "cell_type": "code",
   "execution_count": null,
   "metadata": {},
   "outputs": [],
   "source": [
    "### Датасеты:\n",
    "* sp_data2.csv\n",
    "* sp500hst.txt\n",
    "* us-state-population\n",
    "* us-state-shortcode\n",
    "* e-commerce/*\n",
    "* avocado_v1"
   ]
  },
  {
   "cell_type": "markdown",
   "metadata": {},
   "source": [
    "7.1 Рассчитать суммарный объем торгов (столбец 7) для для одинаковых значений (тикеров) из столбца 2 "
   ]
  },
  {
   "cell_type": "markdown",
   "metadata": {},
   "source": [
    "7.2 Для каждого тикера подсчитать, сколько раз он встречается."
   ]
  },
  {
   "cell_type": "markdown",
   "metadata": {},
   "source": [
    "7.3 Расчитать среднее значение показателей для каждого из столбцов 3-6 для одинаковых значений (тикеров) из столбца 2 и сохранить в новом DataFrame"
   ]
  },
  {
   "cell_type": "markdown",
   "metadata": {},
   "source": [
    "7.4 Добавить в DataFrame новый столбец, содержащий объем торгов (столбец 7), нормированный по среднему значению объема торгов для данного тикера."
   ]
  },
  {
   "cell_type": "markdown",
   "metadata": {},
   "source": [
    "7.5 Для каждой из стран в датафрейме, полученном в 6.4 найти 3 самых дорогих проданных товара"
   ]
  },
  {
   "cell_type": "markdown",
   "metadata": {},
   "source": [
    "7.6 Разбить датафрейм, полученный в 6.4, на 4 файла, в зависимости от принадлежности значения столбца 'UnitPrice' интервалам:\n",
    "\n",
    "1) $ UnitPrice \\in (q_0, q_1] $\n",
    "\n",
    "2) $ UnitPrice \\in (q_1, q_2] $\n",
    "\n",
    "3) $ UnitPrice \\in (q_2, q_3] $\n",
    "\n",
    "4) $ UnitPrice \\in (q_3, q_4] $"
   ]
  },
  {
   "cell_type": "markdown",
   "metadata": {},
   "source": [
    "7.7 Создать новый столбец UnitPriceWithMean, значения которого совпадают с UnitPrice, если UnitPrice >= 2 и равны среднему значению цен товаров, больших двух, в этой стране, в противном случае"
   ]
  },
  {
   "cell_type": "markdown",
   "metadata": {},
   "source": [
    "7.8 Для каждого описания товара найти список стран, в которых этот товар был продан. Описание товара считаем корректным, если в нем все символы строки, поддерживающие приведение к регистру, приведены к верхнем"
   ]
  },
  {
   "cell_type": "markdown",
   "metadata": {},
   "source": []
  },
  {
   "cell_type": "markdown",
   "metadata": {},
   "source": []
  }
 ],
 "metadata": {
  "kernelspec": {
   "display_name": "Python 3",
   "language": "python",
   "name": "python3"
  },
  "language_info": {
   "codemirror_mode": {
    "name": "ipython",
    "version": 3
   },
   "file_extension": ".py",
   "mimetype": "text/x-python",
   "name": "python",
   "nbconvert_exporter": "python",
   "pygments_lexer": "ipython3",
   "version": "3.7.6"
  }
 },
 "nbformat": 4,
 "nbformat_minor": 2
}
