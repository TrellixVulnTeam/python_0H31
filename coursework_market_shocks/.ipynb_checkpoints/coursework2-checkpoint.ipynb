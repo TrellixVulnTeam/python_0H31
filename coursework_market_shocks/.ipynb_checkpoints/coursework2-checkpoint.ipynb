{
 "cells": [
  {
   "cell_type": "code",
   "execution_count": 1,
   "metadata": {
    "scrolled": false
   },
   "outputs": [
    {
     "name": "stdout",
     "output_type": "stream",
     "text": [
      "Collecting package metadata (current_repodata.json): ...working... done\n",
      "Solving environment: ...working... done\n",
      "\n",
      "## Package Plan ##\n",
      "\n",
      "  environment location: D:\\Anaconda\n",
      "\n",
      "  added / updated specs:\n",
      "    - pandas\n",
      "\n",
      "\n",
      "The following packages will be downloaded:\n",
      "\n",
      "    package                    |            build\n",
      "    ---------------------------|-----------------\n",
      "    ca-certificates-2020.1.1   |                0         125 KB\n",
      "    certifi-2019.11.28         |           py37_0         154 KB\n",
      "    conda-4.8.3                |           py37_0         2.8 MB\n",
      "    openssl-1.1.1d             |       he774522_4         4.8 MB\n",
      "    ------------------------------------------------------------\n",
      "                                           Total:         7.9 MB\n",
      "\n",
      "The following packages will be SUPERSEDED by a higher-priority channel:\n",
      "\n",
      "  ca-certificates                                  anaconda --> pkgs/main\n",
      "  certifi                                          anaconda --> pkgs/main\n",
      "  conda                                            anaconda --> pkgs/main\n",
      "  openssl                                          anaconda --> pkgs/main\n",
      "\n",
      "\n",
      "\n",
      "Downloading and Extracting Packages\n",
      "\n",
      "conda-4.8.3          | 2.8 MB    |            |   0% \n",
      "conda-4.8.3          | 2.8 MB    |            |   1% \n",
      "conda-4.8.3          | 2.8 MB    | 4          |   5% \n",
      "conda-4.8.3          | 2.8 MB    | 7          |   8% \n",
      "conda-4.8.3          | 2.8 MB    | 9          |  10% \n",
      "conda-4.8.3          | 2.8 MB    | #1         |  12% \n",
      "conda-4.8.3          | 2.8 MB    | #3         |  13% \n",
      "conda-4.8.3          | 2.8 MB    | #4         |  15% \n",
      "conda-4.8.3          | 2.8 MB    | #6         |  16% \n",
      "conda-4.8.3          | 2.8 MB    | ##1        |  21% \n",
      "conda-4.8.3          | 2.8 MB    | ###6       |  36% \n",
      "conda-4.8.3          | 2.8 MB    | ####1      |  42% \n",
      "conda-4.8.3          | 2.8 MB    | ####7      |  47% \n",
      "conda-4.8.3          | 2.8 MB    | #####3     |  53% \n",
      "conda-4.8.3          | 2.8 MB    | #####8     |  59% \n",
      "conda-4.8.3          | 2.8 MB    | ######4    |  65% \n",
      "conda-4.8.3          | 2.8 MB    | #######    |  70% \n",
      "conda-4.8.3          | 2.8 MB    | #######6   |  76% \n",
      "conda-4.8.3          | 2.8 MB    | ########2  |  82% \n",
      "conda-4.8.3          | 2.8 MB    | ########7  |  88% \n",
      "conda-4.8.3          | 2.8 MB    | #########4 |  94% \n",
      "conda-4.8.3          | 2.8 MB    | #########9 |  99% \n",
      "conda-4.8.3          | 2.8 MB    | ########## | 100% \n",
      "\n",
      "openssl-1.1.1d       | 4.8 MB    |            |   0% \n",
      "openssl-1.1.1d       | 4.8 MB    |            |   0% \n",
      "openssl-1.1.1d       | 4.8 MB    | 1          |   1% \n",
      "openssl-1.1.1d       | 4.8 MB    | 1          |   2% \n",
      "openssl-1.1.1d       | 4.8 MB    | 2          |   3% \n",
      "openssl-1.1.1d       | 4.8 MB    | 3          |   3% \n",
      "openssl-1.1.1d       | 4.8 MB    | 3          |   4% \n",
      "openssl-1.1.1d       | 4.8 MB    | 4          |   5% \n",
      "openssl-1.1.1d       | 4.8 MB    | 5          |   6% \n",
      "openssl-1.1.1d       | 4.8 MB    | 7          |   7% \n",
      "openssl-1.1.1d       | 4.8 MB    | #          |  10% \n",
      "openssl-1.1.1d       | 4.8 MB    | #2         |  13% \n",
      "openssl-1.1.1d       | 4.8 MB    | #4         |  14% \n",
      "openssl-1.1.1d       | 4.8 MB    | #5         |  16% \n",
      "openssl-1.1.1d       | 4.8 MB    | #9         |  20% \n",
      "openssl-1.1.1d       | 4.8 MB    | ##1        |  21% \n",
      "openssl-1.1.1d       | 4.8 MB    | ##2        |  23% \n",
      "openssl-1.1.1d       | 4.8 MB    | ##3        |  24% \n",
      "openssl-1.1.1d       | 4.8 MB    | ##4        |  25% \n",
      "openssl-1.1.1d       | 4.8 MB    | ##5        |  25% \n",
      "openssl-1.1.1d       | 4.8 MB    | ##6        |  26% \n",
      "openssl-1.1.1d       | 4.8 MB    | ##8        |  29% \n",
      "openssl-1.1.1d       | 4.8 MB    | ##9        |  30% \n",
      "openssl-1.1.1d       | 4.8 MB    | ###        |  30% \n",
      "openssl-1.1.1d       | 4.8 MB    | ###        |  31% \n",
      "openssl-1.1.1d       | 4.8 MB    | ###1       |  32% \n",
      "openssl-1.1.1d       | 4.8 MB    | ###2       |  32% \n",
      "openssl-1.1.1d       | 4.8 MB    | ###2       |  33% \n",
      "openssl-1.1.1d       | 4.8 MB    | ###3       |  34% \n",
      "openssl-1.1.1d       | 4.8 MB    | ###4       |  34% \n",
      "openssl-1.1.1d       | 4.8 MB    | ###4       |  35% \n",
      "openssl-1.1.1d       | 4.8 MB    | ###5       |  35% \n",
      "openssl-1.1.1d       | 4.8 MB    | ###5       |  35% \n",
      "openssl-1.1.1d       | 4.8 MB    | ###5       |  36% \n",
      "openssl-1.1.1d       | 4.8 MB    | ###6       |  36% \n",
      "openssl-1.1.1d       | 4.8 MB    | ###6       |  37% \n",
      "openssl-1.1.1d       | 4.8 MB    | ###7       |  37% \n",
      "openssl-1.1.1d       | 4.8 MB    | ###8       |  38% \n",
      "openssl-1.1.1d       | 4.8 MB    | ###8       |  39% \n",
      "openssl-1.1.1d       | 4.8 MB    | ###9       |  39% \n",
      "openssl-1.1.1d       | 4.8 MB    | ####       |  40% \n",
      "openssl-1.1.1d       | 4.8 MB    | ####       |  41% \n",
      "openssl-1.1.1d       | 4.8 MB    | ####1      |  41% \n",
      "openssl-1.1.1d       | 4.8 MB    | ####1      |  42% \n",
      "openssl-1.1.1d       | 4.8 MB    | ####2      |  43% \n",
      "openssl-1.1.1d       | 4.8 MB    | ####3      |  43% \n",
      "openssl-1.1.1d       | 4.8 MB    | ####4      |  44% \n",
      "openssl-1.1.1d       | 4.8 MB    | ####4      |  45% \n",
      "openssl-1.1.1d       | 4.8 MB    | ####5      |  46% \n",
      "openssl-1.1.1d       | 4.8 MB    | ####6      |  47% \n",
      "openssl-1.1.1d       | 4.8 MB    | ####7      |  47% \n",
      "openssl-1.1.1d       | 4.8 MB    | ####7      |  48% \n",
      "openssl-1.1.1d       | 4.8 MB    | ####8      |  49% \n",
      "openssl-1.1.1d       | 4.8 MB    | ####9      |  49% \n",
      "openssl-1.1.1d       | 4.8 MB    | #####      |  50% \n",
      "openssl-1.1.1d       | 4.8 MB    | #####      |  51% \n",
      "openssl-1.1.1d       | 4.8 MB    | #####1     |  52% \n",
      "openssl-1.1.1d       | 4.8 MB    | #####2     |  52% \n",
      "openssl-1.1.1d       | 4.8 MB    | #####3     |  53% \n",
      "openssl-1.1.1d       | 4.8 MB    | #####3     |  54% \n",
      "openssl-1.1.1d       | 4.8 MB    | #####4     |  55% \n",
      "openssl-1.1.1d       | 4.8 MB    | #####5     |  56% \n",
      "openssl-1.1.1d       | 4.8 MB    | #####6     |  57% \n",
      "openssl-1.1.1d       | 4.8 MB    | #####7     |  58% \n",
      "openssl-1.1.1d       | 4.8 MB    | #####8     |  59% \n",
      "openssl-1.1.1d       | 4.8 MB    | #####9     |  60% \n",
      "openssl-1.1.1d       | 4.8 MB    | ######     |  61% \n",
      "openssl-1.1.1d       | 4.8 MB    | ######1    |  61% \n",
      "openssl-1.1.1d       | 4.8 MB    | ######2    |  62% \n",
      "openssl-1.1.1d       | 4.8 MB    | ######3    |  64% \n",
      "openssl-1.1.1d       | 4.8 MB    | ######5    |  65% \n",
      "openssl-1.1.1d       | 4.8 MB    | ######6    |  67% \n",
      "openssl-1.1.1d       | 4.8 MB    | ######8    |  68% \n",
      "openssl-1.1.1d       | 4.8 MB    | ######9    |  69% \n",
      "openssl-1.1.1d       | 4.8 MB    | #######    |  71% \n",
      "openssl-1.1.1d       | 4.8 MB    | #######2   |  72% \n",
      "openssl-1.1.1d       | 4.8 MB    | #######3   |  74% \n",
      "openssl-1.1.1d       | 4.8 MB    | #######4   |  75% \n",
      "openssl-1.1.1d       | 4.8 MB    | #######6   |  76% \n",
      "openssl-1.1.1d       | 4.8 MB    | #######7   |  78% \n",
      "openssl-1.1.1d       | 4.8 MB    | #######9   |  79% \n",
      "openssl-1.1.1d       | 4.8 MB    | ########   |  80% \n",
      "openssl-1.1.1d       | 4.8 MB    | ########1  |  82% \n",
      "openssl-1.1.1d       | 4.8 MB    | ########2  |  83% \n",
      "openssl-1.1.1d       | 4.8 MB    | ########3  |  84% \n",
      "openssl-1.1.1d       | 4.8 MB    | ########5  |  86% \n",
      "openssl-1.1.1d       | 4.8 MB    | ########6  |  87% \n",
      "openssl-1.1.1d       | 4.8 MB    | ########8  |  88% \n",
      "openssl-1.1.1d       | 4.8 MB    | ########9  |  89% \n",
      "openssl-1.1.1d       | 4.8 MB    | #########  |  90% \n",
      "openssl-1.1.1d       | 4.8 MB    | #########1 |  91% \n",
      "openssl-1.1.1d       | 4.8 MB    | #########2 |  92% \n",
      "openssl-1.1.1d       | 4.8 MB    | #########3 |  93% \n",
      "openssl-1.1.1d       | 4.8 MB    | #########4 |  94% \n",
      "openssl-1.1.1d       | 4.8 MB    | #########5 |  95% \n",
      "openssl-1.1.1d       | 4.8 MB    | #########6 |  97% \n",
      "openssl-1.1.1d       | 4.8 MB    | #########8 |  99% \n",
      "openssl-1.1.1d       | 4.8 MB    | #########9 | 100% \n",
      "openssl-1.1.1d       | 4.8 MB    | ########## | 100% \n",
      "\n",
      "certifi-2019.11.28   | 154 KB    |            |   0% \n",
      "certifi-2019.11.28   | 154 KB    | #          |  10% \n",
      "certifi-2019.11.28   | 154 KB    | ####1      |  42% \n",
      "certifi-2019.11.28   | 154 KB    | ########3  |  83% \n",
      "certifi-2019.11.28   | 154 KB    | ########## | 100% \n",
      "\n",
      "ca-certificates-2020 | 125 KB    |            |   0% \n",
      "ca-certificates-2020 | 125 KB    | #2         |  13% \n",
      "ca-certificates-2020 | 125 KB    | #####1     |  51% \n",
      "ca-certificates-2020 | 125 KB    | ########## | 100% \n",
      "Preparing transaction: ...working... done\n",
      "Verifying transaction: ...working... done\n",
      "Executing transaction: ...working... done\n",
      "\n",
      "Note: you may need to restart the kernel to use updated packages.\n"
     ]
    }
   ],
   "source": [
    "conda install pandas"
   ]
  },
  {
   "cell_type": "code",
   "execution_count": 2,
   "metadata": {},
   "outputs": [
    {
     "name": "stdout",
     "output_type": "stream",
     "text": [
      "Collecting package metadata (current_repodata.json): ...working... done\n",
      "Solving environment: ...working... done\n",
      "\n",
      "# All requested packages already installed.\n",
      "\n",
      "\n",
      "Note: you may need to restart the kernel to use updated packages.\n"
     ]
    }
   ],
   "source": [
    "conda install -c bashtage arch"
   ]
  },
  {
   "cell_type": "code",
   "execution_count": 3,
   "metadata": {},
   "outputs": [],
   "source": [
    "import pandas as pd\n",
    "import numpy as np\n",
    "import matplotlib.pyplot as plt \n",
    "import seaborn as sns\n",
    "from statsmodels.tsa.api import VAR\n",
    "import statsmodels.api as sm\n",
    "import sklearn as sk\n",
    "from sklearn.metrics import r2_score"
   ]
  },
  {
   "cell_type": "code",
   "execution_count": 10,
   "metadata": {},
   "outputs": [
    {
     "data": {
      "text/html": [
       "<div>\n",
       "<style scoped>\n",
       "    .dataframe tbody tr th:only-of-type {\n",
       "        vertical-align: middle;\n",
       "    }\n",
       "\n",
       "    .dataframe tbody tr th {\n",
       "        vertical-align: top;\n",
       "    }\n",
       "\n",
       "    .dataframe thead th {\n",
       "        text-align: right;\n",
       "    }\n",
       "</style>\n",
       "<table border=\"1\" class=\"dataframe\">\n",
       "  <thead>\n",
       "    <tr style=\"text-align: right;\">\n",
       "      <th></th>\n",
       "      <th>Ticker</th>\n",
       "      <th>Close</th>\n",
       "    </tr>\n",
       "  </thead>\n",
       "  <tbody>\n",
       "    <tr>\n",
       "      <th>0</th>\n",
       "      <td>RTSI</td>\n",
       "      <td>1646.60</td>\n",
       "    </tr>\n",
       "    <tr>\n",
       "      <th>1</th>\n",
       "      <td>RTSI</td>\n",
       "      <td>1630.14</td>\n",
       "    </tr>\n",
       "    <tr>\n",
       "      <th>2</th>\n",
       "      <td>RTSI</td>\n",
       "      <td>1630.35</td>\n",
       "    </tr>\n",
       "    <tr>\n",
       "      <th>3</th>\n",
       "      <td>RTSI</td>\n",
       "      <td>1632.00</td>\n",
       "    </tr>\n",
       "    <tr>\n",
       "      <th>4</th>\n",
       "      <td>RTSI</td>\n",
       "      <td>1630.68</td>\n",
       "    </tr>\n",
       "  </tbody>\n",
       "</table>\n",
       "</div>"
      ],
      "text/plain": [
       "  Ticker    Close\n",
       "0   RTSI  1646.60\n",
       "1   RTSI  1630.14\n",
       "2   RTSI  1630.35\n",
       "3   RTSI  1632.00\n",
       "4   RTSI  1630.68"
      ]
     },
     "execution_count": 10,
     "metadata": {},
     "output_type": "execute_result"
    }
   ],
   "source": [
    "# Read the file of RTSI index definitions\n",
    "data=pd.read_csv('RTSI_5min_21012020_05032020.csv', sep=';',header=0, names=['Ticker','Close'])\n",
    "data.head()"
   ]
  },
  {
   "cell_type": "code",
   "execution_count": 11,
   "metadata": {},
   "outputs": [
    {
     "data": {
      "text/plain": [
       "[<matplotlib.lines.Line2D at 0x1ad10809688>]"
      ]
     },
     "execution_count": 11,
     "metadata": {},
     "output_type": "execute_result"
    },
    {
     "data": {
      "image/png": "[encoded data removed]",
      "text/plain": [
       "<Figure size 1152x720 with 1 Axes>"
      ]
     },
     "metadata": {
      "needs_background": "light"
     },
     "output_type": "display_data"
    }
   ],
   "source": [
    "# plot of close positions of index in 5-min timeframe\n",
    "plt.subplots(figsize=(16,10))\n",
    "plt.plot(data.Close, color='red')"
   ]
  },
  {
   "cell_type": "code",
   "execution_count": 12,
   "metadata": {},
   "outputs": [
    {
     "name": "stdout",
     "output_type": "stream",
     "text": [
      "     Ticker    Close\n",
      "0      RTSI  1646.60\n",
      "1      RTSI  1630.14\n",
      "2      RTSI  1630.35\n",
      "3      RTSI  1632.00\n",
      "4      RTSI  1630.68\n",
      "...     ...      ...\n",
      "3419   RTSI  1324.68\n",
      "3420   RTSI  1324.96\n",
      "3421   RTSI  1323.16\n",
      "3422   RTSI  1323.14\n",
      "3423   RTSI  1323.82\n",
      "\n",
      "[3424 rows x 2 columns]\n"
     ]
    }
   ],
   "source": [
    "# dataframe of close positions of index\n",
    "print(data)"
   ]
  },
  {
   "cell_type": "code",
   "execution_count": 13,
   "metadata": {},
   "outputs": [
    {
     "data": {
      "text/html": [
       "<div>\n",
       "<style scoped>\n",
       "    .dataframe tbody tr th:only-of-type {\n",
       "        vertical-align: middle;\n",
       "    }\n",
       "\n",
       "    .dataframe tbody tr th {\n",
       "        vertical-align: top;\n",
       "    }\n",
       "\n",
       "    .dataframe thead th {\n",
       "        text-align: right;\n",
       "    }\n",
       "</style>\n",
       "<table border=\"1\" class=\"dataframe\">\n",
       "  <thead>\n",
       "    <tr style=\"text-align: right;\">\n",
       "      <th></th>\n",
       "      <th>Ticker</th>\n",
       "      <th>Close</th>\n",
       "      <th>Return</th>\n",
       "    </tr>\n",
       "  </thead>\n",
       "  <tbody>\n",
       "    <tr>\n",
       "      <th>0</th>\n",
       "      <td>RTSI</td>\n",
       "      <td>1646.60</td>\n",
       "      <td>NaN</td>\n",
       "    </tr>\n",
       "    <tr>\n",
       "      <th>1</th>\n",
       "      <td>RTSI</td>\n",
       "      <td>1630.14</td>\n",
       "      <td>-0.010047</td>\n",
       "    </tr>\n",
       "    <tr>\n",
       "      <th>2</th>\n",
       "      <td>RTSI</td>\n",
       "      <td>1630.35</td>\n",
       "      <td>0.000129</td>\n",
       "    </tr>\n",
       "    <tr>\n",
       "      <th>3</th>\n",
       "      <td>RTSI</td>\n",
       "      <td>1632.00</td>\n",
       "      <td>0.001012</td>\n",
       "    </tr>\n",
       "    <tr>\n",
       "      <th>4</th>\n",
       "      <td>RTSI</td>\n",
       "      <td>1630.68</td>\n",
       "      <td>-0.000809</td>\n",
       "    </tr>\n",
       "    <tr>\n",
       "      <th>...</th>\n",
       "      <td>...</td>\n",
       "      <td>...</td>\n",
       "      <td>...</td>\n",
       "    </tr>\n",
       "    <tr>\n",
       "      <th>3419</th>\n",
       "      <td>RTSI</td>\n",
       "      <td>1324.68</td>\n",
       "      <td>-0.000551</td>\n",
       "    </tr>\n",
       "    <tr>\n",
       "      <th>3420</th>\n",
       "      <td>RTSI</td>\n",
       "      <td>1324.96</td>\n",
       "      <td>0.000211</td>\n",
       "    </tr>\n",
       "    <tr>\n",
       "      <th>3421</th>\n",
       "      <td>RTSI</td>\n",
       "      <td>1323.16</td>\n",
       "      <td>-0.001359</td>\n",
       "    </tr>\n",
       "    <tr>\n",
       "      <th>3422</th>\n",
       "      <td>RTSI</td>\n",
       "      <td>1323.14</td>\n",
       "      <td>-0.000015</td>\n",
       "    </tr>\n",
       "    <tr>\n",
       "      <th>3423</th>\n",
       "      <td>RTSI</td>\n",
       "      <td>1323.82</td>\n",
       "      <td>0.000514</td>\n",
       "    </tr>\n",
       "  </tbody>\n",
       "</table>\n",
       "<p>3424 rows × 3 columns</p>\n",
       "</div>"
      ],
      "text/plain": [
       "     Ticker    Close    Return\n",
       "0      RTSI  1646.60       NaN\n",
       "1      RTSI  1630.14 -0.010047\n",
       "2      RTSI  1630.35  0.000129\n",
       "3      RTSI  1632.00  0.001012\n",
       "4      RTSI  1630.68 -0.000809\n",
       "...     ...      ...       ...\n",
       "3419   RTSI  1324.68 -0.000551\n",
       "3420   RTSI  1324.96  0.000211\n",
       "3421   RTSI  1323.16 -0.001359\n",
       "3422   RTSI  1323.14 -0.000015\n",
       "3423   RTSI  1323.82  0.000514\n",
       "\n",
       "[3424 rows x 3 columns]"
      ]
     },
     "execution_count": 13,
     "metadata": {},
     "output_type": "execute_result"
    }
   ],
   "source": [
    "# Market return of the time t for h=1\n",
    "h = 1\n",
    "data['Return'] = np.log(data['Close'])-np.log(data['Close'].shift(h))\n",
    "data"
   ]
  },
  {
   "cell_type": "code",
   "execution_count": 14,
   "metadata": {},
   "outputs": [
    {
     "data": {
      "text/plain": [
       "[<matplotlib.lines.Line2D at 0x1ad17d7c4c8>]"
      ]
     },
     "execution_count": 14,
     "metadata": {},
     "output_type": "execute_result"
    },
    {
     "data": {
      "image/png": "[encoded data removed]",
      "text/plain": [
       "<Figure size 1152x720 with 1 Axes>"
      ]
     },
     "metadata": {
      "needs_background": "light"
     },
     "output_type": "display_data"
    }
   ],
   "source": [
    "# plot of return values\n",
    "plt.subplots(figsize=(16,10))\n",
    "plt.plot(data.Return, color='red')"
   ]
  },
  {
   "cell_type": "code",
   "execution_count": 15,
   "metadata": {},
   "outputs": [
    {
     "data": {
      "image/png": "[encoded data removed]",
      "text/plain": [
       "<Figure size 432x288 with 2 Axes>"
      ]
     },
     "metadata": {
      "needs_background": "light"
     },
     "output_type": "display_data"
    }
   ],
   "source": [
    "# визуальный анализ\n",
    "from matplotlib import pyplot\n",
    "pyplot.figure(1)\n",
    "pyplot.subplot(211)\n",
    "data.Return.hist()\n",
    "pyplot.subplot(212)\n",
    "data.Return.plot(kind='kde')\n",
    "pyplot.show()"
   ]
  },
  {
   "cell_type": "code",
   "execution_count": 16,
   "metadata": {},
   "outputs": [
    {
     "name": "stdout",
     "output_type": "stream",
     "text": [
      "Q-test [ 5.77541132  6.26423613  6.27953224  6.65092898  6.66056258  7.03740713\n",
      "  7.15537543 10.41896122 10.525338   10.92207534 10.93104969 14.7842745\n",
      " 14.82209625 19.34463052 20.6460851  22.25869134 27.45432147 28.00485117\n",
      " 32.28652898 40.45265342 48.47822656 54.56473319 54.56803375 55.11445688\n",
      " 55.30064637 55.38537765 56.8058516  58.55596756 60.71126702 61.68327268\n",
      " 61.71979604 62.04824649 62.55153895 63.27698227 63.27782453 63.44305631\n",
      " 63.58231439 64.52410609 64.73375559 64.73739792] \n",
      "\n",
      "p-value [1.62519161e-02 4.36252981e-02 9.87747034e-02 1.55525595e-01\n",
      " 2.47133024e-01 3.17401668e-01 4.12883655e-01 2.36842313e-01\n",
      " 3.09651341e-01 3.63621231e-01 4.49057711e-01 2.53446441e-01\n",
      " 3.18590240e-01 1.52194159e-01 1.48523184e-01 1.35033443e-01\n",
      " 5.17323299e-02 6.19814103e-02 2.90093364e-02 4.37665170e-03\n",
      " 5.91675171e-04 1.36906388e-04 2.23674863e-04 3.02110412e-04\n",
      " 4.49361426e-04 6.76957936e-04 6.80673227e-04 6.20720367e-04\n",
      " 5.03387561e-04 5.73107756e-04 8.42363450e-04 1.12657789e-03\n",
      " 1.42273433e-03 1.68150947e-03 2.37582346e-03 3.17869340e-03\n",
      " 4.23125288e-03 4.61160458e-03 5.93820130e-03 7.93028697e-03]\n"
     ]
    },
    {
     "name": "stderr",
     "output_type": "stream",
     "text": [
      "D:\\Anaconda\\lib\\site-packages\\statsmodels\\tsa\\stattools.py:572: FutureWarning: fft=True will become the default in a future version of statsmodels. To suppress this warning, explicitly set fft=False.\n",
      "  FutureWarning\n"
     ]
    }
   ],
   "source": [
    "# Q-test for all data\n",
    "data.Return.dropna(inplace=True)\n",
    "from statsmodels.tsa.stattools import acf, pacf\n",
    "q_test = sm.tsa.stattools.acf(data.Return, qstat=True) #свойство resid, хранит остатки модели \n",
    "                                                            #qstat=True, означает что применяем указынный тест к коэф-ам\n",
    "print ('Q-test',q_test[1],'\\n')\n",
    "print('p-value', q_test[2])"
   ]
  },
  {
   "cell_type": "code",
   "execution_count": 17,
   "metadata": {},
   "outputs": [
    {
     "name": "stdout",
     "output_type": "stream",
     "text": [
      "ADF Statistic:  -12.061273264696236\n",
      "p-value:  2.4661758434679565e-22\n",
      "Critical Values:\n",
      "\t 1% -3.4322742112538958\n",
      "\t 5% -2.8623902053483077\n",
      "\t 10% -2.567222580397986\n",
      "\n",
      " STATIONARY TIME SERIES\n"
     ]
    }
   ],
   "source": [
    "# Augmented Dickey-Fuller test fo stationary time series\n",
    "\n",
    "# Null hypothesis (H0): the time series has a unit root, meaning it is non-stationary\n",
    "# Alternate Hypothesis (H1): The null hypothesis is rejected; \n",
    "#                           it suggests the time series does not have a unit root, meaning it is stationary\n",
    "\n",
    "from statsmodels.tsa.stattools import adfuller\n",
    "data.Return.dropna(inplace=True)\n",
    "X = data['Return'].values\n",
    "result = adfuller(X)\n",
    "print('ADF Statistic: ', result[0])\n",
    "print('p-value: ', result[1])\n",
    "print('Critical Values:')\n",
    "for key, value in result[4].items():\n",
    "\tprint('\\t', key, value)\n",
    "\n",
    "for key, value in result[4].items():\n",
    "    if value>result[0]:\n",
    "        print ('\\n','STATIONARY TIME SERIES')\n",
    "        break\n",
    "    else:\n",
    "        print ('\\n','NON-STATIONARY TIME SERIES') "
   ]
  },
  {
   "cell_type": "markdown",
   "metadata": {},
   "source": [
    "We can see that our statistic value of -18 is less than the value of -3.451 at 1%.\n",
    "This suggests that we can reject the null hypothesis with a significance level of less than 1%\n",
    "Отказ от нулевой гипотезы означает, что процесс не имеет единичного корня и, в свою очередь, временной ряд является стационарным или не имеет временной структуры."
   ]
  },
  {
   "cell_type": "code",
   "execution_count": 18,
   "metadata": {},
   "outputs": [
    {
     "name": "stdout",
     "output_type": "stream",
     "text": [
      "KPSS Statistic:  0.06749459962971367\n",
      "p-value:  0.1\n",
      "Critical Values:\n",
      "\t 10% 0.119\n",
      "\t 5% 0.146\n",
      "\t 2.5% 0.176\n",
      "\t 1% 0.216\n"
     ]
    },
    {
     "name": "stderr",
     "output_type": "stream",
     "text": [
      "D:\\Anaconda\\lib\\site-packages\\statsmodels\\tsa\\stattools.py:1661: FutureWarning: The behavior of using lags=None will change in the next release. Currently lags=None is the same as lags='legacy', and so a sample-size lag length is used. After the next release, the default will change to be the same as lags='auto' which uses an automatic lag length selection method. To silence this warning, either use 'auto' or 'legacy'\n",
      "  warn(msg, FutureWarning)\n",
      "D:\\Anaconda\\lib\\site-packages\\statsmodels\\tsa\\stattools.py:1687: InterpolationWarning: p-value is greater than the indicated p-value\n",
      "  warn(\"p-value is greater than the indicated p-value\", InterpolationWarning)\n"
     ]
    }
   ],
   "source": [
    "# KPSS-test\n",
    "import statsmodels.tsa.stattools \n",
    "kpss_test = statsmodels.tsa.stattools.kpss(data.Return, regression='ct')\n",
    "print('KPSS Statistic: ', kpss_test[0])\n",
    "print('p-value: ', kpss_test[1])\n",
    "print('Critical Values:')\n",
    "for key, value in kpss_test[3].items():\n",
    "\tprint('\\t', key, value)"
   ]
  },
  {
   "cell_type": "code",
   "execution_count": 19,
   "metadata": {},
   "outputs": [
    {
     "data": {
      "image/png": "[encoded data removed]",
      "text/plain": [
       "<Figure size 432x288 with 1 Axes>"
      ]
     },
     "metadata": {
      "needs_background": "light"
     },
     "output_type": "display_data"
    },
    {
     "data": {
      "image/png": "[encoded data removed]",
      "text/plain": [
       "<Figure size 432x288 with 1 Axes>"
      ]
     },
     "metadata": {
      "needs_background": "light"
     },
     "output_type": "display_data"
    }
   ],
   "source": [
    "# ACF, PACF\n",
    "from statsmodels.tsa.stattools import acf,pacf\n",
    "from statsmodels.graphics.tsaplots import plot_acf, plot_pacf\n",
    "from matplotlib import pyplot\n",
    "\n",
    "plot_acf(data.Return, lags=10)\n",
    "plot_pacf(data.Return, lags=10)\n",
    "pyplot.show()"
   ]
  },
  {
   "cell_type": "code",
   "execution_count": 20,
   "metadata": {},
   "outputs": [
    {
     "name": "stderr",
     "output_type": "stream",
     "text": [
      "D:\\Anaconda\\lib\\site-packages\\statsmodels\\tsa\\base\\tsa_model.py:214: ValueWarning: An unsupported index was provided and will be ignored when e.g. forecasting.\n",
      "  ' ignored when e.g. forecasting.', ValueWarning)\n"
     ]
    },
    {
     "name": "stdout",
     "output_type": "stream",
     "text": [
      "                              ARMA Model Results                              \n",
      "==============================================================================\n",
      "Dep. Variable:                 Return   No. Observations:                 3423\n",
      "Model:                     ARMA(1, 1)   Log Likelihood               16371.301\n",
      "Method:                       css-mle   S.D. of innovations              0.002\n",
      "Date:                Tue, 05 May 2020   AIC                         -32734.602\n",
      "Time:                        19:00:44   BIC                         -32710.049\n",
      "Sample:                             0   HQIC                        -32725.830\n",
      "                                                                              \n",
      "================================================================================\n",
      "                   coef    std err          z      P>|z|      [0.025      0.975]\n",
      "--------------------------------------------------------------------------------\n",
      "const        -6.363e-05   3.32e-05     -1.915      0.056      -0.000    1.51e-06\n",
      "ar.L1.Return    -0.0205      0.448     -0.046      0.963      -0.898       0.857\n",
      "ma.L1.Return    -0.0205      0.443     -0.046      0.963      -0.889       0.847\n",
      "                                    Roots                                    \n",
      "=============================================================================\n",
      "                  Real          Imaginary           Modulus         Frequency\n",
      "-----------------------------------------------------------------------------\n",
      "AR.1          -48.7104           +0.0000j           48.7104            0.5000\n",
      "MA.1           48.7104           +0.0000j           48.7104            0.0000\n",
      "-----------------------------------------------------------------------------\n"
     ]
    },
    {
     "data": {
      "image/png": "[encoded data removed]",
      "text/plain": [
       "<Figure size 432x288 with 1 Axes>"
      ]
     },
     "metadata": {
      "needs_background": "light"
     },
     "output_type": "display_data"
    },
    {
     "data": {
      "image/png": "[encoded data removed]",
      "text/plain": [
       "<Figure size 432x288 with 1 Axes>"
      ]
     },
     "metadata": {
      "needs_background": "light"
     },
     "output_type": "display_data"
    },
    {
     "name": "stdout",
     "output_type": "stream",
     "text": [
      "count    3.423000e+03\n",
      "mean    -1.203328e-07\n",
      "std      2.026345e-03\n",
      "min     -4.684694e-02\n",
      "25%     -5.776964e-04\n",
      "50%      3.392473e-05\n",
      "75%      6.206500e-04\n",
      "max      3.368324e-02\n",
      "dtype: float64\n"
     ]
    }
   ],
   "source": [
    "# Оценка модели ARMA\n",
    "from statsmodels.tsa.arima_model import ARMA\n",
    "# fit model\n",
    "data.Return.dropna(inplace=True)\n",
    "model = ARMA(data.Return, order=(1,1))\n",
    "model_fit_arma = model.fit(disp=0)\n",
    "print(model_fit_arma.summary())\n",
    "# plot residual errors\n",
    "residuals = model_fit_arma.resid\n",
    "residuals.plot()\n",
    "pyplot.show()\n",
    "residuals.plot(kind='kde')\n",
    "pyplot.show()\n",
    "print(residuals.describe())\n"
   ]
  },
  {
   "cell_type": "code",
   "execution_count": 21,
   "metadata": {},
   "outputs": [
    {
     "name": "stderr",
     "output_type": "stream",
     "text": [
      "D:\\Anaconda\\lib\\site-packages\\statsmodels\\tsa\\base\\tsa_model.py:214: ValueWarning: An unsupported index was provided and will be ignored when e.g. forecasting.\n",
      "  ' ignored when e.g. forecasting.', ValueWarning)\n"
     ]
    },
    {
     "name": "stdout",
     "output_type": "stream",
     "text": [
      "AR: 1, MA: 1, AIC: -32736; resid stationarity check: 0\n"
     ]
    },
    {
     "name": "stderr",
     "output_type": "stream",
     "text": [
      "D:\\Anaconda\\lib\\site-packages\\statsmodels\\tsa\\base\\tsa_model.py:214: ValueWarning: An unsupported index was provided and will be ignored when e.g. forecasting.\n",
      "  ' ignored when e.g. forecasting.', ValueWarning)\n"
     ]
    },
    {
     "name": "stdout",
     "output_type": "stream",
     "text": [
      "AR: 1, MA: 2, AIC: -32736; resid stationarity check: 0\n"
     ]
    },
    {
     "name": "stderr",
     "output_type": "stream",
     "text": [
      "D:\\Anaconda\\lib\\site-packages\\statsmodels\\tsa\\base\\tsa_model.py:214: ValueWarning: An unsupported index was provided and will be ignored when e.g. forecasting.\n",
      "  ' ignored when e.g. forecasting.', ValueWarning)\n"
     ]
    },
    {
     "name": "stdout",
     "output_type": "stream",
     "text": [
      "AR: 1, MA: 3, AIC: -32736; resid stationarity check: 0\n"
     ]
    },
    {
     "name": "stderr",
     "output_type": "stream",
     "text": [
      "D:\\Anaconda\\lib\\site-packages\\statsmodels\\tsa\\base\\tsa_model.py:214: ValueWarning: An unsupported index was provided and will be ignored when e.g. forecasting.\n",
      "  ' ignored when e.g. forecasting.', ValueWarning)\n"
     ]
    },
    {
     "name": "stdout",
     "output_type": "stream",
     "text": [
      "AR: 1, MA: 4, AIC: -32736; resid stationarity check: 0\n"
     ]
    },
    {
     "name": "stderr",
     "output_type": "stream",
     "text": [
      "D:\\Anaconda\\lib\\site-packages\\statsmodels\\tsa\\base\\tsa_model.py:214: ValueWarning: An unsupported index was provided and will be ignored when e.g. forecasting.\n",
      "  ' ignored when e.g. forecasting.', ValueWarning)\n"
     ]
    },
    {
     "name": "stdout",
     "output_type": "stream",
     "text": [
      "AR: 1, MA: 5, AIC: -32736; resid stationarity check: 0\n"
     ]
    },
    {
     "name": "stderr",
     "output_type": "stream",
     "text": [
      "D:\\Anaconda\\lib\\site-packages\\statsmodels\\tsa\\base\\tsa_model.py:214: ValueWarning: An unsupported index was provided and will be ignored when e.g. forecasting.\n",
      "  ' ignored when e.g. forecasting.', ValueWarning)\n"
     ]
    },
    {
     "name": "stdout",
     "output_type": "stream",
     "text": [
      "AR: 2, MA: 1, AIC: -32735; resid stationarity check: 0\n"
     ]
    },
    {
     "name": "stderr",
     "output_type": "stream",
     "text": [
      "D:\\Anaconda\\lib\\site-packages\\statsmodels\\tsa\\base\\tsa_model.py:214: ValueWarning: An unsupported index was provided and will be ignored when e.g. forecasting.\n",
      "  ' ignored when e.g. forecasting.', ValueWarning)\n"
     ]
    },
    {
     "name": "stdout",
     "output_type": "stream",
     "text": [
      "AR: 2, MA: 2, AIC: -32735; resid stationarity check: 0\n"
     ]
    },
    {
     "name": "stderr",
     "output_type": "stream",
     "text": [
      "D:\\Anaconda\\lib\\site-packages\\statsmodels\\tsa\\base\\tsa_model.py:214: ValueWarning: An unsupported index was provided and will be ignored when e.g. forecasting.\n",
      "  ' ignored when e.g. forecasting.', ValueWarning)\n"
     ]
    },
    {
     "name": "stdout",
     "output_type": "stream",
     "text": [
      "AR: 2, MA: 3, AIC: -32735; resid stationarity check: 0\n"
     ]
    },
    {
     "name": "stderr",
     "output_type": "stream",
     "text": [
      "D:\\Anaconda\\lib\\site-packages\\statsmodels\\tsa\\base\\tsa_model.py:214: ValueWarning: An unsupported index was provided and will be ignored when e.g. forecasting.\n",
      "  ' ignored when e.g. forecasting.', ValueWarning)\n"
     ]
    },
    {
     "name": "stdout",
     "output_type": "stream",
     "text": [
      "AR: 2, MA: 4, AIC: -32735; resid stationarity check: 0\n"
     ]
    },
    {
     "name": "stderr",
     "output_type": "stream",
     "text": [
      "D:\\Anaconda\\lib\\site-packages\\statsmodels\\tsa\\base\\tsa_model.py:214: ValueWarning: An unsupported index was provided and will be ignored when e.g. forecasting.\n",
      "  ' ignored when e.g. forecasting.', ValueWarning)\n"
     ]
    },
    {
     "name": "stdout",
     "output_type": "stream",
     "text": [
      "AR: 2, MA: 5, AIC: -32735; resid stationarity check: 0\n"
     ]
    },
    {
     "name": "stderr",
     "output_type": "stream",
     "text": [
      "D:\\Anaconda\\lib\\site-packages\\statsmodels\\tsa\\base\\tsa_model.py:214: ValueWarning: An unsupported index was provided and will be ignored when e.g. forecasting.\n",
      "  ' ignored when e.g. forecasting.', ValueWarning)\n"
     ]
    },
    {
     "name": "stdout",
     "output_type": "stream",
     "text": [
      "AR: 3, MA: 1, AIC: -32733; resid stationarity check: 0\n"
     ]
    },
    {
     "name": "stderr",
     "output_type": "stream",
     "text": [
      "D:\\Anaconda\\lib\\site-packages\\statsmodels\\tsa\\base\\tsa_model.py:214: ValueWarning: An unsupported index was provided and will be ignored when e.g. forecasting.\n",
      "  ' ignored when e.g. forecasting.', ValueWarning)\n"
     ]
    },
    {
     "name": "stdout",
     "output_type": "stream",
     "text": [
      "AR: 3, MA: 2, AIC: -32733; resid stationarity check: 0\n"
     ]
    },
    {
     "name": "stderr",
     "output_type": "stream",
     "text": [
      "D:\\Anaconda\\lib\\site-packages\\statsmodels\\tsa\\base\\tsa_model.py:214: ValueWarning: An unsupported index was provided and will be ignored when e.g. forecasting.\n",
      "  ' ignored when e.g. forecasting.', ValueWarning)\n"
     ]
    },
    {
     "name": "stdout",
     "output_type": "stream",
     "text": [
      "AR: 3, MA: 3, AIC: -32733; resid stationarity check: 0\n"
     ]
    },
    {
     "name": "stderr",
     "output_type": "stream",
     "text": [
      "D:\\Anaconda\\lib\\site-packages\\statsmodels\\tsa\\base\\tsa_model.py:214: ValueWarning: An unsupported index was provided and will be ignored when e.g. forecasting.\n",
      "  ' ignored when e.g. forecasting.', ValueWarning)\n"
     ]
    },
    {
     "name": "stdout",
     "output_type": "stream",
     "text": [
      "AR: 3, MA: 4, AIC: -32733; resid stationarity check: 0\n"
     ]
    },
    {
     "name": "stderr",
     "output_type": "stream",
     "text": [
      "D:\\Anaconda\\lib\\site-packages\\statsmodels\\tsa\\base\\tsa_model.py:214: ValueWarning: An unsupported index was provided and will be ignored when e.g. forecasting.\n",
      "  ' ignored when e.g. forecasting.', ValueWarning)\n"
     ]
    },
    {
     "name": "stdout",
     "output_type": "stream",
     "text": [
      "AR: 3, MA: 5, AIC: -32733; resid stationarity check: 0\n"
     ]
    },
    {
     "name": "stderr",
     "output_type": "stream",
     "text": [
      "D:\\Anaconda\\lib\\site-packages\\statsmodels\\tsa\\base\\tsa_model.py:214: ValueWarning: An unsupported index was provided and will be ignored when e.g. forecasting.\n",
      "  ' ignored when e.g. forecasting.', ValueWarning)\n"
     ]
    },
    {
     "name": "stdout",
     "output_type": "stream",
     "text": [
      "AR: 4, MA: 1, AIC: -32731; resid stationarity check: 0\n"
     ]
    },
    {
     "name": "stderr",
     "output_type": "stream",
     "text": [
      "D:\\Anaconda\\lib\\site-packages\\statsmodels\\tsa\\base\\tsa_model.py:214: ValueWarning: An unsupported index was provided and will be ignored when e.g. forecasting.\n",
      "  ' ignored when e.g. forecasting.', ValueWarning)\n"
     ]
    },
    {
     "name": "stdout",
     "output_type": "stream",
     "text": [
      "AR: 4, MA: 2, AIC: -32731; resid stationarity check: 0\n"
     ]
    },
    {
     "name": "stderr",
     "output_type": "stream",
     "text": [
      "D:\\Anaconda\\lib\\site-packages\\statsmodels\\tsa\\base\\tsa_model.py:214: ValueWarning: An unsupported index was provided and will be ignored when e.g. forecasting.\n",
      "  ' ignored when e.g. forecasting.', ValueWarning)\n"
     ]
    },
    {
     "name": "stdout",
     "output_type": "stream",
     "text": [
      "AR: 4, MA: 3, AIC: -32731; resid stationarity check: 0\n"
     ]
    },
    {
     "name": "stderr",
     "output_type": "stream",
     "text": [
      "D:\\Anaconda\\lib\\site-packages\\statsmodels\\tsa\\base\\tsa_model.py:214: ValueWarning: An unsupported index was provided and will be ignored when e.g. forecasting.\n",
      "  ' ignored when e.g. forecasting.', ValueWarning)\n"
     ]
    },
    {
     "name": "stdout",
     "output_type": "stream",
     "text": [
      "AR: 4, MA: 4, AIC: -32731; resid stationarity check: 0\n"
     ]
    },
    {
     "name": "stderr",
     "output_type": "stream",
     "text": [
      "D:\\Anaconda\\lib\\site-packages\\statsmodels\\tsa\\base\\tsa_model.py:214: ValueWarning: An unsupported index was provided and will be ignored when e.g. forecasting.\n",
      "  ' ignored when e.g. forecasting.', ValueWarning)\n"
     ]
    },
    {
     "name": "stdout",
     "output_type": "stream",
     "text": [
      "AR: 4, MA: 5, AIC: -32731; resid stationarity check: 0\n"
     ]
    },
    {
     "name": "stderr",
     "output_type": "stream",
     "text": [
      "D:\\Anaconda\\lib\\site-packages\\statsmodels\\tsa\\base\\tsa_model.py:214: ValueWarning: An unsupported index was provided and will be ignored when e.g. forecasting.\n",
      "  ' ignored when e.g. forecasting.', ValueWarning)\n"
     ]
    },
    {
     "name": "stdout",
     "output_type": "stream",
     "text": [
      "AR: 5, MA: 1, AIC: -32729; resid stationarity check: 0\n"
     ]
    },
    {
     "name": "stderr",
     "output_type": "stream",
     "text": [
      "D:\\Anaconda\\lib\\site-packages\\statsmodels\\tsa\\base\\tsa_model.py:214: ValueWarning: An unsupported index was provided and will be ignored when e.g. forecasting.\n",
      "  ' ignored when e.g. forecasting.', ValueWarning)\n"
     ]
    },
    {
     "name": "stdout",
     "output_type": "stream",
     "text": [
      "AR: 5, MA: 2, AIC: -32729; resid stationarity check: 0\n"
     ]
    },
    {
     "name": "stderr",
     "output_type": "stream",
     "text": [
      "D:\\Anaconda\\lib\\site-packages\\statsmodels\\tsa\\base\\tsa_model.py:214: ValueWarning: An unsupported index was provided and will be ignored when e.g. forecasting.\n",
      "  ' ignored when e.g. forecasting.', ValueWarning)\n"
     ]
    },
    {
     "name": "stdout",
     "output_type": "stream",
     "text": [
      "AR: 5, MA: 3, AIC: -32729; resid stationarity check: 0\n"
     ]
    },
    {
     "name": "stderr",
     "output_type": "stream",
     "text": [
      "D:\\Anaconda\\lib\\site-packages\\statsmodels\\tsa\\base\\tsa_model.py:214: ValueWarning: An unsupported index was provided and will be ignored when e.g. forecasting.\n",
      "  ' ignored when e.g. forecasting.', ValueWarning)\n"
     ]
    },
    {
     "name": "stdout",
     "output_type": "stream",
     "text": [
      "AR: 5, MA: 4, AIC: -32729; resid stationarity check: 0\n"
     ]
    },
    {
     "name": "stderr",
     "output_type": "stream",
     "text": [
      "D:\\Anaconda\\lib\\site-packages\\statsmodels\\tsa\\base\\tsa_model.py:214: ValueWarning: An unsupported index was provided and will be ignored when e.g. forecasting.\n",
      "  ' ignored when e.g. forecasting.', ValueWarning)\n"
     ]
    },
    {
     "name": "stdout",
     "output_type": "stream",
     "text": [
      "AR: 5, MA: 5, AIC: -32729; resid stationarity check: 0\n",
      "the following function prints AIC criteria and finds the paramters for minimum AIC criteria\n",
      "best AR: 1, best MA: 1, best AIC: -32736;  resid stationarity check:0\n"
     ]
    }
   ],
   "source": [
    "# Creating ARMA(p,q)-model\n",
    "from statsmodels.tsa.stattools import ARMA\n",
    "def best_AR_MA_checker(df,lower,upper):\n",
    "    from statsmodels.tsa.stattools import ARMA\n",
    "    from statsmodels.tsa.stattools import adfuller\n",
    "    arg=np.arange(lower,upper)\n",
    "    arg1=np.arange(lower,upper)\n",
    "    best_param_i=0\n",
    "    best_param_j=0\n",
    "    temp=12000000\n",
    "    rs=99\n",
    "    for i in arg:\n",
    "        for j in arg1:\n",
    "            model=ARMA(df, order=(i,0,j))\n",
    "            result=model.fit(disp=0)\n",
    "            resid=adfuller(result.resid)\n",
    "            if (result.aic<temp):\n",
    "                temp=result.aic\n",
    "                best_param_i=i\n",
    "                best_param_j=j\n",
    "                rs=resid[1]\n",
    "                \n",
    "                \n",
    "            print (\"AR: %d, MA: %d, AIC: %d; resid stationarity check: %d\"%(i,j,result.aic,resid[1]))\n",
    "            \n",
    "    print(\"the following function prints AIC criteria and finds the paramters for minimum AIC criteria\")        \n",
    "    print(\"best AR: %d, best MA: %d, best AIC: %d;  resid stationarity check:%d\"%(best_param_i, best_param_j, temp, rs))     \n",
    "best_AR_MA_checker(data['Return'],1,6)"
   ]
  },
  {
   "cell_type": "code",
   "execution_count": 22,
   "metadata": {
    "scrolled": true
   },
   "outputs": [
    {
     "name": "stdout",
     "output_type": "stream",
     "text": [
      "     Phillips-Perron Test (Z-tau)    \n",
      "=====================================\n",
      "Test Statistic                -61.083\n",
      "P-value                         0.000\n",
      "Lags                               30\n",
      "-------------------------------------\n",
      "\n",
      "Trend: Constant\n",
      "Critical Values: -3.43 (1%), -2.86 (5%), -2.57 (10%)\n",
      "Null Hypothesis: The process contains a unit root.\n",
      "Alternative Hypothesis: The process is weakly stationary. \n",
      "\n",
      "     Phillips-Perron Test (Z-tau)    \n",
      "=====================================\n",
      "Test Statistic                -58.736\n",
      "P-value                         0.000\n",
      "Lags                               30\n",
      "-------------------------------------\n",
      "\n",
      "Trend: Constant\n",
      "Critical Values: -3.43 (1%), -2.86 (5%), -2.57 (10%)\n",
      "Null Hypothesis: The process contains a unit root.\n",
      "Alternative Hypothesis: The process is weakly stationary.\n"
     ]
    }
   ],
   "source": [
    "# тест Филлипса-Перрона\n",
    "data['err'] = pd.Series(residuals)\n",
    "import arch\n",
    "import arch.unitroot\n",
    "from arch.unitroot import PhillipsPerron\n",
    "data.Return.dropna(inplace=True)\n",
    "data.err.dropna(inplace=True)\n",
    "pp1 = PhillipsPerron(data.Return)\n",
    "pp2 = PhillipsPerron(data.err)\n",
    "print(pp1.summary().as_text(), '\\n')\n",
    "print(pp2.summary().as_text())"
   ]
  },
  {
   "cell_type": "code",
   "execution_count": 23,
   "metadata": {
    "scrolled": true
   },
   "outputs": [
    {
     "name": "stdout",
     "output_type": "stream",
     "text": [
      "Q-test [6.06119731e-04 4.19766476e-01 4.24810797e-01 7.98716649e-01\n",
      " 8.20777319e-01 1.19030036e+00 1.25038496e+00 4.43908524e+00\n",
      " 4.49070430e+00 4.87803219e+00 4.87963333e+00 8.76603917e+00\n",
      " 8.80177623e+00 1.31122784e+01 1.43397176e+01 1.58400298e+01\n",
      " 2.09741335e+01 2.18205536e+01 2.57944438e+01 3.29064633e+01\n",
      " 3.97967523e+01 4.53793485e+01 4.53952296e+01 4.59657255e+01\n",
      " 4.61907803e+01 4.62596139e+01 4.75315938e+01 4.93224522e+01\n",
      " 5.15303936e+01 5.24060093e+01 5.24710441e+01 5.28458509e+01\n",
      " 5.33366099e+01 5.40158116e+01 5.40163119e+01 5.41941664e+01\n",
      " 5.43179320e+01 5.52001852e+01 5.53768267e+01 5.53771994e+01] \n",
      "\n",
      "p-value [0.98035847 0.8106789  0.9350708  0.93862003 0.97568921 0.9773611\n",
      " 0.98972015 0.81549605 0.87625768 0.89917514 0.93685529 0.72277324\n",
      " 0.78774423 0.51770238 0.49993582 0.46418033 0.22744945 0.24004953\n",
      " 0.13601926 0.03454669 0.00787146 0.00237477 0.00355407 0.00446919\n",
      " 0.00609864 0.00853104 0.00865664 0.00768955 0.00614686 0.00688405\n",
      " 0.00934788 0.01163357 0.01396591 0.01595267 0.02100907 0.02630461\n",
      " 0.03294888 0.03518903 0.04294827 0.05363783]\n"
     ]
    },
    {
     "name": "stderr",
     "output_type": "stream",
     "text": [
      "D:\\Anaconda\\lib\\site-packages\\statsmodels\\tsa\\stattools.py:572: FutureWarning: fft=True will become the default in a future version of statsmodels. To suppress this warning, explicitly set fft=False.\n",
      "  FutureWarning\n"
     ]
    }
   ],
   "source": [
    "# Q-test for residualsall data\n",
    "data.Return.dropna(inplace=True)\n",
    "from statsmodels.tsa.stattools import acf, pacf\n",
    "q_test = sm.tsa.stattools.acf(residuals, qstat=True) \n",
    "print ('Q-test',q_test[1],'\\n')\n",
    "print('p-value', q_test[2])"
   ]
  },
  {
   "cell_type": "code",
   "execution_count": 24,
   "metadata": {},
   "outputs": [
    {
     "ename": "NameError",
     "evalue": "name 'model_fit' is not defined",
     "output_type": "error",
     "traceback": [
      "\u001b[1;31m---------------------------------------------------------------------------\u001b[0m",
      "\u001b[1;31mNameError\u001b[0m                                 Traceback (most recent call last)",
      "\u001b[1;32m<ipython-input-24-7c9ab0958568>\u001b[0m in \u001b[0;36m<module>\u001b[1;34m\u001b[0m\n\u001b[0;32m      1\u001b[0m \u001b[1;32mfrom\u001b[0m \u001b[0mstatsmodels\u001b[0m\u001b[1;33m.\u001b[0m\u001b[0mstats\u001b[0m\u001b[1;33m.\u001b[0m\u001b[0mdiagnostic\u001b[0m \u001b[1;32mimport\u001b[0m \u001b[0mhet_breuschpagan\u001b[0m\u001b[1;33m\u001b[0m\u001b[1;33m\u001b[0m\u001b[0m\n\u001b[1;32m----> 2\u001b[1;33m \u001b[0mh\u001b[0m \u001b[1;33m=\u001b[0m \u001b[0mhet_breuschpagan\u001b[0m\u001b[1;33m(\u001b[0m\u001b[0mmodel_fit\u001b[0m\u001b[1;33m.\u001b[0m\u001b[0mresid\u001b[0m\u001b[1;33m,\u001b[0m \u001b[0mmodel_fit\u001b[0m\u001b[1;33m.\u001b[0m\u001b[0mparams\u001b[0m\u001b[1;33m)\u001b[0m\u001b[1;33m\u001b[0m\u001b[1;33m\u001b[0m\u001b[0m\n\u001b[0m\u001b[0;32m      3\u001b[0m \u001b[0mprint\u001b[0m\u001b[1;33m(\u001b[0m\u001b[0mh\u001b[0m\u001b[1;33m)\u001b[0m\u001b[1;33m\u001b[0m\u001b[1;33m\u001b[0m\u001b[0m\n",
      "\u001b[1;31mNameError\u001b[0m: name 'model_fit' is not defined"
     ]
    }
   ],
   "source": [
    "from statsmodels.stats.diagnostic import het_breuschpagan\n",
    "h = het_breuschpagan(model_fit.resid, model_fit.params)\n",
    "print(h)"
   ]
  },
  {
   "cell_type": "code",
   "execution_count": 25,
   "metadata": {
    "scrolled": true
   },
   "outputs": [
    {
     "name": "stdout",
     "output_type": "stream",
     "text": [
      "Inequality constraints incompatible    (Exit mode 4)\n",
      "            Current function value: -16907.462949230612\n",
      "            Iterations: 1\n",
      "            Function evaluations: 6\n",
      "            Gradient evaluations: 1\n",
      "                           AR - GARCH Model Results                           \n",
      "==============================================================================\n",
      "Dep. Variable:                 Return   R-squared:                       0.000\n",
      "Mean Model:                        AR   Adj. R-squared:                  0.000\n",
      "Vol Model:                      GARCH   Log-Likelihood:                16907.5\n",
      "Distribution:                  Normal   AIC:                          -33806.9\n",
      "Method:            Maximum Likelihood   BIC:                          -33782.4\n",
      "                                        No. Observations:                 3423\n",
      "Date:                Tue, May 05 2020   Df Residuals:                     3419\n",
      "Time:                        19:02:04   Df Model:                            4\n",
      "                                   Mean Model                                  \n",
      "===============================================================================\n",
      "                  coef    std err          t      P>|t|        95.0% Conf. Int.\n",
      "-------------------------------------------------------------------------------\n",
      "Const      -6.3743e-05  3.725e-06    -17.111  1.239e-65 [-7.104e-05,-5.644e-05]\n",
      "                              Volatility Model                              \n",
      "============================================================================\n",
      "                 coef    std err          t      P>|t|      95.0% Conf. Int.\n",
      "----------------------------------------------------------------------------\n",
      "omega      8.2235e-08  1.640e-10    501.489      0.000 [8.191e-08,8.256e-08]\n",
      "alpha[1]       0.1000  1.703e-02      5.873  4.289e-09   [6.663e-02,  0.133]\n",
      "beta[1]        0.8800  2.262e-02     38.901      0.000     [  0.836,  0.924]\n",
      "============================================================================\n",
      "\n",
      "Covariance estimator: robust\n",
      "WARNING: The optimizer did not indicate successful convergence. The message was Inequality constraints incompatible.\n",
      "See convergence_flag.\n",
      "\n"
     ]
    },
    {
     "name": "stderr",
     "output_type": "stream",
     "text": [
      "D:\\Anaconda\\lib\\site-packages\\arch\\univariate\\base.py:293: DataScaleWarning: y is poorly scaled, which may affect convergence of the optimizer when\n",
      "estimating the model parameters. The scale of y is 4.112e-06. Parameter\n",
      "estimation work better when this value is between 1 and 1000. The recommended\n",
      "rescaling is 1000 * y.\n",
      "\n",
      "This warning can be disabled by either rescaling y before initializing the\n",
      "model or by setting rescale=False.\n",
      "\n",
      "  data_scale_warning.format(orig_scale, rescale), DataScaleWarning\n",
      "D:\\Anaconda\\lib\\site-packages\\arch\\univariate\\base.py:711: ConvergenceWarning: The optimizer returned code 4. The message is:\n",
      "Inequality constraints incompatible\n",
      "See scipy.optimize.fmin_slsqp for code meaning.\n",
      "\n",
      "  ConvergenceWarning,\n"
     ]
    }
   ],
   "source": [
    "# GARCH estimating\n",
    "from arch import arch_model\n",
    "\n",
    "am = arch_model(data.Return, mean='AR', p=1, q=1)\n",
    "res = am.fit(update_freq=5)\n",
    "print(res.summary())"
   ]
  },
  {
   "cell_type": "code",
   "execution_count": 26,
   "metadata": {
    "scrolled": true
   },
   "outputs": [
    {
     "name": "stderr",
     "output_type": "stream",
     "text": [
      "D:\\Anaconda\\lib\\site-packages\\statsmodels\\tsa\\base\\tsa_model.py:214: ValueWarning: An unsupported index was provided and will be ignored when e.g. forecasting.\n",
      "  ' ignored when e.g. forecasting.', ValueWarning)\n"
     ]
    },
    {
     "name": "stdout",
     "output_type": "stream",
     "text": [
      "Q-test statistic:  [ 0.13538012  3.47512552  3.47969466  3.53541128  3.59539512  4.16181111\n",
      "  4.20825592  4.48471067  5.89060032  5.89060072 10.32378822 11.73870543\n",
      " 11.93846864 11.99586999 12.01234836 12.25491055 13.69820341 13.88841731\n",
      " 13.98845317 14.19118493 14.5312779  14.59729008 14.66054717 14.98956312\n",
      " 14.99996115 15.34730656 15.34755926 15.47930308 16.16419008 16.62981102\n",
      " 16.63060726 16.63863616 16.97224098 17.00937392 17.01022392 17.21707497\n",
      " 17.21713828 17.21883706 17.24347917 17.43748313]\n",
      "p-value:  [0.71291769 0.17594871 0.32340522 0.47251445 0.60900483 0.65478937\n",
      " 0.7555023  0.8109608  0.75081561 0.82436919 0.50151883 0.46688624\n",
      " 0.5326958  0.60663447 0.67809414 0.72625368 0.68833788 0.73633567\n",
      " 0.78436401 0.82067157 0.84571594 0.87893314 0.9063856  0.92106371\n",
      " 0.94138348 0.95064728 0.96426983 0.97291937 0.97362866 0.97675419\n",
      " 0.98353741 0.98845776 0.99051038 0.99335338 0.99548972 0.99658393\n",
      " 0.99772705 0.99850421 0.99901206 0.99927412]\n"
     ]
    },
    {
     "name": "stderr",
     "output_type": "stream",
     "text": [
      "D:\\Anaconda\\lib\\site-packages\\statsmodels\\stats\\diagnostic.py:496: FutureWarning: The default value of lags is changing.  After 0.12, this value will become min(10, nobs//5). Directly setlags to silence this warning.\n",
      "  \"lags to silence this warning.\", FutureWarning)\n",
      "D:\\Anaconda\\lib\\site-packages\\statsmodels\\stats\\diagnostic.py:524: FutureWarning: The value returned will change to a single DataFrame after 0.12 is released.  Set return_df to True to use to return a DataFrame now.  Set return_df to False to silence this warning.\n",
      "  warnings.warn(msg, FutureWarning)\n"
     ]
    }
   ],
   "source": [
    "# Ljung–Box test and Box-Pierce test for the residuals of a fitted ARMA-model\n",
    "from  matplotlib import pylab\n",
    "\n",
    "final_model=ARMA(data['Return'], order=(1,0,1))\n",
    "result=final_model.fit(disp=0)\n",
    "resid=adfuller(result.resid)\n",
    "\n",
    "from statsmodels.stats.diagnostic import acorr_ljungbox\n",
    "\n",
    "lbvalue, lbpvalue, bpvalue, bppvalue=acorr_ljungbox(np.square(result.resid), boxpierce=True)\n",
    "print ('Q-test statistic: ',lbvalue)\n",
    "print ('p-value: ',lbpvalue) \n",
    "#lbvalue, lbpvalue, bpvalue, bppvalue = diagnostic.acorr_ljungbox(np.square(residuals), boxpierce=True)\n",
    "\n",
    "# pylab.plot(lbvalue, label=\"Ljung-Box\") # Ljung-Box test  p-values (better for small smaples)\n",
    "# pylab.plot(bpvalue, label=\"Box-Pierce\") # Box-Pierce test p-values (better for larger samples)\n",
    "# pylab.axhline(0.05, color=\"r\")\n",
    "# pylab.legend()"
   ]
  },
  {
   "cell_type": "code",
   "execution_count": 28,
   "metadata": {},
   "outputs": [
    {
     "name": "stdout",
     "output_type": "stream",
     "text": [
      "Ks_2sampResult(statistic=0.4599883177570093, pvalue=0.0)\n"
     ]
    }
   ],
   "source": [
    "# Kolmogorov\n",
    "from scipy.stats import ks_2samp \n",
    "import numpy as np \n",
    "x = data.Return\n",
    "y = -(data.Return-residuals)\n",
    "result = ks_2samp(x, y)\n",
    "print(result)"
   ]
  },
  {
   "cell_type": "code",
   "execution_count": 29,
   "metadata": {},
   "outputs": [
    {
     "name": "stdout",
     "output_type": "stream",
     "text": [
      "p = 0\n",
      "The null hypothesis can be rejected\n"
     ]
    }
   ],
   "source": [
    "# тест на нормальность остатков\n",
    "from scipy import stats\n",
    "e = model_fit_arma.resid\n",
    "k2, p = stats.normaltest(e)\n",
    "print(k2, p)\n",
    "# alpha = 1e-3\n",
    "# print(\"p = {:g}\".format(p))\n",
    "# p = 3.27207e-11\n",
    "# if p < alpha:  # null hypothesis: x comes from a normal distribution\n",
    "#     print(\"The null hypothesis can be rejected\")\n",
    "# else:\n",
    "#     print(\"The null hypothesis cannot be rejected\")"
   ]
  },
  {
   "cell_type": "code",
   "execution_count": 61,
   "metadata": {},
   "outputs": [
    {
     "data": {
      "image/png": "[encoded data removed]",
      "text/plain": [
       "<Figure size 432x288 with 1 Axes>"
      ]
     },
     "metadata": {
      "needs_background": "light"
     },
     "output_type": "display_data"
    },
    {
     "name": "stdout",
     "output_type": "stream",
     "text": [
      "1       0.993666\n",
      "2      -1.685352\n",
      "3       1.062408\n",
      "4       0.866812\n",
      "5       1.082597\n",
      "          ...   \n",
      "3419    0.887347\n",
      "3420    1.206265\n",
      "3421    0.945189\n",
      "3422    0.295284\n",
      "3423    1.125610\n",
      "Length: 3423, dtype: float64\n",
      "1       1.0\n",
      "2      -1.0\n",
      "3       1.0\n",
      "4       1.0\n",
      "5       1.0\n",
      "       ... \n",
      "3419    1.0\n",
      "3420    1.0\n",
      "3421    1.0\n",
      "3422    1.0\n",
      "3423    1.0\n",
      "Length: 3423, dtype: float64\n"
     ]
    }
   ],
   "source": [
    "# z\n",
    "e = model_fit_arma.resid\n",
    "nu = am.y\n",
    "z = e/nu\n",
    "z.plot()\n",
    "pyplot.show()\n",
    "print(z)\n",
    "print(np.sign(z))"
   ]
  },
  {
   "cell_type": "code",
   "execution_count": 74,
   "metadata": {},
   "outputs": [
    {
     "name": "stdout",
     "output_type": "stream",
     "text": [
      "<class 'numpy.float64'>\n",
      "            data\n",
      "0     02.01.2001\n",
      "1     03.01.2001\n",
      "2     04.01.2001\n",
      "3     05.01.2001\n",
      "4     06.01.2001\n",
      "...          ...\n",
      "3418  13.05.2010\n",
      "3419  14.05.2010\n",
      "3420  15.05.2010\n",
      "3421  16.05.2010\n",
      "3422  17.05.2010\n",
      "\n",
      "[3423 rows x 1 columns]\n",
      "               0         1\n",
      "0     02.01.2001  0.000000\n",
      "1     03.01.2001  0.993666\n",
      "2     04.01.2001 -1.685352\n",
      "3     05.01.2001  1.062408\n",
      "4     06.01.2001  0.866812\n",
      "...          ...       ...\n",
      "3418  13.05.2010  0.547841\n",
      "3419  14.05.2010  0.887347\n",
      "3420  15.05.2010  1.206265\n",
      "3421  16.05.2010  0.945189\n",
      "3422  17.05.2010  0.295284\n",
      "\n",
      "[3423 rows x 2 columns]\n"
     ]
    }
   ],
   "source": [
    "z[0]=0\n",
    "z = pd.Series(z)\n",
    "print(type(z[0]))\n",
    "dat=pd.read_csv('datas.csv', sep=';', header=0, names=['data'])\n",
    "print(dat)\n",
    "resultF = pd.DataFrame()\n",
    "datas = dat['data']\n",
    "resultF[0]=datas\n",
    "resultF[1]=z\n",
    "print(resultF)\n",
    "resultF.to_csv('t.csv', header=['0','1'], index=False, encoding = 'utf-8', sep=';')"
   ]
  },
  {
   "cell_type": "code",
   "execution_count": null,
   "metadata": {},
   "outputs": [],
   "source": [
    "import pandas as pd\n",
    "from pandas import Series\n",
    "from pandas import concat\n",
    "from pandas import read_csv\n",
    "from pandas import datetime\n",
    "from sklearn.metrics import mean_squared_error\n",
    "from sklearn.preprocessing import MinMaxScaler\n",
    "from keras.models import Sequential\n",
    "from keras.layers import Dense\n",
    "from keras.layers import LSTM\n",
    "from math import sqrt\n",
    "from matplotlib import pyplot\n",
    "import numpy\n",
    " \n",
    "# date-time parsing function for loading the dataset\n",
    "def parser(x):\n",
    "\treturn datetime.strptime(x, \"%d.%m.%Y\")\n",
    " \n",
    "# frame a sequence as a supervised learning problem\n",
    "def timeseries_to_supervised(data, lag=1):\n",
    "\tdf = pd.DataFrame(data)\n",
    "\tcolumns = [df.shift(i) for i in range(1, lag+1)]\n",
    "\tcolumns.append(df)\n",
    "\tdf = concat(columns, axis=1)\n",
    "\tdf.fillna(0, inplace=True)\n",
    "\treturn df\n",
    " \n",
    "# create a differenced series\n",
    "def difference(dataset, interval=1):\n",
    "\tdiff = list()\n",
    "\tfor i in range(interval, len(dataset)):\n",
    "\t\tvalue = dataset[i] - dataset[i - interval]\n",
    "\t\tdiff.append(value)\n",
    "\treturn Series(diff)\n",
    " \n",
    "# invert differenced value\n",
    "def inverse_difference(history, yhat, interval=1):\n",
    "\treturn yhat + history[-interval]\n",
    " \n",
    "# scale train and test data to [-1, 1]\n",
    "def scale(train, test):\n",
    "\t# fit scaler\n",
    "\tscaler = MinMaxScaler(feature_range=(-1, 1))\n",
    "\tscaler = scaler.fit(train)\n",
    "\t# transform train\n",
    "\ttrain = train.reshape(train.shape[0], train.shape[1])\n",
    "\ttrain_scaled = scaler.transform(train)\n",
    "\t# transform test\n",
    "\ttest = test.reshape(test.shape[0], test.shape[1])\n",
    "\ttest_scaled = scaler.transform(test)\n",
    "\treturn scaler, train_scaled, test_scaled\n",
    " \n",
    "# inverse scaling for a forecasted value\n",
    "def invert_scale(scaler, X, value):\n",
    "\tnew_row = [x for x in X] + [value]\n",
    "\tarray = numpy.array(new_row)\n",
    "\tarray = array.reshape(1, len(array))\n",
    "\tinverted = scaler.inverse_transform(array)\n",
    "\treturn inverted[0, -1]\n",
    " \n",
    "# fit an LSTM network to training data\n",
    "def fit_lstm(train, batch_size, nb_epoch, neurons):\n",
    "\tX, y = train[:, 0:-1], train[:, -1]\n",
    "\tX = X.reshape(X.shape[0], 1, X.shape[1])\n",
    "\tmodel = Sequential()\n",
    "\tmodel.add(LSTM(neurons, batch_input_shape=(batch_size, X.shape[1], X.shape[2]), stateful=True))\n",
    "\tmodel.add(Dense(1))\n",
    "\tmodel.compile(loss='mean_squared_error', optimizer='adam')\n",
    "\tfor i in range(nb_epoch):\n",
    "\t\tmodel.fit(X, y, epochs=1, batch_size=batch_size, verbose=0, shuffle=False)\n",
    "\t\tmodel.reset_states()\n",
    "\treturn model\n",
    " \n",
    "# make a one-step forecast\n",
    "def forecast_lstm(model, batch_size, X):\n",
    "\tX = X.reshape(1, 1, len(X))\n",
    "\tyhat = model.predict(X, batch_size=batch_size)\n",
    "\treturn yhat[0,0]\n",
    " \n",
    "# load dataset\n",
    "series = read_csv('t1.csv',sep=';', header=0, parse_dates=[0], index_col=0, squeeze=True, date_parser=parser)\n",
    "print(series)\n",
    " \n",
    "# transform data to be stationary\n",
    "raw_values = series.values\n",
    "diff_values = difference(raw_values, 1)\n",
    " \n",
    "# transform data to be supervised learning\n",
    "supervised = timeseries_to_supervised(diff_values, 1)\n",
    "supervised_values = supervised.values\n",
    "print('s^^^', supervised_values)\n",
    " \n",
    "# split data into train and test-sets\n",
    "train, test = supervised_values[0:-12], supervised_values[-12:]\n",
    "print(train)\n",
    " \n",
    "# transform the scale of the data\n",
    "scaler, train_scaled, test_scaled = scale(train, test)\n",
    " \n",
    "# fit the model\n",
    "lstm_model = fit_lstm(train_scaled, 1, 38, 7)\n",
    "# forecast the entire training dataset to build up state for forecasting\n",
    "train_reshaped = train_scaled[:, 0].reshape(len(train_scaled), 1, 1)\n",
    "lstm_model.predict(train_reshaped, batch_size=1)\n",
    " \n",
    "# walk-forward validation on the test data\n",
    "predictions = list()\n",
    "for i in range(len(test_scaled)):\n",
    "\t# make one-step forecast\n",
    "\tX, y = test_scaled[i, 0:-1], test_scaled[i, -1]\n",
    "\tyhat = forecast_lstm(lstm_model, 1, X)\n",
    "\t# invert scaling\n",
    "\tyhat = invert_scale(scaler, X, yhat)\n",
    "\t# invert differencing\n",
    "\tyhat = inverse_difference(raw_values, yhat, len(test_scaled)+1-i)\n",
    "\t# store forecast\n",
    "\tpredictions.append(yhat)\n",
    "\texpected = raw_values[len(train) + i + 1]\n",
    "\tprint('Period=%d, Predicted=%f, Expected=%f' % (i+1, yhat, expected))\n",
    " \n",
    "# report performance\n",
    "rmse = sqrt(mean_squared_error(raw_values[-12:], predictions))\n",
    "print('Test RMSE: %.3f' % rmse)\n",
    "# line plot of observed vs predicted\n",
    "pyplot.plot(raw_values[-12:])\n",
    "pyplot.plot(predictions)\n",
    "pyplot.show()"
   ]
  }
 ],
 "metadata": {
  "kernelspec": {
   "display_name": "Python 3",
   "language": "python",
   "name": "python3"
  },
  "language_info": {
   "codemirror_mode": {
    "name": "ipython",
    "version": 3
   },
   "file_extension": ".py",
   "mimetype": "text/x-python",
   "name": "python",
   "nbconvert_exporter": "python",
   "pygments_lexer": "ipython3",
   "version": "3.7.6"
  }
 },
 "nbformat": 4,
 "nbformat_minor": 4
}
