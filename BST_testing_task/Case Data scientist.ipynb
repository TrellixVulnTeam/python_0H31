{
 "cells": [
  {
   "cell_type": "markdown",
   "metadata": {},
   "source": [
    "#Кейс\n",
    "- оценить модель\n",
    "- предсказать будущие значения "
   ]
  },
  {
   "cell_type": "code",
   "execution_count": 32,
   "metadata": {},
   "outputs": [],
   "source": [
    "import numpy as np\n",
    "import pandas as pd\n",
    "import matplotlib.pyplot as plt\n",
    "import seaborn as sns"
   ]
  },
  {
   "cell_type": "code",
   "execution_count": 2,
   "metadata": {},
   "outputs": [
    {
     "data": {
      "text/html": [
       "<div>\n",
       "<style scoped>\n",
       "    .dataframe tbody tr th:only-of-type {\n",
       "        vertical-align: middle;\n",
       "    }\n",
       "\n",
       "    .dataframe tbody tr th {\n",
       "        vertical-align: top;\n",
       "    }\n",
       "\n",
       "    .dataframe thead th {\n",
       "        text-align: right;\n",
       "    }\n",
       "</style>\n",
       "<table border=\"1\" class=\"dataframe\">\n",
       "  <thead>\n",
       "    <tr style=\"text-align: right;\">\n",
       "      <th></th>\n",
       "      <th>Unnamed: 0</th>\n",
       "      <th>Прирост вкладов физических лиц в рублях (млн руб)</th>\n",
       "      <th>Доходность ОФЗ по сроку до 1 года</th>\n",
       "      <th>Ключевая ставка</th>\n",
       "      <th>Ставка по вкладам в долларах до 1 года</th>\n",
       "      <th>Ставка по вкладам в рублях до 1 года</th>\n",
       "      <th>Нефть марки Юралс, долл./барр</th>\n",
       "      <th>Индекс потребительских цен, ед.</th>\n",
       "      <th>М0, руб</th>\n",
       "      <th>М2, руб</th>\n",
       "      <th>Курс доллара к рублю, руб</th>\n",
       "      <th>Номинальная средняя з/п, руб</th>\n",
       "    </tr>\n",
       "  </thead>\n",
       "  <tbody>\n",
       "    <tr>\n",
       "      <th>0</th>\n",
       "      <td>2011-01-01</td>\n",
       "      <td>-79049.0</td>\n",
       "      <td>5.244667</td>\n",
       "      <td>7.75</td>\n",
       "      <td>2.9</td>\n",
       "      <td>4.5</td>\n",
       "      <td>96.29</td>\n",
       "      <td>106.17151</td>\n",
       "      <td>5532900.0</td>\n",
       "      <td>19307.7</td>\n",
       "      <td>30.08</td>\n",
       "      <td>20669</td>\n",
       "    </tr>\n",
       "    <tr>\n",
       "      <th>1</th>\n",
       "      <td>2011-02-01</td>\n",
       "      <td>180475.0</td>\n",
       "      <td>5.144211</td>\n",
       "      <td>8.00</td>\n",
       "      <td>3.1</td>\n",
       "      <td>4.4</td>\n",
       "      <td>103.96</td>\n",
       "      <td>106.99964</td>\n",
       "      <td>5613700.0</td>\n",
       "      <td>19536.7</td>\n",
       "      <td>29.29</td>\n",
       "      <td>20680</td>\n",
       "    </tr>\n",
       "    <tr>\n",
       "      <th>2</th>\n",
       "      <td>2011-03-01</td>\n",
       "      <td>106845.0</td>\n",
       "      <td>5.021364</td>\n",
       "      <td>8.00</td>\n",
       "      <td>3.1</td>\n",
       "      <td>4.2</td>\n",
       "      <td>114.44</td>\n",
       "      <td>107.66304</td>\n",
       "      <td>5647000.0</td>\n",
       "      <td>19788.7</td>\n",
       "      <td>28.43</td>\n",
       "      <td>22673</td>\n",
       "    </tr>\n",
       "    <tr>\n",
       "      <th>3</th>\n",
       "      <td>2011-04-01</td>\n",
       "      <td>224890.0</td>\n",
       "      <td>4.558571</td>\n",
       "      <td>8.00</td>\n",
       "      <td>2.6</td>\n",
       "      <td>4.1</td>\n",
       "      <td>123.15</td>\n",
       "      <td>108.12599</td>\n",
       "      <td>5863400.0</td>\n",
       "      <td>20020.8</td>\n",
       "      <td>28.10</td>\n",
       "      <td>22519</td>\n",
       "    </tr>\n",
       "    <tr>\n",
       "      <th>4</th>\n",
       "      <td>2011-05-01</td>\n",
       "      <td>45856.0</td>\n",
       "      <td>4.795000</td>\n",
       "      <td>8.25</td>\n",
       "      <td>2.6</td>\n",
       "      <td>4.1</td>\n",
       "      <td>114.46</td>\n",
       "      <td>108.64500</td>\n",
       "      <td>5893400.0</td>\n",
       "      <td>20160.9</td>\n",
       "      <td>27.87</td>\n",
       "      <td>22779</td>\n",
       "    </tr>\n",
       "  </tbody>\n",
       "</table>\n",
       "</div>"
      ],
      "text/plain": [
       "  Unnamed: 0  Прирост вкладов физических лиц в рублях (млн руб)  \\\n",
       "0 2011-01-01                                           -79049.0   \n",
       "1 2011-02-01                                           180475.0   \n",
       "2 2011-03-01                                           106845.0   \n",
       "3 2011-04-01                                           224890.0   \n",
       "4 2011-05-01                                            45856.0   \n",
       "\n",
       "   Доходность ОФЗ по сроку до 1 года  Ключевая ставка  \\\n",
       "0                           5.244667             7.75   \n",
       "1                           5.144211             8.00   \n",
       "2                           5.021364             8.00   \n",
       "3                           4.558571             8.00   \n",
       "4                           4.795000             8.25   \n",
       "\n",
       "   Ставка по вкладам в долларах до 1 года  \\\n",
       "0                                     2.9   \n",
       "1                                     3.1   \n",
       "2                                     3.1   \n",
       "3                                     2.6   \n",
       "4                                     2.6   \n",
       "\n",
       "   Ставка по вкладам в рублях до 1 года  Нефть марки Юралс, долл./барр  \\\n",
       "0                                   4.5                          96.29   \n",
       "1                                   4.4                         103.96   \n",
       "2                                   4.2                         114.44   \n",
       "3                                   4.1                         123.15   \n",
       "4                                   4.1                         114.46   \n",
       "\n",
       "   Индекс потребительских цен, ед.    М0, руб  М2, руб  \\\n",
       "0                        106.17151  5532900.0  19307.7   \n",
       "1                        106.99964  5613700.0  19536.7   \n",
       "2                        107.66304  5647000.0  19788.7   \n",
       "3                        108.12599  5863400.0  20020.8   \n",
       "4                        108.64500  5893400.0  20160.9   \n",
       "\n",
       "   Курс доллара к рублю, руб  Номинальная средняя з/п, руб  \n",
       "0                      30.08                         20669  \n",
       "1                      29.29                         20680  \n",
       "2                      28.43                         22673  \n",
       "3                      28.10                         22519  \n",
       "4                      27.87                         22779  "
      ]
     },
     "execution_count": 2,
     "metadata": {},
     "output_type": "execute_result"
    }
   ],
   "source": [
    "dt = pd.ExcelFile('BST_DataSet.xlsx').parse('Лист1')\n",
    "dt = pd.DataFrame(dt)\n",
    "dt.head()"
   ]
  },
  {
   "cell_type": "code",
   "execution_count": 3,
   "metadata": {
    "scrolled": false
   },
   "outputs": [
    {
     "name": "stdout",
     "output_type": "stream",
     "text": [
      "<class 'pandas.core.frame.DataFrame'>\n",
      "RangeIndex: 84 entries, 0 to 83\n",
      "Data columns (total 12 columns):\n",
      " #   Column                                             Non-Null Count  Dtype         \n",
      "---  ------                                             --------------  -----         \n",
      " 0   Unnamed: 0                                         84 non-null     datetime64[ns]\n",
      " 1   Прирост вкладов физических лиц в рублях (млн руб)  72 non-null     float64       \n",
      " 2   Доходность ОФЗ по сроку до 1 года                  84 non-null     float64       \n",
      " 3   Ключевая ставка                                    84 non-null     float64       \n",
      " 4   Ставка по вкладам в долларах до 1 года             84 non-null     float64       \n",
      " 5   Ставка по вкладам в рублях до 1 года               84 non-null     float64       \n",
      " 6   Нефть марки Юралс, долл./барр                      84 non-null     float64       \n",
      " 7   Индекс потребительских цен, ед.                    84 non-null     float64       \n",
      " 8   М0, руб                                            84 non-null     float64       \n",
      " 9   М2, руб                                            84 non-null     float64       \n",
      " 10  Курс доллара к рублю, руб                          84 non-null     float64       \n",
      " 11  Номинальная средняя з/п, руб                       84 non-null     int64         \n",
      "dtypes: datetime64[ns](1), float64(10), int64(1)\n",
      "memory usage: 8.0 KB\n",
      "\n",
      " SHAPE:  (84, 12)\n"
     ]
    }
   ],
   "source": [
    "dt.info()\n",
    "print('\\n','SHAPE: ',dt.shape)"
   ]
  },
  {
   "cell_type": "code",
   "execution_count": 4,
   "metadata": {},
   "outputs": [
    {
     "data": {
      "text/html": [
       "<div>\n",
       "<style scoped>\n",
       "    .dataframe tbody tr th:only-of-type {\n",
       "        vertical-align: middle;\n",
       "    }\n",
       "\n",
       "    .dataframe tbody tr th {\n",
       "        vertical-align: top;\n",
       "    }\n",
       "\n",
       "    .dataframe thead th {\n",
       "        text-align: right;\n",
       "    }\n",
       "</style>\n",
       "<table border=\"1\" class=\"dataframe\">\n",
       "  <thead>\n",
       "    <tr style=\"text-align: right;\">\n",
       "      <th></th>\n",
       "      <th>Unnamed: 0</th>\n",
       "      <th>Прирост вкладов физических лиц в рублях (млн руб)</th>\n",
       "      <th>Доходность ОФЗ по сроку до 1 года</th>\n",
       "      <th>Ключевая ставка</th>\n",
       "      <th>Ставка по вкладам в долларах до 1 года</th>\n",
       "      <th>Ставка по вкладам в рублях до 1 года</th>\n",
       "      <th>Нефть марки Юралс, долл./барр</th>\n",
       "      <th>Индекс потребительских цен, ед.</th>\n",
       "      <th>М0, руб</th>\n",
       "      <th>М2, руб</th>\n",
       "      <th>Курс доллара к рублю, руб</th>\n",
       "      <th>Номинальная средняя з/п, руб</th>\n",
       "    </tr>\n",
       "  </thead>\n",
       "  <tbody>\n",
       "    <tr>\n",
       "      <th>0</th>\n",
       "      <td>2011-01-01</td>\n",
       "      <td>-79049.0</td>\n",
       "      <td>5.244667</td>\n",
       "      <td>7.75</td>\n",
       "      <td>2.90</td>\n",
       "      <td>4.50</td>\n",
       "      <td>96.29</td>\n",
       "      <td>106.171510</td>\n",
       "      <td>5.532900e+06</td>\n",
       "      <td>19307.700000</td>\n",
       "      <td>30.08</td>\n",
       "      <td>20669</td>\n",
       "    </tr>\n",
       "    <tr>\n",
       "      <th>1</th>\n",
       "      <td>2011-02-01</td>\n",
       "      <td>180475.0</td>\n",
       "      <td>5.144211</td>\n",
       "      <td>8.00</td>\n",
       "      <td>3.10</td>\n",
       "      <td>4.40</td>\n",
       "      <td>103.96</td>\n",
       "      <td>106.999640</td>\n",
       "      <td>5.613700e+06</td>\n",
       "      <td>19536.700000</td>\n",
       "      <td>29.29</td>\n",
       "      <td>20680</td>\n",
       "    </tr>\n",
       "    <tr>\n",
       "      <th>2</th>\n",
       "      <td>2011-03-01</td>\n",
       "      <td>106845.0</td>\n",
       "      <td>5.021364</td>\n",
       "      <td>8.00</td>\n",
       "      <td>3.10</td>\n",
       "      <td>4.20</td>\n",
       "      <td>114.44</td>\n",
       "      <td>107.663040</td>\n",
       "      <td>5.647000e+06</td>\n",
       "      <td>19788.700000</td>\n",
       "      <td>28.43</td>\n",
       "      <td>22673</td>\n",
       "    </tr>\n",
       "    <tr>\n",
       "      <th>3</th>\n",
       "      <td>2011-04-01</td>\n",
       "      <td>224890.0</td>\n",
       "      <td>4.558571</td>\n",
       "      <td>8.00</td>\n",
       "      <td>2.60</td>\n",
       "      <td>4.10</td>\n",
       "      <td>123.15</td>\n",
       "      <td>108.125990</td>\n",
       "      <td>5.863400e+06</td>\n",
       "      <td>20020.800000</td>\n",
       "      <td>28.10</td>\n",
       "      <td>22519</td>\n",
       "    </tr>\n",
       "    <tr>\n",
       "      <th>4</th>\n",
       "      <td>2011-05-01</td>\n",
       "      <td>45856.0</td>\n",
       "      <td>4.795000</td>\n",
       "      <td>8.25</td>\n",
       "      <td>2.60</td>\n",
       "      <td>4.10</td>\n",
       "      <td>114.46</td>\n",
       "      <td>108.645000</td>\n",
       "      <td>5.893400e+06</td>\n",
       "      <td>20160.900000</td>\n",
       "      <td>27.87</td>\n",
       "      <td>22779</td>\n",
       "    </tr>\n",
       "    <tr>\n",
       "      <th>...</th>\n",
       "      <td>...</td>\n",
       "      <td>...</td>\n",
       "      <td>...</td>\n",
       "      <td>...</td>\n",
       "      <td>...</td>\n",
       "      <td>...</td>\n",
       "      <td>...</td>\n",
       "      <td>...</td>\n",
       "      <td>...</td>\n",
       "      <td>...</td>\n",
       "      <td>...</td>\n",
       "      <td>...</td>\n",
       "    </tr>\n",
       "    <tr>\n",
       "      <th>79</th>\n",
       "      <td>2017-08-01</td>\n",
       "      <td>NaN</td>\n",
       "      <td>7.882174</td>\n",
       "      <td>9.00</td>\n",
       "      <td>0.73</td>\n",
       "      <td>6.07</td>\n",
       "      <td>52.00</td>\n",
       "      <td>168.418880</td>\n",
       "      <td>9.194600e+06</td>\n",
       "      <td>39419.300000</td>\n",
       "      <td>59.65</td>\n",
       "      <td>37099</td>\n",
       "    </tr>\n",
       "    <tr>\n",
       "      <th>80</th>\n",
       "      <td>2017-09-01</td>\n",
       "      <td>NaN</td>\n",
       "      <td>7.648095</td>\n",
       "      <td>8.50</td>\n",
       "      <td>0.66</td>\n",
       "      <td>5.31</td>\n",
       "      <td>57.00</td>\n",
       "      <td>168.166250</td>\n",
       "      <td>9.225200e+06</td>\n",
       "      <td>39571.000000</td>\n",
       "      <td>57.73</td>\n",
       "      <td>38047</td>\n",
       "    </tr>\n",
       "    <tr>\n",
       "      <th>81</th>\n",
       "      <td>2017-10-01</td>\n",
       "      <td>NaN</td>\n",
       "      <td>7.503636</td>\n",
       "      <td>8.25</td>\n",
       "      <td>0.61</td>\n",
       "      <td>5.67</td>\n",
       "      <td>57.50</td>\n",
       "      <td>168.502590</td>\n",
       "      <td>9.246600e+06</td>\n",
       "      <td>39565.982237</td>\n",
       "      <td>57.71</td>\n",
       "      <td>38333</td>\n",
       "    </tr>\n",
       "    <tr>\n",
       "      <th>82</th>\n",
       "      <td>2017-11-01</td>\n",
       "      <td>NaN</td>\n",
       "      <td>7.381429</td>\n",
       "      <td>8.25</td>\n",
       "      <td>0.64</td>\n",
       "      <td>5.18</td>\n",
       "      <td>63.10</td>\n",
       "      <td>168.852459</td>\n",
       "      <td>9.281212e+06</td>\n",
       "      <td>40101.582544</td>\n",
       "      <td>58.92</td>\n",
       "      <td>38848</td>\n",
       "    </tr>\n",
       "    <tr>\n",
       "      <th>83</th>\n",
       "      <td>2017-12-01</td>\n",
       "      <td>NaN</td>\n",
       "      <td>6.978095</td>\n",
       "      <td>7.75</td>\n",
       "      <td>0.73</td>\n",
       "      <td>5.27</td>\n",
       "      <td>64.90</td>\n",
       "      <td>169.560950</td>\n",
       "      <td>9.974472e+06</td>\n",
       "      <td>42372.101217</td>\n",
       "      <td>58.59</td>\n",
       "      <td>50500</td>\n",
       "    </tr>\n",
       "  </tbody>\n",
       "</table>\n",
       "<p>84 rows × 12 columns</p>\n",
       "</div>"
      ],
      "text/plain": [
       "   Unnamed: 0  Прирост вкладов физических лиц в рублях (млн руб)  \\\n",
       "0  2011-01-01                                           -79049.0   \n",
       "1  2011-02-01                                           180475.0   \n",
       "2  2011-03-01                                           106845.0   \n",
       "3  2011-04-01                                           224890.0   \n",
       "4  2011-05-01                                            45856.0   \n",
       "..        ...                                                ...   \n",
       "79 2017-08-01                                                NaN   \n",
       "80 2017-09-01                                                NaN   \n",
       "81 2017-10-01                                                NaN   \n",
       "82 2017-11-01                                                NaN   \n",
       "83 2017-12-01                                                NaN   \n",
       "\n",
       "    Доходность ОФЗ по сроку до 1 года  Ключевая ставка  \\\n",
       "0                            5.244667             7.75   \n",
       "1                            5.144211             8.00   \n",
       "2                            5.021364             8.00   \n",
       "3                            4.558571             8.00   \n",
       "4                            4.795000             8.25   \n",
       "..                                ...              ...   \n",
       "79                           7.882174             9.00   \n",
       "80                           7.648095             8.50   \n",
       "81                           7.503636             8.25   \n",
       "82                           7.381429             8.25   \n",
       "83                           6.978095             7.75   \n",
       "\n",
       "    Ставка по вкладам в долларах до 1 года  \\\n",
       "0                                     2.90   \n",
       "1                                     3.10   \n",
       "2                                     3.10   \n",
       "3                                     2.60   \n",
       "4                                     2.60   \n",
       "..                                     ...   \n",
       "79                                    0.73   \n",
       "80                                    0.66   \n",
       "81                                    0.61   \n",
       "82                                    0.64   \n",
       "83                                    0.73   \n",
       "\n",
       "    Ставка по вкладам в рублях до 1 года  Нефть марки Юралс, долл./барр  \\\n",
       "0                                   4.50                          96.29   \n",
       "1                                   4.40                         103.96   \n",
       "2                                   4.20                         114.44   \n",
       "3                                   4.10                         123.15   \n",
       "4                                   4.10                         114.46   \n",
       "..                                   ...                            ...   \n",
       "79                                  6.07                          52.00   \n",
       "80                                  5.31                          57.00   \n",
       "81                                  5.67                          57.50   \n",
       "82                                  5.18                          63.10   \n",
       "83                                  5.27                          64.90   \n",
       "\n",
       "    Индекс потребительских цен, ед.       М0, руб       М2, руб  \\\n",
       "0                        106.171510  5.532900e+06  19307.700000   \n",
       "1                        106.999640  5.613700e+06  19536.700000   \n",
       "2                        107.663040  5.647000e+06  19788.700000   \n",
       "3                        108.125990  5.863400e+06  20020.800000   \n",
       "4                        108.645000  5.893400e+06  20160.900000   \n",
       "..                              ...           ...           ...   \n",
       "79                       168.418880  9.194600e+06  39419.300000   \n",
       "80                       168.166250  9.225200e+06  39571.000000   \n",
       "81                       168.502590  9.246600e+06  39565.982237   \n",
       "82                       168.852459  9.281212e+06  40101.582544   \n",
       "83                       169.560950  9.974472e+06  42372.101217   \n",
       "\n",
       "    Курс доллара к рублю, руб  Номинальная средняя з/п, руб  \n",
       "0                       30.08                         20669  \n",
       "1                       29.29                         20680  \n",
       "2                       28.43                         22673  \n",
       "3                       28.10                         22519  \n",
       "4                       27.87                         22779  \n",
       "..                        ...                           ...  \n",
       "79                      59.65                         37099  \n",
       "80                      57.73                         38047  \n",
       "81                      57.71                         38333  \n",
       "82                      58.92                         38848  \n",
       "83                      58.59                         50500  \n",
       "\n",
       "[84 rows x 12 columns]"
      ]
     },
     "execution_count": 4,
     "metadata": {},
     "output_type": "execute_result"
    }
   ],
   "source": [
    "dt"
   ]
  },
  {
   "cell_type": "code",
   "execution_count": 5,
   "metadata": {},
   "outputs": [
    {
     "data": {
      "text/plain": [
       "['Unnamed: 0',\n",
       " 'Прирост вкладов физических лиц в рублях (млн руб)',\n",
       " 'Доходность ОФЗ по сроку до 1 года',\n",
       " 'Ключевая ставка',\n",
       " 'Ставка по вкладам в долларах до 1 года',\n",
       " 'Ставка по вкладам в рублях до\\xa01\\xa0года',\n",
       " 'Нефть марки Юралс, долл./барр',\n",
       " 'Индекс потребительских цен, ед.',\n",
       " 'М0, руб',\n",
       " 'М2, руб',\n",
       " 'Курс доллара к рублю, руб',\n",
       " 'Номинальная средняя з/п, руб']"
      ]
     },
     "execution_count": 5,
     "metadata": {},
     "output_type": "execute_result"
    }
   ],
   "source": [
    "dt.columns.tolist()"
   ]
  },
  {
   "cell_type": "markdown",
   "metadata": {},
   "source": [
    "исправим название столбца"
   ]
  },
  {
   "cell_type": "code",
   "execution_count": 6,
   "metadata": {},
   "outputs": [
    {
     "data": {
      "text/plain": [
       "['Unnamed: 0',\n",
       " 'Прирост вкладов физических лиц в рублях (млн руб)',\n",
       " 'Доходность ОФЗ по сроку до 1 года',\n",
       " 'Ключевая ставка',\n",
       " 'Ставка по вкладам в долларах до 1 года',\n",
       " 'Ставка по вкладам в рублях до 1 года',\n",
       " 'Нефть марки Юралс, долл./барр',\n",
       " 'Индекс потребительских цен, ед.',\n",
       " 'М0, руб',\n",
       " 'М2, руб',\n",
       " 'Курс доллара к рублю, руб',\n",
       " 'Номинальная средняя з/п, руб']"
      ]
     },
     "execution_count": 6,
     "metadata": {},
     "output_type": "execute_result"
    }
   ],
   "source": [
    "dt.rename(columns={'Ставка по вкладам в рублях до\\xa01\\xa0года': 'Ставка по вкладам в рублях до 1 года'}, inplace=True)\n",
    "dt.columns.tolist()"
   ]
  },
  {
   "cell_type": "code",
   "execution_count": 7,
   "metadata": {},
   "outputs": [
    {
     "data": {
      "text/html": [
       "<div>\n",
       "<style scoped>\n",
       "    .dataframe tbody tr th:only-of-type {\n",
       "        vertical-align: middle;\n",
       "    }\n",
       "\n",
       "    .dataframe tbody tr th {\n",
       "        vertical-align: top;\n",
       "    }\n",
       "\n",
       "    .dataframe thead th {\n",
       "        text-align: right;\n",
       "    }\n",
       "</style>\n",
       "<table border=\"1\" class=\"dataframe\">\n",
       "  <thead>\n",
       "    <tr style=\"text-align: right;\">\n",
       "      <th></th>\n",
       "      <th>Unnamed: 0</th>\n",
       "      <th>Прирост вкладов физических лиц в рублях (млн руб)</th>\n",
       "      <th>Доходность ОФЗ по сроку до 1 года</th>\n",
       "      <th>Ключевая ставка</th>\n",
       "      <th>Ставка по вкладам в долларах до 1 года</th>\n",
       "      <th>Ставка по вкладам в рублях до 1 года</th>\n",
       "      <th>Нефть марки Юралс, долл./барр</th>\n",
       "      <th>Индекс потребительских цен, ед.</th>\n",
       "      <th>М0, руб</th>\n",
       "      <th>М2, руб</th>\n",
       "      <th>Курс доллара к рублю, руб</th>\n",
       "      <th>Номинальная средняя з/п, руб</th>\n",
       "    </tr>\n",
       "  </thead>\n",
       "  <tbody>\n",
       "    <tr>\n",
       "      <th>0</th>\n",
       "      <td>2011-01-01</td>\n",
       "      <td>-79049.0</td>\n",
       "      <td>5.244667</td>\n",
       "      <td>7.75</td>\n",
       "      <td>2.90</td>\n",
       "      <td>4.50</td>\n",
       "      <td>96.29</td>\n",
       "      <td>106.17151</td>\n",
       "      <td>5532900.0</td>\n",
       "      <td>19307.7</td>\n",
       "      <td>30.08</td>\n",
       "      <td>20669</td>\n",
       "    </tr>\n",
       "    <tr>\n",
       "      <th>1</th>\n",
       "      <td>2011-02-01</td>\n",
       "      <td>180475.0</td>\n",
       "      <td>5.144211</td>\n",
       "      <td>8.00</td>\n",
       "      <td>3.10</td>\n",
       "      <td>4.40</td>\n",
       "      <td>103.96</td>\n",
       "      <td>106.99964</td>\n",
       "      <td>5613700.0</td>\n",
       "      <td>19536.7</td>\n",
       "      <td>29.29</td>\n",
       "      <td>20680</td>\n",
       "    </tr>\n",
       "    <tr>\n",
       "      <th>2</th>\n",
       "      <td>2011-03-01</td>\n",
       "      <td>106845.0</td>\n",
       "      <td>5.021364</td>\n",
       "      <td>8.00</td>\n",
       "      <td>3.10</td>\n",
       "      <td>4.20</td>\n",
       "      <td>114.44</td>\n",
       "      <td>107.66304</td>\n",
       "      <td>5647000.0</td>\n",
       "      <td>19788.7</td>\n",
       "      <td>28.43</td>\n",
       "      <td>22673</td>\n",
       "    </tr>\n",
       "    <tr>\n",
       "      <th>3</th>\n",
       "      <td>2011-04-01</td>\n",
       "      <td>224890.0</td>\n",
       "      <td>4.558571</td>\n",
       "      <td>8.00</td>\n",
       "      <td>2.60</td>\n",
       "      <td>4.10</td>\n",
       "      <td>123.15</td>\n",
       "      <td>108.12599</td>\n",
       "      <td>5863400.0</td>\n",
       "      <td>20020.8</td>\n",
       "      <td>28.10</td>\n",
       "      <td>22519</td>\n",
       "    </tr>\n",
       "    <tr>\n",
       "      <th>4</th>\n",
       "      <td>2011-05-01</td>\n",
       "      <td>45856.0</td>\n",
       "      <td>4.795000</td>\n",
       "      <td>8.25</td>\n",
       "      <td>2.60</td>\n",
       "      <td>4.10</td>\n",
       "      <td>114.46</td>\n",
       "      <td>108.64500</td>\n",
       "      <td>5893400.0</td>\n",
       "      <td>20160.9</td>\n",
       "      <td>27.87</td>\n",
       "      <td>22779</td>\n",
       "    </tr>\n",
       "    <tr>\n",
       "      <th>...</th>\n",
       "      <td>...</td>\n",
       "      <td>...</td>\n",
       "      <td>...</td>\n",
       "      <td>...</td>\n",
       "      <td>...</td>\n",
       "      <td>...</td>\n",
       "      <td>...</td>\n",
       "      <td>...</td>\n",
       "      <td>...</td>\n",
       "      <td>...</td>\n",
       "      <td>...</td>\n",
       "      <td>...</td>\n",
       "    </tr>\n",
       "    <tr>\n",
       "      <th>67</th>\n",
       "      <td>2016-08-01</td>\n",
       "      <td>92168.0</td>\n",
       "      <td>9.274348</td>\n",
       "      <td>10.50</td>\n",
       "      <td>0.89</td>\n",
       "      <td>6.77</td>\n",
       "      <td>46.14</td>\n",
       "      <td>163.04897</td>\n",
       "      <td>8517600.0</td>\n",
       "      <td>36169.6</td>\n",
       "      <td>64.92</td>\n",
       "      <td>35405</td>\n",
       "    </tr>\n",
       "    <tr>\n",
       "      <th>68</th>\n",
       "      <td>2016-09-01</td>\n",
       "      <td>20272.0</td>\n",
       "      <td>9.015000</td>\n",
       "      <td>10.00</td>\n",
       "      <td>0.82</td>\n",
       "      <td>6.00</td>\n",
       "      <td>46.19</td>\n",
       "      <td>163.32615</td>\n",
       "      <td>8557800.0</td>\n",
       "      <td>36148.8</td>\n",
       "      <td>64.60</td>\n",
       "      <td>35843</td>\n",
       "    </tr>\n",
       "    <tr>\n",
       "      <th>69</th>\n",
       "      <td>2016-10-01</td>\n",
       "      <td>72037.0</td>\n",
       "      <td>9.002381</td>\n",
       "      <td>10.00</td>\n",
       "      <td>0.71</td>\n",
       "      <td>6.01</td>\n",
       "      <td>49.73</td>\n",
       "      <td>164.02846</td>\n",
       "      <td>8459500.0</td>\n",
       "      <td>36051.0</td>\n",
       "      <td>62.68</td>\n",
       "      <td>35749</td>\n",
       "    </tr>\n",
       "    <tr>\n",
       "      <th>70</th>\n",
       "      <td>2016-11-01</td>\n",
       "      <td>172323.0</td>\n",
       "      <td>8.936190</td>\n",
       "      <td>10.00</td>\n",
       "      <td>0.72</td>\n",
       "      <td>6.62</td>\n",
       "      <td>46.44</td>\n",
       "      <td>164.75018</td>\n",
       "      <td>8425200.0</td>\n",
       "      <td>36433.0</td>\n",
       "      <td>64.36</td>\n",
       "      <td>36195</td>\n",
       "    </tr>\n",
       "    <tr>\n",
       "      <th>71</th>\n",
       "      <td>2016-12-01</td>\n",
       "      <td>889085.0</td>\n",
       "      <td>8.659545</td>\n",
       "      <td>10.00</td>\n",
       "      <td>0.76</td>\n",
       "      <td>6.50</td>\n",
       "      <td>54.07</td>\n",
       "      <td>165.40918</td>\n",
       "      <td>9076100.0</td>\n",
       "      <td>38418.0</td>\n",
       "      <td>62.18</td>\n",
       "      <td>47554</td>\n",
       "    </tr>\n",
       "  </tbody>\n",
       "</table>\n",
       "<p>72 rows × 12 columns</p>\n",
       "</div>"
      ],
      "text/plain": [
       "   Unnamed: 0  Прирост вкладов физических лиц в рублях (млн руб)  \\\n",
       "0  2011-01-01                                           -79049.0   \n",
       "1  2011-02-01                                           180475.0   \n",
       "2  2011-03-01                                           106845.0   \n",
       "3  2011-04-01                                           224890.0   \n",
       "4  2011-05-01                                            45856.0   \n",
       "..        ...                                                ...   \n",
       "67 2016-08-01                                            92168.0   \n",
       "68 2016-09-01                                            20272.0   \n",
       "69 2016-10-01                                            72037.0   \n",
       "70 2016-11-01                                           172323.0   \n",
       "71 2016-12-01                                           889085.0   \n",
       "\n",
       "    Доходность ОФЗ по сроку до 1 года  Ключевая ставка  \\\n",
       "0                            5.244667             7.75   \n",
       "1                            5.144211             8.00   \n",
       "2                            5.021364             8.00   \n",
       "3                            4.558571             8.00   \n",
       "4                            4.795000             8.25   \n",
       "..                                ...              ...   \n",
       "67                           9.274348            10.50   \n",
       "68                           9.015000            10.00   \n",
       "69                           9.002381            10.00   \n",
       "70                           8.936190            10.00   \n",
       "71                           8.659545            10.00   \n",
       "\n",
       "    Ставка по вкладам в долларах до 1 года  \\\n",
       "0                                     2.90   \n",
       "1                                     3.10   \n",
       "2                                     3.10   \n",
       "3                                     2.60   \n",
       "4                                     2.60   \n",
       "..                                     ...   \n",
       "67                                    0.89   \n",
       "68                                    0.82   \n",
       "69                                    0.71   \n",
       "70                                    0.72   \n",
       "71                                    0.76   \n",
       "\n",
       "    Ставка по вкладам в рублях до 1 года  Нефть марки Юралс, долл./барр  \\\n",
       "0                                   4.50                          96.29   \n",
       "1                                   4.40                         103.96   \n",
       "2                                   4.20                         114.44   \n",
       "3                                   4.10                         123.15   \n",
       "4                                   4.10                         114.46   \n",
       "..                                   ...                            ...   \n",
       "67                                  6.77                          46.14   \n",
       "68                                  6.00                          46.19   \n",
       "69                                  6.01                          49.73   \n",
       "70                                  6.62                          46.44   \n",
       "71                                  6.50                          54.07   \n",
       "\n",
       "    Индекс потребительских цен, ед.    М0, руб  М2, руб  \\\n",
       "0                         106.17151  5532900.0  19307.7   \n",
       "1                         106.99964  5613700.0  19536.7   \n",
       "2                         107.66304  5647000.0  19788.7   \n",
       "3                         108.12599  5863400.0  20020.8   \n",
       "4                         108.64500  5893400.0  20160.9   \n",
       "..                              ...        ...      ...   \n",
       "67                        163.04897  8517600.0  36169.6   \n",
       "68                        163.32615  8557800.0  36148.8   \n",
       "69                        164.02846  8459500.0  36051.0   \n",
       "70                        164.75018  8425200.0  36433.0   \n",
       "71                        165.40918  9076100.0  38418.0   \n",
       "\n",
       "    Курс доллара к рублю, руб  Номинальная средняя з/п, руб  \n",
       "0                       30.08                         20669  \n",
       "1                       29.29                         20680  \n",
       "2                       28.43                         22673  \n",
       "3                       28.10                         22519  \n",
       "4                       27.87                         22779  \n",
       "..                        ...                           ...  \n",
       "67                      64.92                         35405  \n",
       "68                      64.60                         35843  \n",
       "69                      62.68                         35749  \n",
       "70                      64.36                         36195  \n",
       "71                      62.18                         47554  \n",
       "\n",
       "[72 rows x 12 columns]"
      ]
     },
     "execution_count": 7,
     "metadata": {},
     "output_type": "execute_result"
    }
   ],
   "source": [
    "# Разделяем данные на выборку для модели и для предсказаний\n",
    "dt1 = pd.DataFrame() # dataframe с известными данными, на которых будем исследовать зависимость\n",
    "dt2 = pd.DataFrame() # dataframe с данными для тестовой выборки\n",
    "dt1 = dt.iloc[:dt.shape[0]-12]\n",
    "dt2 = dt.iloc[dt.shape[0]-12:]\n",
    "dt1"
   ]
  },
  {
   "cell_type": "code",
   "execution_count": 8,
   "metadata": {},
   "outputs": [
    {
     "data": {
      "image/png": "[encoded data removed]",
      "text/plain": [
       "<Figure size 1152x720 with 2 Axes>"
      ]
     },
     "metadata": {
      "needs_background": "light"
     },
     "output_type": "display_data"
    }
   ],
   "source": [
    "plt.subplots(figsize = (16,10))\n",
    "sns.heatmap(dt1.corr(),vmin=-1, vmax=1, annot=True, cmap=\"YlGnBu\").set_title(\"Корреляция\")\n",
    "plt.show()"
   ]
  },
  {
   "cell_type": "markdown",
   "metadata": {},
   "source": [
    "Воспользуемся алгоритмом машинного обучения. \n"
   ]
  },
  {
   "cell_type": "markdown",
   "metadata": {},
   "source": [
    "- загружаем данные\n",
    "- feature selection\n",
    "- Шкалирование\n",
    "- Grid search\n",
    "- обучение модели\n",
    "- рисуем кривую обучения\n",
    "- анализируем метрики результата"
   ]
  },
  {
   "cell_type": "markdown",
   "metadata": {},
   "source": [
    "вспомогательные функции:"
   ]
  },
  {
   "cell_type": "code",
   "execution_count": 10,
   "metadata": {},
   "outputs": [],
   "source": [
    "def to_x_y (dt):\n",
    "    y = dt[dt.columns.tolist()[1]]\n",
    "    X = dt.drop(columns=[dt.columns.tolist()[0],dt.columns.tolist()[1]])\n",
    "    return X,y"
   ]
  },
  {
   "cell_type": "code",
   "execution_count": 11,
   "metadata": {},
   "outputs": [],
   "source": [
    "# Шкалирование \n",
    "def scaling(scaler,X_train,X_test):\n",
    "    from sklearn.preprocessing import StandardScaler\n",
    "    from sklearn.preprocessing import MinMaxScaler\n",
    "    from sklearn.preprocessing import normalize\n",
    "    # scaler = normalize()\n",
    "#     X,y = to_x_y(dt1)\n",
    "#     cols = X.columns\n",
    "    scaler.fit(X_train)\n",
    "    X_train = scaler.transform(X_train)\n",
    "    X_test = scaler.transform(X_test)\n",
    "#     X = pd.DataFrame(X,columns=cols)\n",
    "    return X_train,X_test"
   ]
  },
  {
   "cell_type": "code",
   "execution_count": 12,
   "metadata": {
    "scrolled": false
   },
   "outputs": [],
   "source": [
    "#Feature Selection (filter - Хи-квадрат)\n",
    "def chi_squar_filter (X,y):\n",
    "    from sklearn.feature_selection import chi2\n",
    "    from sklearn.feature_selection import SelectKBest\n",
    "    # X = dt1.drop(columns=[dt1.columns.tolist()[0], dt1.columns.tolist()[1]])\n",
    "    # y = dt1[dt1.columns.tolist()[1]]\n",
    "    # X,y = to_x_y(dt1)\n",
    "    select = SelectKBest(chi2, k=5)\n",
    "    select = select.fit(X,y)\n",
    "    X_new = select.transform(X)\n",
    "    # print(X_new)\n",
    "    return X_new, select"
   ]
  },
  {
   "cell_type": "code",
   "execution_count": 13,
   "metadata": {},
   "outputs": [],
   "source": [
    "def selected_features(selector, X_new):\n",
    "    features = dt1.columns.tolist()\n",
    "    list_features=[]\n",
    "    del features[0]\n",
    "    del features[0]\n",
    "    k=0\n",
    "    print('ОТОБРАННЫЕ ФАКТОРЫ:')\n",
    "    for i in selector.inverse_transform(X_new)[0]:\n",
    "        if i!=0.0:\n",
    "            list_features.append(features[k])\n",
    "        k+=1\n",
    "    print(list_features) \n"
   ]
  },
  {
   "cell_type": "code",
   "execution_count": 14,
   "metadata": {},
   "outputs": [],
   "source": [
    "# Функция для кривой обучения\n",
    "from sklearn.model_selection import learning_curve\n",
    "def plot_learning_curve (estimator, X, y, title):\n",
    "    plt.figure()\n",
    "    plt.title(title)\n",
    "    plt.xlabel(\"Training examples\")\n",
    "    plt.ylabel(\"Score\")\n",
    "    train_sizes, train_scores, test_scores = learning_curve(\n",
    "        estimator, X, y)\n",
    "    train_scores_mean = np.mean(train_scores, axis=1)\n",
    "    train_scores_std = np.std(train_scores, axis=1)\n",
    "    test_scores_mean = np.mean(test_scores, axis=1)\n",
    "    test_scores_std = np.std(test_scores, axis=1)\n",
    "    plt.grid()\n",
    "\n",
    "    plt.fill_between(train_sizes, train_scores_mean - train_scores_std,\n",
    "                     train_scores_mean + train_scores_std, alpha=0.1,\n",
    "                     color=\"r\")\n",
    "    plt.fill_between(train_sizes, test_scores_mean - test_scores_std,\n",
    "                     test_scores_mean + test_scores_std, alpha=0.1, color=\"g\")\n",
    "    plt.plot(train_sizes, train_scores_mean, 'o-', color=\"r\",\n",
    "             label=\"Training set\")\n",
    "    plt.plot(train_sizes, test_scores_mean, 'o-', color=\"g\",\n",
    "             label=\"Tested set\")\n",
    "\n",
    "    plt.legend(loc=\"best\")\n",
    "    plt.show()"
   ]
  },
  {
   "cell_type": "markdown",
   "metadata": {},
   "source": [
    "Оценим модели"
   ]
  },
  {
   "cell_type": "code",
   "execution_count": 15,
   "metadata": {},
   "outputs": [],
   "source": [
    "from sklearn.linear_model import LinearRegression\n",
    "from sklearn.preprocessing import StandardScaler\n",
    "from sklearn.feature_selection import RFE\n",
    "from sklearn.model_selection import train_test_split\n",
    "from sklearn.metrics import r2_score\n",
    "from sklearn.metrics import mean_squared_error\n",
    "from math import sqrt\n",
    "import re\n",
    "from sklearn.svm import SVR\n",
    "from sklearn.linear_model import SGDRegressor\n",
    "from sklearn.model_selection import GridSearchCV\n",
    "from sklearn.neighbors import KNeighborsRegressor\n",
    "from sklearn.tree import DecisionTreeRegressor\n",
    "from sklearn.ensemble import RandomForestRegressor"
   ]
  },
  {
   "cell_type": "markdown",
   "metadata": {},
   "source": [
    "В качестве методов feature selection возьмем два: метод фильтрации Хи-квадрат и RFE(recursive feature elimination)- алгоритм постепенного исключения факторов из общего пула"
   ]
  },
  {
   "cell_type": "code",
   "execution_count": 19,
   "metadata": {},
   "outputs": [
    {
     "name": "stdout",
     "output_type": "stream",
     "text": [
      "['LinearRegression']\n",
      "Feature selection - Хи-квадрат фильтр\n",
      "ОТОБРАННЫЕ ФАКТОРЫ:\n",
      "['Нефть марки Юралс, долл./барр', 'М0, руб', 'М2, руб', 'Курс доллара к рублю, руб', 'Номинальная средняя з/п, руб']\n"
     ]
    },
    {
     "data": {
      "image/png": "[encoded data removed]",
      "text/plain": [
       "<Figure size 432x288 with 1 Axes>"
      ]
     },
     "metadata": {
      "needs_background": "light"
     },
     "output_type": "display_data"
    },
    {
     "name": "stdout",
     "output_type": "stream",
     "text": [
      "R2 ['LinearRegression'] 0.497629034738466\n",
      "RMSE ['LinearRegression'] 95147.80762869524 \n",
      "\n",
      "Feature selection - RFE\n",
      "ОТОБРАННЫЕ ФАКТОРЫ:\n",
      "['Доходность ОФЗ по сроку до 1 года', 'Ключевая ставка', 'Ставка по вкладам в долларах до 1 года', 'Нефть марки Юралс, долл./барр', 'Индекс потребительских цен, ед.']\n"
     ]
    },
    {
     "data": {
      "image/png": "[encoded data removed]",
      "text/plain": [
       "<Figure size 432x288 with 1 Axes>"
      ]
     },
     "metadata": {
      "needs_background": "light"
     },
     "output_type": "display_data"
    },
    {
     "name": "stdout",
     "output_type": "stream",
     "text": [
      "R2 ['LinearRegression'] -0.24051862406846491\n",
      "RMSE ['LinearRegression'] 263555.6152155295 \n",
      "\n"
     ]
    }
   ],
   "source": [
    "# Линейная регрессия\n",
    "\n",
    "# задаем модель\n",
    "model = LinearRegression()\n",
    "title = re.findall(r'^\\w+',str(model))\n",
    "print(title)\n",
    "X,y = to_x_y(dt1)\n",
    "# применяем первый фильтр\n",
    "X_selected1,filtr = chi_squar_filter(X,y)\n",
    "print('Feature selection - Хи-квадрат фильтр')\n",
    "selected_features(filtr,X_selected1)\n",
    "# разбитие на тестовую и обучающие выборки, шкалирование\n",
    "X_train, X_test, y_train, y_test = train_test_split(X_selected1, y, test_size=0.2)\n",
    "X_train, X_test = scaling(StandardScaler(),X_train,X_test)\n",
    "# обучение модели\n",
    "model.fit(X_train, y_train)\n",
    "y_pred = model.predict(X_test)\n",
    "# кривая обучения\n",
    "plot_learning_curve (model, X_selected1, y, title)\n",
    "# метрики\n",
    "r2_linreg1 = r2_score(y_test, y_pred)\n",
    "print('R2',title, r2_linreg1)\n",
    "rmse_linreg1 = sqrt(mean_squared_error(y_test, y_pred))\n",
    "print('RMSE',title, rmse_linreg1, '\\n')\n",
    "\n",
    "\n",
    "# применяем второй фильтр\n",
    "rfe = RFE(model)\n",
    "rfe = rfe.fit(X,y)\n",
    "X_selected2 = pd.DataFrame(rfe.transform(X))\n",
    "print('Feature selection - RFE')\n",
    "selected_features(rfe,X_selected2)\n",
    "# разбитие и шкалирование\n",
    "X_train, X_test, y_train, y_test = train_test_split(X_selected2, y, test_size=0.2)\n",
    "X_train, X_test = scaling(StandardScaler(),X_train,X_test)\n",
    "\n",
    "model.fit(X_train, y_train)\n",
    "y_pred = model.predict(X_test)\n",
    "plot_learning_curve (model, X_selected2, y, title)\n",
    "r2_linreg2 = r2_score(y_test, y_pred)\n",
    "print('R2',title, r2_linreg2)\n",
    "rmse_linreg2 = sqrt(mean_squared_error(y_test, y_pred))\n",
    "print('RMSE',title, rmse_linreg2, '\\n')\n"
   ]
  },
  {
   "cell_type": "code",
   "execution_count": 29,
   "metadata": {},
   "outputs": [
    {
     "name": "stdout",
     "output_type": "stream",
     "text": [
      "['SGDRegressor']\n",
      "Feature selection - Хи-квадрат фильтр\n",
      "ОТОБРАННЫЕ ФАКТОРЫ:\n",
      "['Нефть марки Юралс, долл./барр', 'М0, руб', 'М2, руб', 'Курс доллара к рублю, руб', 'Номинальная средняя з/п, руб']\n",
      "Fitting 3 folds for each of 54 candidates, totalling 162 fits\n"
     ]
    },
    {
     "name": "stderr",
     "output_type": "stream",
     "text": [
      "[Parallel(n_jobs=-1)]: Using backend LokyBackend with 4 concurrent workers.\n",
      "[Parallel(n_jobs=-1)]: Done 130 tasks      | elapsed:    0.5s\n",
      "[Parallel(n_jobs=-1)]: Done 162 out of 162 | elapsed:    0.6s finished\n"
     ]
    },
    {
     "name": "stdout",
     "output_type": "stream",
     "text": [
      "Fitting 3 folds for each of 54 candidates, totalling 162 fits\n"
     ]
    },
    {
     "name": "stderr",
     "output_type": "stream",
     "text": [
      "[Parallel(n_jobs=-1)]: Using backend LokyBackend with 4 concurrent workers.\n",
      "[Parallel(n_jobs=-1)]: Done 130 tasks      | elapsed:    0.3s\n",
      "[Parallel(n_jobs=-1)]: Done 162 out of 162 | elapsed:    0.5s finished\n",
      "[Parallel(n_jobs=-1)]: Using backend LokyBackend with 4 concurrent workers.\n"
     ]
    },
    {
     "name": "stdout",
     "output_type": "stream",
     "text": [
      "Fitting 3 folds for each of 54 candidates, totalling 162 fits\n"
     ]
    },
    {
     "name": "stderr",
     "output_type": "stream",
     "text": [
      "[Parallel(n_jobs=-1)]: Done 130 tasks      | elapsed:    0.4s\n",
      "[Parallel(n_jobs=-1)]: Done 162 out of 162 | elapsed:    0.5s finished\n",
      "[Parallel(n_jobs=-1)]: Using backend LokyBackend with 4 concurrent workers.\n"
     ]
    },
    {
     "name": "stdout",
     "output_type": "stream",
     "text": [
      "Fitting 3 folds for each of 54 candidates, totalling 162 fits\n"
     ]
    },
    {
     "name": "stderr",
     "output_type": "stream",
     "text": [
      "[Parallel(n_jobs=-1)]: Done 130 tasks      | elapsed:    0.4s\n",
      "[Parallel(n_jobs=-1)]: Done 162 out of 162 | elapsed:    0.5s finished\n",
      "[Parallel(n_jobs=-1)]: Using backend LokyBackend with 4 concurrent workers.\n"
     ]
    },
    {
     "name": "stdout",
     "output_type": "stream",
     "text": [
      "Fitting 3 folds for each of 54 candidates, totalling 162 fits\n"
     ]
    },
    {
     "name": "stderr",
     "output_type": "stream",
     "text": [
      "[Parallel(n_jobs=-1)]: Done 130 tasks      | elapsed:    0.4s\n",
      "[Parallel(n_jobs=-1)]: Done 162 out of 162 | elapsed:    0.5s finished\n",
      "[Parallel(n_jobs=-1)]: Using backend LokyBackend with 4 concurrent workers.\n"
     ]
    },
    {
     "name": "stdout",
     "output_type": "stream",
     "text": [
      "Fitting 3 folds for each of 54 candidates, totalling 162 fits\n"
     ]
    },
    {
     "name": "stderr",
     "output_type": "stream",
     "text": [
      "[Parallel(n_jobs=-1)]: Done 130 tasks      | elapsed:    0.4s\n",
      "[Parallel(n_jobs=-1)]: Done 162 out of 162 | elapsed:    0.5s finished\n",
      "[Parallel(n_jobs=-1)]: Using backend LokyBackend with 4 concurrent workers.\n"
     ]
    },
    {
     "name": "stdout",
     "output_type": "stream",
     "text": [
      "Fitting 3 folds for each of 54 candidates, totalling 162 fits\n"
     ]
    },
    {
     "name": "stderr",
     "output_type": "stream",
     "text": [
      "[Parallel(n_jobs=-1)]: Done 130 tasks      | elapsed:    0.3s\n",
      "[Parallel(n_jobs=-1)]: Done 162 out of 162 | elapsed:    0.5s finished\n",
      "D:\\Anaconda\\lib\\site-packages\\sklearn\\linear_model\\_stochastic_gradient.py:1187: ConvergenceWarning: Maximum number of iteration reached before convergence. Consider increasing max_iter to improve the fit.\n",
      "  ConvergenceWarning)\n",
      "[Parallel(n_jobs=-1)]: Using backend LokyBackend with 4 concurrent workers.\n"
     ]
    },
    {
     "name": "stdout",
     "output_type": "stream",
     "text": [
      "Fitting 3 folds for each of 54 candidates, totalling 162 fits\n"
     ]
    },
    {
     "name": "stderr",
     "output_type": "stream",
     "text": [
      "[Parallel(n_jobs=-1)]: Done 130 tasks      | elapsed:    0.3s\n",
      "[Parallel(n_jobs=-1)]: Done 162 out of 162 | elapsed:    0.5s finished\n",
      "[Parallel(n_jobs=-1)]: Using backend LokyBackend with 4 concurrent workers.\n"
     ]
    },
    {
     "name": "stdout",
     "output_type": "stream",
     "text": [
      "Fitting 3 folds for each of 54 candidates, totalling 162 fits\n"
     ]
    },
    {
     "name": "stderr",
     "output_type": "stream",
     "text": [
      "[Parallel(n_jobs=-1)]: Done 130 tasks      | elapsed:    0.3s\n",
      "[Parallel(n_jobs=-1)]: Done 162 out of 162 | elapsed:    0.5s finished\n",
      "[Parallel(n_jobs=-1)]: Using backend LokyBackend with 4 concurrent workers.\n"
     ]
    },
    {
     "name": "stdout",
     "output_type": "stream",
     "text": [
      "Fitting 3 folds for each of 54 candidates, totalling 162 fits\n"
     ]
    },
    {
     "name": "stderr",
     "output_type": "stream",
     "text": [
      "[Parallel(n_jobs=-1)]: Done 130 tasks      | elapsed:    0.3s\n",
      "[Parallel(n_jobs=-1)]: Done 162 out of 162 | elapsed:    0.5s finished\n",
      "[Parallel(n_jobs=-1)]: Using backend LokyBackend with 4 concurrent workers.\n"
     ]
    },
    {
     "name": "stdout",
     "output_type": "stream",
     "text": [
      "Fitting 3 folds for each of 54 candidates, totalling 162 fits\n"
     ]
    },
    {
     "name": "stderr",
     "output_type": "stream",
     "text": [
      "[Parallel(n_jobs=-1)]: Done 130 tasks      | elapsed:    0.3s\n",
      "[Parallel(n_jobs=-1)]: Done 162 out of 162 | elapsed:    0.5s finished\n",
      "[Parallel(n_jobs=-1)]: Using backend LokyBackend with 4 concurrent workers.\n"
     ]
    },
    {
     "name": "stdout",
     "output_type": "stream",
     "text": [
      "Fitting 3 folds for each of 54 candidates, totalling 162 fits\n"
     ]
    },
    {
     "name": "stderr",
     "output_type": "stream",
     "text": [
      "[Parallel(n_jobs=-1)]: Done 130 tasks      | elapsed:    0.4s\n",
      "[Parallel(n_jobs=-1)]: Done 162 out of 162 | elapsed:    0.5s finished\n",
      "[Parallel(n_jobs=-1)]: Using backend LokyBackend with 4 concurrent workers.\n"
     ]
    },
    {
     "name": "stdout",
     "output_type": "stream",
     "text": [
      "Fitting 3 folds for each of 54 candidates, totalling 162 fits\n"
     ]
    },
    {
     "name": "stderr",
     "output_type": "stream",
     "text": [
      "[Parallel(n_jobs=-1)]: Done 130 tasks      | elapsed:    0.3s\n",
      "[Parallel(n_jobs=-1)]: Done 162 out of 162 | elapsed:    0.5s finished\n",
      "[Parallel(n_jobs=-1)]: Using backend LokyBackend with 4 concurrent workers.\n"
     ]
    },
    {
     "name": "stdout",
     "output_type": "stream",
     "text": [
      "Fitting 3 folds for each of 54 candidates, totalling 162 fits\n"
     ]
    },
    {
     "name": "stderr",
     "output_type": "stream",
     "text": [
      "[Parallel(n_jobs=-1)]: Done 130 tasks      | elapsed:    0.4s\n",
      "[Parallel(n_jobs=-1)]: Done 162 out of 162 | elapsed:    0.5s finished\n",
      "[Parallel(n_jobs=-1)]: Using backend LokyBackend with 4 concurrent workers.\n"
     ]
    },
    {
     "name": "stdout",
     "output_type": "stream",
     "text": [
      "Fitting 3 folds for each of 54 candidates, totalling 162 fits\n"
     ]
    },
    {
     "name": "stderr",
     "output_type": "stream",
     "text": [
      "[Parallel(n_jobs=-1)]: Done 130 tasks      | elapsed:    0.4s\n",
      "[Parallel(n_jobs=-1)]: Done 162 out of 162 | elapsed:    0.6s finished\n",
      "[Parallel(n_jobs=-1)]: Using backend LokyBackend with 4 concurrent workers.\n"
     ]
    },
    {
     "name": "stdout",
     "output_type": "stream",
     "text": [
      "Fitting 3 folds for each of 54 candidates, totalling 162 fits\n"
     ]
    },
    {
     "name": "stderr",
     "output_type": "stream",
     "text": [
      "[Parallel(n_jobs=-1)]: Done 130 tasks      | elapsed:    0.4s\n",
      "[Parallel(n_jobs=-1)]: Done 162 out of 162 | elapsed:    0.5s finished\n",
      "[Parallel(n_jobs=-1)]: Using backend LokyBackend with 4 concurrent workers.\n"
     ]
    },
    {
     "name": "stdout",
     "output_type": "stream",
     "text": [
      "Fitting 3 folds for each of 54 candidates, totalling 162 fits\n"
     ]
    },
    {
     "name": "stderr",
     "output_type": "stream",
     "text": [
      "[Parallel(n_jobs=-1)]: Done 130 tasks      | elapsed:    0.3s\n",
      "[Parallel(n_jobs=-1)]: Done 162 out of 162 | elapsed:    0.5s finished\n",
      "[Parallel(n_jobs=-1)]: Using backend LokyBackend with 4 concurrent workers.\n"
     ]
    },
    {
     "name": "stdout",
     "output_type": "stream",
     "text": [
      "Fitting 3 folds for each of 54 candidates, totalling 162 fits\n"
     ]
    },
    {
     "name": "stderr",
     "output_type": "stream",
     "text": [
      "[Parallel(n_jobs=-1)]: Done 130 tasks      | elapsed:    0.4s\n",
      "[Parallel(n_jobs=-1)]: Done 162 out of 162 | elapsed:    0.5s finished\n",
      "[Parallel(n_jobs=-1)]: Using backend LokyBackend with 4 concurrent workers.\n"
     ]
    },
    {
     "name": "stdout",
     "output_type": "stream",
     "text": [
      "Fitting 3 folds for each of 54 candidates, totalling 162 fits\n"
     ]
    },
    {
     "name": "stderr",
     "output_type": "stream",
     "text": [
      "[Parallel(n_jobs=-1)]: Done 130 tasks      | elapsed:    0.3s\n",
      "[Parallel(n_jobs=-1)]: Done 162 out of 162 | elapsed:    0.5s finished\n",
      "[Parallel(n_jobs=-1)]: Using backend LokyBackend with 4 concurrent workers.\n"
     ]
    },
    {
     "name": "stdout",
     "output_type": "stream",
     "text": [
      "Fitting 3 folds for each of 54 candidates, totalling 162 fits\n"
     ]
    },
    {
     "name": "stderr",
     "output_type": "stream",
     "text": [
      "[Parallel(n_jobs=-1)]: Done 130 tasks      | elapsed:    0.3s\n",
      "[Parallel(n_jobs=-1)]: Done 162 out of 162 | elapsed:    0.5s finished\n",
      "[Parallel(n_jobs=-1)]: Using backend LokyBackend with 4 concurrent workers.\n"
     ]
    },
    {
     "name": "stdout",
     "output_type": "stream",
     "text": [
      "Fitting 3 folds for each of 54 candidates, totalling 162 fits\n"
     ]
    },
    {
     "name": "stderr",
     "output_type": "stream",
     "text": [
      "[Parallel(n_jobs=-1)]: Done 130 tasks      | elapsed:    0.4s\n",
      "[Parallel(n_jobs=-1)]: Done 162 out of 162 | elapsed:    0.5s finished\n",
      "[Parallel(n_jobs=-1)]: Using backend LokyBackend with 4 concurrent workers.\n"
     ]
    },
    {
     "name": "stdout",
     "output_type": "stream",
     "text": [
      "Fitting 3 folds for each of 54 candidates, totalling 162 fits\n"
     ]
    },
    {
     "name": "stderr",
     "output_type": "stream",
     "text": [
      "[Parallel(n_jobs=-1)]: Done 130 tasks      | elapsed:    0.4s\n",
      "[Parallel(n_jobs=-1)]: Done 162 out of 162 | elapsed:    0.5s finished\n",
      "[Parallel(n_jobs=-1)]: Using backend LokyBackend with 4 concurrent workers.\n"
     ]
    },
    {
     "name": "stdout",
     "output_type": "stream",
     "text": [
      "Fitting 3 folds for each of 54 candidates, totalling 162 fits\n"
     ]
    },
    {
     "name": "stderr",
     "output_type": "stream",
     "text": [
      "[Parallel(n_jobs=-1)]: Done 130 tasks      | elapsed:    0.4s\n",
      "[Parallel(n_jobs=-1)]: Done 162 out of 162 | elapsed:    0.5s finished\n",
      "[Parallel(n_jobs=-1)]: Using backend LokyBackend with 4 concurrent workers.\n"
     ]
    },
    {
     "name": "stdout",
     "output_type": "stream",
     "text": [
      "Fitting 3 folds for each of 54 candidates, totalling 162 fits\n"
     ]
    },
    {
     "name": "stderr",
     "output_type": "stream",
     "text": [
      "[Parallel(n_jobs=-1)]: Done 130 tasks      | elapsed:    0.4s\n",
      "[Parallel(n_jobs=-1)]: Done 162 out of 162 | elapsed:    0.5s finished\n",
      "[Parallel(n_jobs=-1)]: Using backend LokyBackend with 4 concurrent workers.\n"
     ]
    },
    {
     "name": "stdout",
     "output_type": "stream",
     "text": [
      "Fitting 3 folds for each of 54 candidates, totalling 162 fits\n"
     ]
    },
    {
     "name": "stderr",
     "output_type": "stream",
     "text": [
      "[Parallel(n_jobs=-1)]: Done 130 tasks      | elapsed:    0.4s\n",
      "[Parallel(n_jobs=-1)]: Done 162 out of 162 | elapsed:    0.5s finished\n",
      "[Parallel(n_jobs=-1)]: Using backend LokyBackend with 4 concurrent workers.\n"
     ]
    },
    {
     "name": "stdout",
     "output_type": "stream",
     "text": [
      "Fitting 3 folds for each of 54 candidates, totalling 162 fits\n"
     ]
    },
    {
     "name": "stderr",
     "output_type": "stream",
     "text": [
      "[Parallel(n_jobs=-1)]: Done 130 tasks      | elapsed:    0.4s\n",
      "[Parallel(n_jobs=-1)]: Done 162 out of 162 | elapsed:    0.5s finished\n"
     ]
    },
    {
     "data": {
      "image/png": "[encoded data removed]",
      "text/plain": [
       "<Figure size 432x288 with 1 Axes>"
      ]
     },
     "metadata": {
      "needs_background": "light"
     },
     "output_type": "display_data"
    },
    {
     "name": "stdout",
     "output_type": "stream",
     "text": [
      "R2 ['SGDRegressor'] 0.26931856668274845\n",
      "RMSE ['SGDRegressor'] 269876.0418425735 \n",
      "\n",
      "Feature selection - RFE\n",
      "ОТОБРАННЫЕ ФАКТОРЫ:\n",
      "['Нефть марки Юралс, долл./барр', 'Индекс потребительских цен, ед.', 'М0, руб', 'М2, руб', 'Номинальная средняя з/п, руб']\n",
      "Fitting 3 folds for each of 54 candidates, totalling 162 fits\n"
     ]
    },
    {
     "name": "stderr",
     "output_type": "stream",
     "text": [
      "[Parallel(n_jobs=-1)]: Using backend LokyBackend with 4 concurrent workers.\n",
      "[Parallel(n_jobs=-1)]: Done 130 tasks      | elapsed:    0.5s\n",
      "[Parallel(n_jobs=-1)]: Done 162 out of 162 | elapsed:    0.6s finished\n"
     ]
    },
    {
     "name": "stdout",
     "output_type": "stream",
     "text": [
      "Fitting 3 folds for each of 54 candidates, totalling 162 fits\n"
     ]
    },
    {
     "name": "stderr",
     "output_type": "stream",
     "text": [
      "[Parallel(n_jobs=-1)]: Using backend LokyBackend with 4 concurrent workers.\n",
      "[Parallel(n_jobs=-1)]: Done 130 tasks      | elapsed:    0.5s\n",
      "[Parallel(n_jobs=-1)]: Done 162 out of 162 | elapsed:    0.7s finished\n",
      "D:\\Anaconda\\lib\\site-packages\\sklearn\\linear_model\\_stochastic_gradient.py:1187: ConvergenceWarning: Maximum number of iteration reached before convergence. Consider increasing max_iter to improve the fit.\n",
      "  ConvergenceWarning)\n",
      "[Parallel(n_jobs=-1)]: Using backend LokyBackend with 4 concurrent workers.\n"
     ]
    },
    {
     "name": "stdout",
     "output_type": "stream",
     "text": [
      "Fitting 3 folds for each of 54 candidates, totalling 162 fits\n"
     ]
    },
    {
     "name": "stderr",
     "output_type": "stream",
     "text": [
      "[Parallel(n_jobs=-1)]: Done 123 tasks      | elapsed:    0.5s\n",
      "[Parallel(n_jobs=-1)]: Done 162 out of 162 | elapsed:    0.7s finished\n"
     ]
    },
    {
     "name": "stdout",
     "output_type": "stream",
     "text": [
      "Fitting 3 folds for each of 54 candidates, totalling 162 fits\n"
     ]
    },
    {
     "name": "stderr",
     "output_type": "stream",
     "text": [
      "[Parallel(n_jobs=-1)]: Using backend LokyBackend with 4 concurrent workers.\n",
      "[Parallel(n_jobs=-1)]: Done 130 tasks      | elapsed:    0.5s\n",
      "[Parallel(n_jobs=-1)]: Done 162 out of 162 | elapsed:    0.6s finished\n"
     ]
    },
    {
     "name": "stdout",
     "output_type": "stream",
     "text": [
      "Fitting 3 folds for each of 54 candidates, totalling 162 fits\n"
     ]
    },
    {
     "name": "stderr",
     "output_type": "stream",
     "text": [
      "[Parallel(n_jobs=-1)]: Using backend LokyBackend with 4 concurrent workers.\n",
      "[Parallel(n_jobs=-1)]: Done 130 tasks      | elapsed:    0.5s\n",
      "[Parallel(n_jobs=-1)]: Done 162 out of 162 | elapsed:    0.6s finished\n",
      "[Parallel(n_jobs=-1)]: Using backend LokyBackend with 4 concurrent workers.\n"
     ]
    },
    {
     "name": "stdout",
     "output_type": "stream",
     "text": [
      "Fitting 3 folds for each of 54 candidates, totalling 162 fits\n"
     ]
    },
    {
     "name": "stderr",
     "output_type": "stream",
     "text": [
      "[Parallel(n_jobs=-1)]: Done 130 tasks      | elapsed:    0.5s\n",
      "[Parallel(n_jobs=-1)]: Done 162 out of 162 | elapsed:    0.6s finished\n",
      "[Parallel(n_jobs=-1)]: Using backend LokyBackend with 4 concurrent workers.\n"
     ]
    },
    {
     "name": "stdout",
     "output_type": "stream",
     "text": [
      "Fitting 3 folds for each of 54 candidates, totalling 162 fits\n"
     ]
    },
    {
     "name": "stderr",
     "output_type": "stream",
     "text": [
      "[Parallel(n_jobs=-1)]: Done 130 tasks      | elapsed:    0.5s\n",
      "[Parallel(n_jobs=-1)]: Done 162 out of 162 | elapsed:    0.6s finished\n"
     ]
    },
    {
     "name": "stdout",
     "output_type": "stream",
     "text": [
      "Fitting 3 folds for each of 54 candidates, totalling 162 fits\n"
     ]
    },
    {
     "name": "stderr",
     "output_type": "stream",
     "text": [
      "[Parallel(n_jobs=-1)]: Using backend LokyBackend with 4 concurrent workers.\n",
      "[Parallel(n_jobs=-1)]: Done 130 tasks      | elapsed:    0.5s\n",
      "[Parallel(n_jobs=-1)]: Done 162 out of 162 | elapsed:    0.7s finished\n",
      "[Parallel(n_jobs=-1)]: Using backend LokyBackend with 4 concurrent workers.\n"
     ]
    },
    {
     "name": "stdout",
     "output_type": "stream",
     "text": [
      "Fitting 3 folds for each of 54 candidates, totalling 162 fits\n"
     ]
    },
    {
     "name": "stderr",
     "output_type": "stream",
     "text": [
      "[Parallel(n_jobs=-1)]: Done 123 tasks      | elapsed:    0.5s\n",
      "[Parallel(n_jobs=-1)]: Done 162 out of 162 | elapsed:    0.7s finished\n",
      "[Parallel(n_jobs=-1)]: Using backend LokyBackend with 4 concurrent workers.\n"
     ]
    },
    {
     "name": "stdout",
     "output_type": "stream",
     "text": [
      "Fitting 3 folds for each of 54 candidates, totalling 162 fits\n"
     ]
    },
    {
     "name": "stderr",
     "output_type": "stream",
     "text": [
      "[Parallel(n_jobs=-1)]: Done 130 tasks      | elapsed:    0.5s\n",
      "[Parallel(n_jobs=-1)]: Done 162 out of 162 | elapsed:    0.7s finished\n",
      "[Parallel(n_jobs=-1)]: Using backend LokyBackend with 4 concurrent workers.\n"
     ]
    },
    {
     "name": "stdout",
     "output_type": "stream",
     "text": [
      "Fitting 3 folds for each of 54 candidates, totalling 162 fits\n"
     ]
    },
    {
     "name": "stderr",
     "output_type": "stream",
     "text": [
      "[Parallel(n_jobs=-1)]: Done 130 tasks      | elapsed:    0.5s\n",
      "[Parallel(n_jobs=-1)]: Done 162 out of 162 | elapsed:    0.7s finished\n",
      "[Parallel(n_jobs=-1)]: Using backend LokyBackend with 4 concurrent workers.\n"
     ]
    },
    {
     "name": "stdout",
     "output_type": "stream",
     "text": [
      "Fitting 3 folds for each of 54 candidates, totalling 162 fits\n"
     ]
    },
    {
     "name": "stderr",
     "output_type": "stream",
     "text": [
      "[Parallel(n_jobs=-1)]: Done 123 tasks      | elapsed:    0.5s\n",
      "[Parallel(n_jobs=-1)]: Done 162 out of 162 | elapsed:    0.6s finished\n"
     ]
    },
    {
     "name": "stdout",
     "output_type": "stream",
     "text": [
      "Fitting 3 folds for each of 54 candidates, totalling 162 fits\n"
     ]
    },
    {
     "name": "stderr",
     "output_type": "stream",
     "text": [
      "[Parallel(n_jobs=-1)]: Using backend LokyBackend with 4 concurrent workers.\n",
      "[Parallel(n_jobs=-1)]: Done 130 tasks      | elapsed:    0.5s\n",
      "[Parallel(n_jobs=-1)]: Done 162 out of 162 | elapsed:    0.6s finished\n",
      "[Parallel(n_jobs=-1)]: Using backend LokyBackend with 4 concurrent workers.\n"
     ]
    },
    {
     "name": "stdout",
     "output_type": "stream",
     "text": [
      "Fitting 3 folds for each of 54 candidates, totalling 162 fits\n"
     ]
    },
    {
     "name": "stderr",
     "output_type": "stream",
     "text": [
      "[Parallel(n_jobs=-1)]: Done 130 tasks      | elapsed:    0.5s\n",
      "[Parallel(n_jobs=-1)]: Done 162 out of 162 | elapsed:    0.6s finished\n"
     ]
    },
    {
     "name": "stdout",
     "output_type": "stream",
     "text": [
      "Fitting 3 folds for each of 54 candidates, totalling 162 fits\n"
     ]
    },
    {
     "name": "stderr",
     "output_type": "stream",
     "text": [
      "[Parallel(n_jobs=-1)]: Using backend LokyBackend with 4 concurrent workers.\n",
      "[Parallel(n_jobs=-1)]: Done 130 tasks      | elapsed:    0.5s\n",
      "[Parallel(n_jobs=-1)]: Done 162 out of 162 | elapsed:    0.6s finished\n"
     ]
    },
    {
     "name": "stdout",
     "output_type": "stream",
     "text": [
      "Fitting 3 folds for each of 54 candidates, totalling 162 fits\n"
     ]
    },
    {
     "name": "stderr",
     "output_type": "stream",
     "text": [
      "[Parallel(n_jobs=-1)]: Using backend LokyBackend with 4 concurrent workers.\n",
      "[Parallel(n_jobs=-1)]: Done 130 tasks      | elapsed:    0.5s\n",
      "[Parallel(n_jobs=-1)]: Done 162 out of 162 | elapsed:    0.7s finished\n"
     ]
    },
    {
     "name": "stdout",
     "output_type": "stream",
     "text": [
      "Fitting 3 folds for each of 54 candidates, totalling 162 fits\n"
     ]
    },
    {
     "name": "stderr",
     "output_type": "stream",
     "text": [
      "[Parallel(n_jobs=-1)]: Using backend LokyBackend with 4 concurrent workers.\n",
      "[Parallel(n_jobs=-1)]: Done 130 tasks      | elapsed:    0.5s\n",
      "[Parallel(n_jobs=-1)]: Done 162 out of 162 | elapsed:    0.6s finished\n"
     ]
    },
    {
     "name": "stdout",
     "output_type": "stream",
     "text": [
      "Fitting 3 folds for each of 54 candidates, totalling 162 fits\n"
     ]
    },
    {
     "name": "stderr",
     "output_type": "stream",
     "text": [
      "[Parallel(n_jobs=-1)]: Using backend LokyBackend with 4 concurrent workers.\n",
      "[Parallel(n_jobs=-1)]: Done 130 tasks      | elapsed:    0.5s\n",
      "[Parallel(n_jobs=-1)]: Done 162 out of 162 | elapsed:    0.7s finished\n"
     ]
    },
    {
     "name": "stdout",
     "output_type": "stream",
     "text": [
      "Fitting 3 folds for each of 54 candidates, totalling 162 fits\n"
     ]
    },
    {
     "name": "stderr",
     "output_type": "stream",
     "text": [
      "[Parallel(n_jobs=-1)]: Using backend LokyBackend with 4 concurrent workers.\n",
      "[Parallel(n_jobs=-1)]: Done 130 tasks      | elapsed:    0.5s\n",
      "[Parallel(n_jobs=-1)]: Done 162 out of 162 | elapsed:    0.7s finished\n",
      "[Parallel(n_jobs=-1)]: Using backend LokyBackend with 4 concurrent workers.\n"
     ]
    },
    {
     "name": "stdout",
     "output_type": "stream",
     "text": [
      "Fitting 3 folds for each of 54 candidates, totalling 162 fits\n"
     ]
    },
    {
     "name": "stderr",
     "output_type": "stream",
     "text": [
      "[Parallel(n_jobs=-1)]: Done 130 tasks      | elapsed:    0.5s\n",
      "[Parallel(n_jobs=-1)]: Done 162 out of 162 | elapsed:    0.6s finished\n"
     ]
    },
    {
     "name": "stdout",
     "output_type": "stream",
     "text": [
      "Fitting 3 folds for each of 54 candidates, totalling 162 fits\n"
     ]
    },
    {
     "name": "stderr",
     "output_type": "stream",
     "text": [
      "[Parallel(n_jobs=-1)]: Using backend LokyBackend with 4 concurrent workers.\n",
      "[Parallel(n_jobs=-1)]: Done 130 tasks      | elapsed:    0.5s\n",
      "[Parallel(n_jobs=-1)]: Done 162 out of 162 | elapsed:    0.7s finished\n",
      "[Parallel(n_jobs=-1)]: Using backend LokyBackend with 4 concurrent workers.\n"
     ]
    },
    {
     "name": "stdout",
     "output_type": "stream",
     "text": [
      "Fitting 3 folds for each of 54 candidates, totalling 162 fits\n"
     ]
    },
    {
     "name": "stderr",
     "output_type": "stream",
     "text": [
      "[Parallel(n_jobs=-1)]: Done 123 tasks      | elapsed:    0.5s\n",
      "[Parallel(n_jobs=-1)]: Done 162 out of 162 | elapsed:    0.6s finished\n",
      "[Parallel(n_jobs=-1)]: Using backend LokyBackend with 4 concurrent workers.\n"
     ]
    },
    {
     "name": "stdout",
     "output_type": "stream",
     "text": [
      "Fitting 3 folds for each of 54 candidates, totalling 162 fits\n"
     ]
    },
    {
     "name": "stderr",
     "output_type": "stream",
     "text": [
      "[Parallel(n_jobs=-1)]: Done 130 tasks      | elapsed:    0.5s\n",
      "[Parallel(n_jobs=-1)]: Done 162 out of 162 | elapsed:    0.7s finished\n"
     ]
    },
    {
     "name": "stdout",
     "output_type": "stream",
     "text": [
      "Fitting 3 folds for each of 54 candidates, totalling 162 fits\n"
     ]
    },
    {
     "name": "stderr",
     "output_type": "stream",
     "text": [
      "[Parallel(n_jobs=-1)]: Using backend LokyBackend with 4 concurrent workers.\n",
      "[Parallel(n_jobs=-1)]: Done 130 tasks      | elapsed:    0.6s\n",
      "[Parallel(n_jobs=-1)]: Done 162 out of 162 | elapsed:    0.8s finished\n"
     ]
    },
    {
     "name": "stdout",
     "output_type": "stream",
     "text": [
      "Fitting 3 folds for each of 54 candidates, totalling 162 fits\n"
     ]
    },
    {
     "name": "stderr",
     "output_type": "stream",
     "text": [
      "[Parallel(n_jobs=-1)]: Using backend LokyBackend with 4 concurrent workers.\n",
      "[Parallel(n_jobs=-1)]: Done 130 tasks      | elapsed:    0.5s\n",
      "[Parallel(n_jobs=-1)]: Done 162 out of 162 | elapsed:    0.7s finished\n",
      "[Parallel(n_jobs=-1)]: Using backend LokyBackend with 4 concurrent workers.\n"
     ]
    },
    {
     "name": "stdout",
     "output_type": "stream",
     "text": [
      "Fitting 3 folds for each of 54 candidates, totalling 162 fits\n"
     ]
    },
    {
     "name": "stderr",
     "output_type": "stream",
     "text": [
      "[Parallel(n_jobs=-1)]: Done 130 tasks      | elapsed:    0.5s\n",
      "[Parallel(n_jobs=-1)]: Done 162 out of 162 | elapsed:    0.7s finished\n"
     ]
    },
    {
     "data": {
      "image/png": "[encoded data removed]",
      "text/plain": [
       "<Figure size 432x288 with 1 Axes>"
      ]
     },
     "metadata": {
      "needs_background": "light"
     },
     "output_type": "display_data"
    },
    {
     "name": "stdout",
     "output_type": "stream",
     "text": [
      "R2 ['SGDRegressor'] -0.750168898554761\n",
      "RMSE ['SGDRegressor'] 286810.43680656044 \n",
      "\n"
     ]
    }
   ],
   "source": [
    "# Градиентный спуск\n",
    "\n",
    "# задаем модель\n",
    "model = SGDRegressor()\n",
    "title = re.findall(r'^\\w+',str(model))\n",
    "print(title)\n",
    "X,y = to_x_y(dt1)\n",
    "# применяем первый фильтр\n",
    "X_selected1,filtr = chi_squar_filter(X,y)\n",
    "print('Feature selection - Хи-квадрат фильтр')\n",
    "selected_features(filtr,X_selected1)\n",
    "# разбитие на тестовую и обучающие выборки, шкалирование\n",
    "X_train, X_test, y_train, y_test = train_test_split(X_selected1, y, test_size=0.2)\n",
    "X_train, X_test = scaling(StandardScaler(),X_train,X_test)\n",
    "# grid search\n",
    "param_grid = {'alpha':[.0001,.001],'loss': ['squared_loss', 'huber', 'epsilon_insensitive'],'penalty': ['l2', 'l1', 'elasticnet'],'learning_rate': ['constant', 'optimal', 'invscaling']}\n",
    "model_grid = GridSearchCV(model, param_grid, cv=3, n_jobs=-1, verbose=True)\n",
    "# print('Best parameters: ', model_grid.best_params_)\n",
    "# обучение модели\n",
    "model_grid.fit(X_train,y_train)\n",
    "y_pred = model_grid.predict(X_test)\n",
    "# кривая обучения\n",
    "plot_learning_curve (model_grid, X_selected1, y, title)\n",
    "# метрики\n",
    "r2_sgd1 = r2_score(y_test, y_pred)\n",
    "print('R2',title, r2_sgd1)\n",
    "rmse_sgd1 = sqrt(mean_squared_error(y_test, y_pred))\n",
    "print('RMSE',title, rmse_sgd1, '\\n')\n",
    "\n",
    "\n",
    "# применяем второй фильтр\n",
    "rfe = RFE(model)\n",
    "rfe = rfe.fit(X,y)\n",
    "X_selected2 = pd.DataFrame(rfe.transform(X))\n",
    "print('Feature selection - RFE')\n",
    "selected_features(rfe,X_selected2)\n",
    "# разбитие на тестовую и обучающие выборки, шкалирование\n",
    "X_train, X_test, y_train, y_test = train_test_split(X_selected2, y, test_size=0.2)\n",
    "X_train, X_test = scaling(StandardScaler(),X_train,X_test)\n",
    "# grid search\n",
    "model_grid = GridSearchCV(model, param_grid, cv=3, n_jobs=-1, verbose=True)\n",
    "# print('Best parameters: ', model_grid.best_params_)\n",
    "# обучение модели\n",
    "model_grid.fit(X_train,y_train)\n",
    "y_pred = model_grid.predict(X_test)\n",
    "# кривая обучения\n",
    "plot_learning_curve (model_grid, X_selected2, y, title)\n",
    "# метрики\n",
    "r2_sgd2 = r2_score(y_test, y_pred)\n",
    "print('R2',title, r2_sgd2)\n",
    "rmse_sgd2 = sqrt(mean_squared_error(y_test, y_pred))\n",
    "print('RMSE',title, rmse_sgd2, '\\n')"
   ]
  },
  {
   "cell_type": "code",
   "execution_count": 20,
   "metadata": {},
   "outputs": [
    {
     "name": "stdout",
     "output_type": "stream",
     "text": [
      "['KNeighborsRegressor']\n",
      "Feature selection - Хи-квадрат фильтр\n",
      "ОТОБРАННЫЕ ФАКТОРЫ:\n",
      "['Нефть марки Юралс, долл./барр', 'М0, руб', 'М2, руб', 'Курс доллара к рублю, руб', 'Номинальная средняя з/п, руб']\n",
      "Fitting 3 folds for each of 12 candidates, totalling 36 fits\n"
     ]
    },
    {
     "name": "stderr",
     "output_type": "stream",
     "text": [
      "[Parallel(n_jobs=-1)]: Using backend LokyBackend with 4 concurrent workers.\n",
      "[Parallel(n_jobs=-1)]: Done  36 out of  36 | elapsed:    3.3s finished\n",
      "[Parallel(n_jobs=-1)]: Using backend LokyBackend with 4 concurrent workers.\n"
     ]
    },
    {
     "name": "stdout",
     "output_type": "stream",
     "text": [
      "Fitting 3 folds for each of 12 candidates, totalling 36 fits\n"
     ]
    },
    {
     "name": "stderr",
     "output_type": "stream",
     "text": [
      "D:\\Anaconda\\lib\\site-packages\\sklearn\\model_selection\\_validation.py:536: FitFailedWarning: Estimator fit failed. The score on this train-test partition for these parameters will be set to nan. Details: \n",
      "ValueError: Expected n_neighbors <= n_samples,  but n_samples = 3, n_neighbors = 5\n",
      "\n",
      "  FitFailedWarning)\n",
      "[Parallel(n_jobs=-1)]: Using backend LokyBackend with 4 concurrent workers.\n"
     ]
    },
    {
     "name": "stdout",
     "output_type": "stream",
     "text": [
      "Fitting 3 folds for each of 12 candidates, totalling 36 fits\n"
     ]
    },
    {
     "name": "stderr",
     "output_type": "stream",
     "text": [
      "[Parallel(n_jobs=-1)]: Done  36 out of  36 | elapsed:    3.0s finished\n",
      "[Parallel(n_jobs=-1)]: Using backend LokyBackend with 4 concurrent workers.\n",
      "[Parallel(n_jobs=-1)]: Done  36 out of  36 | elapsed:    0.1s finished\n"
     ]
    },
    {
     "name": "stdout",
     "output_type": "stream",
     "text": [
      "Fitting 3 folds for each of 12 candidates, totalling 36 fits\n"
     ]
    },
    {
     "name": "stderr",
     "output_type": "stream",
     "text": [
      "[Parallel(n_jobs=-1)]: Using backend LokyBackend with 4 concurrent workers.\n"
     ]
    },
    {
     "name": "stdout",
     "output_type": "stream",
     "text": [
      "Fitting 3 folds for each of 12 candidates, totalling 36 fits\n"
     ]
    },
    {
     "name": "stderr",
     "output_type": "stream",
     "text": [
      "[Parallel(n_jobs=-1)]: Done  36 out of  36 | elapsed:    0.1s finished\n",
      "[Parallel(n_jobs=-1)]: Using backend LokyBackend with 4 concurrent workers.\n",
      "[Parallel(n_jobs=-1)]: Done  36 out of  36 | elapsed:    0.1s finished\n"
     ]
    },
    {
     "name": "stdout",
     "output_type": "stream",
     "text": [
      "Fitting 3 folds for each of 12 candidates, totalling 36 fits\n"
     ]
    },
    {
     "name": "stderr",
     "output_type": "stream",
     "text": [
      "[Parallel(n_jobs=-1)]: Using backend LokyBackend with 4 concurrent workers.\n"
     ]
    },
    {
     "name": "stdout",
     "output_type": "stream",
     "text": [
      "Fitting 3 folds for each of 12 candidates, totalling 36 fits\n"
     ]
    },
    {
     "name": "stderr",
     "output_type": "stream",
     "text": [
      "D:\\Anaconda\\lib\\site-packages\\sklearn\\model_selection\\_validation.py:536: FitFailedWarning: Estimator fit failed. The score on this train-test partition for these parameters will be set to nan. Details: \n",
      "ValueError: Expected n_neighbors <= n_samples,  but n_samples = 3, n_neighbors = 5\n",
      "\n",
      "  FitFailedWarning)\n",
      "[Parallel(n_jobs=-1)]: Using backend LokyBackend with 4 concurrent workers.\n"
     ]
    },
    {
     "name": "stdout",
     "output_type": "stream",
     "text": [
      "Fitting 3 folds for each of 12 candidates, totalling 36 fits\n"
     ]
    },
    {
     "name": "stderr",
     "output_type": "stream",
     "text": [
      "[Parallel(n_jobs=-1)]: Done  36 out of  36 | elapsed:    2.9s finished\n",
      "[Parallel(n_jobs=-1)]: Using backend LokyBackend with 4 concurrent workers.\n"
     ]
    },
    {
     "name": "stdout",
     "output_type": "stream",
     "text": [
      "Fitting 3 folds for each of 12 candidates, totalling 36 fits\n"
     ]
    },
    {
     "name": "stderr",
     "output_type": "stream",
     "text": [
      "[Parallel(n_jobs=-1)]: Done  36 out of  36 | elapsed:    0.1s finished\n",
      "[Parallel(n_jobs=-1)]: Using backend LokyBackend with 4 concurrent workers.\n"
     ]
    },
    {
     "name": "stdout",
     "output_type": "stream",
     "text": [
      "Fitting 3 folds for each of 12 candidates, totalling 36 fits\n"
     ]
    },
    {
     "name": "stderr",
     "output_type": "stream",
     "text": [
      "[Parallel(n_jobs=-1)]: Done  36 out of  36 | elapsed:    0.2s finished\n",
      "[Parallel(n_jobs=-1)]: Using backend LokyBackend with 4 concurrent workers.\n",
      "[Parallel(n_jobs=-1)]: Done  36 out of  36 | elapsed:    0.1s finished\n"
     ]
    },
    {
     "name": "stdout",
     "output_type": "stream",
     "text": [
      "Fitting 3 folds for each of 12 candidates, totalling 36 fits\n",
      "Fitting 3 folds for each of 12 candidates, totalling 36 fits\n"
     ]
    },
    {
     "name": "stderr",
     "output_type": "stream",
     "text": [
      "[Parallel(n_jobs=-1)]: Using backend LokyBackend with 4 concurrent workers.\n",
      "D:\\Anaconda\\lib\\site-packages\\sklearn\\model_selection\\_validation.py:536: FitFailedWarning: Estimator fit failed. The score on this train-test partition for these parameters will be set to nan. Details: \n",
      "ValueError: Expected n_neighbors <= n_samples,  but n_samples = 3, n_neighbors = 5\n",
      "\n",
      "  FitFailedWarning)\n",
      "[Parallel(n_jobs=-1)]: Using backend LokyBackend with 4 concurrent workers.\n"
     ]
    },
    {
     "name": "stdout",
     "output_type": "stream",
     "text": [
      "Fitting 3 folds for each of 12 candidates, totalling 36 fits\n"
     ]
    },
    {
     "name": "stderr",
     "output_type": "stream",
     "text": [
      "[Parallel(n_jobs=-1)]: Done  36 out of  36 | elapsed:    3.0s finished\n",
      "[Parallel(n_jobs=-1)]: Using backend LokyBackend with 4 concurrent workers.\n",
      "[Parallel(n_jobs=-1)]: Done  36 out of  36 | elapsed:    0.1s finished\n"
     ]
    },
    {
     "name": "stdout",
     "output_type": "stream",
     "text": [
      "Fitting 3 folds for each of 12 candidates, totalling 36 fits\n",
      "Fitting 3 folds for each of 12 candidates, totalling 36 fits\n"
     ]
    },
    {
     "name": "stderr",
     "output_type": "stream",
     "text": [
      "[Parallel(n_jobs=-1)]: Using backend LokyBackend with 4 concurrent workers.\n",
      "[Parallel(n_jobs=-1)]: Done  36 out of  36 | elapsed:    0.1s finished\n"
     ]
    },
    {
     "name": "stdout",
     "output_type": "stream",
     "text": [
      "Fitting 3 folds for each of 12 candidates, totalling 36 fits\n"
     ]
    },
    {
     "name": "stderr",
     "output_type": "stream",
     "text": [
      "[Parallel(n_jobs=-1)]: Using backend LokyBackend with 4 concurrent workers.\n",
      "[Parallel(n_jobs=-1)]: Done  36 out of  36 | elapsed:    0.1s finished\n"
     ]
    },
    {
     "name": "stdout",
     "output_type": "stream",
     "text": [
      "Fitting 3 folds for each of 12 candidates, totalling 36 fits\n"
     ]
    },
    {
     "name": "stderr",
     "output_type": "stream",
     "text": [
      "[Parallel(n_jobs=-1)]: Using backend LokyBackend with 4 concurrent workers.\n",
      "D:\\Anaconda\\lib\\site-packages\\sklearn\\model_selection\\_validation.py:536: FitFailedWarning: Estimator fit failed. The score on this train-test partition for these parameters will be set to nan. Details: \n",
      "ValueError: Expected n_neighbors <= n_samples,  but n_samples = 3, n_neighbors = 5\n",
      "\n",
      "  FitFailedWarning)\n",
      "[Parallel(n_jobs=-1)]: Using backend LokyBackend with 4 concurrent workers.\n"
     ]
    },
    {
     "name": "stdout",
     "output_type": "stream",
     "text": [
      "Fitting 3 folds for each of 12 candidates, totalling 36 fits\n"
     ]
    },
    {
     "name": "stderr",
     "output_type": "stream",
     "text": [
      "[Parallel(n_jobs=-1)]: Done  36 out of  36 | elapsed:    2.9s finished\n",
      "[Parallel(n_jobs=-1)]: Using backend LokyBackend with 4 concurrent workers.\n",
      "[Parallel(n_jobs=-1)]: Done  36 out of  36 | elapsed:    0.1s finished\n"
     ]
    },
    {
     "name": "stdout",
     "output_type": "stream",
     "text": [
      "Fitting 3 folds for each of 12 candidates, totalling 36 fits\n"
     ]
    },
    {
     "name": "stderr",
     "output_type": "stream",
     "text": [
      "[Parallel(n_jobs=-1)]: Using backend LokyBackend with 4 concurrent workers.\n",
      "[Parallel(n_jobs=-1)]: Done  36 out of  36 | elapsed:    0.1s finished\n"
     ]
    },
    {
     "name": "stdout",
     "output_type": "stream",
     "text": [
      "Fitting 3 folds for each of 12 candidates, totalling 36 fits\n"
     ]
    },
    {
     "name": "stderr",
     "output_type": "stream",
     "text": [
      "[Parallel(n_jobs=-1)]: Using backend LokyBackend with 4 concurrent workers.\n",
      "[Parallel(n_jobs=-1)]: Done  36 out of  36 | elapsed:    0.1s finished\n"
     ]
    },
    {
     "name": "stdout",
     "output_type": "stream",
     "text": [
      "Fitting 3 folds for each of 12 candidates, totalling 36 fits\n"
     ]
    },
    {
     "name": "stderr",
     "output_type": "stream",
     "text": [
      "[Parallel(n_jobs=-1)]: Using backend LokyBackend with 4 concurrent workers.\n"
     ]
    },
    {
     "name": "stdout",
     "output_type": "stream",
     "text": [
      "Fitting 3 folds for each of 12 candidates, totalling 36 fits\n"
     ]
    },
    {
     "name": "stderr",
     "output_type": "stream",
     "text": [
      "D:\\Anaconda\\lib\\site-packages\\sklearn\\model_selection\\_validation.py:536: FitFailedWarning: Estimator fit failed. The score on this train-test partition for these parameters will be set to nan. Details: \n",
      "ValueError: Expected n_neighbors <= n_samples,  but n_samples = 3, n_neighbors = 5\n",
      "\n",
      "  FitFailedWarning)\n",
      "[Parallel(n_jobs=-1)]: Using backend LokyBackend with 4 concurrent workers.\n"
     ]
    },
    {
     "name": "stdout",
     "output_type": "stream",
     "text": [
      "Fitting 3 folds for each of 12 candidates, totalling 36 fits\n"
     ]
    },
    {
     "name": "stderr",
     "output_type": "stream",
     "text": [
      "[Parallel(n_jobs=-1)]: Done  36 out of  36 | elapsed:    3.0s finished\n",
      "[Parallel(n_jobs=-1)]: Using backend LokyBackend with 4 concurrent workers.\n",
      "[Parallel(n_jobs=-1)]: Done  36 out of  36 | elapsed:    0.1s finished\n"
     ]
    },
    {
     "name": "stdout",
     "output_type": "stream",
     "text": [
      "Fitting 3 folds for each of 12 candidates, totalling 36 fits\n",
      "Fitting 3 folds for each of 12 candidates, totalling 36 fits\n"
     ]
    },
    {
     "name": "stderr",
     "output_type": "stream",
     "text": [
      "[Parallel(n_jobs=-1)]: Using backend LokyBackend with 4 concurrent workers.\n",
      "[Parallel(n_jobs=-1)]: Done  36 out of  36 | elapsed:    0.1s finished\n"
     ]
    },
    {
     "name": "stdout",
     "output_type": "stream",
     "text": [
      "Fitting 3 folds for each of 12 candidates, totalling 36 fits\n"
     ]
    },
    {
     "name": "stderr",
     "output_type": "stream",
     "text": [
      "[Parallel(n_jobs=-1)]: Using backend LokyBackend with 4 concurrent workers.\n",
      "[Parallel(n_jobs=-1)]: Done  36 out of  36 | elapsed:    0.1s finished\n"
     ]
    },
    {
     "data": {
      "image/png": "[encoded data removed]",
      "text/plain": [
       "<Figure size 432x288 with 1 Axes>"
      ]
     },
     "metadata": {
      "needs_background": "light"
     },
     "output_type": "display_data"
    },
    {
     "name": "stdout",
     "output_type": "stream",
     "text": [
      "R2 ['KNeighborsRegressor'] 0.11742134094139689\n",
      "RMSE ['KNeighborsRegressor'] 237540.46155912307 \n",
      "\n",
      "фильтр RFE не применим для данной модели\n"
     ]
    }
   ],
   "source": [
    "# Метод k ближайших соседей\n",
    "\n",
    "# задаем модель\n",
    "model = KNeighborsRegressor()\n",
    "{'max_depth': [3, 5, 10],'max_features': [3, 4, 5]}\n",
    "title = re.findall(r'^\\w+',str(model))\n",
    "print(title)\n",
    "X,y = to_x_y(dt1)\n",
    "# применяем первый фильтр\n",
    "X_selected1,filtr = chi_squar_filter(X,y)\n",
    "print('Feature selection - Хи-квадрат фильтр')\n",
    "selected_features(filtr,X_selected1)\n",
    "# разбитие на тестовую и обучающие выборки, шкалирование\n",
    "X_train, X_test, y_train, y_test = train_test_split(X_selected1, y, test_size=0.2)\n",
    "X_train, X_test = scaling(StandardScaler(),X_train,X_test)\n",
    "# grid search\n",
    "param_grid = {'n_neighbors': np.arange(1, 12, 2),'weights': ['uniform', 'distance']}\n",
    "model_grid = GridSearchCV(model, param_grid, cv=3, n_jobs=-1, verbose=True)\n",
    "# print('Best parameters: ', model_grid.best_params_)\n",
    "# обучение модели\n",
    "model_grid.fit(X_train,y_train)\n",
    "y_pred = model_grid.predict(X_test)\n",
    "# кривая обучения\n",
    "plot_learning_curve (model_grid, X_selected1, y, title)\n",
    "# метрики\n",
    "r2_kneigh = r2_score(y_test, y_pred)\n",
    "print('R2',title, r2_kneigh)\n",
    "rmse_kneigh = sqrt(mean_squared_error(y_test, y_pred))\n",
    "print('RMSE',title, rmse_kneigh, '\\n')\n",
    "\n",
    "print('фильтр RFE не применим для данной модели')"
   ]
  },
  {
   "cell_type": "code",
   "execution_count": 23,
   "metadata": {},
   "outputs": [
    {
     "name": "stdout",
     "output_type": "stream",
     "text": [
      "['DecisionTreeRegressor']\n",
      "Feature selection - Хи-квадрат фильтр\n",
      "ОТОБРАННЫЕ ФАКТОРЫ:\n",
      "['Нефть марки Юралс, долл./барр', 'М0, руб', 'М2, руб', 'Курс доллара к рублю, руб', 'Номинальная средняя з/п, руб']\n",
      "Fitting 3 folds for each of 9 candidates, totalling 27 fits\n",
      "Fitting 3 folds for each of 9 candidates, totalling 27 fits\n"
     ]
    },
    {
     "name": "stderr",
     "output_type": "stream",
     "text": [
      "[Parallel(n_jobs=-1)]: Using backend LokyBackend with 4 concurrent workers.\n",
      "[Parallel(n_jobs=-1)]: Done  20 out of  27 | elapsed:    0.0s remaining:    0.0s\n",
      "[Parallel(n_jobs=-1)]: Done  27 out of  27 | elapsed:    0.0s finished\n",
      "[Parallel(n_jobs=-1)]: Using backend LokyBackend with 4 concurrent workers.\n",
      "[Parallel(n_jobs=-1)]: Done  20 out of  27 | elapsed:    0.0s remaining:    0.0s\n",
      "[Parallel(n_jobs=-1)]: Done  27 out of  27 | elapsed:    0.0s finished\n",
      "[Parallel(n_jobs=-1)]: Using backend LokyBackend with 4 concurrent workers.\n",
      "[Parallel(n_jobs=-1)]: Done  20 out of  27 | elapsed:    0.0s remaining:    0.0s\n",
      "[Parallel(n_jobs=-1)]: Done  27 out of  27 | elapsed:    0.0s finished\n",
      "[Parallel(n_jobs=-1)]: Using backend LokyBackend with 4 concurrent workers.\n"
     ]
    },
    {
     "name": "stdout",
     "output_type": "stream",
     "text": [
      "Fitting 3 folds for each of 9 candidates, totalling 27 fits\n",
      "Fitting 3 folds for each of 9 candidates, totalling 27 fits\n"
     ]
    },
    {
     "name": "stderr",
     "output_type": "stream",
     "text": [
      "[Parallel(n_jobs=-1)]: Done  20 out of  27 | elapsed:    0.0s remaining:    0.0s\n",
      "[Parallel(n_jobs=-1)]: Done  27 out of  27 | elapsed:    0.0s finished\n",
      "[Parallel(n_jobs=-1)]: Using backend LokyBackend with 4 concurrent workers.\n",
      "[Parallel(n_jobs=-1)]: Done  20 out of  27 | elapsed:    0.0s remaining:    0.0s\n",
      "[Parallel(n_jobs=-1)]: Done  27 out of  27 | elapsed:    0.0s finished\n",
      "[Parallel(n_jobs=-1)]: Using backend LokyBackend with 4 concurrent workers.\n"
     ]
    },
    {
     "name": "stdout",
     "output_type": "stream",
     "text": [
      "Fitting 3 folds for each of 9 candidates, totalling 27 fits\n",
      "Fitting 3 folds for each of 9 candidates, totalling 27 fits\n"
     ]
    },
    {
     "name": "stderr",
     "output_type": "stream",
     "text": [
      "[Parallel(n_jobs=-1)]: Done  20 out of  27 | elapsed:    0.0s remaining:    0.0s\n",
      "[Parallel(n_jobs=-1)]: Done  27 out of  27 | elapsed:    0.0s finished\n",
      "[Parallel(n_jobs=-1)]: Using backend LokyBackend with 4 concurrent workers.\n",
      "[Parallel(n_jobs=-1)]: Done  20 out of  27 | elapsed:    0.0s remaining:    0.0s\n",
      "[Parallel(n_jobs=-1)]: Done  27 out of  27 | elapsed:    0.0s finished\n",
      "[Parallel(n_jobs=-1)]: Using backend LokyBackend with 4 concurrent workers.\n"
     ]
    },
    {
     "name": "stdout",
     "output_type": "stream",
     "text": [
      "Fitting 3 folds for each of 9 candidates, totalling 27 fits\n",
      "Fitting 3 folds for each of 9 candidates, totalling 27 fits\n"
     ]
    },
    {
     "name": "stderr",
     "output_type": "stream",
     "text": [
      "[Parallel(n_jobs=-1)]: Done  20 out of  27 | elapsed:    0.0s remaining:    0.0s\n",
      "[Parallel(n_jobs=-1)]: Done  27 out of  27 | elapsed:    0.0s finished\n",
      "[Parallel(n_jobs=-1)]: Using backend LokyBackend with 4 concurrent workers.\n",
      "[Parallel(n_jobs=-1)]: Done  20 out of  27 | elapsed:    0.0s remaining:    0.0s\n",
      "[Parallel(n_jobs=-1)]: Done  27 out of  27 | elapsed:    0.0s finished\n",
      "[Parallel(n_jobs=-1)]: Using backend LokyBackend with 4 concurrent workers.\n"
     ]
    },
    {
     "name": "stdout",
     "output_type": "stream",
     "text": [
      "Fitting 3 folds for each of 9 candidates, totalling 27 fits\n",
      "Fitting 3 folds for each of 9 candidates, totalling 27 fits\n"
     ]
    },
    {
     "name": "stderr",
     "output_type": "stream",
     "text": [
      "[Parallel(n_jobs=-1)]: Done  20 out of  27 | elapsed:    0.0s remaining:    0.0s\n",
      "[Parallel(n_jobs=-1)]: Done  27 out of  27 | elapsed:    0.0s finished\n",
      "[Parallel(n_jobs=-1)]: Using backend LokyBackend with 4 concurrent workers.\n",
      "[Parallel(n_jobs=-1)]: Done  20 out of  27 | elapsed:    0.0s remaining:    0.0s\n",
      "[Parallel(n_jobs=-1)]: Done  27 out of  27 | elapsed:    0.0s finished\n",
      "[Parallel(n_jobs=-1)]: Using backend LokyBackend with 4 concurrent workers.\n"
     ]
    },
    {
     "name": "stdout",
     "output_type": "stream",
     "text": [
      "Fitting 3 folds for each of 9 candidates, totalling 27 fits\n",
      "Fitting 3 folds for each of 9 candidates, totalling 27 fits\n"
     ]
    },
    {
     "name": "stderr",
     "output_type": "stream",
     "text": [
      "[Parallel(n_jobs=-1)]: Done  20 out of  27 | elapsed:    0.0s remaining:    0.0s\n",
      "[Parallel(n_jobs=-1)]: Done  27 out of  27 | elapsed:    0.0s finished\n",
      "[Parallel(n_jobs=-1)]: Using backend LokyBackend with 4 concurrent workers.\n",
      "[Parallel(n_jobs=-1)]: Done  20 out of  27 | elapsed:    0.0s remaining:    0.0s\n",
      "[Parallel(n_jobs=-1)]: Done  27 out of  27 | elapsed:    0.0s finished\n",
      "[Parallel(n_jobs=-1)]: Using backend LokyBackend with 4 concurrent workers.\n"
     ]
    },
    {
     "name": "stdout",
     "output_type": "stream",
     "text": [
      "Fitting 3 folds for each of 9 candidates, totalling 27 fits\n",
      "Fitting 3 folds for each of 9 candidates, totalling 27 fits\n"
     ]
    },
    {
     "name": "stderr",
     "output_type": "stream",
     "text": [
      "[Parallel(n_jobs=-1)]: Done  20 out of  27 | elapsed:    0.0s remaining:    0.0s\n",
      "[Parallel(n_jobs=-1)]: Done  27 out of  27 | elapsed:    0.0s finished\n",
      "[Parallel(n_jobs=-1)]: Using backend LokyBackend with 4 concurrent workers.\n",
      "[Parallel(n_jobs=-1)]: Done  20 out of  27 | elapsed:    0.0s remaining:    0.0s\n",
      "[Parallel(n_jobs=-1)]: Done  27 out of  27 | elapsed:    0.0s finished\n",
      "[Parallel(n_jobs=-1)]: Using backend LokyBackend with 4 concurrent workers.\n"
     ]
    },
    {
     "name": "stdout",
     "output_type": "stream",
     "text": [
      "Fitting 3 folds for each of 9 candidates, totalling 27 fits\n",
      "Fitting 3 folds for each of 9 candidates, totalling 27 fits\n"
     ]
    },
    {
     "name": "stderr",
     "output_type": "stream",
     "text": [
      "[Parallel(n_jobs=-1)]: Done  20 out of  27 | elapsed:    0.0s remaining:    0.0s\n",
      "[Parallel(n_jobs=-1)]: Done  27 out of  27 | elapsed:    0.0s finished\n",
      "[Parallel(n_jobs=-1)]: Using backend LokyBackend with 4 concurrent workers.\n",
      "[Parallel(n_jobs=-1)]: Done  20 out of  27 | elapsed:    0.0s remaining:    0.0s\n",
      "[Parallel(n_jobs=-1)]: Done  27 out of  27 | elapsed:    0.0s finished\n",
      "[Parallel(n_jobs=-1)]: Using backend LokyBackend with 4 concurrent workers.\n"
     ]
    },
    {
     "name": "stdout",
     "output_type": "stream",
     "text": [
      "Fitting 3 folds for each of 9 candidates, totalling 27 fits\n",
      "Fitting 3 folds for each of 9 candidates, totalling 27 fits\n"
     ]
    },
    {
     "name": "stderr",
     "output_type": "stream",
     "text": [
      "[Parallel(n_jobs=-1)]: Done  20 out of  27 | elapsed:    0.0s remaining:    0.0s\n",
      "[Parallel(n_jobs=-1)]: Done  27 out of  27 | elapsed:    0.0s finished\n",
      "[Parallel(n_jobs=-1)]: Using backend LokyBackend with 4 concurrent workers.\n",
      "[Parallel(n_jobs=-1)]: Done  20 out of  27 | elapsed:    0.0s remaining:    0.0s\n",
      "[Parallel(n_jobs=-1)]: Done  27 out of  27 | elapsed:    0.0s finished\n",
      "[Parallel(n_jobs=-1)]: Using backend LokyBackend with 4 concurrent workers.\n"
     ]
    },
    {
     "name": "stdout",
     "output_type": "stream",
     "text": [
      "Fitting 3 folds for each of 9 candidates, totalling 27 fits\n",
      "Fitting 3 folds for each of 9 candidates, totalling 27 fits\n"
     ]
    },
    {
     "name": "stderr",
     "output_type": "stream",
     "text": [
      "[Parallel(n_jobs=-1)]: Done  20 out of  27 | elapsed:    0.0s remaining:    0.0s\n",
      "[Parallel(n_jobs=-1)]: Done  27 out of  27 | elapsed:    0.0s finished\n",
      "[Parallel(n_jobs=-1)]: Using backend LokyBackend with 4 concurrent workers.\n",
      "[Parallel(n_jobs=-1)]: Done  20 out of  27 | elapsed:    0.0s remaining:    0.0s\n",
      "[Parallel(n_jobs=-1)]: Done  27 out of  27 | elapsed:    0.0s finished\n",
      "[Parallel(n_jobs=-1)]: Using backend LokyBackend with 4 concurrent workers.\n"
     ]
    },
    {
     "name": "stdout",
     "output_type": "stream",
     "text": [
      "Fitting 3 folds for each of 9 candidates, totalling 27 fits\n",
      "Fitting 3 folds for each of 9 candidates, totalling 27 fits\n"
     ]
    },
    {
     "name": "stderr",
     "output_type": "stream",
     "text": [
      "[Parallel(n_jobs=-1)]: Done  20 out of  27 | elapsed:    0.0s remaining:    0.0s\n",
      "[Parallel(n_jobs=-1)]: Done  27 out of  27 | elapsed:    0.0s finished\n",
      "[Parallel(n_jobs=-1)]: Using backend LokyBackend with 4 concurrent workers.\n",
      "[Parallel(n_jobs=-1)]: Done  20 out of  27 | elapsed:    0.0s remaining:    0.0s\n",
      "[Parallel(n_jobs=-1)]: Done  27 out of  27 | elapsed:    0.0s finished\n",
      "[Parallel(n_jobs=-1)]: Using backend LokyBackend with 4 concurrent workers.\n"
     ]
    },
    {
     "name": "stdout",
     "output_type": "stream",
     "text": [
      "Fitting 3 folds for each of 9 candidates, totalling 27 fits\n",
      "Fitting 3 folds for each of 9 candidates, totalling 27 fits\n"
     ]
    },
    {
     "name": "stderr",
     "output_type": "stream",
     "text": [
      "[Parallel(n_jobs=-1)]: Done  20 out of  27 | elapsed:    0.0s remaining:    0.0s\n",
      "[Parallel(n_jobs=-1)]: Done  27 out of  27 | elapsed:    0.0s finished\n",
      "[Parallel(n_jobs=-1)]: Using backend LokyBackend with 4 concurrent workers.\n",
      "[Parallel(n_jobs=-1)]: Done  20 out of  27 | elapsed:    0.0s remaining:    0.0s\n",
      "[Parallel(n_jobs=-1)]: Done  27 out of  27 | elapsed:    0.0s finished\n",
      "[Parallel(n_jobs=-1)]: Using backend LokyBackend with 4 concurrent workers.\n"
     ]
    },
    {
     "name": "stdout",
     "output_type": "stream",
     "text": [
      "Fitting 3 folds for each of 9 candidates, totalling 27 fits\n",
      "Fitting 3 folds for each of 9 candidates, totalling 27 fits\n"
     ]
    },
    {
     "name": "stderr",
     "output_type": "stream",
     "text": [
      "[Parallel(n_jobs=-1)]: Done  20 out of  27 | elapsed:    0.0s remaining:    0.0s\n",
      "[Parallel(n_jobs=-1)]: Done  27 out of  27 | elapsed:    0.1s finished\n"
     ]
    },
    {
     "data": {
      "image/png": "[encoded data removed]",
      "text/plain": [
       "<Figure size 432x288 with 1 Axes>"
      ]
     },
     "metadata": {
      "needs_background": "light"
     },
     "output_type": "display_data"
    },
    {
     "name": "stdout",
     "output_type": "stream",
     "text": [
      "R2 ['DecisionTreeRegressor'] 0.18617073376307858\n",
      "RMSE ['DecisionTreeRegressor'] 99416.3833963051 \n",
      "\n",
      "Feature selection - RFE\n",
      "ОТОБРАННЫЕ ФАКТОРЫ:\n",
      "['Доходность ОФЗ по сроку до 1 года', 'Ставка по вкладам в долларах до 1 года', 'Нефть марки Юралс, долл./барр', 'М0, руб', 'Номинальная средняя з/п, руб']\n",
      "Fitting 3 folds for each of 9 candidates, totalling 27 fits\n",
      "Fitting 3 folds for each of 9 candidates, totalling 27 fits"
     ]
    },
    {
     "name": "stderr",
     "output_type": "stream",
     "text": [
      "[Parallel(n_jobs=-1)]: Using backend LokyBackend with 4 concurrent workers.\n",
      "[Parallel(n_jobs=-1)]: Done  20 out of  27 | elapsed:    0.0s remaining:    0.0s\n",
      "[Parallel(n_jobs=-1)]: Done  27 out of  27 | elapsed:    0.0s finished\n",
      "[Parallel(n_jobs=-1)]: Using backend LokyBackend with 4 concurrent workers.\n"
     ]
    },
    {
     "name": "stdout",
     "output_type": "stream",
     "text": [
      "\n"
     ]
    },
    {
     "name": "stderr",
     "output_type": "stream",
     "text": [
      "[Parallel(n_jobs=-1)]: Done  20 out of  27 | elapsed:    0.0s remaining:    0.0s\n",
      "[Parallel(n_jobs=-1)]: Done  27 out of  27 | elapsed:    0.1s finished\n",
      "[Parallel(n_jobs=-1)]: Using backend LokyBackend with 4 concurrent workers.\n",
      "[Parallel(n_jobs=-1)]: Done  20 out of  27 | elapsed:    0.0s remaining:    0.0s\n"
     ]
    },
    {
     "name": "stdout",
     "output_type": "stream",
     "text": [
      "Fitting 3 folds for each of 9 candidates, totalling 27 fits\n",
      "Fitting 3 folds for each of 9 candidates, totalling 27 fits"
     ]
    },
    {
     "name": "stderr",
     "output_type": "stream",
     "text": [
      "[Parallel(n_jobs=-1)]: Done  27 out of  27 | elapsed:    0.1s finished\n",
      "[Parallel(n_jobs=-1)]: Using backend LokyBackend with 4 concurrent workers.\n",
      "[Parallel(n_jobs=-1)]: Done  20 out of  27 | elapsed:    0.0s remaining:    0.0s\n",
      "[Parallel(n_jobs=-1)]: Done  27 out of  27 | elapsed:    0.0s finished\n"
     ]
    },
    {
     "name": "stdout",
     "output_type": "stream",
     "text": [
      "\n",
      "Fitting 3 folds for each of 9 candidates, totalling 27 fits\n"
     ]
    },
    {
     "name": "stderr",
     "output_type": "stream",
     "text": [
      "[Parallel(n_jobs=-1)]: Using backend LokyBackend with 4 concurrent workers.\n",
      "[Parallel(n_jobs=-1)]: Done  20 out of  27 | elapsed:    0.0s remaining:    0.0s\n",
      "[Parallel(n_jobs=-1)]: Done  27 out of  27 | elapsed:    0.1s finished\n",
      "[Parallel(n_jobs=-1)]: Using backend LokyBackend with 4 concurrent workers.\n"
     ]
    },
    {
     "name": "stdout",
     "output_type": "stream",
     "text": [
      "Fitting 3 folds for each of 9 candidates, totalling 27 fits\n",
      "Fitting 3 folds for each of 9 candidates, totalling 27 fits\n"
     ]
    },
    {
     "name": "stderr",
     "output_type": "stream",
     "text": [
      "[Parallel(n_jobs=-1)]: Done  20 out of  27 | elapsed:    0.0s remaining:    0.0s\n",
      "[Parallel(n_jobs=-1)]: Done  27 out of  27 | elapsed:    0.0s finished\n",
      "[Parallel(n_jobs=-1)]: Using backend LokyBackend with 4 concurrent workers.\n",
      "[Parallel(n_jobs=-1)]: Done  20 out of  27 | elapsed:    0.0s remaining:    0.0s\n",
      "[Parallel(n_jobs=-1)]: Done  27 out of  27 | elapsed:    0.1s finished\n",
      "[Parallel(n_jobs=-1)]: Using backend LokyBackend with 4 concurrent workers.\n",
      "[Parallel(n_jobs=-1)]: Done  20 out of  27 | elapsed:    0.0s remaining:    0.0s\n",
      "[Parallel(n_jobs=-1)]: Done  27 out of  27 | elapsed:    0.0s finished\n",
      "[Parallel(n_jobs=-1)]: Using backend LokyBackend with 4 concurrent workers.\n"
     ]
    },
    {
     "name": "stdout",
     "output_type": "stream",
     "text": [
      "Fitting 3 folds for each of 9 candidates, totalling 27 fits\n",
      "Fitting 3 folds for each of 9 candidates, totalling 27 fits\n"
     ]
    },
    {
     "name": "stderr",
     "output_type": "stream",
     "text": [
      "[Parallel(n_jobs=-1)]: Done  20 out of  27 | elapsed:    0.0s remaining:    0.0s\n",
      "[Parallel(n_jobs=-1)]: Done  27 out of  27 | elapsed:    0.0s finished\n",
      "[Parallel(n_jobs=-1)]: Using backend LokyBackend with 4 concurrent workers.\n",
      "[Parallel(n_jobs=-1)]: Done  20 out of  27 | elapsed:    0.0s remaining:    0.0s\n",
      "[Parallel(n_jobs=-1)]: Done  27 out of  27 | elapsed:    0.0s finished\n"
     ]
    },
    {
     "name": "stdout",
     "output_type": "stream",
     "text": [
      "Fitting 3 folds for each of 9 candidates, totalling 27 fits\n",
      "Fitting 3 folds for each of 9 candidates, totalling 27 fits\n"
     ]
    },
    {
     "name": "stderr",
     "output_type": "stream",
     "text": [
      "[Parallel(n_jobs=-1)]: Using backend LokyBackend with 4 concurrent workers.\n",
      "[Parallel(n_jobs=-1)]: Done  20 out of  27 | elapsed:    0.0s remaining:    0.0s\n",
      "[Parallel(n_jobs=-1)]: Done  27 out of  27 | elapsed:    0.1s finished\n",
      "[Parallel(n_jobs=-1)]: Using backend LokyBackend with 4 concurrent workers.\n"
     ]
    },
    {
     "name": "stdout",
     "output_type": "stream",
     "text": [
      "Fitting 3 folds for each of 9 candidates, totalling 27 fits\n",
      "Fitting 3 folds for each of 9 candidates, totalling 27 fits\n"
     ]
    },
    {
     "name": "stderr",
     "output_type": "stream",
     "text": [
      "[Parallel(n_jobs=-1)]: Done  20 out of  27 | elapsed:    0.0s remaining:    0.0s\n",
      "[Parallel(n_jobs=-1)]: Done  27 out of  27 | elapsed:    0.1s finished\n",
      "[Parallel(n_jobs=-1)]: Using backend LokyBackend with 4 concurrent workers.\n",
      "[Parallel(n_jobs=-1)]: Done  20 out of  27 | elapsed:    0.0s remaining:    0.0s\n",
      "[Parallel(n_jobs=-1)]: Done  27 out of  27 | elapsed:    0.1s finished\n",
      "[Parallel(n_jobs=-1)]: Using backend LokyBackend with 4 concurrent workers.\n",
      "[Parallel(n_jobs=-1)]: Done  20 out of  27 | elapsed:    0.0s remaining:    0.0s\n",
      "[Parallel(n_jobs=-1)]: Done  27 out of  27 | elapsed:    0.0s finished\n"
     ]
    },
    {
     "name": "stdout",
     "output_type": "stream",
     "text": [
      "Fitting 3 folds for each of 9 candidates, totalling 27 fits\n",
      "Fitting 3 folds for each of 9 candidates, totalling 27 fits\n"
     ]
    },
    {
     "name": "stderr",
     "output_type": "stream",
     "text": [
      "[Parallel(n_jobs=-1)]: Using backend LokyBackend with 4 concurrent workers.\n",
      "[Parallel(n_jobs=-1)]: Done  20 out of  27 | elapsed:    0.0s remaining:    0.0s\n",
      "[Parallel(n_jobs=-1)]: Done  27 out of  27 | elapsed:    0.1s finished\n"
     ]
    },
    {
     "name": "stdout",
     "output_type": "stream",
     "text": [
      "Fitting 3 folds for each of 9 candidates, totalling 27 fits\n",
      "Fitting 3 folds for each of 9 candidates, totalling 27 fits\n"
     ]
    },
    {
     "name": "stderr",
     "output_type": "stream",
     "text": [
      "[Parallel(n_jobs=-1)]: Using backend LokyBackend with 4 concurrent workers.\n",
      "[Parallel(n_jobs=-1)]: Done  20 out of  27 | elapsed:    0.0s remaining:    0.0s\n",
      "[Parallel(n_jobs=-1)]: Done  27 out of  27 | elapsed:    0.0s finished\n",
      "[Parallel(n_jobs=-1)]: Using backend LokyBackend with 4 concurrent workers.\n",
      "[Parallel(n_jobs=-1)]: Done  20 out of  27 | elapsed:    0.0s remaining:    0.0s\n",
      "[Parallel(n_jobs=-1)]: Done  27 out of  27 | elapsed:    0.1s finished\n",
      "[Parallel(n_jobs=-1)]: Using backend LokyBackend with 4 concurrent workers.\n",
      "[Parallel(n_jobs=-1)]: Done  20 out of  27 | elapsed:    0.0s remaining:    0.0s\n",
      "[Parallel(n_jobs=-1)]: Done  27 out of  27 | elapsed:    0.0s finished\n"
     ]
    },
    {
     "name": "stdout",
     "output_type": "stream",
     "text": [
      "Fitting 3 folds for each of 9 candidates, totalling 27 fits\n",
      "Fitting 3 folds for each of 9 candidates, totalling 27 fits\n"
     ]
    },
    {
     "name": "stderr",
     "output_type": "stream",
     "text": [
      "[Parallel(n_jobs=-1)]: Using backend LokyBackend with 4 concurrent workers.\n",
      "[Parallel(n_jobs=-1)]: Done  20 out of  27 | elapsed:    0.0s remaining:    0.0s\n",
      "[Parallel(n_jobs=-1)]: Done  27 out of  27 | elapsed:    0.0s finished\n",
      "[Parallel(n_jobs=-1)]: Using backend LokyBackend with 4 concurrent workers.\n"
     ]
    },
    {
     "name": "stdout",
     "output_type": "stream",
     "text": [
      "Fitting 3 folds for each of 9 candidates, totalling 27 fits\n",
      "Fitting 3 folds for each of 9 candidates, totalling 27 fits\n"
     ]
    },
    {
     "name": "stderr",
     "output_type": "stream",
     "text": [
      "[Parallel(n_jobs=-1)]: Done  20 out of  27 | elapsed:    0.0s remaining:    0.0s\n",
      "[Parallel(n_jobs=-1)]: Done  27 out of  27 | elapsed:    0.1s finished\n",
      "[Parallel(n_jobs=-1)]: Using backend LokyBackend with 4 concurrent workers.\n",
      "[Parallel(n_jobs=-1)]: Done  20 out of  27 | elapsed:    0.0s remaining:    0.0s\n",
      "[Parallel(n_jobs=-1)]: Done  27 out of  27 | elapsed:    0.0s finished\n",
      "[Parallel(n_jobs=-1)]: Using backend LokyBackend with 4 concurrent workers.\n",
      "[Parallel(n_jobs=-1)]: Done  20 out of  27 | elapsed:    0.0s remaining:    0.0s\n",
      "[Parallel(n_jobs=-1)]: Done  27 out of  27 | elapsed:    0.1s finished\n"
     ]
    },
    {
     "name": "stdout",
     "output_type": "stream",
     "text": [
      "Fitting 3 folds for each of 9 candidates, totalling 27 fits\n",
      "Fitting 3 folds for each of 9 candidates, totalling 27 fits\n"
     ]
    },
    {
     "name": "stderr",
     "output_type": "stream",
     "text": [
      "[Parallel(n_jobs=-1)]: Using backend LokyBackend with 4 concurrent workers.\n",
      "[Parallel(n_jobs=-1)]: Done  20 out of  27 | elapsed:    0.0s remaining:    0.0s\n",
      "[Parallel(n_jobs=-1)]: Done  27 out of  27 | elapsed:    0.0s finished\n",
      "[Parallel(n_jobs=-1)]: Using backend LokyBackend with 4 concurrent workers.\n"
     ]
    },
    {
     "name": "stdout",
     "output_type": "stream",
     "text": [
      "Fitting 3 folds for each of 9 candidates, totalling 27 fits\n",
      "Fitting 3 folds for each of 9 candidates, totalling 27 fits\n"
     ]
    },
    {
     "name": "stderr",
     "output_type": "stream",
     "text": [
      "[Parallel(n_jobs=-1)]: Done  20 out of  27 | elapsed:    0.0s remaining:    0.0s\n",
      "[Parallel(n_jobs=-1)]: Done  27 out of  27 | elapsed:    0.0s finished\n",
      "[Parallel(n_jobs=-1)]: Using backend LokyBackend with 4 concurrent workers.\n",
      "[Parallel(n_jobs=-1)]: Done  20 out of  27 | elapsed:    0.0s remaining:    0.0s\n",
      "[Parallel(n_jobs=-1)]: Done  27 out of  27 | elapsed:    0.0s finished\n"
     ]
    },
    {
     "name": "stdout",
     "output_type": "stream",
     "text": [
      "Fitting 3 folds for each of 9 candidates, totalling 27 fits\n"
     ]
    },
    {
     "name": "stderr",
     "output_type": "stream",
     "text": [
      "[Parallel(n_jobs=-1)]: Using backend LokyBackend with 4 concurrent workers.\n",
      "[Parallel(n_jobs=-1)]: Done  20 out of  27 | elapsed:    0.0s remaining:    0.0s\n",
      "[Parallel(n_jobs=-1)]: Done  27 out of  27 | elapsed:    0.1s finished\n"
     ]
    },
    {
     "data": {
      "image/png": "[encoded data removed]",
      "text/plain": [
       "<Figure size 432x288 with 1 Axes>"
      ]
     },
     "metadata": {
      "needs_background": "light"
     },
     "output_type": "display_data"
    },
    {
     "name": "stdout",
     "output_type": "stream",
     "text": [
      "R2 ['DecisionTreeRegressor'] -1.2959268966264865\n",
      "RMSE ['DecisionTreeRegressor'] 338263.232715425 \n",
      "\n"
     ]
    }
   ],
   "source": [
    "# Дерево решений\n",
    "\n",
    "# задаем модель\n",
    "model = DecisionTreeRegressor()\n",
    "title = re.findall(r'^\\w+',str(model))\n",
    "print(title)\n",
    "X,y = to_x_y(dt1)\n",
    "# применяем первый фильтр\n",
    "X_selected1,filtr = chi_squar_filter(X,y)\n",
    "print('Feature selection - Хи-квадрат фильтр')\n",
    "selected_features(filtr,X_selected1)\n",
    "# разбитие на тестовую и обучающие выборки, шкалирование\n",
    "X_train, X_test, y_train, y_test = train_test_split(X_selected1, y, test_size=0.2)\n",
    "X_train, X_test = scaling(StandardScaler(),X_train,X_test)\n",
    "# grid search\n",
    "param_grid = {'max_depth': [3, 5, 10],'max_features': [3, 4, 5]}\n",
    "model_grid = GridSearchCV(model, param_grid, cv=3, n_jobs=-1, verbose=True)\n",
    "# print('Best parameters: ', model_grid.best_params_)\n",
    "# обучение модели\n",
    "model_grid.fit(X_train,y_train)\n",
    "y_pred = model_grid.predict(X_test)\n",
    "# кривая обучения\n",
    "plot_learning_curve (model_grid, X_selected1, y, title)\n",
    "# метрики\n",
    "r2_tree1 = r2_score(y_test, y_pred)\n",
    "print('R2',title, r2_tree1)\n",
    "rmse_tree1 = sqrt(mean_squared_error(y_test, y_pred))\n",
    "print('RMSE',title, rmse_tree1, '\\n')\n",
    "\n",
    "\n",
    "# применяем второй фильтр\n",
    "rfe = RFE(model)\n",
    "rfe = rfe.fit(X,y)\n",
    "X_selected2 = pd.DataFrame(rfe.transform(X))\n",
    "print('Feature selection - RFE')\n",
    "selected_features(rfe,X_selected2)\n",
    "# разбитие на тестовую и обучающие выборки, шкалирование\n",
    "X_train, X_test, y_train, y_test = train_test_split(X_selected2, y, test_size=0.2)\n",
    "X_train, X_test = scaling(StandardScaler(),X_train,X_test)\n",
    "# grid search\n",
    "param_grid = {'max_depth': [3, 5, 10],'max_features': [3, 4, 5]}\n",
    "model_grid = GridSearchCV(model, param_grid, cv=3, n_jobs=-1, verbose=True)\n",
    "# print('Best parameters: ', model_grid.best_params_)\n",
    "# обучение модели\n",
    "model_grid.fit(X_train,y_train)\n",
    "y_pred = model_grid.predict(X_test)\n",
    "# кривая обучения\n",
    "plot_learning_curve (model_grid, X_selected2, y, title)\n",
    "# метрики\n",
    "r2_tree2 = r2_score(y_test, y_pred)\n",
    "print('R2',title, r2_tree2)\n",
    "rmse_tree2 = sqrt(mean_squared_error(y_test, y_pred))\n",
    "print('RMSE',title, rmse_tree2, '\\n')"
   ]
  },
  {
   "cell_type": "markdown",
   "metadata": {},
   "source": [
    "Для RandomForestRegressor отказалась от gridsearch из-за скорости расчета."
   ]
  },
  {
   "cell_type": "code",
   "execution_count": 24,
   "metadata": {},
   "outputs": [
    {
     "name": "stdout",
     "output_type": "stream",
     "text": [
      "['RandomForestRegressor']\n",
      "Feature selection - Хи-квадрат фильтр\n",
      "ОТОБРАННЫЕ ФАКТОРЫ:\n",
      "['Нефть марки Юралс, долл./барр', 'М0, руб', 'М2, руб', 'Курс доллара к рублю, руб', 'Номинальная средняя з/п, руб']\n"
     ]
    },
    {
     "data": {
      "image/png": "[encoded data removed]",
      "text/plain": [
       "<Figure size 432x288 with 1 Axes>"
      ]
     },
     "metadata": {
      "needs_background": "light"
     },
     "output_type": "display_data"
    },
    {
     "name": "stdout",
     "output_type": "stream",
     "text": [
      "R2 ['RandomForestRegressor'] -0.14367825716208826\n",
      "RMSE ['RandomForestRegressor'] 275710.799677576 \n",
      "\n",
      "Feature selection - RFE\n",
      "ОТОБРАННЫЕ ФАКТОРЫ:\n",
      "['Доходность ОФЗ по сроку до 1 года', 'Ключевая ставка', 'Нефть марки Юралс, долл./барр', 'М0, руб', 'Номинальная средняя з/п, руб']\n"
     ]
    },
    {
     "data": {
      "image/png": "[encoded data removed]",
      "text/plain": [
       "<Figure size 432x288 with 1 Axes>"
      ]
     },
     "metadata": {
      "needs_background": "light"
     },
     "output_type": "display_data"
    },
    {
     "name": "stdout",
     "output_type": "stream",
     "text": [
      "R2 ['RandomForestRegressor'] 0.16272142210730167\n",
      "RMSE ['RandomForestRegressor'] 309534.88076798583 \n",
      "\n"
     ]
    }
   ],
   "source": [
    "# Случайный лес\n",
    "\n",
    "# задаем модель\n",
    "model = RandomForestRegressor()\n",
    "title = re.findall(r'^\\w+',str(model))\n",
    "print(title)\n",
    "X,y = to_x_y(dt1)\n",
    "# применяем первый фильтр\n",
    "X_selected1,filtr = chi_squar_filter(X,y)\n",
    "print('Feature selection - Хи-квадрат фильтр')\n",
    "selected_features(filtr,X_selected1)\n",
    "# разбитие на тестовую и обучающие выборки, шкалирование\n",
    "X_train, X_test, y_train, y_test = train_test_split(X_selected1, y, test_size=0.2)\n",
    "X_train, X_test = scaling(StandardScaler(),X_train,X_test)\n",
    "# обучение модели\n",
    "model.fit(X_train,y_train)\n",
    "y_pred = model.predict(X_test)\n",
    "# кривая обучения\n",
    "plot_learning_curve (model, X_selected1, y, title)\n",
    "# метрики\n",
    "r2_forest1 = r2_score(y_test, y_pred)\n",
    "print('R2',title, r2_forest1)\n",
    "rmse_forest1 = sqrt(mean_squared_error(y_test, y_pred))\n",
    "print('RMSE',title, rmse_forest1, '\\n')\n",
    "\n",
    "\n",
    "# применяем второй фильтр\n",
    "rfe = RFE(model)\n",
    "rfe = rfe.fit(X,y)\n",
    "X_selected2 = pd.DataFrame(rfe.transform(X))\n",
    "print('Feature selection - RFE')\n",
    "selected_features(rfe,X_selected2)\n",
    "# разбитие на тестовую и обучающие выборки, шкалирование\n",
    "X_train, X_test, y_train, y_test = train_test_split(X_selected2, y, test_size=0.2, shuffle=False)\n",
    "X_train, X_test = scaling(StandardScaler(),X_train,X_test)\n",
    "# обучение модели\n",
    "model.fit(X_train,y_train)\n",
    "y_pred = model.predict(X_test)\n",
    "# кривая обучения\n",
    "plot_learning_curve (model, X_selected2, y, title)\n",
    "# метрики\n",
    "r2_forest2 = r2_score(y_test, y_pred)\n",
    "print('R2',title, r2_forest2)\n",
    "rmse_forest2 = sqrt(mean_squared_error(y_test, y_pred))\n",
    "print('RMSE',title, rmse_forest2, '\\n')"
   ]
  },
  {
   "cell_type": "markdown",
   "metadata": {},
   "source": [
    "А теперь попробуем применить регрессию Риджа и Лассо. Для них не требуется feature selection, так как здесь это встренный процесс."
   ]
  },
  {
   "cell_type": "code",
   "execution_count": 25,
   "metadata": {},
   "outputs": [
    {
     "name": "stdout",
     "output_type": "stream",
     "text": [
      "Ridge regression\n",
      "Fitting 5 folds for each of 6 candidates, totalling 30 fits\n",
      "Fitting 5 folds for each of 6 candidates, totalling 30 fits\n"
     ]
    },
    {
     "name": "stderr",
     "output_type": "stream",
     "text": [
      "[Parallel(n_jobs=-1)]: Using backend LokyBackend with 4 concurrent workers.\n",
      "[Parallel(n_jobs=-1)]: Done  30 out of  30 | elapsed:    0.0s finished\n",
      "[Parallel(n_jobs=-1)]: Using backend LokyBackend with 4 concurrent workers.\n",
      "[Parallel(n_jobs=-1)]: Done  23 out of  30 | elapsed:    0.1s remaining:    0.0s\n",
      "[Parallel(n_jobs=-1)]: Done  30 out of  30 | elapsed:    0.1s finished\n",
      "[Parallel(n_jobs=-1)]: Using backend LokyBackend with 4 concurrent workers.\n"
     ]
    },
    {
     "name": "stdout",
     "output_type": "stream",
     "text": [
      "Fitting 5 folds for each of 6 candidates, totalling 30 fits\n"
     ]
    },
    {
     "name": "stderr",
     "output_type": "stream",
     "text": [
      "[Parallel(n_jobs=-1)]: Done  23 out of  30 | elapsed:    0.1s remaining:    0.0s\n",
      "[Parallel(n_jobs=-1)]: Done  30 out of  30 | elapsed:    0.1s finished\n",
      "[Parallel(n_jobs=-1)]: Using backend LokyBackend with 4 concurrent workers.\n",
      "[Parallel(n_jobs=-1)]: Done  23 out of  30 | elapsed:    0.0s remaining:    0.0s\n",
      "[Parallel(n_jobs=-1)]: Done  30 out of  30 | elapsed:    0.1s finished\n"
     ]
    },
    {
     "name": "stdout",
     "output_type": "stream",
     "text": [
      "Fitting 5 folds for each of 6 candidates, totalling 30 fits\n"
     ]
    },
    {
     "name": "stderr",
     "output_type": "stream",
     "text": [
      "[Parallel(n_jobs=-1)]: Using backend LokyBackend with 4 concurrent workers.\n",
      "[Parallel(n_jobs=-1)]: Done  23 out of  30 | elapsed:    0.1s remaining:    0.0s\n"
     ]
    },
    {
     "name": "stdout",
     "output_type": "stream",
     "text": [
      "Fitting 5 folds for each of 6 candidates, totalling 30 fits\n"
     ]
    },
    {
     "name": "stderr",
     "output_type": "stream",
     "text": [
      "[Parallel(n_jobs=-1)]: Done  30 out of  30 | elapsed:    0.1s finished\n",
      "[Parallel(n_jobs=-1)]: Using backend LokyBackend with 4 concurrent workers.\n",
      "[Parallel(n_jobs=-1)]: Done  30 out of  30 | elapsed:    0.1s finished\n"
     ]
    },
    {
     "name": "stdout",
     "output_type": "stream",
     "text": [
      "Fitting 5 folds for each of 6 candidates, totalling 30 fits\n"
     ]
    },
    {
     "name": "stderr",
     "output_type": "stream",
     "text": [
      "[Parallel(n_jobs=-1)]: Using backend LokyBackend with 4 concurrent workers.\n"
     ]
    },
    {
     "name": "stdout",
     "output_type": "stream",
     "text": [
      "Fitting 5 folds for each of 6 candidates, totalling 30 fits\n"
     ]
    },
    {
     "name": "stderr",
     "output_type": "stream",
     "text": [
      "[Parallel(n_jobs=-1)]: Done  30 out of  30 | elapsed:    0.1s finished\n",
      "[Parallel(n_jobs=-1)]: Using backend LokyBackend with 4 concurrent workers.\n",
      "[Parallel(n_jobs=-1)]: Done  23 out of  30 | elapsed:    0.1s remaining:    0.0s\n"
     ]
    },
    {
     "name": "stdout",
     "output_type": "stream",
     "text": [
      "Fitting 5 folds for each of 6 candidates, totalling 30 fits\n"
     ]
    },
    {
     "name": "stderr",
     "output_type": "stream",
     "text": [
      "[Parallel(n_jobs=-1)]: Done  30 out of  30 | elapsed:    0.1s finished\n",
      "[Parallel(n_jobs=-1)]: Using backend LokyBackend with 4 concurrent workers.\n"
     ]
    },
    {
     "name": "stdout",
     "output_type": "stream",
     "text": [
      "Fitting 5 folds for each of 6 candidates, totalling 30 fits\n"
     ]
    },
    {
     "name": "stderr",
     "output_type": "stream",
     "text": [
      "[Parallel(n_jobs=-1)]: Done  23 out of  30 | elapsed:    0.1s remaining:    0.0s\n",
      "[Parallel(n_jobs=-1)]: Done  30 out of  30 | elapsed:    0.1s finished\n",
      "[Parallel(n_jobs=-1)]: Using backend LokyBackend with 4 concurrent workers.\n",
      "[Parallel(n_jobs=-1)]: Done  23 out of  30 | elapsed:    0.1s remaining:    0.0s\n"
     ]
    },
    {
     "name": "stdout",
     "output_type": "stream",
     "text": [
      "Fitting 5 folds for each of 6 candidates, totalling 30 fits\n"
     ]
    },
    {
     "name": "stderr",
     "output_type": "stream",
     "text": [
      "[Parallel(n_jobs=-1)]: Done  30 out of  30 | elapsed:    0.1s finished\n",
      "[Parallel(n_jobs=-1)]: Using backend LokyBackend with 4 concurrent workers.\n"
     ]
    },
    {
     "name": "stdout",
     "output_type": "stream",
     "text": [
      "Fitting 5 folds for each of 6 candidates, totalling 30 fits\n",
      "Fitting 5 folds for each of 6 candidates, totalling 30 fits\n"
     ]
    },
    {
     "name": "stderr",
     "output_type": "stream",
     "text": [
      "[Parallel(n_jobs=-1)]: Done  30 out of  30 | elapsed:    0.1s finished\n",
      "[Parallel(n_jobs=-1)]: Using backend LokyBackend with 4 concurrent workers.\n",
      "[Parallel(n_jobs=-1)]: Done  23 out of  30 | elapsed:    0.1s remaining:    0.0s\n",
      "[Parallel(n_jobs=-1)]: Done  30 out of  30 | elapsed:    0.1s finished\n",
      "[Parallel(n_jobs=-1)]: Using backend LokyBackend with 4 concurrent workers.\n",
      "[Parallel(n_jobs=-1)]: Done  23 out of  30 | elapsed:    0.0s remaining:    0.0s\n"
     ]
    },
    {
     "name": "stdout",
     "output_type": "stream",
     "text": [
      "Fitting 5 folds for each of 6 candidates, totalling 30 fits\n",
      "Fitting 5 folds for each of 6 candidates, totalling 30 fits"
     ]
    },
    {
     "name": "stderr",
     "output_type": "stream",
     "text": [
      "[Parallel(n_jobs=-1)]: Done  30 out of  30 | elapsed:    0.1s finished\n",
      "[Parallel(n_jobs=-1)]: Using backend LokyBackend with 4 concurrent workers.\n"
     ]
    },
    {
     "name": "stdout",
     "output_type": "stream",
     "text": [
      "\n"
     ]
    },
    {
     "name": "stderr",
     "output_type": "stream",
     "text": [
      "[Parallel(n_jobs=-1)]: Done  23 out of  30 | elapsed:    0.1s remaining:    0.0s\n",
      "[Parallel(n_jobs=-1)]: Done  30 out of  30 | elapsed:    0.1s finished\n",
      "[Parallel(n_jobs=-1)]: Using backend LokyBackend with 4 concurrent workers.\n"
     ]
    },
    {
     "name": "stdout",
     "output_type": "stream",
     "text": [
      "Fitting 5 folds for each of 6 candidates, totalling 30 fits\n"
     ]
    },
    {
     "name": "stderr",
     "output_type": "stream",
     "text": [
      "[Parallel(n_jobs=-1)]: Done  30 out of  30 | elapsed:    0.1s finished\n",
      "[Parallel(n_jobs=-1)]: Using backend LokyBackend with 4 concurrent workers.\n",
      "[Parallel(n_jobs=-1)]: Done  23 out of  30 | elapsed:    0.1s remaining:    0.0s\n",
      "[Parallel(n_jobs=-1)]: Done  30 out of  30 | elapsed:    0.1s finished\n"
     ]
    },
    {
     "name": "stdout",
     "output_type": "stream",
     "text": [
      "Fitting 5 folds for each of 6 candidates, totalling 30 fits\n",
      "Fitting 5 folds for each of 6 candidates, totalling 30 fits"
     ]
    },
    {
     "name": "stderr",
     "output_type": "stream",
     "text": [
      "[Parallel(n_jobs=-1)]: Using backend LokyBackend with 4 concurrent workers.\n",
      "[Parallel(n_jobs=-1)]: Done  30 out of  30 | elapsed:    0.1s finished\n",
      "[Parallel(n_jobs=-1)]: Using backend LokyBackend with 4 concurrent workers.\n",
      "[Parallel(n_jobs=-1)]: Done  23 out of  30 | elapsed:    0.1s remaining:    0.0s\n"
     ]
    },
    {
     "name": "stdout",
     "output_type": "stream",
     "text": [
      "\n",
      "Fitting 5 folds for each of 6 candidates, totalling 30 fits\n"
     ]
    },
    {
     "name": "stderr",
     "output_type": "stream",
     "text": [
      "[Parallel(n_jobs=-1)]: Done  30 out of  30 | elapsed:    0.1s finished\n",
      "[Parallel(n_jobs=-1)]: Using backend LokyBackend with 4 concurrent workers.\n",
      "[Parallel(n_jobs=-1)]: Done  23 out of  30 | elapsed:    0.1s remaining:    0.0s\n"
     ]
    },
    {
     "name": "stdout",
     "output_type": "stream",
     "text": [
      "Fitting 5 folds for each of 6 candidates, totalling 30 fits\n"
     ]
    },
    {
     "name": "stderr",
     "output_type": "stream",
     "text": [
      "[Parallel(n_jobs=-1)]: Done  30 out of  30 | elapsed:    0.1s finished\n",
      "[Parallel(n_jobs=-1)]: Using backend LokyBackend with 4 concurrent workers.\n"
     ]
    },
    {
     "name": "stdout",
     "output_type": "stream",
     "text": [
      "Fitting 5 folds for each of 6 candidates, totalling 30 fits\n"
     ]
    },
    {
     "name": "stderr",
     "output_type": "stream",
     "text": [
      "[Parallel(n_jobs=-1)]: Done  30 out of  30 | elapsed:    0.1s finished\n",
      "[Parallel(n_jobs=-1)]: Using backend LokyBackend with 4 concurrent workers.\n",
      "[Parallel(n_jobs=-1)]: Done  30 out of  30 | elapsed:    0.1s finished\n"
     ]
    },
    {
     "name": "stdout",
     "output_type": "stream",
     "text": [
      "Fitting 5 folds for each of 6 candidates, totalling 30 fits\n",
      "Fitting 5 folds for each of 6 candidates, totalling 30 fits"
     ]
    },
    {
     "name": "stderr",
     "output_type": "stream",
     "text": [
      "[Parallel(n_jobs=-1)]: Using backend LokyBackend with 4 concurrent workers.\n",
      "[Parallel(n_jobs=-1)]: Done  30 out of  30 | elapsed:    0.1s finished\n",
      "[Parallel(n_jobs=-1)]: Using backend LokyBackend with 4 concurrent workers.\n",
      "[Parallel(n_jobs=-1)]: Done  30 out of  30 | elapsed:    0.1s finished\n"
     ]
    },
    {
     "name": "stdout",
     "output_type": "stream",
     "text": [
      "\n",
      "Fitting 5 folds for each of 6 candidates, totalling 30 fits\n"
     ]
    },
    {
     "name": "stderr",
     "output_type": "stream",
     "text": [
      "[Parallel(n_jobs=-1)]: Using backend LokyBackend with 4 concurrent workers.\n",
      "[Parallel(n_jobs=-1)]: Done  23 out of  30 | elapsed:    0.1s remaining:    0.0s\n"
     ]
    },
    {
     "name": "stdout",
     "output_type": "stream",
     "text": [
      "Fitting 5 folds for each of 6 candidates, totalling 30 fits\n"
     ]
    },
    {
     "name": "stderr",
     "output_type": "stream",
     "text": [
      "[Parallel(n_jobs=-1)]: Done  30 out of  30 | elapsed:    0.1s finished\n",
      "[Parallel(n_jobs=-1)]: Using backend LokyBackend with 4 concurrent workers.\n",
      "[Parallel(n_jobs=-1)]: Done  30 out of  30 | elapsed:    0.1s finished\n"
     ]
    },
    {
     "name": "stdout",
     "output_type": "stream",
     "text": [
      "Fitting 5 folds for each of 6 candidates, totalling 30 fits\n"
     ]
    },
    {
     "name": "stderr",
     "output_type": "stream",
     "text": [
      "[Parallel(n_jobs=-1)]: Using backend LokyBackend with 4 concurrent workers.\n",
      "[Parallel(n_jobs=-1)]: Done  23 out of  30 | elapsed:    0.1s remaining:    0.0s\n",
      "[Parallel(n_jobs=-1)]: Done  30 out of  30 | elapsed:    0.1s finished\n"
     ]
    },
    {
     "name": "stdout",
     "output_type": "stream",
     "text": [
      "Fitting 5 folds for each of 6 candidates, totalling 30 fits\n"
     ]
    },
    {
     "data": {
      "image/png": "[encoded data removed]",
      "text/plain": [
       "<Figure size 432x288 with 1 Axes>"
      ]
     },
     "metadata": {
      "needs_background": "light"
     },
     "output_type": "display_data"
    },
    {
     "name": "stdout",
     "output_type": "stream",
     "text": [
      "R2 Ridge regression 0.6051972974538378\n",
      "RMSE Ridge regression 212551.73988349177 \n",
      "\n"
     ]
    }
   ],
   "source": [
    "# Ridge\n",
    "from sklearn.linear_model import Ridge\n",
    "\n",
    "# задаем модель\n",
    "model = Ridge()\n",
    "title = 'Ridge regression'\n",
    "print(title)\n",
    "X,y = to_x_y(dt1)\n",
    "# разбитие на тестовую и обучающие выборки, шкалирование\n",
    "X_train, X_test, y_train, y_test = train_test_split(X_selected1, y, test_size=0.2, shuffle=False)\n",
    "X_train, X_test = scaling(StandardScaler(),X_train,X_test)\n",
    "# grid search\n",
    "model_grid = GridSearchCV(model, param_grid={'alpha':[1,0.1,0.01,0.001,0.0001,0]},n_jobs=-1, verbose=True)\n",
    "# print('Best parameters: ', model_grid.best_params_)\n",
    "# обучение модели\n",
    "model_grid.fit(X_train,y_train)\n",
    "y_pred = model_grid.predict(X_test)\n",
    "# кривая обучения\n",
    "plot_learning_curve (model_grid, X, y, title)\n",
    "# метрики\n",
    "r2_ridge = r2_score(y_test, y_pred)\n",
    "print('R2',title, r2_ridge)\n",
    "rmse_ridge = sqrt(mean_squared_error(y_test, y_pred))\n",
    "print('RMSE',title, rmse_ridge, '\\n')"
   ]
  },
  {
   "cell_type": "code",
   "execution_count": 38,
   "metadata": {},
   "outputs": [
    {
     "data": {
      "image/png": "[encoded data removed]",
      "text/plain": [
       "<Figure size 432x288 with 1 Axes>"
      ]
     },
     "metadata": {
      "needs_background": "light"
     },
     "output_type": "display_data"
    }
   ],
   "source": [
    "# визуализация распредления весов для Ridge regression\n",
    "\n",
    "X = X_train\n",
    "y = y_train\n",
    "\n",
    "n_alphas = 200\n",
    "alphas = np.logspace(-1, 5, n_alphas)\n",
    "\n",
    "coefs = []\n",
    "for a in alphas:\n",
    "    ridge = linear_model.Ridge(alpha=a, fit_intercept=False)\n",
    "    ridge.fit(X, y)\n",
    "    coefs.append(ridge.coef_)\n",
    "ax = plt.gca()\n",
    "\n",
    "ax.plot(alphas, coefs)\n",
    "ax.set_xscale('log')\n",
    "ax.set_xlim(ax.get_xlim()[::-1])  # reverse axis\n",
    "plt.xlabel('alpha')\n",
    "plt.ylabel('weights')\n",
    "plt.title('Ridge coefficients as a function of the regularization')\n",
    "plt.axis('tight')\n",
    "plt.show()"
   ]
  },
  {
   "cell_type": "code",
   "execution_count": 59,
   "metadata": {},
   "outputs": [
    {
     "name": "stdout",
     "output_type": "stream",
     "text": [
      "Lasso\n",
      "Fitting 5 folds for each of 6 candidates, totalling 30 fits\n"
     ]
    },
    {
     "name": "stderr",
     "output_type": "stream",
     "text": [
      "[Parallel(n_jobs=-1)]: Using backend LokyBackend with 4 concurrent workers.\n",
      "[Parallel(n_jobs=-1)]: Done  30 out of  30 | elapsed:    9.8s finished\n"
     ]
    },
    {
     "name": "stdout",
     "output_type": "stream",
     "text": [
      "Fitting 5 folds for each of 6 candidates, totalling 30 fits\n"
     ]
    },
    {
     "name": "stderr",
     "output_type": "stream",
     "text": [
      "[Parallel(n_jobs=-1)]: Using backend LokyBackend with 4 concurrent workers.\n",
      "[Parallel(n_jobs=-1)]: Done  23 out of  30 | elapsed:    0.1s remaining:    0.0s\n",
      "[Parallel(n_jobs=-1)]: Done  30 out of  30 | elapsed:    0.2s finished\n",
      "D:\\Anaconda\\lib\\site-packages\\sklearn\\linear_model\\_coordinate_descent.py:476: ConvergenceWarning: Objective did not converge. You might want to increase the number of iterations. Duality gap: 8274499.943392134, tolerance: 5405352.30788\n",
      "  positive)\n",
      "[Parallel(n_jobs=-1)]: Using backend LokyBackend with 4 concurrent workers.\n"
     ]
    },
    {
     "name": "stdout",
     "output_type": "stream",
     "text": [
      "Fitting 5 folds for each of 6 candidates, totalling 30 fits\n"
     ]
    },
    {
     "name": "stderr",
     "output_type": "stream",
     "text": [
      "[Parallel(n_jobs=-1)]: Done  30 out of  30 | elapsed:    0.1s finished\n",
      "D:\\Anaconda\\lib\\site-packages\\sklearn\\linear_model\\_coordinate_descent.py:476: ConvergenceWarning: Objective did not converge. You might want to increase the number of iterations. Duality gap: 42181789111.543304, tolerance: 78352525.0067778\n",
      "  positive)\n",
      "[Parallel(n_jobs=-1)]: Using backend LokyBackend with 4 concurrent workers.\n"
     ]
    },
    {
     "name": "stdout",
     "output_type": "stream",
     "text": [
      "Fitting 5 folds for each of 6 candidates, totalling 30 fits\n"
     ]
    },
    {
     "name": "stderr",
     "output_type": "stream",
     "text": [
      "[Parallel(n_jobs=-1)]: Done  23 out of  30 | elapsed:    0.2s remaining:    0.0s\n",
      "[Parallel(n_jobs=-1)]: Done  30 out of  30 | elapsed:    0.3s finished\n",
      "D:\\Anaconda\\lib\\site-packages\\sklearn\\linear_model\\_coordinate_descent.py:476: ConvergenceWarning: Objective did not converge. You might want to increase the number of iterations. Duality gap: 265067345865.94196, tolerance: 201600330.82350966\n",
      "  positive)\n",
      "[Parallel(n_jobs=-1)]: Using backend LokyBackend with 4 concurrent workers.\n"
     ]
    },
    {
     "name": "stdout",
     "output_type": "stream",
     "text": [
      "Fitting 5 folds for each of 6 candidates, totalling 30 fits\n"
     ]
    },
    {
     "name": "stderr",
     "output_type": "stream",
     "text": [
      "[Parallel(n_jobs=-1)]: Done  23 out of  30 | elapsed:    0.1s remaining:    0.0s\n",
      "[Parallel(n_jobs=-1)]: Done  30 out of  30 | elapsed:    0.1s finished\n",
      "D:\\Anaconda\\lib\\site-packages\\sklearn\\linear_model\\_coordinate_descent.py:476: ConvergenceWarning: Objective did not converge. You might want to increase the number of iterations. Duality gap: 592487527127.0332, tolerance: 237917292.26975456\n",
      "  positive)\n",
      "[Parallel(n_jobs=-1)]: Using backend LokyBackend with 4 concurrent workers.\n"
     ]
    },
    {
     "name": "stdout",
     "output_type": "stream",
     "text": [
      "Fitting 5 folds for each of 6 candidates, totalling 30 fits\n"
     ]
    },
    {
     "name": "stderr",
     "output_type": "stream",
     "text": [
      "[Parallel(n_jobs=-1)]: Done  23 out of  30 | elapsed:    0.1s remaining:    0.0s\n",
      "[Parallel(n_jobs=-1)]: Done  30 out of  30 | elapsed:    0.1s finished\n",
      "D:\\Anaconda\\lib\\site-packages\\sklearn\\linear_model\\_coordinate_descent.py:476: ConvergenceWarning: Objective did not converge. You might want to increase the number of iterations. Duality gap: 916266699038.9884, tolerance: 420758511.6454878\n",
      "  positive)\n",
      "[Parallel(n_jobs=-1)]: Using backend LokyBackend with 4 concurrent workers.\n"
     ]
    },
    {
     "name": "stdout",
     "output_type": "stream",
     "text": [
      "Fitting 5 folds for each of 6 candidates, totalling 30 fits\n"
     ]
    },
    {
     "name": "stderr",
     "output_type": "stream",
     "text": [
      "[Parallel(n_jobs=-1)]: Done  23 out of  30 | elapsed:    0.1s remaining:    0.0s\n",
      "[Parallel(n_jobs=-1)]: Done  30 out of  30 | elapsed:    0.1s finished\n",
      "D:\\Anaconda\\lib\\site-packages\\sklearn\\linear_model\\_coordinate_descent.py:476: ConvergenceWarning: Objective did not converge. You might want to increase the number of iterations. Duality gap: 7717460.891514864, tolerance: 5702265.162920001\n",
      "  positive)\n",
      "[Parallel(n_jobs=-1)]: Using backend LokyBackend with 4 concurrent workers.\n"
     ]
    },
    {
     "name": "stdout",
     "output_type": "stream",
     "text": [
      "Fitting 5 folds for each of 6 candidates, totalling 30 fits\n"
     ]
    },
    {
     "name": "stderr",
     "output_type": "stream",
     "text": [
      "[Parallel(n_jobs=-1)]: Done  23 out of  30 | elapsed:    0.1s remaining:    0.0s\n",
      "[Parallel(n_jobs=-1)]: Done  30 out of  30 | elapsed:    0.1s finished\n",
      "D:\\Anaconda\\lib\\site-packages\\sklearn\\linear_model\\_coordinate_descent.py:476: ConvergenceWarning: Objective did not converge. You might want to increase the number of iterations. Duality gap: 54984205949.24933, tolerance: 57786930.30725\n",
      "  positive)\n",
      "[Parallel(n_jobs=-1)]: Using backend LokyBackend with 4 concurrent workers.\n"
     ]
    },
    {
     "name": "stdout",
     "output_type": "stream",
     "text": [
      "Fitting 5 folds for each of 6 candidates, totalling 30 fits\n"
     ]
    },
    {
     "name": "stderr",
     "output_type": "stream",
     "text": [
      "[Parallel(n_jobs=-1)]: Done  23 out of  30 | elapsed:    0.1s remaining:    0.0s\n",
      "[Parallel(n_jobs=-1)]: Done  30 out of  30 | elapsed:    0.1s finished\n",
      "D:\\Anaconda\\lib\\site-packages\\sklearn\\linear_model\\_coordinate_descent.py:476: ConvergenceWarning: Objective did not converge. You might want to increase the number of iterations. Duality gap: 279028284136.97754, tolerance: 173369731.39910966\n",
      "  positive)\n",
      "[Parallel(n_jobs=-1)]: Using backend LokyBackend with 4 concurrent workers.\n"
     ]
    },
    {
     "name": "stdout",
     "output_type": "stream",
     "text": [
      "Fitting 5 folds for each of 6 candidates, totalling 30 fits\n"
     ]
    },
    {
     "name": "stderr",
     "output_type": "stream",
     "text": [
      "[Parallel(n_jobs=-1)]: Done  23 out of  30 | elapsed:    0.1s remaining:    0.0s\n",
      "[Parallel(n_jobs=-1)]: Done  30 out of  30 | elapsed:    0.1s finished\n",
      "D:\\Anaconda\\lib\\site-packages\\sklearn\\linear_model\\_coordinate_descent.py:476: ConvergenceWarning: Objective did not converge. You might want to increase the number of iterations. Duality gap: 551006186094.4886, tolerance: 210119803.4600977\n",
      "  positive)\n",
      "[Parallel(n_jobs=-1)]: Using backend LokyBackend with 4 concurrent workers.\n"
     ]
    },
    {
     "name": "stdout",
     "output_type": "stream",
     "text": [
      "Fitting 5 folds for each of 6 candidates, totalling 30 fits\n"
     ]
    },
    {
     "name": "stderr",
     "output_type": "stream",
     "text": [
      "[Parallel(n_jobs=-1)]: Done  23 out of  30 | elapsed:    0.1s remaining:    0.0s\n",
      "[Parallel(n_jobs=-1)]: Done  30 out of  30 | elapsed:    0.1s finished\n",
      "D:\\Anaconda\\lib\\site-packages\\sklearn\\linear_model\\_coordinate_descent.py:476: ConvergenceWarning: Objective did not converge. You might want to increase the number of iterations. Duality gap: 811387713097.7511, tolerance: 399371765.2845369\n",
      "  positive)\n",
      "[Parallel(n_jobs=-1)]: Using backend LokyBackend with 4 concurrent workers.\n"
     ]
    },
    {
     "name": "stdout",
     "output_type": "stream",
     "text": [
      "Fitting 5 folds for each of 6 candidates, totalling 30 fits\n"
     ]
    },
    {
     "name": "stderr",
     "output_type": "stream",
     "text": [
      "[Parallel(n_jobs=-1)]: Done  30 out of  30 | elapsed:    0.1s finished\n",
      "D:\\Anaconda\\lib\\site-packages\\sklearn\\linear_model\\_coordinate_descent.py:476: ConvergenceWarning: Objective did not converge. You might want to increase the number of iterations. Duality gap: 7717460.891514864, tolerance: 5702265.162920001\n",
      "  positive)\n",
      "[Parallel(n_jobs=-1)]: Using backend LokyBackend with 4 concurrent workers.\n"
     ]
    },
    {
     "name": "stdout",
     "output_type": "stream",
     "text": [
      "Fitting 5 folds for each of 6 candidates, totalling 30 fits\n"
     ]
    },
    {
     "name": "stderr",
     "output_type": "stream",
     "text": [
      "[Parallel(n_jobs=-1)]: Done  30 out of  30 | elapsed:    0.2s finished\n",
      "D:\\Anaconda\\lib\\site-packages\\sklearn\\linear_model\\_coordinate_descent.py:476: ConvergenceWarning: Objective did not converge. You might want to increase the number of iterations. Duality gap: 60125567106.69971, tolerance: 60222606.5164\n",
      "  positive)\n",
      "[Parallel(n_jobs=-1)]: Using backend LokyBackend with 4 concurrent workers.\n"
     ]
    },
    {
     "name": "stdout",
     "output_type": "stream",
     "text": [
      "Fitting 5 folds for each of 6 candidates, totalling 30 fits\n"
     ]
    },
    {
     "name": "stderr",
     "output_type": "stream",
     "text": [
      "[Parallel(n_jobs=-1)]: Done  30 out of  30 | elapsed:    0.1s finished\n",
      "D:\\Anaconda\\lib\\site-packages\\sklearn\\linear_model\\_coordinate_descent.py:476: ConvergenceWarning: Objective did not converge. You might want to increase the number of iterations. Duality gap: 134768433978.43944, tolerance: 137597985.28980002\n",
      "  positive)\n",
      "[Parallel(n_jobs=-1)]: Using backend LokyBackend with 4 concurrent workers.\n"
     ]
    },
    {
     "name": "stdout",
     "output_type": "stream",
     "text": [
      "Fitting 5 folds for each of 6 candidates, totalling 30 fits\n"
     ]
    },
    {
     "name": "stderr",
     "output_type": "stream",
     "text": [
      "[Parallel(n_jobs=-1)]: Done  30 out of  30 | elapsed:    0.1s finished\n",
      "D:\\Anaconda\\lib\\site-packages\\sklearn\\linear_model\\_coordinate_descent.py:476: ConvergenceWarning: Objective did not converge. You might want to increase the number of iterations. Duality gap: 334864835416.9908, tolerance: 178722094.7664432\n",
      "  positive)\n",
      "[Parallel(n_jobs=-1)]: Using backend LokyBackend with 4 concurrent workers.\n"
     ]
    },
    {
     "name": "stdout",
     "output_type": "stream",
     "text": [
      "Fitting 5 folds for each of 6 candidates, totalling 30 fits\n"
     ]
    },
    {
     "name": "stderr",
     "output_type": "stream",
     "text": [
      "[Parallel(n_jobs=-1)]: Done  23 out of  30 | elapsed:    0.1s remaining:    0.0s\n",
      "[Parallel(n_jobs=-1)]: Done  30 out of  30 | elapsed:    0.1s finished\n",
      "D:\\Anaconda\\lib\\site-packages\\sklearn\\linear_model\\_coordinate_descent.py:476: ConvergenceWarning: Objective did not converge. You might want to increase the number of iterations. Duality gap: 611090701521.6957, tolerance: 304871641.5207509\n",
      "  positive)\n",
      "[Parallel(n_jobs=-1)]: Using backend LokyBackend with 4 concurrent workers.\n"
     ]
    },
    {
     "name": "stdout",
     "output_type": "stream",
     "text": [
      "Fitting 5 folds for each of 6 candidates, totalling 30 fits\n"
     ]
    },
    {
     "name": "stderr",
     "output_type": "stream",
     "text": [
      "[Parallel(n_jobs=-1)]: Done  30 out of  30 | elapsed:    0.1s finished\n",
      "D:\\Anaconda\\lib\\site-packages\\sklearn\\linear_model\\_coordinate_descent.py:476: ConvergenceWarning: Objective did not converge. You might want to increase the number of iterations. Duality gap: 7717460.891514864, tolerance: 5702265.162920001\n",
      "  positive)\n",
      "[Parallel(n_jobs=-1)]: Using backend LokyBackend with 4 concurrent workers.\n"
     ]
    },
    {
     "name": "stdout",
     "output_type": "stream",
     "text": [
      "Fitting 5 folds for each of 6 candidates, totalling 30 fits\n"
     ]
    },
    {
     "name": "stderr",
     "output_type": "stream",
     "text": [
      "[Parallel(n_jobs=-1)]: Done  30 out of  30 | elapsed:    0.2s finished\n",
      "D:\\Anaconda\\lib\\site-packages\\sklearn\\linear_model\\_coordinate_descent.py:476: ConvergenceWarning: Objective did not converge. You might want to increase the number of iterations. Duality gap: 60125567106.69971, tolerance: 60222606.5164\n",
      "  positive)\n",
      "[Parallel(n_jobs=-1)]: Using backend LokyBackend with 4 concurrent workers.\n"
     ]
    },
    {
     "name": "stdout",
     "output_type": "stream",
     "text": [
      "Fitting 5 folds for each of 6 candidates, totalling 30 fits\n"
     ]
    },
    {
     "name": "stderr",
     "output_type": "stream",
     "text": [
      "[Parallel(n_jobs=-1)]: Done  30 out of  30 | elapsed:    0.2s finished\n",
      "D:\\Anaconda\\lib\\site-packages\\sklearn\\linear_model\\_coordinate_descent.py:476: ConvergenceWarning: Objective did not converge. You might want to increase the number of iterations. Duality gap: 139741172102.3171, tolerance: 133776532.6689742\n",
      "  positive)\n",
      "[Parallel(n_jobs=-1)]: Using backend LokyBackend with 4 concurrent workers.\n"
     ]
    },
    {
     "name": "stdout",
     "output_type": "stream",
     "text": [
      "Fitting 5 folds for each of 6 candidates, totalling 30 fits\n"
     ]
    },
    {
     "name": "stderr",
     "output_type": "stream",
     "text": [
      "[Parallel(n_jobs=-1)]: Done  23 out of  30 | elapsed:    0.1s remaining:    0.0s\n",
      "[Parallel(n_jobs=-1)]: Done  30 out of  30 | elapsed:    0.1s finished\n",
      "D:\\Anaconda\\lib\\site-packages\\sklearn\\linear_model\\_coordinate_descent.py:476: ConvergenceWarning: Objective did not converge. You might want to increase the number of iterations. Duality gap: 386060414377.1258, tolerance: 251119495.733825\n",
      "  positive)\n",
      "[Parallel(n_jobs=-1)]: Using backend LokyBackend with 4 concurrent workers.\n"
     ]
    },
    {
     "name": "stdout",
     "output_type": "stream",
     "text": [
      "Fitting 5 folds for each of 6 candidates, totalling 30 fits\n"
     ]
    },
    {
     "name": "stderr",
     "output_type": "stream",
     "text": [
      "[Parallel(n_jobs=-1)]: Done  23 out of  30 | elapsed:    0.1s remaining:    0.0s\n",
      "[Parallel(n_jobs=-1)]: Done  30 out of  30 | elapsed:    0.1s finished\n",
      "D:\\Anaconda\\lib\\site-packages\\sklearn\\linear_model\\_coordinate_descent.py:476: ConvergenceWarning: Objective did not converge. You might want to increase the number of iterations. Duality gap: 552639156615.5732, tolerance: 377616968.2625053\n",
      "  positive)\n",
      "[Parallel(n_jobs=-1)]: Using backend LokyBackend with 4 concurrent workers.\n"
     ]
    },
    {
     "name": "stdout",
     "output_type": "stream",
     "text": [
      "Fitting 5 folds for each of 6 candidates, totalling 30 fits\n"
     ]
    },
    {
     "name": "stderr",
     "output_type": "stream",
     "text": [
      "[Parallel(n_jobs=-1)]: Done  23 out of  30 | elapsed:    0.1s remaining:    0.0s\n",
      "[Parallel(n_jobs=-1)]: Done  30 out of  30 | elapsed:    0.1s finished\n",
      "D:\\Anaconda\\lib\\site-packages\\sklearn\\linear_model\\_coordinate_descent.py:476: ConvergenceWarning: Objective did not converge. You might want to increase the number of iterations. Duality gap: 7717460.891514864, tolerance: 5702265.162920001\n",
      "  positive)\n",
      "[Parallel(n_jobs=-1)]: Using backend LokyBackend with 4 concurrent workers.\n"
     ]
    },
    {
     "name": "stdout",
     "output_type": "stream",
     "text": [
      "Fitting 5 folds for each of 6 candidates, totalling 30 fits\n"
     ]
    },
    {
     "name": "stderr",
     "output_type": "stream",
     "text": [
      "[Parallel(n_jobs=-1)]: Done  23 out of  30 | elapsed:    0.1s remaining:    0.0s\n",
      "[Parallel(n_jobs=-1)]: Done  30 out of  30 | elapsed:    0.1s finished\n",
      "D:\\Anaconda\\lib\\site-packages\\sklearn\\linear_model\\_coordinate_descent.py:476: ConvergenceWarning: Objective did not converge. You might want to increase the number of iterations. Duality gap: 60125567106.69971, tolerance: 60222606.5164\n",
      "  positive)\n",
      "[Parallel(n_jobs=-1)]: Using backend LokyBackend with 4 concurrent workers.\n"
     ]
    },
    {
     "name": "stdout",
     "output_type": "stream",
     "text": [
      "Fitting 5 folds for each of 6 candidates, totalling 30 fits\n"
     ]
    },
    {
     "name": "stderr",
     "output_type": "stream",
     "text": [
      "[Parallel(n_jobs=-1)]: Done  30 out of  30 | elapsed:    0.1s finished\n",
      "D:\\Anaconda\\lib\\site-packages\\sklearn\\linear_model\\_coordinate_descent.py:476: ConvergenceWarning: Objective did not converge. You might want to increase the number of iterations. Duality gap: 139741172102.3171, tolerance: 133776532.6689742\n",
      "  positive)\n",
      "[Parallel(n_jobs=-1)]: Using backend LokyBackend with 4 concurrent workers.\n"
     ]
    },
    {
     "name": "stdout",
     "output_type": "stream",
     "text": [
      "Fitting 5 folds for each of 6 candidates, totalling 30 fits\n"
     ]
    },
    {
     "name": "stderr",
     "output_type": "stream",
     "text": [
      "[Parallel(n_jobs=-1)]: Done  23 out of  30 | elapsed:    0.1s remaining:    0.0s\n",
      "[Parallel(n_jobs=-1)]: Done  30 out of  30 | elapsed:    0.1s finished\n",
      "D:\\Anaconda\\lib\\site-packages\\sklearn\\linear_model\\_coordinate_descent.py:476: ConvergenceWarning: Objective did not converge. You might want to increase the number of iterations. Duality gap: 386060414377.1258, tolerance: 251119495.733825\n",
      "  positive)\n",
      "[Parallel(n_jobs=-1)]: Using backend LokyBackend with 4 concurrent workers.\n"
     ]
    },
    {
     "name": "stdout",
     "output_type": "stream",
     "text": [
      "Fitting 5 folds for each of 6 candidates, totalling 30 fits\n"
     ]
    },
    {
     "name": "stderr",
     "output_type": "stream",
     "text": [
      "[Parallel(n_jobs=-1)]: Done  30 out of  30 | elapsed:    0.1s finished\n",
      "D:\\Anaconda\\lib\\site-packages\\sklearn\\linear_model\\_coordinate_descent.py:476: ConvergenceWarning: Objective did not converge. You might want to increase the number of iterations. Duality gap: 793118898335.0906, tolerance: 293922119.6796\n",
      "  positive)\n"
     ]
    },
    {
     "data": {
      "image/png": "[encoded data removed]",
      "text/plain": [
       "<Figure size 432x288 with 1 Axes>"
      ]
     },
     "metadata": {
      "needs_background": "light"
     },
     "output_type": "display_data"
    },
    {
     "name": "stdout",
     "output_type": "stream",
     "text": [
      "R2 Lasso 0.6968099163441667\n",
      "RMSE Lasso 186265.3626515438 \n",
      "\n"
     ]
    }
   ],
   "source": [
    "# Lasso\n",
    "from sklearn.linear_model import Lasso\n",
    "\n",
    "# задаем модель\n",
    "model = Lasso()\n",
    "title = 'Lasso'\n",
    "print(title)\n",
    "X,y = to_x_y(dt1)\n",
    "# разбитие на тестовую и обучающие выборки, шкалирование\n",
    "X_train, X_test, y_train, y_test = train_test_split(X_selected1, y, test_size=0.2, shuffle=False)\n",
    "X_train, X_test = scaling(StandardScaler(),X_train,X_test)\n",
    "# grid search\n",
    "model_grid_lasso = GridSearchCV(model, param_grid={'alpha':[1,0.1,0.01,0.001,0.0001,0]}, n_jobs=-1, verbose=True)\n",
    "# print('Best parameters: ', model_grid.best_params_)\n",
    "# обучение модели\n",
    "model_grid_lasso.fit(X_train,y_train)\n",
    "y_pred = model_grid_lasso.predict(X_test)\n",
    "# кривая обучения\n",
    "plot_learning_curve (model_grid_lasso, X, y, title)\n",
    "# метрики\n",
    "r2_lasso = r2_score(y_test, y_pred)\n",
    "print('R2',title, r2_lasso)\n",
    "rmse_lasso = sqrt(mean_squared_error(y_test, y_pred))\n",
    "print('RMSE',title, rmse_lasso, '\\n')"
   ]
  },
  {
   "cell_type": "markdown",
   "metadata": {},
   "source": [
    "О метриках:\n",
    "    \n",
    "- R^2- Коэффициент детерминации. Указывает на достоверность соответствия набора прогнозов фактическим значениям.\n",
    "- RMSE - Среднеквадратичное отклонение или среднеквадратичная ошибка. Мера различий между значениями, предсказанными моделью, и наблюдаемыми значениями."
   ]
  },
  {
   "cell_type": "markdown",
   "metadata": {},
   "source": [
    "Сведение результатов"
   ]
  },
  {
   "cell_type": "code",
   "execution_count": 30,
   "metadata": {},
   "outputs": [
    {
     "data": {
      "text/html": [
       "<div>\n",
       "<style scoped>\n",
       "    .dataframe tbody tr th:only-of-type {\n",
       "        vertical-align: middle;\n",
       "    }\n",
       "\n",
       "    .dataframe tbody tr th {\n",
       "        vertical-align: top;\n",
       "    }\n",
       "\n",
       "    .dataframe thead th {\n",
       "        text-align: right;\n",
       "    }\n",
       "</style>\n",
       "<table border=\"1\" class=\"dataframe\">\n",
       "  <thead>\n",
       "    <tr style=\"text-align: right;\">\n",
       "      <th></th>\n",
       "      <th>GridSearch</th>\n",
       "      <th>R^2</th>\n",
       "      <th>RMSE</th>\n",
       "    </tr>\n",
       "  </thead>\n",
       "  <tbody>\n",
       "    <tr>\n",
       "      <th>LinReg_1 (chi-squared)</th>\n",
       "      <td>-</td>\n",
       "      <td>0.497629</td>\n",
       "      <td>95147.8</td>\n",
       "    </tr>\n",
       "    <tr>\n",
       "      <th>LinReg_2 (RFE)</th>\n",
       "      <td>-</td>\n",
       "      <td>-0.240519</td>\n",
       "      <td>263556</td>\n",
       "    </tr>\n",
       "    <tr>\n",
       "      <th>SGD_1</th>\n",
       "      <td>done</td>\n",
       "      <td>0.269319</td>\n",
       "      <td>269876</td>\n",
       "    </tr>\n",
       "    <tr>\n",
       "      <th>SGD_2</th>\n",
       "      <td>done</td>\n",
       "      <td>-0.750169</td>\n",
       "      <td>286810</td>\n",
       "    </tr>\n",
       "    <tr>\n",
       "      <th>KNeighbors_1</th>\n",
       "      <td>done</td>\n",
       "      <td>0.117421</td>\n",
       "      <td>237540</td>\n",
       "    </tr>\n",
       "    <tr>\n",
       "      <th>KNeighbors_2</th>\n",
       "      <td>-</td>\n",
       "      <td>-</td>\n",
       "      <td>-</td>\n",
       "    </tr>\n",
       "    <tr>\n",
       "      <th>DecisionTree_1</th>\n",
       "      <td>done</td>\n",
       "      <td>0.186171</td>\n",
       "      <td>99416.4</td>\n",
       "    </tr>\n",
       "    <tr>\n",
       "      <th>DecisionTree_2</th>\n",
       "      <td>done</td>\n",
       "      <td>-1.29593</td>\n",
       "      <td>338263</td>\n",
       "    </tr>\n",
       "    <tr>\n",
       "      <th>RandomForest_1</th>\n",
       "      <td>-</td>\n",
       "      <td>-0.143678</td>\n",
       "      <td>275711</td>\n",
       "    </tr>\n",
       "    <tr>\n",
       "      <th>RandomForest_2</th>\n",
       "      <td>-</td>\n",
       "      <td>0.162721</td>\n",
       "      <td>309535</td>\n",
       "    </tr>\n",
       "    <tr>\n",
       "      <th>Ridge</th>\n",
       "      <td>done</td>\n",
       "      <td>0.605197</td>\n",
       "      <td>212552</td>\n",
       "    </tr>\n",
       "    <tr>\n",
       "      <th>Lasso</th>\n",
       "      <td>done</td>\n",
       "      <td>0.69681</td>\n",
       "      <td>186265</td>\n",
       "    </tr>\n",
       "  </tbody>\n",
       "</table>\n",
       "</div>"
      ],
      "text/plain": [
       "                       GridSearch       R^2     RMSE\n",
       "LinReg_1 (chi-squared)          -  0.497629  95147.8\n",
       "LinReg_2 (RFE)                  - -0.240519   263556\n",
       "SGD_1                        done  0.269319   269876\n",
       "SGD_2                        done -0.750169   286810\n",
       "KNeighbors_1                 done  0.117421   237540\n",
       "KNeighbors_2                    -         -        -\n",
       "DecisionTree_1               done  0.186171  99416.4\n",
       "DecisionTree_2               done  -1.29593   338263\n",
       "RandomForest_1                  - -0.143678   275711\n",
       "RandomForest_2                  -  0.162721   309535\n",
       "Ridge                        done  0.605197   212552\n",
       "Lasso                        done   0.69681   186265"
      ]
     },
     "execution_count": 30,
     "metadata": {},
     "output_type": "execute_result"
    }
   ],
   "source": [
    "RL=['LinReg_1 (chi-squared)','LinReg_2 (RFE)','SGD_1','SGD_2','KNeighbors_1','KNeighbors_2','DecisionTree_1','DecisionTree_2','RandomForest_1','RandomForest_2','Ridge ','Lasso']\n",
    "col=['GridSearch','R^2','RMSE']\n",
    "otchet=pd.DataFrame([['-',r2_linreg1,rmse_linreg1],['-',r2_linreg2,rmse_linreg2],['done',r2_sgd1,rmse_sgd1],['done',r2_sgd2,rmse_sgd2],['done',r2_kneigh,rmse_kneigh],['-','-','-'],['done',r2_tree1,rmse_tree1],['done',r2_tree2,rmse_tree2],['-',r2_forest1,rmse_forest1],['-',r2_forest2,rmse_forest2],['done',r2_ridge,rmse_ridge],['done',r2_lasso,rmse_lasso]], index=RL, columns=col)\n",
    "otchet"
   ]
  },
  {
   "cell_type": "markdown",
   "metadata": {},
   "source": [
    "Лучший результат (почти 70%) показала ререссия Лассо. Проведем прогноз м ее помощью."
   ]
  },
  {
   "cell_type": "code",
   "execution_count": 104,
   "metadata": {},
   "outputs": [
    {
     "name": "stdout",
     "output_type": "stream",
     "text": [
      "Fitting 5 folds for each of 6 candidates, totalling 30 fits\n"
     ]
    },
    {
     "name": "stderr",
     "output_type": "stream",
     "text": [
      "[Parallel(n_jobs=-1)]: Using backend LokyBackend with 4 concurrent workers.\n"
     ]
    },
    {
     "name": "stdout",
     "output_type": "stream",
     "text": [
      "Predicted:  [ -64100.78645133  -38334.82962939  167851.12076596  174245.0681084\n",
      "  282705.66802213  422099.99973971  135731.52416916   73760.62091443\n",
      "  187438.01130327  200416.79190154  292849.34095616 1109524.65955898]\n"
     ]
    },
    {
     "name": "stderr",
     "output_type": "stream",
     "text": [
      "[Parallel(n_jobs=-1)]: Done  30 out of  30 | elapsed:    9.2s finished\n",
      "D:\\Anaconda\\lib\\site-packages\\sklearn\\linear_model\\_coordinate_descent.py:476: ConvergenceWarning: Objective did not converge. You might want to increase the number of iterations. Duality gap: 775912577330.2368, tolerance: 477694661.1258\n",
      "  positive)\n"
     ]
    },
    {
     "data": {
      "text/html": [
       "<div>\n",
       "<style scoped>\n",
       "    .dataframe tbody tr th:only-of-type {\n",
       "        vertical-align: middle;\n",
       "    }\n",
       "\n",
       "    .dataframe tbody tr th {\n",
       "        vertical-align: top;\n",
       "    }\n",
       "\n",
       "    .dataframe thead th {\n",
       "        text-align: right;\n",
       "    }\n",
       "</style>\n",
       "<table border=\"1\" class=\"dataframe\">\n",
       "  <thead>\n",
       "    <tr style=\"text-align: right;\">\n",
       "      <th></th>\n",
       "      <th>Дата</th>\n",
       "      <th>Прирост вкладов физических лиц в рублях (млн руб)</th>\n",
       "    </tr>\n",
       "  </thead>\n",
       "  <tbody>\n",
       "    <tr>\n",
       "      <th>72</th>\n",
       "      <td>2017-01-01</td>\n",
       "      <td>-6.410079e+04</td>\n",
       "    </tr>\n",
       "    <tr>\n",
       "      <th>73</th>\n",
       "      <td>2017-02-01</td>\n",
       "      <td>-3.833483e+04</td>\n",
       "    </tr>\n",
       "    <tr>\n",
       "      <th>74</th>\n",
       "      <td>2017-03-01</td>\n",
       "      <td>1.678511e+05</td>\n",
       "    </tr>\n",
       "    <tr>\n",
       "      <th>75</th>\n",
       "      <td>2017-04-01</td>\n",
       "      <td>1.742451e+05</td>\n",
       "    </tr>\n",
       "    <tr>\n",
       "      <th>76</th>\n",
       "      <td>2017-05-01</td>\n",
       "      <td>2.827057e+05</td>\n",
       "    </tr>\n",
       "    <tr>\n",
       "      <th>77</th>\n",
       "      <td>2017-06-01</td>\n",
       "      <td>4.221000e+05</td>\n",
       "    </tr>\n",
       "    <tr>\n",
       "      <th>78</th>\n",
       "      <td>2017-07-01</td>\n",
       "      <td>1.357315e+05</td>\n",
       "    </tr>\n",
       "    <tr>\n",
       "      <th>79</th>\n",
       "      <td>2017-08-01</td>\n",
       "      <td>7.376062e+04</td>\n",
       "    </tr>\n",
       "    <tr>\n",
       "      <th>80</th>\n",
       "      <td>2017-09-01</td>\n",
       "      <td>1.874380e+05</td>\n",
       "    </tr>\n",
       "    <tr>\n",
       "      <th>81</th>\n",
       "      <td>2017-10-01</td>\n",
       "      <td>2.004168e+05</td>\n",
       "    </tr>\n",
       "    <tr>\n",
       "      <th>82</th>\n",
       "      <td>2017-11-01</td>\n",
       "      <td>2.928493e+05</td>\n",
       "    </tr>\n",
       "    <tr>\n",
       "      <th>83</th>\n",
       "      <td>2017-12-01</td>\n",
       "      <td>1.109525e+06</td>\n",
       "    </tr>\n",
       "  </tbody>\n",
       "</table>\n",
       "</div>"
      ],
      "text/plain": [
       "         Дата  Прирост вкладов физических лиц в рублях (млн руб)\n",
       "72 2017-01-01                                      -6.410079e+04\n",
       "73 2017-02-01                                      -3.833483e+04\n",
       "74 2017-03-01                                       1.678511e+05\n",
       "75 2017-04-01                                       1.742451e+05\n",
       "76 2017-05-01                                       2.827057e+05\n",
       "77 2017-06-01                                       4.221000e+05\n",
       "78 2017-07-01                                       1.357315e+05\n",
       "79 2017-08-01                                       7.376062e+04\n",
       "80 2017-09-01                                       1.874380e+05\n",
       "81 2017-10-01                                       2.004168e+05\n",
       "82 2017-11-01                                       2.928493e+05\n",
       "83 2017-12-01                                       1.109525e+06"
      ]
     },
     "execution_count": 104,
     "metadata": {},
     "output_type": "execute_result"
    }
   ],
   "source": [
    "# Прогнозирование \n",
    "\n",
    "X_for_pred = dt2.drop(columns=['Unnamed: 0','Прирост вкладов физических лиц в рублях (млн руб)'])\n",
    "# Используем как транировочную выборку все значения Х из dt1\n",
    "X,y = to_x_y(dt1)\n",
    "scaler = StandardScaler()\n",
    "scaler.fit(X)\n",
    "X = scaler.transform(X)\n",
    "X_for_pred = scaler.transform(X_for_pred)\n",
    "# обучаем модель\n",
    "model_grid_lasso.fit(X,y)\n",
    "y_pred = model_grid_lasso.predict(X_for_pred)\n",
    "print('Predicted: ', y_pred)\n",
    "prediction = pd.DataFrame(columns=['Дата', 'Прирост вкладов физических лиц в рублях (млн руб)'])\n",
    "prediction['Дата'] = dt2['Unnamed: 0']\n",
    "prediction['Прирост вкладов физических лиц в рублях (млн руб)'] = y_pred\n",
    "prediction.head(12)"
   ]
  },
  {
   "cell_type": "code",
   "execution_count": 118,
   "metadata": {},
   "outputs": [
    {
     "data": {
      "text/plain": [
       "<matplotlib.axes._subplots.AxesSubplot at 0x1625268ca88>"
      ]
     },
     "execution_count": 118,
     "metadata": {},
     "output_type": "execute_result"
    },
    {
     "data": {
      "image/png": "[encoded data removed]",
      "text/plain": [
       "<Figure size 864x432 with 1 Axes>"
      ]
     },
     "metadata": {
      "needs_background": "light"
     },
     "output_type": "display_data"
    }
   ],
   "source": [
    "# Визуализация прогноза\n",
    "_,y = to_x_y(dt1)\n",
    "y.plot(figsize=(12,6))\n",
    "prediction['Прирост вкладов физических лиц в рублях (млн руб)'].plot(style='r--')"
   ]
  },
  {
   "cell_type": "markdown",
   "metadata": {},
   "source": [
    "По итогу проделанной работы:\n",
    "    \n",
    "    Данные, с которыми проходила работа, обладают неоднородностью. В результате этого при разбиении выборки на тестовую и \n",
    "    тренировочную, при перемешивании, в модуле feature selection отбиралось разное количество фич и в итоге получались \n",
    "    совершенно разные величины метрик.\n",
    "    Из чего могу сделать вывод, что использование этих методов себя не оправдало. \n",
    "    Однако себя относительно хорошо показали модели регрессии Риджа и Лассо со встроенной регуляризацией. Они сохраняли свою предсказательную силу при повторном прогоне модели. Величины их метрик можно увидеть выше, в таблице сведения \n",
    "    результатов."
   ]
  },
  {
   "cell_type": "markdown",
   "metadata": {},
   "source": [
    "Так как мы имеем дело в временным рядом, то попоробуем использовать для его моделирования модель ARIMA."
   ]
  },
  {
   "cell_type": "markdown",
   "metadata": {},
   "source": [
    "Сначала докажем насколько это обосновано:"
   ]
  },
  {
   "cell_type": "markdown",
   "metadata": {},
   "source": [
    "Посмотрим на график"
   ]
  },
  {
   "cell_type": "code",
   "execution_count": 64,
   "metadata": {},
   "outputs": [
    {
     "data": {
      "text/plain": [
       "<function matplotlib.pyplot.show(*args, **kw)>"
      ]
     },
     "execution_count": 64,
     "metadata": {},
     "output_type": "execute_result"
    },
    {
     "data": {
      "image/png": "[encoded data removed]",
      "text/plain": [
       "<Figure size 1152x432 with 1 Axes>"
      ]
     },
     "metadata": {
      "needs_background": "light"
     },
     "output_type": "display_data"
    }
   ],
   "source": [
    "# Визуализация ВР\n",
    "_,ax = plt.subplots(figsize = (16,6))\n",
    "plt.plot(dt1['Прирост вкладов физических лиц в рублях (млн руб)'])\n",
    "# добавим горизонтальную линию, чтобы оценить наличие тренда\n",
    "ax.hlines(0, 0, 72,  color = 'b')\n",
    "ax.set_title(i)\n",
    "plt.show"
   ]
  },
  {
   "cell_type": "markdown",
   "metadata": {},
   "source": [
    "По графику видно, что тренда нет, но явно наблюдается сезонность так что можно сделать предположение о нестационарности ряда"
   ]
  },
  {
   "cell_type": "markdown",
   "metadata": {},
   "source": [
    "Для проверки проверки стационарности =проведем обобщенный тест Дикки-Фуллера на наличие единичных корней"
   ]
  },
  {
   "cell_type": "code",
   "execution_count": 66,
   "metadata": {},
   "outputs": [
    {
     "name": "stdout",
     "output_type": "stream",
     "text": [
      "adf:  -1.5624513827398336\n",
      "p-value:  0.5024228765613985\n",
      "Critical values:  {'1%': -3.5463945337644063, '5%': -2.911939409384601, '10%': -2.5936515282964665}\n",
      "есть единичные корни, ряд не стационарен\n"
     ]
    }
   ],
   "source": [
    "import statsmodels.api as sm\n",
    "_,y = to_x_y(dt1)\n",
    "test = sm.tsa.adfuller(y)\n",
    "print ('adf: ', test[0]) \n",
    "print ('p-value: ', test[1])\n",
    "print('Critical values: ', test[4])\n",
    "if test[0]> test[4]['5%']: \n",
    "    print ('есть единичные корни, ряд не стационарен')\n",
    "else:\n",
    "    print ('единичных корней нет, ряд стационарен')"
   ]
  },
  {
   "cell_type": "markdown",
   "metadata": {},
   "source": [
    "Попробуем узнать порядок интегрированности ряда и избавиться от нестационарности. Во многих случаях взятие разности рядов позволяет это сделать."
   ]
  },
  {
   "cell_type": "code",
   "execution_count": 67,
   "metadata": {},
   "outputs": [],
   "source": [
    "y1diff = y.diff(periods=1).dropna()"
   ]
  },
  {
   "cell_type": "markdown",
   "metadata": {},
   "source": [
    "Снова проверим на стационарность:"
   ]
  },
  {
   "cell_type": "code",
   "execution_count": 68,
   "metadata": {},
   "outputs": [
    {
     "name": "stdout",
     "output_type": "stream",
     "text": [
      "adf:  -3.13889800931166\n",
      "p-value:  0.02380530677860101\n",
      "Critical values:  {'1%': -3.5463945337644063, '5%': -2.911939409384601, '10%': -2.5936515282964665}\n",
      "единичных корней нет, ряд стационарен\n"
     ]
    }
   ],
   "source": [
    "test = sm.tsa.adfuller(y1diff)\n",
    "print ('adf: ', test[0]) \n",
    "print ('p-value: ', test[1])\n",
    "print('Critical values: ', test[4])\n",
    "if test[0]> test[4]['5%']: \n",
    "    print ('есть единичные корни, ряд не стационарен')\n",
    "else:\n",
    "    print ('единичных корней нет, ряд стационарен')"
   ]
  },
  {
   "cell_type": "code",
   "execution_count": 69,
   "metadata": {},
   "outputs": [
    {
     "data": {
      "text/plain": [
       "<matplotlib.axes._subplots.AxesSubplot at 0x162500e8ec8>"
      ]
     },
     "execution_count": 69,
     "metadata": {},
     "output_type": "execute_result"
    },
    {
     "data": {
      "image/png": "[encoded data removed]",
      "text/plain": [
       "<Figure size 864x432 with 1 Axes>"
      ]
     },
     "metadata": {
      "needs_background": "light"
     },
     "output_type": "display_data"
    }
   ],
   "source": [
    "# Посмотрим как теперь выглядит наш ряд:\n",
    "y1diff.plot(figsize=(12,6))"
   ]
  },
  {
   "cell_type": "markdown",
   "metadata": {},
   "source": [
    "Значит параметр d модели ARIMA равен 1"
   ]
  },
  {
   "cell_type": "markdown",
   "metadata": {},
   "source": [
    "Выясним параметры p и q. Для этого построим коррелограмы ACF автокорреляционной функции и PACF частной автокорреляционной функции соотвественно."
   ]
  },
  {
   "cell_type": "code",
   "execution_count": 72,
   "metadata": {},
   "outputs": [
    {
     "data": {
      "image/png": "[encoded data removed]",
      "text/plain": [
       "<Figure size 864x576 with 2 Axes>"
      ]
     },
     "metadata": {
      "needs_background": "light"
     },
     "output_type": "display_data"
    }
   ],
   "source": [
    "fig = plt.figure(figsize=(12,8))\n",
    "ax1 = fig.add_subplot(211)\n",
    "fig = sm.graphics.tsa.plot_acf(y1diff.values.squeeze(), lags=25, ax=ax1)\n",
    "ax2 = fig.add_subplot(212)\n",
    "fig = sm.graphics.tsa.plot_pacf(y1diff, lags=25, ax=ax2)"
   ]
  },
  {
   "cell_type": "markdown",
   "metadata": {},
   "source": [
    "На обеих коррелограммах первый лаг мильно отличен от нуля. значет примем p=1 и q=1"
   ]
  },
  {
   "cell_type": "markdown",
   "metadata": {},
   "source": [
    "Построим модель ARIMA (1,1,1)"
   ]
  },
  {
   "cell_type": "code",
   "execution_count": 84,
   "metadata": {},
   "outputs": [
    {
     "name": "stdout",
     "output_type": "stream",
     "text": [
      "                                              ARIMA Model Results                                              \n",
      "===============================================================================================================\n",
      "Dep. Variable:     D.Прирост вкладов физических лиц в рублях (млн руб)   No. Observations:                   56\n",
      "Model:                                                  ARIMA(1, 1, 1)   Log Likelihood                -770.412\n",
      "Method:                                                        css-mle   S.D. of innovations         219155.344\n",
      "Date:                                                 Wed, 26 Aug 2020   AIC                           1548.824\n",
      "Time:                                                         13:13:19   BIC                           1556.925\n",
      "Sample:                                                              1   HQIC                          1551.964\n",
      "                                                                                                               \n",
      "=============================================================================================================================\n",
      "                                                                coef    std err          z      P>|z|      [0.025      0.975]\n",
      "-----------------------------------------------------------------------------------------------------------------------------\n",
      "const                                                     -1124.6145   1407.240     -0.799      0.424   -3882.754    1633.525\n",
      "ar.L1.D.Прирост вкладов физических лиц в рублях (млн руб)    -0.2681      0.129     -2.081      0.037      -0.521      -0.016\n",
      "ma.L1.D.Прирост вкладов физических лиц в рублях (млн руб)    -0.9999      0.061    -16.357      0.000      -1.120      -0.880\n",
      "                                    Roots                                    \n",
      "=============================================================================\n",
      "                  Real          Imaginary           Modulus         Frequency\n",
      "-----------------------------------------------------------------------------\n",
      "AR.1           -3.7293           +0.0000j            3.7293            0.5000\n",
      "MA.1            1.0001           +0.0000j            1.0001            0.0000\n",
      "-----------------------------------------------------------------------------\n"
     ]
    }
   ],
   "source": [
    "# возьмем 4/5 выборки для оценки модели\n",
    "y_train = y[0:57]\n",
    "y_test = y[57:]\n",
    "model = sm.tsa.ARIMA(y_train, order=(1,1,1))\n",
    "model = model.fit(full_output=False, disp=0)\n",
    "print(model.summary())"
   ]
  },
  {
   "cell_type": "markdown",
   "metadata": {},
   "source": [
    "Остатки модели должны быть \"белым шумом\". Для этого проведем тест Бокса-Льюнга."
   ]
  },
  {
   "cell_type": "code",
   "execution_count": 82,
   "metadata": {
    "scrolled": true
   },
   "outputs": [
    {
     "name": "stdout",
     "output_type": "stream",
     "text": [
      "       Q-stat   p-value\n",
      "0    0.033379  0.855034\n",
      "1    0.249207  0.882847\n",
      "2    2.010759  0.570177\n",
      "3    2.440176  0.655379\n",
      "4    3.188895  0.670890\n",
      "5    3.714937  0.715188\n",
      "6    4.235852  0.752246\n",
      "7    6.471829  0.594534\n",
      "8    6.615005  0.677132\n",
      "9    6.895856  0.735239\n",
      "10   7.953254  0.717485\n",
      "11  18.763241  0.094405\n",
      "12  26.298198  0.015499\n",
      "13  26.788508  0.020509\n",
      "14  29.283050  0.014786\n",
      "15  30.277197  0.016617\n",
      "16  30.713840  0.021633\n",
      "17  30.895899  0.029595\n",
      "18  31.365750  0.036793\n",
      "19  31.386347  0.050292\n",
      "20  33.833636  0.037753\n",
      "21  33.863125  0.050721\n",
      "22  34.584148  0.057170\n",
      "23  40.446451  0.019141\n",
      "24  42.737419  0.014954\n",
      "25  42.831611  0.020117\n",
      "26  43.199313  0.024972\n",
      "27  44.912816  0.022515\n",
      "28  45.013736  0.029334\n",
      "29  45.094909  0.037824\n",
      "30  45.257102  0.047284\n",
      "31  45.258406  0.060274\n",
      "32  46.412294  0.060748\n",
      "33  46.458399  0.075419\n",
      "34  47.923446  0.071482\n",
      "35  48.089451  0.085755\n",
      "36  49.876858  0.076745\n",
      "37  50.467989  0.084893\n",
      "38  50.687399  0.099539\n",
      "39  52.047703  0.096055\n"
     ]
    }
   ],
   "source": [
    "q_test = sm.tsa.stattools.acf(model.resid, qstat=True)\n",
    "print (pd.DataFrame({'Q-stat':q_test[1], 'p-value':q_test[2]}))"
   ]
  },
  {
   "cell_type": "code",
   "execution_count": 96,
   "metadata": {},
   "outputs": [
    {
     "name": "stdout",
     "output_type": "stream",
     "text": [
      "R^2: -0.17\n",
      "RMSE: 366397.3395191531\n"
     ]
    }
   ],
   "source": [
    "# Прогоноз и анализ метрик\n",
    "y_pred = model.predict(start=len(y_train), end=len(y_train)+len(y_test)-1, typ='levels')\n",
    "r2 = r2_score(y_test, y_pred)\n",
    "print ('R^2: %1.2f' % r2)\n",
    "print('RMSE:',sqrt(mean_squared_error(y_test, y_pred)))"
   ]
  },
  {
   "cell_type": "markdown",
   "metadata": {},
   "source": [
    "Метрики показывают плохой результат. Думаю, что это из-за большого количества выбросов в модели. "
   ]
  },
  {
   "cell_type": "code",
   "execution_count": 97,
   "metadata": {},
   "outputs": [
    {
     "data": {
      "text/plain": [
       "<matplotlib.axes._subplots.AxesSubplot at 0x1624f478b48>"
      ]
     },
     "execution_count": 97,
     "metadata": {},
     "output_type": "execute_result"
    },
    {
     "data": {
      "image/png": "[encoded data removed]",
      "text/plain": [
       "<Figure size 864x432 with 1 Axes>"
      ]
     },
     "metadata": {
      "needs_background": "light"
     },
     "output_type": "display_data"
    }
   ],
   "source": [
    "# Визуализация прогноза\n",
    "y.plot(figsize=(12,6))\n",
    "y_pred.plot(style='r--')"
   ]
  },
  {
   "cell_type": "code",
   "execution_count": 103,
   "metadata": {
    "scrolled": false
   },
   "outputs": [
    {
     "name": "stdout",
     "output_type": "stream",
     "text": [
      "         Дата  Прирост вкладов физических лиц в рублях (млн руб)\n",
      "72 2017-01-01                                      -59788.795351\n",
      "73 2017-02-01                                      230049.760893\n",
      "74 2017-03-01                                      142672.063180\n",
      "75 2017-04-01                                      170165.345857\n",
      "76 2017-05-01                                      162677.786651\n",
      "77 2017-06-01                                      165842.694192\n",
      "78 2017-07-01                                      165763.681870\n",
      "79 2017-08-01                                      166672.517371\n",
      "80 2017-09-01                                      167280.530606\n",
      "81 2017-10-01                                      167980.151105\n",
      "82 2017-11-01                                      168651.875095\n",
      "83 2017-12-01                                      169332.094211\n"
     ]
    },
    {
     "data": {
      "text/plain": [
       "<matplotlib.axes._subplots.AxesSubplot at 0x162504c3248>"
      ]
     },
     "execution_count": 103,
     "metadata": {},
     "output_type": "execute_result"
    },
    {
     "data": {
      "image/png": "[encoded data removed]",
      "text/plain": [
       "<Figure size 864x432 with 1 Axes>"
      ]
     },
     "metadata": {
      "needs_background": "light"
     },
     "output_type": "display_data"
    }
   ],
   "source": [
    "#Визуализируем целевой прогноз\n",
    "_,y2 = to_x_y(dt2)\n",
    "model = sm.tsa.ARIMA(y, order=(1,1,1))\n",
    "model = model.fit(full_output=False, disp=0)\n",
    "y_pred = model.predict(start=len(y), end=len(y)+len(y2)-1, typ='levels')\n",
    "# print('Predicted: ','\\n', y_pred)\n",
    "prediction2 = pd.DataFrame(columns=['Дата', 'Прирост вкладов физических лиц в рублях (млн руб)'])\n",
    "prediction2['Дата'] = dt2['Unnamed: 0']\n",
    "prediction2['Прирост вкладов физических лиц в рублях (млн руб)'] = y_pred\n",
    "print(prediction2.head(12))\n",
    "# Визуализация прогноза\n",
    "y.plot(figsize=(12,6))\n",
    "y_pred.plot(style='r--')"
   ]
  },
  {
   "cell_type": "markdown",
   "metadata": {},
   "source": [
    "Вывод:\n",
    "\n",
    "Визаульно прогноз на следущие 12 периодов выглядит приближенным к действительнотси. Однако качество модели плохое. "
   ]
  },
  {
   "cell_type": "markdown",
   "metadata": {},
   "source": [
    "ИТОГИ"
   ]
  },
  {
   "cell_type": "markdown",
   "metadata": {},
   "source": [
    "Лучше всего себя показала модель регрессии Лассо с сипользованием GridSearch.Она имеет наибольшее значение R^2 коэффициента детерминации и одно из наименьших значений RMSE."
   ]
  }
 ],
 "metadata": {
  "kernelspec": {
   "display_name": "Python 3",
   "language": "python",
   "name": "python3"
  },
  "language_info": {
   "codemirror_mode": {
    "name": "ipython",
    "version": 3
   },
   "file_extension": ".py",
   "mimetype": "text/x-python",
   "name": "python",
   "nbconvert_exporter": "python",
   "pygments_lexer": "ipython3",
   "version": "3.7.6"
  }
 },
 "nbformat": 4,
 "nbformat_minor": 4
}
